{
 "cells": [
  {
   "cell_type": "code",
   "execution_count": 1,
   "id": "92673c53-33b7-4311-8759-c07f5f205067",
   "metadata": {},
   "outputs": [],
   "source": [
    "import os\n",
    "\n",
    "#paper_source_directory = '/home/louis/research/pdf_processor/processed_data/superconductivity_processed/physrevb.71.134526'\n",
    "#paper_source_directory = '/home/louis/research/pdf_processor/processed_data/superconductivity_processed/physrevb.88.144511'\n",
    "#paper_source_directory = '/home/louis/research/pdf_processor/processed_data/superconductivity_processed/physrevb.31.1329'\n",
    "paper_source_directory = '/home/louis/research/pdf_processor/processed_data/superconductivity_processed/physrevb.28.1389'\n",
    "#paper_source_directory = '/home/louis/research/pdf_processor/processed_data/superconductivity_processed/physrevb.85.214519'\n",
    "#paper_source_directory = '/home/louis/research/pdf_processor/processed_data/superconductivity_processed/physrevb.98.094505'\n",
    "\n",
    "file_name = 'text.txt'\n",
    "\n",
    "with open(os.path.join(paper_source_directory, file_name)) as f:\n",
    "    paper_text = f.read()\n"
   ]
  },
  {
   "cell_type": "code",
   "execution_count": 2,
   "id": "3c68641f-e5a0-461e-9cfb-ad0fe00d5586",
   "metadata": {},
   "outputs": [
    {
     "data": {
      "text/plain": [
       "\"Departement de Physique de la Matiere Condensee, Univerxite de Geneve 24 quai Ernest Ansermet, CH-12ll Geneve 4, Switzerlana Lalr,Si, has a high-temperature form crystallizing in the primitive tetragonal CaBe,Ge type structure (space group P4/nmm; a =4.191 A, c=9.944 A), and a low-temperature form of the body-centered tetragonal ThCr,Siz type (space group I4/mmm; a--4.109 A, c-10.299 A). Both structures are BaAl-type derivatives. The high-temperature modifica tion may be quenched from above the transformation temperature of 1720*C and becomes superconducting at 1.6 K, while the low-temperature modification is normal down to 1 K The structures of both modifications have been refined in single-crystal studies. The excep tional polymorphism of Lalr2Si, is discussed, emphasizing structural relationships and the occurrence of superconductivity in the high-temperature modification.\\n Over the last decade, the field of superconductivi ty in ternary compounds has received growing interest. The number of known superconducting ter nary systems is rapidly increasing and has, in fact more than doubled within the past three years.+? t is striking, then, how one of the largest families of ternary intermetallic compounds, that of the BaAl type derivative structures, is nearly devoid of super conducting members. A large subset of the BaAl4 type derivative structures has the general composition MT,X2, where M is an alkaline-earth or rare carth metal, T is a transition or post-transition ele ment, and X-B, Ga, Si, Ge, Sn, P, As, or Sb. Of the known temary rare-earth transition-metal borides, galides, silicides, and germanides alone, more than 200 phases belong to this family. Nearly all these compounds crystallize with the body centered tetragonal ThCr2Si, typet; a few have the primitive eragonal CaBeGegtiyestructure.i\\n An outstanding superconducting phase with the ThCr,Siz-type structure is CeCusSiz, which has rather unusual and so far unique properties.^ Re CoptcocpcsconcnriYanres. aorno for LaPd,Ge, LaNi2Ge,.* all with the ThCrzSiz-type structure, and for LaPt,Ge, (Ref. 7) whose structure was given as BaAl4 related\\n We were interested in the interplay between structural features and the occurrence of supercon ductivity in these intermetallic compounds. Some of the questions to be answered are the possibility of mixed-site occupancy' between K and T, vacancies on one of the atom positions as reported, for example, in CeNiSi-type compounds,lo\\ntransformations occurring betwcen different BaAl4type derivative structures.\\n A system particularly suitable for the study of these problems is La-Ir-Si. Several of the ternary phases in this system have structures deriving firom the BaAa type.l In particular, LaIr,Si, shows po lymorphism with a hign-temperature phase (Lalr,Si-ht) of the CaBe,Ge, type and a room temperature phase (Lalr2Si,-lt) of the ThCr,Si, type To our knowledge, this is the first observation of a polymorphic transition between these two structural types. We present the results of structural refine ments of both phases and discuss their crystallo graphic relationship and possible consequences for the occurrence of superconductivity in Lalr2Siy-ht Several samples of Lalr.Si, were prepared from high-purity elements (La, 99.999o purity, Ir, 99.997 purity; Si, 99.9999% purity) by arc melting in an argon atmosphere. Melting losses were less than 0.396 in all cases. Homogenization and annealing was performed above 1000'C in an rf induction furnace in vacuo, below 1o00degC in sealed quartz capsulos under argon. The high-temperature modification was retained by quenching with an argon jet. Differential thermal analysis (DTA) was carried out at temperatures up to 2000degC using W crucibles Powder x-ray difraction (Guinier camera and powder diffractometer, Cu Ka radiation) and metallography served to monitor sample purity and mi crostructure.\\n lhe transtormation temperature ot stochiometric Lalr,Si, was determined by DTA to be 1720110degC No other transition was detected between 700degC and the solidus temperature of 1890-10degC, also determined by DTA. Preliminary results on nonstoichiometric samples indicate a dependence of the transformation temperature on composition. A stoichiometric sample Ar-jet quenched from 1750'C consisted of pure Lalr,Sis-ht and was found to have transformed completely to the low-temperature modification after a 6-d anneal at 1000degC. Metallographic examination shows the presence of a small quantity (K5 vol o) of intergranular impurity phases in the as-quenched and annealed samples which do not show up in powder diffraction photo graphs.\\n Lalr,Siz-ht had platclike crystallites up to 0.1 mm thick and 0.5 mm wide. The growth morphology of Lar.Si,-ht is retained in samples annealed at 1000degC, however, the primary grains transform into multiple crystallites of small size(<30 um). Larger crystallites of Lalr2Siz-lt, suitable for an x-ray single-crystal study, were obtained after a modified heat treatment: recrystallization of the high temperature phase at about 1800degC, slow cooling through the transformation temperature to permit the formation of large homogeneous grains, and an ordering heat treatment at 1000degC for 6 d.\\n Superconducting cntical temperatures were determined by ac susceptibility measurements. The high-temperature modification LaIr.Si,-ht, quenched from 1750degC, is superconducting with an onset temperature of 1.58 K (109% superconducting signal) and a transition width of 0.18 K (10-90 96 signal). The superconducting transition was measured on a 340-mg piece, and on the same material after reduction to a powder (<85 um) with no sig nificant change in the onset temperature, transition width, or magnitude of the diamagnetic signal, indicating that the observed superconductivity is due to the majority phase. No trace of superconductivity was found, down to 1 K, in Lalr,Si-lt.\\n The intermetallic compound Lalr,Si, has a room-temperature modification (Lalr,Siz-lt) with body-centered tetragonal ThCrSiz-typef structure and a high-temperature modification (Lalr,Sia-ht with primitive tetragonal CaBe.Ge-type' structure. Accurate lattice parameters were obtained from the Guinier photographs, with Si as an internal standard by least-squares refinement.'2 Both modifications have similar cell dimensions (Table I)\\n Apart from the shift in line positions, the main difference in the powder patterns of the two phases lies in a different intensity distribution and the ap pearance of reflections with odd hkl sum for the high-tempcrature phase. If these additiona. reflec tions were mistakenly interpreted as arising from some impurity phase, the powder pattern of Lalr,Si-ht might be indexed on the basis of the ThCr,Si-type structure, with the assumption of a statistical distribution of the Ir and Si atoms over the available sites in order to explain the observed intensities. For this reason, the definitive structure determination of the two modifications of Lalr,Si was carried out on single crystals.\\n Integrated intensities were collected on an automatic four-circle diffractometer (Philips PW1100 MoKc radiation, graphite monochromator) in the 0-20 scan mode uptoa limit of\\n(sin O)/A=1.0 A'. Spherical absorption corrections were applied, and the atomic positional parameters, anisotropic thermal parameters, and a scale factor were refined in least-squares cycles.' A summary of the results' is given in Table I.\\n The structure refinement of Lalr,Si,-ht was based on 463 unioue measured reflections. Of these, 12 having intensities below the threshold (3o) were considered as unobserved, and two more [(220) and (200)] were rejected as suffering from extinction. The final agreement factor R-. AF I> $\\\\mid$ F. with the use of unit weights, was 0.049. There is no indication for mixed-site occupation between Ir and Si or vacancies on either site\\n $\\\\begin{array}{cccccccccccccccccccccccccc}{}&{}&{}&{}&{}&{}&{}&{}&{}&{}&{}&{}&{}&{}&{}&{}&{}&{}&{}&{}&{}&{}&{}&{}&{}&{}&{}&{}&{}&{}&{}&{}&{}&{}&{}&{}&{}&{}&{}&{}&{}&{}&{}&{}&{}&{}&{}&{}&{}&{}&{}&{}&{}&{}&{}&{}&{}&{}&{}&{}&{}&{}&{}&{}&{}&{}&{}&{}&{}&{}&{}&{}&{}&{}&{}&{}&{}&{}&{}&{}&{}&{}&{}&{}&{}&{}&{}&{}&{}&{}&{}&{}&{}&{}&{}&{}&{}&{}&{}&{}&{}&{}&{}&{}&{}&{}&{}&{}&{}&{}&{}&{}&{}&{}&{}&{}&{}&{}&{}&{}&{}&{}&{}&{}&{}&{}&{}&{}&{}&{}&{}&{}&{}&{}&{}&{}&{}&{}&{}&{}&{}&{}&{}&{}&{}&{}&{}&{}&{}&{}&{}&{}&{}&{}&{}&{}&{}&{}&{}&{}$  The refinement of Lalr.Si-lt is based on 234 unique reflections, averaged over two symmetry equivalent sets. The reflections (200), (002), and (004), whose intensities were consistently too low, were omitted from the final refinement cycles, leading to an agreement factor of 0.061. There is no evis dence for an Ir population on the 4(e) site. Con versely, the presence of up to 4 at.% Si or vacancies on the 4(d) site cannot be excluded\\n lhe structures of LalrSi-lt (ThCr2Si, type), and LaIr,Siz-ht (CaGe,Be, type) are shown in Fig. 1. Both structure types are ordered ternary derivatives of the binary BaAla-type structure. In both cases the Ba sites are occupied by the La atoms and the Al Guo \\nYu \\nFu \\nChang  .\\nJia \\n(\\n Zhong  positions by Ir and Si, the distinction between the two ternary structures arising from the different dis tribution of Ir and Si atoms over the available Al nitn\\n the inner coordination polyhedra, viz, a simple tetranedron and a simple pyramid formed by atoms that correspond to the Al atoms in BaAl4. Omly the inner pyramids are indicated in Fig. 1. The tetrahedrally coordinated sites form a square planar net perpendicular to c, each souare representing the base of a pyramid. Adjacent pyramids point to dif ferent sides of the square net, alternating up and down. The upward pointing pyramids of one layer intersect the downward pointing pyramids of the next layer, the apex of one pyramid being at the center of the other, and vice versa. The M atoms approximately center the holes between four pairs of intersecting pyramids and have a quite regular 16 at\""
      ]
     },
     "execution_count": 2,
     "metadata": {},
     "output_type": "execute_result"
    }
   ],
   "source": [
    "paper_text[:10000]"
   ]
  },
  {
   "cell_type": "code",
   "execution_count": 1,
   "id": "3afd7ae2-3772-4c0d-b694-43ca098c40ba",
   "metadata": {},
   "outputs": [
    {
     "data": {
      "application/vnd.jupyter.widget-view+json": {
       "model_id": "92a9a060ca66413bbdd58b5bbc3241c3",
       "version_major": 2,
       "version_minor": 0
      },
      "text/plain": [
       "tokenizer_config.json:   0%|          | 0.00/51.0k [00:00<?, ?B/s]"
      ]
     },
     "metadata": {},
     "output_type": "display_data"
    },
    {
     "data": {
      "application/vnd.jupyter.widget-view+json": {
       "model_id": "ad4f6583ca1645c083793b74d354f7a5",
       "version_major": 2,
       "version_minor": 0
      },
      "text/plain": [
       "tokenizer.json:   0%|          | 0.00/9.09M [00:00<?, ?B/s]"
      ]
     },
     "metadata": {},
     "output_type": "display_data"
    },
    {
     "data": {
      "application/vnd.jupyter.widget-view+json": {
       "model_id": "4d4c43d1402243a7b3c6f610fdfa874c",
       "version_major": 2,
       "version_minor": 0
      },
      "text/plain": [
       "special_tokens_map.json:   0%|          | 0.00/73.0 [00:00<?, ?B/s]"
      ]
     },
     "metadata": {},
     "output_type": "display_data"
    },
    {
     "name": "stderr",
     "output_type": "stream",
     "text": [
      "Special tokens have been added in the vocabulary, make sure the associated word embeddings are fine-tuned or trained.\n"
     ]
    },
    {
     "data": {
      "application/vnd.jupyter.widget-view+json": {
       "model_id": "b752e35e8b5b4c99a07a38ff589094d2",
       "version_major": 2,
       "version_minor": 0
      },
      "text/plain": [
       "config.json:   0%|          | 0.00/654 [00:00<?, ?B/s]"
      ]
     },
     "metadata": {},
     "output_type": "display_data"
    },
    {
     "data": {
      "application/vnd.jupyter.widget-view+json": {
       "model_id": "1b082b976a2d48ffb321dad16cf557f8",
       "version_major": 2,
       "version_minor": 0
      },
      "text/plain": [
       "model.safetensors.index.json:   0%|          | 0.00/23.9k [00:00<?, ?B/s]"
      ]
     },
     "metadata": {},
     "output_type": "display_data"
    },
    {
     "data": {
      "application/vnd.jupyter.widget-view+json": {
       "model_id": "2004f4828a5945d1827a40a6dd664108",
       "version_major": 2,
       "version_minor": 0
      },
      "text/plain": [
       "Downloading shards:   0%|          | 0/4 [00:00<?, ?it/s]"
      ]
     },
     "metadata": {},
     "output_type": "display_data"
    },
    {
     "data": {
      "application/vnd.jupyter.widget-view+json": {
       "model_id": "de0aa68d2f414cb686e5c6442b482cb7",
       "version_major": 2,
       "version_minor": 0
      },
      "text/plain": [
       "model-00001-of-00004.safetensors:   0%|          | 0.00/4.98G [00:00<?, ?B/s]"
      ]
     },
     "metadata": {},
     "output_type": "display_data"
    },
    {
     "data": {
      "application/vnd.jupyter.widget-view+json": {
       "model_id": "023e58ba50bc49df9e30880489d374c1",
       "version_major": 2,
       "version_minor": 0
      },
      "text/plain": [
       "model-00002-of-00004.safetensors:   0%|          | 0.00/5.00G [00:00<?, ?B/s]"
      ]
     },
     "metadata": {},
     "output_type": "display_data"
    },
    {
     "data": {
      "application/vnd.jupyter.widget-view+json": {
       "model_id": "92d11a9709b74e168e9df336d27d43d4",
       "version_major": 2,
       "version_minor": 0
      },
      "text/plain": [
       "model-00003-of-00004.safetensors:   0%|          | 0.00/4.92G [00:00<?, ?B/s]"
      ]
     },
     "metadata": {},
     "output_type": "display_data"
    },
    {
     "data": {
      "application/vnd.jupyter.widget-view+json": {
       "model_id": "aaf44bd0b3884c5d98edfd88f376625c",
       "version_major": 2,
       "version_minor": 0
      },
      "text/plain": [
       "model-00004-of-00004.safetensors:   0%|          | 0.00/1.17G [00:00<?, ?B/s]"
      ]
     },
     "metadata": {},
     "output_type": "display_data"
    },
    {
     "data": {
      "application/vnd.jupyter.widget-view+json": {
       "model_id": "3aeaeb2967da48b08349a9fa9a4e0f1d",
       "version_major": 2,
       "version_minor": 0
      },
      "text/plain": [
       "Loading checkpoint shards:   0%|          | 0/4 [00:00<?, ?it/s]"
      ]
     },
     "metadata": {},
     "output_type": "display_data"
    },
    {
     "data": {
      "application/vnd.jupyter.widget-view+json": {
       "model_id": "ee9b848b85ca49fabadf0cb2871d2ef7",
       "version_major": 2,
       "version_minor": 0
      },
      "text/plain": [
       "generation_config.json:   0%|          | 0.00/187 [00:00<?, ?B/s]"
      ]
     },
     "metadata": {},
     "output_type": "display_data"
    }
   ],
   "source": [
    "from transformers import AutoTokenizer, AutoModelForCausalLM, BitsAndBytesConfig\n",
    "import transformers\n",
    "import torch\n",
    "\n",
    "\n",
    "SYS_PROMPT = \"\"\"You are a condensed matter physicist. You are given the extracted parts of a long document and a question. Read the document and don't make up an answer.\"\"\"\n",
    "\n",
    "model_id = \"meta-llama/Meta-Llama-3-8B-Instruct\"\n",
    "\n",
    "# use quantization to lower GPU usage                                                \n",
    "bnb_config = BitsAndBytesConfig(\n",
    "    load_in_4bit=True, bnb_4bit_use_double_quant=True, bnb_4bit_quant_type=\"nf4\", bnb_4bit_compute_dtype=torch.bfloat16\n",
    ")\n",
    "\n",
    "tokenizer = AutoTokenizer.from_pretrained(model_id)\n",
    "model = AutoModelForCausalLM.from_pretrained(\n",
    "    model_id,\n",
    "    torch_dtype=torch.bfloat16,\n",
    "    device_map=\"auto\",\n",
    "    quantization_config=bnb_config\n",
    ")\n",
    "terminators = [\n",
    "    tokenizer.eos_token_id,\n",
    "    tokenizer.convert_tokens_to_ids(\"<|eot_id|>\")\n",
    "]"
   ]
  },
  {
   "cell_type": "code",
   "execution_count": 126,
   "id": "8e904430-4987-40d2-9590-58541f46f254",
   "metadata": {},
   "outputs": [],
   "source": [
    "def format_prompt(prompt, paper_text):\n",
    "  PROMPT = f\"Question: {prompt}\\nContext: \" + paper_text\n",
    "  return PROMPT\n",
    "    \\\n",
    "\n",
    "def generate(formatted_prompt):\n",
    "  formatted_prompt = formatted_prompt[:10000] # to avoid GPU OOM                      \n",
    "  messages = [{\"role\":\"system\",\"content\":SYS_PROMPT}, {\"role\":\"user\",\"content\":formatted_prompt}]\n",
    "  # tell the model to generate                                                       \n",
    "  input_ids = tokenizer.apply_chat_template(\n",
    "      messages,\n",
    "      add_generation_prompt=True,\n",
    "      return_tensors=\"pt\"\n",
    "  ).to(model.device)\n",
    "  print(\"sequence length:\", input_ids.shape)\n",
    "  outputs = model.generate(\n",
    "      input_ids,\n",
    "      max_new_tokens=1024,\n",
    "      eos_token_id=terminators,\n",
    "      do_sample=False, #temperature=0.6, top_p=0.9,\n",
    "  )\n",
    "  response = outputs[0][input_ids.shape[-1]:]\n",
    "  return tokenizer.decode(response, skip_special_tokens=True)"
   ]
  },
  {
   "cell_type": "code",
   "execution_count": 127,
   "id": "b236041a-bdd0-478f-a8aa-69aa1ce5280b",
   "metadata": {},
   "outputs": [
    {
     "name": "stderr",
     "output_type": "stream",
     "text": [
      "The attention mask and the pad token id were not set. As a consequence, you may observe unexpected behavior. Please pass your input's `attention_mask` to obtain reliable results.\n",
      "Setting `pad_token_id` to `eos_token_id`:128001 for open-end generation.\n"
     ]
    },
    {
     "name": "stdout",
     "output_type": "stream",
     "text": [
      "sequence length: torch.Size([1, 2676])\n"
     ]
    },
    {
     "data": {
      "text/plain": [
       "'MATERIAL: LaIrSi & LaIr2Si'"
      ]
     },
     "execution_count": 127,
     "metadata": {},
     "output_type": "execute_result"
    }
   ],
   "source": [
    "generate(format_prompt(\"What is the material studied in this paper? Format the answer as MATERIAL: {Chemical Formula}. If there are multiple materials, separate them with &. Just give a formula and do not provide any explanation. Here are some example outputs: 'MATERIAL: Ga3As4.5 & Al0.6Fe0.4 & TexS1-x & UF6', 'MATERIAL: PrOs4Sb12 & PrOs3Sb13'\", paper_text))"
   ]
  },
  {
   "cell_type": "code",
   "execution_count": 128,
   "id": "bdf70976-e90a-4e4a-82fc-1564a6c10070",
   "metadata": {},
   "outputs": [
    {
     "name": "stderr",
     "output_type": "stream",
     "text": [
      "The attention mask and the pad token id were not set. As a consequence, you may observe unexpected behavior. Please pass your input's `attention_mask` to obtain reliable results.\n",
      "Setting `pad_token_id` to `eos_token_id`:128001 for open-end generation.\n"
     ]
    },
    {
     "name": "stdout",
     "output_type": "stream",
     "text": [
      "sequence length: torch.Size([1, 2654])\n"
     ]
    },
    {
     "data": {
      "text/plain": [
       "'1.55 K'"
      ]
     },
     "execution_count": 128,
     "metadata": {},
     "output_type": "execute_result"
    }
   ],
   "source": [
    "generate(format_prompt(\"What is the critical temperature, which is the temperature at which a material becomes superconducting, of LaIr2Si2? Just give a number and do not provide any explanation. Do not make up an answer. Format the answer as {Number} K.\", paper_text))"
   ]
  },
  {
   "cell_type": "code",
   "execution_count": 83,
   "id": "5bb6cf95-2ae5-4081-b8f1-62b41e59eba7",
   "metadata": {},
   "outputs": [
    {
     "name": "stderr",
     "output_type": "stream",
     "text": [
      "The attention mask and the pad token id were not set. As a consequence, you may observe unexpected behavior. Please pass your input's `attention_mask` to obtain reliable results.\n",
      "Setting `pad_token_id` to `eos_token_id`:128001 for open-end generation.\n"
     ]
    },
    {
     "name": "stdout",
     "output_type": "stream",
     "text": [
      "sequence length: torch.Size([1, 1699])\n"
     ]
    },
    {
     "data": {
      "text/plain": [
       "'Based on the provided document, the lattice spacing is not explicitly mentioned. The document discusses the onset of superconductivity in ultrathin amorphous Ga films and crystalline Sn films, and the existence of a threshold dependent only on the normal-state sheet resistance. The authors use a technique to build up a continuous film from isolated metallic clusters on the substrate, and they observe that the last film exhibiting finite resistance at low temperature had a normal-state resistance of the order of 7 to 8 kΩ/m, whereas the first superconducting film had a normal-state resistance of 4 to 5 kΩ/m. They also report that the pairs of normal-state resistances for seven sets of films appeared to bracket 6000 kΩ/√C, implying that the details of the film geometry, and in particular intercluster capacitance, were not relevant variables in determining the onset of global superconductivity.\\n\\nThe document does not mention lattice spacing, which is a characteristic of a crystalline solid, whereas the films studied are amorphous. Therefore, it is not possible to determine the lattice spacing from the provided information.'"
      ]
     },
     "execution_count": 83,
     "metadata": {},
     "output_type": "execute_result"
    }
   ],
   "source": [
    "generate(format_prompt(\"What is the lattice spacing?\", paper_text))"
   ]
  },
  {
   "cell_type": "code",
   "execution_count": null,
   "id": "a7f7d8d3-289f-470c-a566-653a45d3be69",
   "metadata": {},
   "outputs": [],
   "source": []
  }
 ],
 "metadata": {
  "kernelspec": {
   "display_name": "Python 3 (ipykernel)",
   "language": "python",
   "name": "python3"
  },
  "language_info": {
   "codemirror_mode": {
    "name": "ipython",
    "version": 3
   },
   "file_extension": ".py",
   "mimetype": "text/x-python",
   "name": "python",
   "nbconvert_exporter": "python",
   "pygments_lexer": "ipython3",
   "version": "3.11.7"
  }
 },
 "nbformat": 4,
 "nbformat_minor": 5
}
