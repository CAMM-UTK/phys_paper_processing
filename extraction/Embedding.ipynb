{
 "cells": [
  {
   "cell_type": "code",
   "execution_count": 3,
   "id": "42b5487b-fda6-457c-8500-aa64068e4c26",
   "metadata": {},
   "outputs": [
    {
     "name": "stdout",
     "output_type": "stream",
     "text": [
      "tensor([[0.7457, 0.3221],\n",
      "        [0.3825, 0.5710]])\n"
     ]
    }
   ],
   "source": [
    "from sentence_transformers import SentenceTransformer, util\n",
    "\n",
    "model = SentenceTransformer(\"nasa-impact/nasa-smd-ibm-st-v2\")\n",
    "\n",
    "input_queries = [\n",
    "'query: how much protein should a female eat', 'query: summit define']\n",
    "input_passages = [\n",
    "\"As a general guideline, the CDC's average requirement of protein for women ages 19 to 70 is 46 grams per day. But, as you can see from this chart, you'll need to increase that if you're expecting or training for a marathon. Check out the chart below to see how much protein you should be eating each day.\",\n",
    "\"Definition of summit for English Language Learners. : 1 the highest point of a mountain : the top of a mountain. : 2 the highest level. : 3 a meeting or series of meetings between the leaders of two or more governments.\"]\n",
    "query_embeddings = model.encode(input_queries)\n",
    "passage_embeddings = model.encode(input_passages)\n",
    "print(util.cos_sim(query_embeddings, passage_embeddings))"
   ]
  },
  {
   "cell_type": "code",
   "execution_count": 6,
   "id": "bb9e6352-e63a-43fa-8f6a-26089ccf13ee",
   "metadata": {},
   "outputs": [],
   "source": [
    "import os\n",
    "\n",
    "paper_source_directory = '/home/louis/research/pdf_processor/processed_data/superconductivity_processed/physrevb.71.134526'\n",
    "#paper_source_directory = '/home/louis/research/pdf_processor/processed_data/superconductivity_processed/physrevb.88.144511'\n",
    "file_name = 'text.txt'\n",
    "\n",
    "with open(os.path.join(paper_source_directory, file_name)) as f:\n",
    "    paper_text = f.read()\n"
   ]
  },
  {
   "cell_type": "code",
   "execution_count": 8,
   "id": "9293aa58-f5d8-468e-99aa-f084656b8dea",
   "metadata": {},
   "outputs": [],
   "source": [
    "out = model.encode(paper_text)"
   ]
  },
  {
   "cell_type": "code",
   "execution_count": 10,
   "id": "922dbfa1-1604-4b29-b273-3c0bc0172d2f",
   "metadata": {},
   "outputs": [
    {
     "data": {
      "text/plain": [
       "(768,)"
      ]
     },
     "execution_count": 10,
     "metadata": {},
     "output_type": "execute_result"
    }
   ],
   "source": [
    "out.shape"
   ]
  },
  {
   "cell_type": "code",
   "execution_count": null,
   "id": "917b9cae-f4e3-43f2-958b-0be02f6d56e3",
   "metadata": {},
   "outputs": [],
   "source": []
  }
 ],
 "metadata": {
  "kernelspec": {
   "display_name": "Python 3 (ipykernel)",
   "language": "python",
   "name": "python3"
  },
  "language_info": {
   "codemirror_mode": {
    "name": "ipython",
    "version": 3
   },
   "file_extension": ".py",
   "mimetype": "text/x-python",
   "name": "python",
   "nbconvert_exporter": "python",
   "pygments_lexer": "ipython3",
   "version": "3.11.7"
  }
 },
 "nbformat": 4,
 "nbformat_minor": 5
}
