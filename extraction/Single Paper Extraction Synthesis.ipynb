{
 "cells": [
  {
   "cell_type": "code",
   "execution_count": 1,
   "id": "92673c53-33b7-4311-8759-c07f5f205067",
   "metadata": {},
   "outputs": [],
   "source": [
    "import os\n",
    "\n",
    "#paper_source_directory = '/home/louis/research/pdf_processor/processed_data/superconductivity_processed/physrevb.71.134526'\n",
    "#paper_source_directory = '/home/louis/research/pdf_processor/processed_data/superconductivity_processed/physrevb.88.144511'\n",
    "#paper_source_directory = '/home/louis/research/pdf_processor/processed_data/superconductivity_processed/physrevb.31.1329'\n",
    "paper_source_directory = '/home/louis/research/pdf_processor/processed_data/superconductivity_processed/physrevb.28.1389'\n",
    "#paper_source_directory = '/home/louis/research/pdf_processor/processed_data/superconductivity_processed/physrevb.85.214519'\n",
    "#paper_source_directory = '/home/louis/research/pdf_processor/processed_data/superconductivity_processed/physrevb.98.094505'\n",
    "\n",
    "file_name = 'text.txt'\n",
    "\n",
    "with open(os.path.join(paper_source_directory, file_name)) as f:\n",
    "    paper_text = f.read()\n"
   ]
  },
  {
   "cell_type": "code",
   "execution_count": 2,
   "id": "3c68641f-e5a0-461e-9cfb-ad0fe00d5586",
   "metadata": {},
   "outputs": [
    {
     "data": {
      "text/plain": [
       "\"Departement de Physique de la Matiere Condensee, Univerxite de Geneve 24 quai Ernest Ansermet, CH-12ll Geneve 4, Switzerlana Lalr,Si, has a high-temperature form crystallizing in the primitive tetragonal CaBe,Ge type structure (space group P4/nmm; a =4.191 A, c=9.944 A), and a low-temperature form of the body-centered tetragonal ThCr,Siz type (space group I4/mmm; a--4.109 A, c-10.299 A). Both structures are BaAl-type derivatives. The high-temperature modifica tion may be quenched from above the transformation temperature of 1720*C and becomes superconducting at 1.6 K, while the low-temperature modification is normal down to 1 K The structures of both modifications have been refined in single-crystal studies. The excep tional polymorphism of Lalr2Si, is discussed, emphasizing structural relationships and the occurrence of superconductivity in the high-temperature modification.\\n Over the last decade, the field of superconductivi ty in ternary compounds has received growing interest. The number of known superconducting ter nary systems is rapidly increasing and has, in fact more than doubled within the past three years.+? t is striking, then, how one of the largest families of ternary intermetallic compounds, that of the BaAl type derivative structures, is nearly devoid of super conducting members. A large subset of the BaAl4 type derivative structures has the general composition MT,X2, where M is an alkaline-earth or rare carth metal, T is a transition or post-transition ele ment, and X-B, Ga, Si, Ge, Sn, P, As, or Sb. Of the known temary rare-earth transition-metal borides, galides, silicides, and germanides alone, more than 200 phases belong to this family. Nearly all these compounds crystallize with the body centered tetragonal ThCr2Si, typet; a few have the primitive eragonal CaBeGegtiyestructure.i\\n An outstanding superconducting phase with the ThCr,Siz-type structure is CeCusSiz, which has rather unusual and so far unique properties.^ Re CoptcocpcsconcnriYanres. aorno for LaPd,Ge, LaNi2Ge,.* all with the ThCrzSiz-type structure, and for LaPt,Ge, (Ref. 7) whose structure was given as BaAl4 related\\n We were interested in the interplay between structural features and the occurrence of supercon ductivity in these intermetallic compounds. Some of the questions to be answered are the possibility of mixed-site occupancy' between K and T, vacancies on one of the atom positions as reported, for example, in CeNiSi-type compounds,lo\\ntransformations occurring betwcen different BaAl4type derivative structures.\\n A system particularly suitable for the study of these problems is La-Ir-Si. Several of the ternary phases in this system have structures deriving firom the BaAa type.l In particular, LaIr,Si, shows po lymorphism with a hign-temperature phase (Lalr,Si-ht) of the CaBe,Ge, type and a room temperature phase (Lalr2Si,-lt) of the ThCr,Si, type To our knowledge, this is the first observation of a polymorphic transition between these two structural types. We present the results of structural refine ments of both phases and discuss their crystallo graphic relationship and possible consequences for the occurrence of superconductivity in Lalr2Siy-ht Several samples of Lalr.Si, were prepared from high-purity elements (La, 99.999o purity, Ir, 99.997 purity; Si, 99.9999% purity) by arc melting in an argon atmosphere. Melting losses were less than 0.396 in all cases. Homogenization and annealing was performed above 1000'C in an rf induction furnace in vacuo, below 1o00degC in sealed quartz capsulos under argon. The high-temperature modification was retained by quenching with an argon jet. Differential thermal analysis (DTA) was carried out at temperatures up to 2000degC using W crucibles Powder x-ray difraction (Guinier camera and powder diffractometer, Cu Ka radiation) and metallography served to monitor sample purity and mi crostructure.\\n lhe transtormation temperature ot stochiometric Lalr,Si, was determined by DTA to be 1720110degC No other transition was detected between 700degC and the solidus temperature of 1890-10degC, also determined by DTA. Preliminary results on nonstoichiometric samples indicate a dependence of the transformation temperature on composition. A stoichiometric sample Ar-jet quenched from 1750'C consisted of pure Lalr,Sis-ht and was found to have transformed completely to the low-temperature modification after a 6-d anneal at 1000degC. Metallographic examination shows the presence of a small quantity (K5 vol o) of intergranular impurity phases in the as-quenched and annealed samples which do not show up in powder diffraction photo graphs.\\n Lalr,Siz-ht had platclike crystallites up to 0.1 mm thick and 0.5 mm wide. The growth morphology of Lar.Si,-ht is retained in samples annealed at 1000degC, however, the primary grains transform into multiple crystallites of small size(<30 um). Larger crystallites of Lalr2Siz-lt, suitable for an x-ray single-crystal study, were obtained after a modified heat treatment: recrystallization of the high temperature phase at about 1800degC, slow cooling through the transformation temperature to permit the formation of large homogeneous grains, and an ordering heat treatment at 1000degC for 6 d.\\n Superconducting cntical temperatures were determined by ac susceptibility measurements. The high-temperature modification LaIr.Si,-ht, quenched from 1750degC, is superconducting with an onset temperature of 1.58 K (109% superconducting signal) and a transition width of 0.18 K (10-90 96 signal). The superconducting transition was measured on a 340-mg piece, and on the same material after reduction to a powder (<85 um) with no sig nificant change in the onset temperature, transition width, or magnitude of the diamagnetic signal, indicating that the observed superconductivity is due to the majority phase. No trace of superconductivity was found, down to 1 K, in Lalr,Si-lt.\\n The intermetallic compound Lalr,Si, has a room-temperature modification (Lalr,Siz-lt) with body-centered tetragonal ThCrSiz-typef structure and a high-temperature modification (Lalr,Sia-ht with primitive tetragonal CaBe.Ge-type' structure. Accurate lattice parameters were obtained from the Guinier photographs, with Si as an internal standard by least-squares refinement.'2 Both modifications have similar cell dimensions (Table I)\\n Apart from the shift in line positions, the main difference in the powder patterns of the two phases lies in a different intensity distribution and the ap pearance of reflections with odd hkl sum for the high-tempcrature phase. If these additiona. reflec tions were mistakenly interpreted as arising from some impurity phase, the powder pattern of Lalr,Si-ht might be indexed on the basis of the ThCr,Si-type structure, with the assumption of a statistical distribution of the Ir and Si atoms over the available sites in order to explain the observed intensities. For this reason, the definitive structure determination of the two modifications of Lalr,Si was carried out on single crystals.\\n Integrated intensities were collected on an automatic four-circle diffractometer (Philips PW1100 MoKc radiation, graphite monochromator) in the 0-20 scan mode uptoa limit of\\n(sin O)/A=1.0 A'. Spherical absorption corrections were applied, and the atomic positional parameters, anisotropic thermal parameters, and a scale factor were refined in least-squares cycles.' A summary of the results' is given in Table I.\\n The structure refinement of Lalr,Si,-ht was based on 463 unioue measured reflections. Of these, 12 having intensities below the threshold (3o) were considered as unobserved, and two more [(220) and (200)] were rejected as suffering from extinction. The final agreement factor R-. AF I> $\\\\mid$ F. with the use of unit weights, was 0.049. There is no indication for mixed-site occupation between Ir and Si or vacancies on either site\\n $\\\\begin{array}{cccccccccccccccccccccccccc}{}&{}&{}&{}&{}&{}&{}&{}&{}&{}&{}&{}&{}&{}&{}&{}&{}&{}&{}&{}&{}&{}&{}&{}&{}&{}&{}&{}&{}&{}&{}&{}&{}&{}&{}&{}&{}&{}&{}&{}&{}&{}&{}&{}&{}&{}&{}&{}&{}&{}&{}&{}&{}&{}&{}&{}&{}&{}&{}&{}&{}&{}&{}&{}&{}&{}&{}&{}&{}&{}&{}&{}&{}&{}&{}&{}&{}&{}&{}&{}&{}&{}&{}&{}&{}&{}&{}&{}&{}&{}&{}&{}&{}&{}&{}&{}&{}&{}&{}&{}&{}&{}&{}&{}&{}&{}&{}&{}&{}&{}&{}&{}&{}&{}&{}&{}&{}&{}&{}&{}&{}&{}&{}&{}&{}&{}&{}&{}&{}&{}&{}&{}&{}&{}&{}&{}&{}&{}&{}&{}&{}&{}&{}&{}&{}&{}&{}&{}&{}&{}&{}&{}&{}&{}&{}&{}&{}&{}&{}&{}$  The refinement of Lalr.Si-lt is based on 234 unique reflections, averaged over two symmetry equivalent sets. The reflections (200), (002), and (004), whose intensities were consistently too low, were omitted from the final refinement cycles, leading to an agreement factor of 0.061. There is no evis dence for an Ir population on the 4(e) site. Con versely, the presence of up to 4 at.% Si or vacancies on the 4(d) site cannot be excluded\\n lhe structures of LalrSi-lt (ThCr2Si, type), and LaIr,Siz-ht (CaGe,Be, type) are shown in Fig. 1. Both structure types are ordered ternary derivatives of the binary BaAla-type structure. In both cases the Ba sites are occupied by the La atoms and the Al Guo \\nYu \\nFu \\nChang  .\\nJia \\n(\\n Zhong  positions by Ir and Si, the distinction between the two ternary structures arising from the different dis tribution of Ir and Si atoms over the available Al nitn\\n the inner coordination polyhedra, viz, a simple tetranedron and a simple pyramid formed by atoms that correspond to the Al atoms in BaAl4. Omly the inner pyramids are indicated in Fig. 1. The tetrahedrally coordinated sites form a square planar net perpendicular to c, each souare representing the base of a pyramid. Adjacent pyramids point to dif ferent sides of the square net, alternating up and down. The upward pointing pyramids of one layer intersect the downward pointing pyramids of the next layer, the apex of one pyramid being at the center of the other, and vice versa. The M atoms approximately center the holes between four pairs of intersecting pyramids and have a quite regular 16 atom-coordination polyhedron, shown in Fig. 2(c) for BaAla\\n A brief discussion of the Al framework of BaAla will facilitate the comparison of the two ternary structure types. There are two types of coordination of the Al sites: double tetrahedral coordination by 4 Al and 4 Ba, and double pyramidal coordination by 5 Al and 5 Ba (Fig. 2). What we call a site with py ramidal coordination is usually designated as a site with antiprismatic coordination, since the bases of the Ba and Ai pyramis form a souare antorism. We prefer the notion of a pyramidal coordination, since in the present compounds the interatomic distances between the central atom and all five Als equivalent nearest neighbors are very ncarly eoual In tha fnthar dicnnccinn o will nnncidar Anlu If we denote pyramidally coordinated sites by p and tetrahedrally coordinated sites by t, the structure is characterized by the sequence of layers ptpptp stacked along the c direction (Fig. 1). In BaAl4, all p and t sites are occupied by Al. In the ternary derivative MT,X2 with ThCr,Siz-type structure, the tetrahedral sites are exclusively occupied by T, the pyramidal sites exclusively by X: XTXXTX. In the CaBe.Ge-type structure, both types of sites are occupied by both types of atoms, in the seauence TXTXTX.\\n The alternating of transition metal and metalloid in subsequent layers in the CaBe,Ge-type structure has several interesting consequences. First, the high symmetry of the ThCr,Si, type, characterized by body centeredness and centrosymmetry, is lost in the CaBe2Ge, type, which has a primitive Bravais lat- Mu \\n tice. However, were both sites p and t occupied by a statistical mixture of m and X, the original high symmetry would be restored. As a second consem quence of this alternation of TXTXTY in the CaBe,Ge-type structure, the nearest neighbors of one atom type, X or T, are always atoms of the other type, T or X. This is not the case in the ThCr,Siztype structures, where Si pairs are formed. Finally the inner coordination polyhedra in the CaBeGer type structure are all built by one type of atom: all inner coordination pyramids are built by S X's or by 5 T's, all coordination tetrahedra are built by 4 X's or by 4 $T_{\\\\mathrm{}}$ 's, all coordination polyhedra are centered by the opposite types of atom. The ThCrsSi,-type structure also has tetrahedra built by 4 X's and centered by T, whereas the coordination pyramids are built by 4 T's (the base), one K (the apex) and centered by X. The difference in the occupation of the pyramidal site and its coordination distinguishes the two structure types and might well be the reason for their different physical properties. This distinction will be diminished in the case of site exchange disorder between X and T in the ThCr,Si-type structure if such disorder involves more than just a few percent of the atoms.\\n In Table II, we compare the observed interatomic distances of Lasr,Si, with hypothetic distances, calculated with the use of covalent radii for Ir and Si and the metallic radius for La. The differences A are nearly zero for all atoms belonging to the coordination polyhedra as defined above. A notable exception occurs for the pyramidally coordinated sites. In both modifications, the apex atom of the La pyra mid is much farther removed from the center atom than the four basis atoms, the eiongation being more pronounced for Si-centered pyramids than for Ir centered pyramids. A similar elongation along c is observed for the inner coordination pyramids of LaIr,Si,-lt, where the homonuclear bond between the center and apex Si atoms is much longer than the heteronuclear bonds between the center Si and the basis Ir atoms. In Lalr,Si-ht, where only heteronuclear bonds occur, all these distances are equal for pyramids centered by Si or Ir. The elonga tion of the coordination pyramids in the lowtemperature phase is reflected in its higher c /a ratio (Table I). Both structures may be described as consisting of a three-dimensional framework with short bond distances, built by Ir and Si, the La occupying the largest open spaces.\\n Short bond distances between silicon and transition metals, in the order of the sum of their covalent radii, are common in ternary and binary silicides, in cluding the binary iridium silicides. However, in none of the known phases in the binary Ir-Si system does Ir have a pyramidal coordination. None of these compounds is superconducting above 1 K.W In temary rare-earth--transition-metal silicides, the short silicontransition-metal bonds frequently form three-dimensional frameworks, in which the rare-earth ions are embedded. One of these sillicides is SesCo,Sio, the prototype structurei* of a series of superconducting compounds,l7.ls and itself a superconductor at 4.9 K. In this structure type, the tran sition metal (Co, Rh, Ir) has a double pyramida coordination polyhedron consisting of' S Si and s Sc which, athough slightly distorted, is completely analogous to the coordination figure of the pyramidal site in BaAls and its ternary derivatives Fig Srslil cansnrcndidn a a Of the two LaIr-Siz modifications, only the high temperature form has Ir atoms centering a pyramid of S Si. Further, only in the high-temperature form do Ir and Si atoms alternate on adjacent sites of a three-dimensional framework, and it is this modification that becomes superconducting. It is therefore tempting to speculate that the transition-metal coor dination in these silicides is linked with and may be crucial for the occurrence of superconductivity in these compounds\\n Polymorphism is observed for the compound Lalr,Si, between a high-temperature phase of the primitive tetragonal CaBe,Ge,-type structure and a low-temperature phase of the body-centered tetrago nal ThCr2Si-type structure. A link is suggested be tween the formation of a three-dimensional Ir-Si framework with a fivefold Si coordination of Ir and the superconductivity of the high-temperature phase.\\n The authors are grateful to F. Liniger, A. Na\""
      ]
     },
     "execution_count": 2,
     "metadata": {},
     "output_type": "execute_result"
    }
   ],
   "source": [
    "paper_text[:16000]"
   ]
  },
  {
   "cell_type": "code",
   "execution_count": 3,
   "id": "3afd7ae2-3772-4c0d-b694-43ca098c40ba",
   "metadata": {},
   "outputs": [
    {
     "name": "stderr",
     "output_type": "stream",
     "text": [
      "Special tokens have been added in the vocabulary, make sure the associated word embeddings are fine-tuned or trained.\n"
     ]
    },
    {
     "data": {
      "application/vnd.jupyter.widget-view+json": {
       "model_id": "58532d1f40614d6bb70b7f4cecfcf2fe",
       "version_major": 2,
       "version_minor": 0
      },
      "text/plain": [
       "Loading checkpoint shards:   0%|          | 0/4 [00:00<?, ?it/s]"
      ]
     },
     "metadata": {},
     "output_type": "display_data"
    }
   ],
   "source": [
    "from transformers import AutoTokenizer, AutoModelForCausalLM, BitsAndBytesConfig\n",
    "import transformers\n",
    "import torch\n",
    "\n",
    "\n",
    "SYS_PROMPT = \"\"\"You are a condensed matter physicist. You are given the extracted parts of a long document and a question. Read the document and don't make up an answer.\"\"\"\n",
    "\n",
    "model_id = \"meta-llama/Meta-Llama-3-8B-Instruct\"\n",
    "\n",
    "# use quantization to lower GPU usage                                                \n",
    "bnb_config = BitsAndBytesConfig(\n",
    "    load_in_4bit=True, bnb_4bit_use_double_quant=True, bnb_4bit_quant_type=\"nf4\", bnb_4bit_compute_dtype=torch.bfloat16\n",
    ")\n",
    "\n",
    "tokenizer = AutoTokenizer.from_pretrained(model_id)\n",
    "model = AutoModelForCausalLM.from_pretrained(\n",
    "    model_id,\n",
    "    torch_dtype=torch.bfloat16,\n",
    "    device_map=\"auto\",\n",
    "    quantization_config=bnb_config\n",
    ")\n",
    "terminators = [\n",
    "    tokenizer.eos_token_id,\n",
    "    tokenizer.convert_tokens_to_ids(\"<|eot_id|>\")\n",
    "]"
   ]
  },
  {
   "cell_type": "code",
   "execution_count": 4,
   "id": "8e904430-4987-40d2-9590-58541f46f254",
   "metadata": {},
   "outputs": [],
   "source": [
    "def format_prompt(prompt, paper_text):\n",
    "  PROMPT = f\"Question: {prompt}\\nContext: \" + paper_text\n",
    "  return PROMPT\n",
    "    \\\n",
    "\n",
    "def generate(formatted_prompt):\n",
    "  formatted_prompt = formatted_prompt[:4000] # to avoid GPU OOM                      \n",
    "  messages = [{\"role\":\"system\",\"content\":SYS_PROMPT}, {\"role\":\"user\",\"content\":formatted_prompt}]\n",
    "  # tell the model to generate                                                       \n",
    "  input_ids = tokenizer.apply_chat_template(\n",
    "      messages,\n",
    "      add_generation_prompt=True,\n",
    "      return_tensors=\"pt\"\n",
    "  ).to(model.device)\n",
    "  print(\"sequence length:\", input_ids.shape)\n",
    "  outputs = model.generate(\n",
    "      input_ids,\n",
    "      max_new_tokens=1024,\n",
    "      eos_token_id=terminators,\n",
    "      do_sample=False, #temperature=0.6, top_p=0.9,\n",
    "  )\n",
    "  response = outputs[0][input_ids.shape[-1]:]\n",
    "  return tokenizer.decode(response, skip_special_tokens=True)"
   ]
  },
  {
   "cell_type": "code",
   "execution_count": 5,
   "id": "b236041a-bdd0-478f-a8aa-69aa1ce5280b",
   "metadata": {},
   "outputs": [
    {
     "name": "stderr",
     "output_type": "stream",
     "text": [
      "/home/louis/miniconda3/envs/llms/lib/python3.11/site-packages/transformers/generation/configuration_utils.py:392: UserWarning: `do_sample` is set to `False`. However, `temperature` is set to `0.6` -- this flag is only used in sample-based generation modes. You should set `do_sample=True` or unset `temperature`.\n",
      "  warnings.warn(\n",
      "/home/louis/miniconda3/envs/llms/lib/python3.11/site-packages/transformers/generation/configuration_utils.py:397: UserWarning: `do_sample` is set to `False`. However, `top_p` is set to `0.9` -- this flag is only used in sample-based generation modes. You should set `do_sample=True` or unset `top_p`.\n",
      "  warnings.warn(\n",
      "The attention mask and the pad token id were not set. As a consequence, you may observe unexpected behavior. Please pass your input's `attention_mask` to obtain reliable results.\n",
      "Setting `pad_token_id` to `eos_token_id`:128001 for open-end generation.\n"
     ]
    },
    {
     "name": "stdout",
     "output_type": "stream",
     "text": [
      "sequence length: torch.Size([1, 1028])\n"
     ]
    },
    {
     "data": {
      "text/plain": [
       "'Based on the provided text, the synthesis method for LaIr2Si is described as follows:\\n\\n* Preparation of samples: High-purity elements (La, Ir, and Si) were melted together in an argon atmosphere using an arc furnace. Melting losses were less than 0.4%.\\n* Homogenization and annealing: The samples were heated above 1000°C in an rf induction furnace in vacuo, and below 1000°C in sealed quartz capsules under argon.\\n* Quenching: The high-temperature modification was retained by quenching the samples with an argon jet.\\n\\nNote that the text does not provide a specific synthesis method for the high-temperature (Lalr2Si-ht) and low-temperature (Lalr2Si-lt) modifications, but rather describes the general procedure used to prepare the samples.'"
      ]
     },
     "execution_count": 5,
     "metadata": {},
     "output_type": "execute_result"
    }
   ],
   "source": [
    "generate(format_prompt(\"What is the synthesis method?\", paper_text))"
   ]
  },
  {
   "cell_type": "code",
   "execution_count": null,
   "id": "a7f7d8d3-289f-470c-a566-653a45d3be69",
   "metadata": {},
   "outputs": [],
   "source": []
  }
 ],
 "metadata": {
  "kernelspec": {
   "display_name": "Python 3 (ipykernel)",
   "language": "python",
   "name": "python3"
  },
  "language_info": {
   "codemirror_mode": {
    "name": "ipython",
    "version": 3
   },
   "file_extension": ".py",
   "mimetype": "text/x-python",
   "name": "python",
   "nbconvert_exporter": "python",
   "pygments_lexer": "ipython3",
   "version": "3.11.7"
  }
 },
 "nbformat": 4,
 "nbformat_minor": 5
}
