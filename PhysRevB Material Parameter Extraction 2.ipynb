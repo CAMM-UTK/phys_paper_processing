{
 "cells": [
  {
   "cell_type": "code",
   "execution_count": 39,
   "id": "5de2452f-a10d-4a92-9f65-e90d2d9a83d0",
   "metadata": {},
   "outputs": [
    {
     "name": "stderr",
     "output_type": "stream",
     "text": [
      "Special tokens have been added in the vocabulary, make sure the associated word embeddings are fine-tuned or trained.\n"
     ]
    },
    {
     "data": {
      "application/vnd.jupyter.widget-view+json": {
       "model_id": "23b09ceada1d47c8a72f3b4b72da4fe9",
       "version_major": 2,
       "version_minor": 0
      },
      "text/plain": [
       "Loading checkpoint shards:   0%|          | 0/4 [00:00<?, ?it/s]"
      ]
     },
     "metadata": {},
     "output_type": "display_data"
    }
   ],
   "source": [
    "from transformers import AutoTokenizer, AutoModelForCausalLM, BitsAndBytesConfig\n",
    "import transformers\n",
    "import torch\n",
    "import json\n",
    "\n",
    "SYS_PROMPT = \"\"\"You are an assistant for answering questions.\n",
    "You are given the extracted parts of a long document and a question. Don't make up an answer.\"\"\"\n",
    "\n",
    "model_id = \"meta-llama/Meta-Llama-3-8B-Instruct\"\n",
    "\n",
    "# use quantization to lower GPU usage                                                \n",
    "bnb_config = BitsAndBytesConfig(\n",
    "    load_in_4bit=True, bnb_4bit_use_double_quant=True, bnb_4bit_quant_type=\"nf4\", bnb_4bit_compute_dtype=torch.bfloat16\n",
    ")\n",
    "\n",
    "tokenizer = AutoTokenizer.from_pretrained(model_id)\n",
    "model = AutoModelForCausalLM.from_pretrained(\n",
    "    model_id,\n",
    "    torch_dtype=torch.bfloat16,\n",
    "    device_map=\"auto\",\n",
    "    quantization_config=bnb_config\n",
    ")\n",
    "terminators = [\n",
    "    tokenizer.eos_token_id,\n",
    "    tokenizer.convert_tokens_to_ids(\"<|eot_id|>\")\n",
    "]\n",
    "\n",
    "NUM_CHARS = 15000"
   ]
  },
  {
   "cell_type": "code",
   "execution_count": 40,
   "id": "c6148e5d-8077-414f-8064-7be09dbded08",
   "metadata": {},
   "outputs": [],
   "source": [
    "#formula_question = \"What is the material studied in this paper? Format the answer as MATERIAL: {Chemical Formula}. If there are multiple materials, separate them with &. Just give a formula and do not provide any explanation. Here are some example outputs: 'MATERIAL: Ga3As4.5 & Al0.6Fe0.4 & TexS1-x & UF6', 'MATERIAL: PrOs4Sb12 & PrOs3Sb13'\"\n",
    "temp_question = \"What is the critical temperature at zero-field of {MATERIAL}? Just give a number and do not provide any explanation. Format the answer as CRITICAL TEMPERATURE: {Number} K. Do not write a sentence before the output. Here are some example outputs: 'CRITICAL TEMPERATURE: 3 K', 'CRITICAL TEMPERATURE: 15.6 K'\"\n",
    "#field_question = \"What is upper critical field of {MATERIAL}? Just give a number and do not provide any explanation. Format the answer as MAGNETIC FIELD: {Number} T.\""
   ]
  },
  {
   "cell_type": "code",
   "execution_count": 41,
   "id": "34ce7314-2c4f-4967-b452-5f9b7de0addd",
   "metadata": {},
   "outputs": [],
   "source": [
    "def format_prompt(prompt, paper_text):\n",
    "  PROMPT = f\"Question: {prompt}\\nContext: \" + paper_text\n",
    "  return PROMPT\n",
    "\n",
    "def generate(formatted_prompt):\n",
    "  formatted_prompt = formatted_prompt[:NUM_CHARS] # to avoid GPU OOM                      \n",
    "  messages = [{\"role\":\"system\",\"content\":SYS_PROMPT}, {\"role\":\"user\",\"content\":formatted_prompt}]\n",
    "  # tell the model to generate                                                       \n",
    "  input_ids = tokenizer.apply_chat_template(\n",
    "      messages,\n",
    "      add_generation_prompt=True,\n",
    "      return_tensors=\"pt\"\n",
    "  ).to(model.device)\n",
    "  print('{} characters = {} tokens'.format(len(formatted_prompt), input_ids.shape[1]))\n",
    "  outputs = model.generate(\n",
    "      input_ids,\n",
    "      max_new_tokens=1024,\n",
    "      eos_token_id=terminators,\n",
    "      do_sample=False, #temperature=0.6, top_p=0.9,\n",
    "  )\n",
    "  response = outputs[0][input_ids.shape[-1]:]\n",
    "  return tokenizer.decode(response, skip_special_tokens=True)"
   ]
  },
  {
   "cell_type": "code",
   "execution_count": 42,
   "id": "df5ca8fb-c2e3-4b2d-927d-c08aaa33ef07",
   "metadata": {},
   "outputs": [],
   "source": [
    "import os\n",
    "with open('extraction/database.json') as f:\n",
    "    database = json.load(f)\n",
    "\n",
    "def format_material_string(string, splitchar):\n",
    "    string = string.replace('MATERIAL:', '')\n",
    "    string_list = \"\".join(string.split()).split(splitchar)\n",
    "    return string_list\n",
    "    \n",
    "def format_temperature_string(temp_list):\n",
    "    temp_list = \"\".join(temp_list.replace('K', '').split()).split(',')\n",
    "    temp_list = [temp_string[:-1] if temp_string[-1] == '.' else temp_string for temp_string in temp_list]\n",
    "    temp_list_float = []\n",
    "    for temp in temp_list:\n",
    "        try:\n",
    "            temp_list_float.append(float(temp))\n",
    "        except ValueError:\n",
    "            temp_list_float.append(-100.0)\n",
    "    return temp_list_float\n",
    "\n",
    "def standard_chem_formula(dictionary):\n",
    "    return ''.join(char for char in ''.join(key for key in sorted(dictionary.keys())) if char.isalpha() or char.isnumeric())\n",
    "\n",
    "processed_database_output = {}\n",
    "for key in database.keys():\n",
    "    materials = format_material_string(database[key][0], ',')\n",
    "    temperatures = format_temperature_string(database[key][1].replace('CRITICAL TEMPERATURE:', ''))\n",
    "    if len(materials) > len(temperatures):\n",
    "        temperatures = temperatures + [-100.0] * (len(materials) - len(temperatures))\n",
    "    processed_database_output[key] = (materials, temperatures)\n",
    "\n",
    "database = processed_database_output"
   ]
  },
  {
   "cell_type": "code",
   "execution_count": 43,
   "id": "c584111b-ff5b-4ef5-9106-cd633e4e85fa",
   "metadata": {
    "scrolled": true
   },
   "outputs": [
    {
     "name": "stderr",
     "output_type": "stream",
     "text": [
      "The attention mask and the pad token id were not set. As a consequence, you may observe unexpected behavior. Please pass your input's `attention_mask` to obtain reliable results.\n",
      "Setting `pad_token_id` to `eos_token_id`:128001 for open-end generation.\n"
     ]
    },
    {
     "name": "stdout",
     "output_type": "stream",
     "text": [
      "1 /home/louis/research/pdf_processor/processed_data/superconductivity_processed/physrevb.72.184503\n",
      "15000 characters = 3875 tokens\n"
     ]
    },
    {
     "name": "stderr",
     "output_type": "stream",
     "text": [
      "The attention mask and the pad token id were not set. As a consequence, you may observe unexpected behavior. Please pass your input's `attention_mask` to obtain reliable results.\n",
      "Setting `pad_token_id` to `eos_token_id`:128001 for open-end generation.\n"
     ]
    },
    {
     "name": "stdout",
     "output_type": "stream",
     "text": [
      "['CRITICAL TEMPERATURE: 0.97 K']\n",
      "['Pr1Ru4Sb12', ' 0.97 K']\n",
      "3 /home/louis/research/pdf_processor/processed_data/superconductivity_processed/physrevb.76.014528\n",
      "15000 characters = 3876 tokens\n"
     ]
    },
    {
     "name": "stderr",
     "output_type": "stream",
     "text": [
      "The attention mask and the pad token id were not set. As a consequence, you may observe unexpected behavior. Please pass your input's `attention_mask` to obtain reliable results.\n",
      "Setting `pad_token_id` to `eos_token_id`:128001 for open-end generation.\n"
     ]
    },
    {
     "name": "stdout",
     "output_type": "stream",
     "text": [
      "['CRITICAL TEMPERATURE: 0.87 K']\n",
      "['Al3Mg2', ' 0.87 K']\n",
      "4 /home/louis/research/pdf_processor/processed_data/superconductivity_processed/physrevb.88.144511\n",
      "15000 characters = 3883 tokens\n"
     ]
    },
    {
     "name": "stderr",
     "output_type": "stream",
     "text": [
      "The attention mask and the pad token id were not set. As a consequence, you may observe unexpected behavior. Please pass your input's `attention_mask` to obtain reliable results.\n",
      "Setting `pad_token_id` to `eos_token_id`:128001 for open-end generation.\n"
     ]
    },
    {
     "name": "stdout",
     "output_type": "stream",
     "text": [
      "['CRITICAL TEMPERATURE: 2.1 K']\n",
      "['La1Pd0.85Bi2', ' 2.1 K']\n",
      "8 /home/louis/research/pdf_processor/processed_data/superconductivity_processed/physrevb.78.092503\n",
      "15000 characters = 3602 tokens\n"
     ]
    },
    {
     "name": "stderr",
     "output_type": "stream",
     "text": [
      "The attention mask and the pad token id were not set. As a consequence, you may observe unexpected behavior. Please pass your input's `attention_mask` to obtain reliable results.\n",
      "Setting `pad_token_id` to `eos_token_id`:128001 for open-end generation.\n"
     ]
    },
    {
     "name": "stdout",
     "output_type": "stream",
     "text": [
      "['CRITICAL TEMPERATURE: 26 K']\n",
      "['La0.85Sr0.15Fe1As1O1-z', ' 26 K']\n",
      "10 /home/louis/research/pdf_processor/processed_data/superconductivity_processed/physrevb.67.024505\n",
      "15000 characters = 3623 tokens\n"
     ]
    },
    {
     "name": "stderr",
     "output_type": "stream",
     "text": [
      "The attention mask and the pad token id were not set. As a consequence, you may observe unexpected behavior. Please pass your input's `attention_mask` to obtain reliable results.\n",
      "Setting `pad_token_id` to `eos_token_id`:128001 for open-end generation.\n"
     ]
    },
    {
     "name": "stdout",
     "output_type": "stream",
     "text": [
      "['CRITICAL TEMPERATURE: 2 K']\n",
      "['Ba0.61K0.39Bi1O3', ' 2 K']\n",
      "13 /home/louis/research/pdf_processor/processed_data/superconductivity_processed/physrevb.71.060502\n",
      "15000 characters = 3626 tokens\n"
     ]
    },
    {
     "name": "stderr",
     "output_type": "stream",
     "text": [
      "The attention mask and the pad token id were not set. As a consequence, you may observe unexpected behavior. Please pass your input's `attention_mask` to obtain reliable results.\n",
      "Setting `pad_token_id` to `eos_token_id`:128001 for open-end generation.\n"
     ]
    },
    {
     "name": "stdout",
     "output_type": "stream",
     "text": [
      "['CRITICAL TEMPERATURE: 4 K']\n",
      "['C1', ' 4 K']\n",
      "17 /home/louis/research/pdf_processor/processed_data/superconductivity_processed/physrevb.36.8791\n",
      "8717 characters = 2121 tokens\n"
     ]
    },
    {
     "name": "stderr",
     "output_type": "stream",
     "text": [
      "The attention mask and the pad token id were not set. As a consequence, you may observe unexpected behavior. Please pass your input's `attention_mask` to obtain reliable results.\n",
      "Setting `pad_token_id` to `eos_token_id`:128001 for open-end generation.\n"
     ]
    },
    {
     "name": "stdout",
     "output_type": "stream",
     "text": [
      "['CRITICAL TEMPERATURE: 0.87 K']\n",
      "['Er1Ba2Cu3O7-Z', ' 0.87 K']\n",
      "18 /home/louis/research/pdf_processor/processed_data/superconductivity_processed/physrevb.63.224510\n",
      "15000 characters = 3429 tokens\n"
     ]
    },
    {
     "name": "stderr",
     "output_type": "stream",
     "text": [
      "The attention mask and the pad token id were not set. As a consequence, you may observe unexpected behavior. Please pass your input's `attention_mask` to obtain reliable results.\n",
      "Setting `pad_token_id` to `eos_token_id`:128001 for open-end generation.\n"
     ]
    },
    {
     "name": "stdout",
     "output_type": "stream",
     "text": [
      "['CRITICAL TEMPERATURE: 0.78 K']\n",
      "['U1', ' 0.78 K']\n",
      "26 /home/louis/research/pdf_processor/processed_data/superconductivity_processed/physrevb.89.024518\n",
      "15000 characters = 4360 tokens\n"
     ]
    },
    {
     "name": "stderr",
     "output_type": "stream",
     "text": [
      "The attention mask and the pad token id were not set. As a consequence, you may observe unexpected behavior. Please pass your input's `attention_mask` to obtain reliable results.\n",
      "Setting `pad_token_id` to `eos_token_id`:128001 for open-end generation.\n"
     ]
    },
    {
     "name": "stdout",
     "output_type": "stream",
     "text": [
      "['CRITICAL TEMPERATURE: 45 K']\n",
      "['Sm4Fe2As2Te0.72F1.2O2.8', ' 45 K']\n",
      "27 /home/louis/research/pdf_processor/processed_data/superconductivity_processed/physrevb.59.3827\n",
      "15000 characters = 3805 tokens\n"
     ]
    },
    {
     "name": "stderr",
     "output_type": "stream",
     "text": [
      "The attention mask and the pad token id were not set. As a consequence, you may observe unexpected behavior. Please pass your input's `attention_mask` to obtain reliable results.\n",
      "Setting `pad_token_id` to `eos_token_id`:128001 for open-end generation.\n"
     ]
    },
    {
     "name": "stdout",
     "output_type": "stream",
     "text": [
      "['CRITICAL TEMPERATURE: 43.7 K']\n",
      "['La1.85Sr0.15Cu1O4', ' 43.7 K']\n",
      "40 /home/louis/research/pdf_processor/processed_data/superconductivity_processed/physrevb.83.174506\n",
      "15000 characters = 3705 tokens\n"
     ]
    },
    {
     "name": "stderr",
     "output_type": "stream",
     "text": [
      "The attention mask and the pad token id were not set. As a consequence, you may observe unexpected behavior. Please pass your input's `attention_mask` to obtain reliable results.\n",
      "Setting `pad_token_id` to `eos_token_id`:128001 for open-end generation.\n"
     ]
    },
    {
     "name": "stdout",
     "output_type": "stream",
     "text": [
      "['CRITICAL TEMPERATURE: 18 K']\n",
      "['Li1Fe1As1', ' 18 K']\n",
      "41 /home/louis/research/pdf_processor/processed_data/superconductivity_processed/physrevb.38.2455\n",
      "15000 characters = 3497 tokens\n"
     ]
    },
    {
     "name": "stderr",
     "output_type": "stream",
     "text": [
      "The attention mask and the pad token id were not set. As a consequence, you may observe unexpected behavior. Please pass your input's `attention_mask` to obtain reliable results.\n",
      "Setting `pad_token_id` to `eos_token_id`:128001 for open-end generation.\n"
     ]
    },
    {
     "name": "stdout",
     "output_type": "stream",
     "text": [
      "['CRITICAL TEMPERATURE: 91.5 K']\n",
      "['Ho1Ba2Cu3O6.9', ' 91.5 K']\n",
      "42 /home/louis/research/pdf_processor/processed_data/superconductivity_processed/physrevb.79.174505\n",
      "15000 characters = 4064 tokens\n"
     ]
    },
    {
     "name": "stderr",
     "output_type": "stream",
     "text": [
      "The attention mask and the pad token id were not set. As a consequence, you may observe unexpected behavior. Please pass your input's `attention_mask` to obtain reliable results.\n",
      "Setting `pad_token_id` to `eos_token_id`:128001 for open-end generation.\n"
     ]
    },
    {
     "name": "stdout",
     "output_type": "stream",
     "text": [
      "['CRITICAL TEMPERATURE: 6.5 K']\n",
      "['La1Fe0.96Ni0.04As1O1', ' 6.5 K']\n",
      "45 /home/louis/research/pdf_processor/processed_data/superconductivity_processed/physrevb.72.054520\n",
      "15000 characters = 3867 tokens\n"
     ]
    },
    {
     "name": "stderr",
     "output_type": "stream",
     "text": [
      "The attention mask and the pad token id were not set. As a consequence, you may observe unexpected behavior. Please pass your input's `attention_mask` to obtain reliable results.\n",
      "Setting `pad_token_id` to `eos_token_id`:128001 for open-end generation.\n"
     ]
    },
    {
     "name": "stdout",
     "output_type": "stream",
     "text": [
      "['CRITICAL TEMPERATURE: 5 K']\n",
      "['Sr2Ca12Cu24O41', ' 5 K']\n",
      "46 /home/louis/research/pdf_processor/processed_data/superconductivity_processed/physrevb.36.4014\n",
      "11590 characters = 2975 tokens\n"
     ]
    },
    {
     "name": "stderr",
     "output_type": "stream",
     "text": [
      "The attention mask and the pad token id were not set. As a consequence, you may observe unexpected behavior. Please pass your input's `attention_mask` to obtain reliable results.\n",
      "Setting `pad_token_id` to `eos_token_id`:128001 for open-end generation.\n"
     ]
    },
    {
     "name": "stdout",
     "output_type": "stream",
     "text": [
      "['CRITICAL TEMPERATURE: 93 K']\n",
      "['Y1Ba2Cu3O7', ' 93 K']\n",
      "49 /home/louis/research/pdf_processor/processed_data/superconductivity_processed/physrevb.51.1286\n",
      "13895 characters = 3224 tokens\n"
     ]
    },
    {
     "name": "stderr",
     "output_type": "stream",
     "text": [
      "The attention mask and the pad token id were not set. As a consequence, you may observe unexpected behavior. Please pass your input's `attention_mask` to obtain reliable results.\n",
      "Setting `pad_token_id` to `eos_token_id`:128001 for open-end generation.\n"
     ]
    },
    {
     "name": "stdout",
     "output_type": "stream",
     "text": [
      "['CRITICAL TEMPERATURE: 222 K']\n",
      "['La2Cu1O4.035', ' 222 K']\n",
      "50 /home/louis/research/pdf_processor/processed_data/superconductivity_processed/physrevb.87.134512\n",
      "15000 characters = 3893 tokens\n"
     ]
    },
    {
     "name": "stderr",
     "output_type": "stream",
     "text": [
      "The attention mask and the pad token id were not set. As a consequence, you may observe unexpected behavior. Please pass your input's `attention_mask` to obtain reliable results.\n",
      "Setting `pad_token_id` to `eos_token_id`:128001 for open-end generation.\n"
     ]
    },
    {
     "name": "stdout",
     "output_type": "stream",
     "text": [
      "['CRITICAL TEMPERATURE: 8 K']\n",
      "['Fe1Se1', ' 8 K']\n",
      "51 /home/louis/research/pdf_processor/processed_data/superconductivity_processed/physrevb.95.140505\n",
      "14813 characters = 3831 tokens\n"
     ]
    },
    {
     "name": "stderr",
     "output_type": "stream",
     "text": [
      "The attention mask and the pad token id were not set. As a consequence, you may observe unexpected behavior. Please pass your input's `attention_mask` to obtain reliable results.\n",
      "Setting `pad_token_id` to `eos_token_id`:128001 for open-end generation.\n"
     ]
    },
    {
     "name": "stdout",
     "output_type": "stream",
     "text": [
      "['CRITICAL TEMPERATURE: 31-36 K']\n",
      "['Ca1K1Fe4As4', ' 31-36 K']\n",
      "56 /home/louis/research/pdf_processor/processed_data/superconductivity_processed/physrevb.94.054515\n",
      "15000 characters = 3857 tokens\n"
     ]
    },
    {
     "name": "stderr",
     "output_type": "stream",
     "text": [
      "The attention mask and the pad token id were not set. As a consequence, you may observe unexpected behavior. Please pass your input's `attention_mask` to obtain reliable results.\n",
      "Setting `pad_token_id` to `eos_token_id`:128001 for open-end generation.\n"
     ]
    },
    {
     "name": "stdout",
     "output_type": "stream",
     "text": [
      "['CRITICAL TEMPERATURE: 5.96 K']\n",
      "['Hf1Re6', ' 5.96 K']\n",
      "65 /home/louis/research/pdf_processor/processed_data/superconductivity_processed/physrevb.82.144527\n",
      "15000 characters = 3625 tokens\n"
     ]
    },
    {
     "name": "stderr",
     "output_type": "stream",
     "text": [
      "The attention mask and the pad token id were not set. As a consequence, you may observe unexpected behavior. Please pass your input's `attention_mask` to obtain reliable results.\n",
      "Setting `pad_token_id` to `eos_token_id`:128001 for open-end generation.\n"
     ]
    },
    {
     "name": "stdout",
     "output_type": "stream",
     "text": [
      "['CRITICAL TEMPERATURE: 2.52 K']\n",
      "['Rb1Fe2As2', ' 2.52 K']\n",
      "68 /home/louis/research/pdf_processor/processed_data/superconductivity_processed/physrevb.97.014523\n",
      "14628 characters = 3513 tokens\n"
     ]
    },
    {
     "name": "stderr",
     "output_type": "stream",
     "text": [
      "The attention mask and the pad token id were not set. As a consequence, you may observe unexpected behavior. Please pass your input's `attention_mask` to obtain reliable results.\n",
      "Setting `pad_token_id` to `eos_token_id`:128001 for open-end generation.\n"
     ]
    },
    {
     "name": "stdout",
     "output_type": "stream",
     "text": [
      "['CRITICAL TEMPERATURE: 0.38 K']\n",
      "['Pd1Te2', ' 0.38 K']\n",
      "71 /home/louis/research/pdf_processor/processed_data/superconductivity_processed/physrevb.63.220507\n",
      "15000 characters = 4403 tokens\n"
     ]
    },
    {
     "name": "stderr",
     "output_type": "stream",
     "text": [
      "The attention mask and the pad token id were not set. As a consequence, you may observe unexpected behavior. Please pass your input's `attention_mask` to obtain reliable results.\n",
      "Setting `pad_token_id` to `eos_token_id`:128001 for open-end generation.\n"
     ]
    },
    {
     "name": "stdout",
     "output_type": "stream",
     "text": [
      "['CRITICAL TEMPERATURE: 2.2 K']\n",
      "['Ce1Rh1In5', ' 2.2 K']\n",
      "73 /home/louis/research/pdf_processor/processed_data/superconductivity_processed/physrevb.93.241112\n",
      "15000 characters = 3750 tokens\n"
     ]
    },
    {
     "name": "stderr",
     "output_type": "stream",
     "text": [
      "The attention mask and the pad token id were not set. As a consequence, you may observe unexpected behavior. Please pass your input's `attention_mask` to obtain reliable results.\n",
      "Setting `pad_token_id` to `eos_token_id`:128001 for open-end generation.\n"
     ]
    },
    {
     "name": "stdout",
     "output_type": "stream",
     "text": [
      "['CRITICAL TEMPERATURE: 152 K']\n",
      "['La3Co4Sn13', ' 152 K']\n",
      "74 /home/louis/research/pdf_processor/processed_data/superconductivity_processed/physrevb.53.8241\n",
      "14341 characters = 3535 tokens\n"
     ]
    },
    {
     "name": "stderr",
     "output_type": "stream",
     "text": [
      "The attention mask and the pad token id were not set. As a consequence, you may observe unexpected behavior. Please pass your input's `attention_mask` to obtain reliable results.\n",
      "Setting `pad_token_id` to `eos_token_id`:128001 for open-end generation.\n"
     ]
    },
    {
     "name": "stdout",
     "output_type": "stream",
     "text": [
      "['CRITICAL TEMPERATURE: 0.35 K']\n",
      "['Ce1Rh2Si2', ' 0.35 K']\n",
      "75 /home/louis/research/pdf_processor/processed_data/superconductivity_processed/physrevb.80.024519\n",
      "15000 characters = 3573 tokens\n"
     ]
    },
    {
     "name": "stderr",
     "output_type": "stream",
     "text": [
      "The attention mask and the pad token id were not set. As a consequence, you may observe unexpected behavior. Please pass your input's `attention_mask` to obtain reliable results.\n",
      "Setting `pad_token_id` to `eos_token_id`:128001 for open-end generation.\n"
     ]
    },
    {
     "name": "stdout",
     "output_type": "stream",
     "text": [
      "['CRITICAL TEMPERATURE: 11.5 K']\n",
      "['Ca1Fe2As2', ' 11.5 K']\n",
      "76 /home/louis/research/pdf_processor/processed_data/superconductivity_processed/physrevb.81.094520\n",
      "15000 characters = 4219 tokens\n"
     ]
    },
    {
     "name": "stderr",
     "output_type": "stream",
     "text": [
      "The attention mask and the pad token id were not set. As a consequence, you may observe unexpected behavior. Please pass your input's `attention_mask` to obtain reliable results.\n",
      "Setting `pad_token_id` to `eos_token_id`:128001 for open-end generation.\n"
     ]
    },
    {
     "name": "stdout",
     "output_type": "stream",
     "text": [
      "['CRITICAL TEMPERATURE: 8.1 K']\n",
      "['Ba1Fe1.73Co0.27As2', ' 8.1 K']\n",
      "81 /home/louis/research/pdf_processor/processed_data/superconductivity_processed/physrevb.64.132509\n",
      "12633 characters = 3143 tokens\n"
     ]
    },
    {
     "name": "stderr",
     "output_type": "stream",
     "text": [
      "The attention mask and the pad token id were not set. As a consequence, you may observe unexpected behavior. Please pass your input's `attention_mask` to obtain reliable results.\n",
      "Setting `pad_token_id` to `eos_token_id`:128001 for open-end generation.\n"
     ]
    },
    {
     "name": "stdout",
     "output_type": "stream",
     "text": [
      "['CRITICAL TEMPERATURE: 39 K']\n",
      "['B2Mg1', ' 39 K']\n",
      "82 /home/louis/research/pdf_processor/processed_data/superconductivity_processed/physrevb.51.1397\n",
      "13686 characters = 3619 tokens\n"
     ]
    },
    {
     "name": "stderr",
     "output_type": "stream",
     "text": [
      "The attention mask and the pad token id were not set. As a consequence, you may observe unexpected behavior. Please pass your input's `attention_mask` to obtain reliable results.\n",
      "Setting `pad_token_id` to `eos_token_id`:128001 for open-end generation.\n"
     ]
    },
    {
     "name": "stdout",
     "output_type": "stream",
     "text": [
      "['CRITICAL TEMPERATURE: 104 K']\n",
      "['Bi1.8Pb0.4Sr2Ca2Cu3O10+d', ' 104 K']\n",
      "85 /home/louis/research/pdf_processor/processed_data/superconductivity_processed/physrevb.84.054531\n",
      "15000 characters = 3795 tokens\n"
     ]
    },
    {
     "name": "stderr",
     "output_type": "stream",
     "text": [
      "The attention mask and the pad token id were not set. As a consequence, you may observe unexpected behavior. Please pass your input's `attention_mask` to obtain reliable results.\n",
      "Setting `pad_token_id` to `eos_token_id`:128001 for open-end generation.\n"
     ]
    },
    {
     "name": "stdout",
     "output_type": "stream",
     "text": [
      "['CRITICAL TEMPERATURE: 6.05 K']\n",
      "['Nb1S2', ' 6.05 K']\n",
      "88 /home/louis/research/pdf_processor/processed_data/superconductivity_processed/physrevb.87.045124\n",
      "15000 characters = 3653 tokens\n"
     ]
    },
    {
     "name": "stderr",
     "output_type": "stream",
     "text": [
      "The attention mask and the pad token id were not set. As a consequence, you may observe unexpected behavior. Please pass your input's `attention_mask` to obtain reliable results.\n",
      "Setting `pad_token_id` to `eos_token_id`:128001 for open-end generation.\n"
     ]
    },
    {
     "name": "stdout",
     "output_type": "stream",
     "text": [
      "['CRITICAL TEMPERATURE: 0.46 K']\n",
      "['K1Ni2S2', ' 0.46 K']\n",
      "89 /home/louis/research/pdf_processor/processed_data/superconductivity_processed/physrevb.51.15478\n",
      "15000 characters = 4007 tokens\n"
     ]
    },
    {
     "name": "stderr",
     "output_type": "stream",
     "text": [
      "The attention mask and the pad token id were not set. As a consequence, you may observe unexpected behavior. Please pass your input's `attention_mask` to obtain reliable results.\n",
      "Setting `pad_token_id` to `eos_token_id`:128001 for open-end generation.\n"
     ]
    },
    {
     "name": "stdout",
     "output_type": "stream",
     "text": [
      "['CRITICAL TEMPERATURE: 93.1 K']\n",
      "['Y2Ba4Cu7O14.97', ' 93.1 K']\n",
      "91 /home/louis/research/pdf_processor/processed_data/superconductivity_processed/physrevb.94.054523\n",
      "15000 characters = 3753 tokens\n"
     ]
    },
    {
     "name": "stderr",
     "output_type": "stream",
     "text": [
      "The attention mask and the pad token id were not set. As a consequence, you may observe unexpected behavior. Please pass your input's `attention_mask` to obtain reliable results.\n",
      "Setting `pad_token_id` to `eos_token_id`:128001 for open-end generation.\n"
     ]
    },
    {
     "name": "stdout",
     "output_type": "stream",
     "text": [
      "['CRITICAL TEMPERATURE: 8.3 K']\n",
      "['La1Pt4Ge12', ' 8.3 K']\n",
      "97 /home/louis/research/pdf_processor/processed_data/superconductivity_processed/physrevb.64.012507\n",
      "13172 characters = 3362 tokens\n"
     ]
    },
    {
     "name": "stderr",
     "output_type": "stream",
     "text": [
      "The attention mask and the pad token id were not set. As a consequence, you may observe unexpected behavior. Please pass your input's `attention_mask` to obtain reliable results.\n",
      "Setting `pad_token_id` to `eos_token_id`:128001 for open-end generation.\n"
     ]
    },
    {
     "name": "stdout",
     "output_type": "stream",
     "text": [
      "['CRITICAL TEMPERATURE: 39 K']\n",
      "['B2Mg1', ' 39 K']\n",
      "98 /home/louis/research/pdf_processor/processed_data/superconductivity_processed/physrevb.83.174510\n",
      "15000 characters = 4114 tokens\n"
     ]
    },
    {
     "name": "stderr",
     "output_type": "stream",
     "text": [
      "The attention mask and the pad token id were not set. As a consequence, you may observe unexpected behavior. Please pass your input's `attention_mask` to obtain reliable results.\n",
      "Setting `pad_token_id` to `eos_token_id`:128001 for open-end generation.\n"
     ]
    },
    {
     "name": "stdout",
     "output_type": "stream",
     "text": [
      "['CRITICAL TEMPERATURE: 32 K']\n",
      "['Tl0.47Rb0.34Fe1.63Se2', ' 32 K']\n",
      "100 /home/louis/research/pdf_processor/processed_data/superconductivity_processed/physrevb.82.144118\n",
      "15000 characters = 3668 tokens\n"
     ]
    },
    {
     "name": "stderr",
     "output_type": "stream",
     "text": [
      "The attention mask and the pad token id were not set. As a consequence, you may observe unexpected behavior. Please pass your input's `attention_mask` to obtain reliable results.\n",
      "Setting `pad_token_id` to `eos_token_id`:128001 for open-end generation.\n"
     ]
    },
    {
     "name": "stdout",
     "output_type": "stream",
     "text": [
      "['CRITICAL TEMPERATURE: 10 K']\n",
      "['Ba1Fe2As2', ' 10 K']\n",
      "102 /home/louis/research/pdf_processor/processed_data/superconductivity_processed/physrevb.72.174508\n",
      "15000 characters = 4376 tokens\n"
     ]
    },
    {
     "name": "stderr",
     "output_type": "stream",
     "text": [
      "The attention mask and the pad token id were not set. As a consequence, you may observe unexpected behavior. Please pass your input's `attention_mask` to obtain reliable results.\n",
      "Setting `pad_token_id` to `eos_token_id`:128001 for open-end generation.\n"
     ]
    },
    {
     "name": "stdout",
     "output_type": "stream",
     "text": [
      "['CRITICAL TEMPERATURE: 30 K']\n",
      "['Ru1Sr2Gd1Cu2O8', ' 30 K']\n",
      "108 /home/louis/research/pdf_processor/processed_data/superconductivity_processed/physrevb.91.174513\n",
      "15000 characters = 3833 tokens\n"
     ]
    },
    {
     "name": "stderr",
     "output_type": "stream",
     "text": [
      "The attention mask and the pad token id were not set. As a consequence, you may observe unexpected behavior. Please pass your input's `attention_mask` to obtain reliable results.\n",
      "Setting `pad_token_id` to `eos_token_id`:128001 for open-end generation.\n"
     ]
    },
    {
     "name": "stdout",
     "output_type": "stream",
     "text": [
      "['CRITICAL TEMPERATURE: 1.7 K']\n",
      "['Bi2Rh3.5S2', ' 1.7 K']\n",
      "115 /home/louis/research/pdf_processor/processed_data/superconductivity_processed/physrevb.87.144502\n",
      "11330 characters = 3314 tokens\n"
     ]
    },
    {
     "name": "stderr",
     "output_type": "stream",
     "text": [
      "The attention mask and the pad token id were not set. As a consequence, you may observe unexpected behavior. Please pass your input's `attention_mask` to obtain reliable results.\n",
      "Setting `pad_token_id` to `eos_token_id`:128001 for open-end generation.\n"
     ]
    },
    {
     "name": "stdout",
     "output_type": "stream",
     "text": [
      "['CRITICAL TEMPERATURE: 1.81 K']\n",
      "['Cs1Fe2As2', ' 1.81 K']\n",
      "116 /home/louis/research/pdf_processor/processed_data/superconductivity_processed/physrevb.79.140509\n",
      "15000 characters = 3508 tokens\n"
     ]
    },
    {
     "name": "stderr",
     "output_type": "stream",
     "text": [
      "The attention mask and the pad token id were not set. As a consequence, you may observe unexpected behavior. Please pass your input's `attention_mask` to obtain reliable results.\n",
      "Setting `pad_token_id` to `eos_token_id`:128001 for open-end generation.\n"
     ]
    },
    {
     "name": "stdout",
     "output_type": "stream",
     "text": [
      "['CRITICAL TEMPERATURE: 65 K']\n",
      "['Fe1.03Te0.7Se0.3', ' 65 K']\n",
      "119 /home/louis/research/pdf_processor/processed_data/superconductivity_processed/physrevb.79.134507\n",
      "15000 characters = 3646 tokens\n"
     ]
    },
    {
     "name": "stderr",
     "output_type": "stream",
     "text": [
      "The attention mask and the pad token id were not set. As a consequence, you may observe unexpected behavior. Please pass your input's `attention_mask` to obtain reliable results.\n",
      "Setting `pad_token_id` to `eos_token_id`:128001 for open-end generation.\n"
     ]
    },
    {
     "name": "stdout",
     "output_type": "stream",
     "text": [
      "['CRITICAL TEMPERATURE: 1.4 K']\n",
      "['Sr1Ni2P2', ' 1.4 K']\n",
      "123 /home/louis/research/pdf_processor/processed_data/superconductivity_processed/physrevb.92.134517\n",
      "15000 characters = 3680 tokens\n"
     ]
    },
    {
     "name": "stderr",
     "output_type": "stream",
     "text": [
      "The attention mask and the pad token id were not set. As a consequence, you may observe unexpected behavior. Please pass your input's `attention_mask` to obtain reliable results.\n",
      "Setting `pad_token_id` to `eos_token_id`:128001 for open-end generation.\n"
     ]
    },
    {
     "name": "stdout",
     "output_type": "stream",
     "text": [
      "['CRITICAL TEMPERATURE: 36.3 K']\n",
      "['Sr0.3M1Fe2Se2', ' 36.3 K']\n",
      "126 /home/louis/research/pdf_processor/processed_data/superconductivity_processed/physrevb.69.060504\n",
      "13558 characters = 3140 tokens\n"
     ]
    },
    {
     "name": "stderr",
     "output_type": "stream",
     "text": [
      "The attention mask and the pad token id were not set. As a consequence, you may observe unexpected behavior. Please pass your input's `attention_mask` to obtain reliable results.\n",
      "Setting `pad_token_id` to `eos_token_id`:128001 for open-end generation.\n"
     ]
    },
    {
     "name": "stdout",
     "output_type": "stream",
     "text": [
      "['CRITICAL TEMPERATURE: 1.85 K']\n",
      "['Pr1Os4Sb12', ' 1.85 K']\n",
      "130 /home/louis/research/pdf_processor/processed_data/superconductivity_processed/physrevb.38.11955\n",
      "9259 characters = 2339 tokens\n"
     ]
    },
    {
     "name": "stderr",
     "output_type": "stream",
     "text": [
      "The attention mask and the pad token id were not set. As a consequence, you may observe unexpected behavior. Please pass your input's `attention_mask` to obtain reliable results.\n",
      "Setting `pad_token_id` to `eos_token_id`:128001 for open-end generation.\n"
     ]
    },
    {
     "name": "stdout",
     "output_type": "stream",
     "text": [
      "['CRITICAL TEMPERATURE: 90 K']\n",
      "['Bi2Sr2Ca1Cu2O8', ' 90 K']\n",
      "140 /home/louis/research/pdf_processor/processed_data/superconductivity_processed/physrevb.83.100502\n",
      "14638 characters = 3880 tokens\n"
     ]
    },
    {
     "name": "stderr",
     "output_type": "stream",
     "text": [
      "The attention mask and the pad token id were not set. As a consequence, you may observe unexpected behavior. Please pass your input's `attention_mask` to obtain reliable results.\n",
      "Setting `pad_token_id` to `eos_token_id`:128001 for open-end generation.\n"
     ]
    },
    {
     "name": "stdout",
     "output_type": "stream",
     "text": [
      "['CRITICAL TEMPERATURE: 18 K']\n",
      "['Li1Fe1As1', ' 18 K']\n",
      "141 /home/louis/research/pdf_processor/processed_data/superconductivity_processed/physrevb.99.174513\n",
      "15000 characters = 4129 tokens\n"
     ]
    },
    {
     "name": "stderr",
     "output_type": "stream",
     "text": [
      "The attention mask and the pad token id were not set. As a consequence, you may observe unexpected behavior. Please pass your input's `attention_mask` to obtain reliable results.\n",
      "Setting `pad_token_id` to `eos_token_id`:128001 for open-end generation.\n"
     ]
    },
    {
     "name": "stdout",
     "output_type": "stream",
     "text": [
      "['CRITICAL TEMPERATURE: 1.7 K']\n",
      "['Zr1Ir1Si1', ' 1.7 K']\n",
      "142 /home/louis/research/pdf_processor/processed_data/superconductivity_processed/physrevb.61.1584\n",
      "15000 characters = 3867 tokens\n"
     ]
    },
    {
     "name": "stderr",
     "output_type": "stream",
     "text": [
      "The attention mask and the pad token id were not set. As a consequence, you may observe unexpected behavior. Please pass your input's `attention_mask` to obtain reliable results.\n",
      "Setting `pad_token_id` to `eos_token_id`:128001 for open-end generation.\n"
     ]
    },
    {
     "name": "stdout",
     "output_type": "stream",
     "text": [
      "['CRITICAL TEMPERATURE: 74 K']\n",
      "['Y1Ba2Cu3O7-z', ' 74 K']\n",
      "149 /home/louis/research/pdf_processor/processed_data/superconductivity_processed/physrevb.49.6392\n",
      "10108 characters = 2487 tokens\n"
     ]
    },
    {
     "name": "stderr",
     "output_type": "stream",
     "text": [
      "The attention mask and the pad token id were not set. As a consequence, you may observe unexpected behavior. Please pass your input's `attention_mask` to obtain reliable results.\n",
      "Setting `pad_token_id` to `eos_token_id`:128001 for open-end generation.\n"
     ]
    },
    {
     "name": "stdout",
     "output_type": "stream",
     "text": [
      "['CRITICAL TEMPERATURE: 16 K']\n",
      "['Nd1.85Ce0.15Cu1O4', ' 16 K']\n",
      "150 /home/louis/research/pdf_processor/processed_data/superconductivity_processed/physrevb.79.174501\n",
      "15000 characters = 3771 tokens\n"
     ]
    },
    {
     "name": "stderr",
     "output_type": "stream",
     "text": [
      "The attention mask and the pad token id were not set. As a consequence, you may observe unexpected behavior. Please pass your input's `attention_mask` to obtain reliable results.\n",
      "Setting `pad_token_id` to `eos_token_id`:128001 for open-end generation.\n"
     ]
    },
    {
     "name": "stdout",
     "output_type": "stream",
     "text": [
      "['CRITICAL TEMPERATURE: 36.5 K']\n",
      "['Ba0.6K0.4Fe2As2', ' 36.5 K']\n",
      "151 /home/louis/research/pdf_processor/processed_data/superconductivity_processed/physrevb.65.224509\n",
      "15000 characters = 3999 tokens\n"
     ]
    },
    {
     "name": "stderr",
     "output_type": "stream",
     "text": [
      "The attention mask and the pad token id were not set. As a consequence, you may observe unexpected behavior. Please pass your input's `attention_mask` to obtain reliable results.\n",
      "Setting `pad_token_id` to `eos_token_id`:128001 for open-end generation.\n"
     ]
    },
    {
     "name": "stdout",
     "output_type": "stream",
     "text": [
      "['CRITICAL TEMPERATURE: 2 K']\n",
      "['Ce1Rh1In5', ' 2 K']\n",
      "157 /home/louis/research/pdf_processor/processed_data/superconductivity_processed/physrevb.52.r3844\n",
      "11278 characters = 3233 tokens\n"
     ]
    },
    {
     "name": "stderr",
     "output_type": "stream",
     "text": [
      "The attention mask and the pad token id were not set. As a consequence, you may observe unexpected behavior. Please pass your input's `attention_mask` to obtain reliable results.\n",
      "Setting `pad_token_id` to `eos_token_id`:128001 for open-end generation.\n"
     ]
    },
    {
     "name": "stdout",
     "output_type": "stream",
     "text": [
      "['CRITICAL TEMPERATURE: 6.2 K']\n",
      "['Dy1Ni2B2C1', ' 6.2 K']\n",
      "158 /home/louis/research/pdf_processor/processed_data/superconductivity_processed/physrevb.94.104507\n",
      "15000 characters = 3512 tokens\n"
     ]
    },
    {
     "name": "stderr",
     "output_type": "stream",
     "text": [
      "The attention mask and the pad token id were not set. As a consequence, you may observe unexpected behavior. Please pass your input's `attention_mask` to obtain reliable results.\n",
      "Setting `pad_token_id` to `eos_token_id`:128001 for open-end generation.\n"
     ]
    },
    {
     "name": "stdout",
     "output_type": "stream",
     "text": [
      "['CRITICAL TEMPERATURE: 8.5-9 K']\n",
      "['Ba8Si46', ' 8.5-9 K']\n",
      "162 /home/louis/research/pdf_processor/processed_data/superconductivity_processed/physrevb.80.064504\n",
      "15000 characters = 3739 tokens\n"
     ]
    },
    {
     "name": "stderr",
     "output_type": "stream",
     "text": [
      "The attention mask and the pad token id were not set. As a consequence, you may observe unexpected behavior. Please pass your input's `attention_mask` to obtain reliable results.\n",
      "Setting `pad_token_id` to `eos_token_id`:128001 for open-end generation.\n"
     ]
    },
    {
     "name": "stdout",
     "output_type": "stream",
     "text": [
      "['CRITICAL TEMPERATURE: 2.25 K']\n",
      "['Ba1Pt1Si3', ' 2.25 K']\n",
      "164 /home/louis/research/pdf_processor/processed_data/superconductivity_processed/physrevb.72.064520\n",
      "15000 characters = 3861 tokens\n"
     ]
    },
    {
     "name": "stderr",
     "output_type": "stream",
     "text": [
      "The attention mask and the pad token id were not set. As a consequence, you may observe unexpected behavior. Please pass your input's `attention_mask` to obtain reliable results.\n",
      "Setting `pad_token_id` to `eos_token_id`:128001 for open-end generation.\n"
     ]
    },
    {
     "name": "stdout",
     "output_type": "stream",
     "text": [
      "['CRITICAL TEMPERATURE: 13 K']\n",
      "['C3La2', ' 13 K']\n",
      "176 /home/louis/research/pdf_processor/processed_data/superconductivity_processed/physrevb.70.052511\n",
      "9258 characters = 2345 tokens\n"
     ]
    },
    {
     "name": "stderr",
     "output_type": "stream",
     "text": [
      "The attention mask and the pad token id were not set. As a consequence, you may observe unexpected behavior. Please pass your input's `attention_mask` to obtain reliable results.\n",
      "Setting `pad_token_id` to `eos_token_id`:128001 for open-end generation.\n"
     ]
    },
    {
     "name": "stdout",
     "output_type": "stream",
     "text": [
      "['CRITICAL TEMPERATURE: 2.6 K']\n",
      "['Ge2Lu1', ' 2.6 K']\n",
      "179 /home/louis/research/pdf_processor/processed_data/superconductivity_processed/physrevb.49.15959\n",
      "15000 characters = 3753 tokens\n"
     ]
    },
    {
     "name": "stderr",
     "output_type": "stream",
     "text": [
      "The attention mask and the pad token id were not set. As a consequence, you may observe unexpected behavior. Please pass your input's `attention_mask` to obtain reliable results.\n",
      "Setting `pad_token_id` to `eos_token_id`:128001 for open-end generation.\n"
     ]
    },
    {
     "name": "stdout",
     "output_type": "stream",
     "text": [
      "['CRITICAL TEMPERATURE: 3 K']\n",
      "['Bi2Sr2Ca1Cu2O8', ' 3 K']\n",
      "180 /home/louis/research/pdf_processor/processed_data/superconductivity_processed/physrevb.91.104506\n",
      "15000 characters = 3877 tokens\n"
     ]
    },
    {
     "name": "stderr",
     "output_type": "stream",
     "text": [
      "The attention mask and the pad token id were not set. As a consequence, you may observe unexpected behavior. Please pass your input's `attention_mask` to obtain reliable results.\n",
      "Setting `pad_token_id` to `eos_token_id`:128001 for open-end generation.\n"
     ]
    },
    {
     "name": "stdout",
     "output_type": "stream",
     "text": [
      "['CRITICAL TEMPERATURE: 4.3 K']\n",
      "['Ta4Pd3Te16', ' 4.3 K']\n",
      "183 /home/louis/research/pdf_processor/processed_data/superconductivity_processed/physrevb.85.054517\n",
      "15000 characters = 3764 tokens\n"
     ]
    },
    {
     "name": "stderr",
     "output_type": "stream",
     "text": [
      "The attention mask and the pad token id were not set. As a consequence, you may observe unexpected behavior. Please pass your input's `attention_mask` to obtain reliable results.\n",
      "Setting `pad_token_id` to `eos_token_id`:128001 for open-end generation.\n"
     ]
    },
    {
     "name": "stdout",
     "output_type": "stream",
     "text": [
      "['CRITICAL TEMPERATURE: 0.70 K']\n",
      "['La1Ni2P2', ' 0.70 K']\n",
      "184 /home/louis/research/pdf_processor/processed_data/superconductivity_processed/physrevb.49.3683\n",
      "12217 characters = 3116 tokens\n"
     ]
    },
    {
     "name": "stderr",
     "output_type": "stream",
     "text": [
      "The attention mask and the pad token id were not set. As a consequence, you may observe unexpected behavior. Please pass your input's `attention_mask` to obtain reliable results.\n",
      "Setting `pad_token_id` to `eos_token_id`:128001 for open-end generation.\n"
     ]
    },
    {
     "name": "stdout",
     "output_type": "stream",
     "text": [
      "['CRITICAL TEMPERATURE: 97 K']\n",
      "['Hg1Ba2Cu1O4+d', ' 97 K']\n",
      "187 /home/louis/research/pdf_processor/processed_data/superconductivity_processed/physrevb.73.094510\n",
      "15000 characters = 3853 tokens\n"
     ]
    },
    {
     "name": "stderr",
     "output_type": "stream",
     "text": [
      "The attention mask and the pad token id were not set. As a consequence, you may observe unexpected behavior. Please pass your input's `attention_mask` to obtain reliable results.\n",
      "Setting `pad_token_id` to `eos_token_id`:128001 for open-end generation.\n"
     ]
    },
    {
     "name": "stdout",
     "output_type": "stream",
     "text": [
      "['CRITICAL TEMPERATURE: 6.0 K']\n",
      "['B12Zr1', ' 6.0 K']\n",
      "189 /home/louis/research/pdf_processor/processed_data/superconductivity_processed/physrevb.64.060506\n",
      "9001 characters = 2380 tokens\n"
     ]
    },
    {
     "name": "stderr",
     "output_type": "stream",
     "text": [
      "The attention mask and the pad token id were not set. As a consequence, you may observe unexpected behavior. Please pass your input's `attention_mask` to obtain reliable results.\n",
      "Setting `pad_token_id` to `eos_token_id`:128001 for open-end generation.\n"
     ]
    },
    {
     "name": "stdout",
     "output_type": "stream",
     "text": [
      "['CRITICAL TEMPERATURE: 39 K']\n",
      "['B2Mg1', ' 39 K']\n",
      "192 /home/louis/research/pdf_processor/processed_data/superconductivity_processed/physrevb.90.064518\n",
      "15000 characters = 3753 tokens\n"
     ]
    },
    {
     "name": "stderr",
     "output_type": "stream",
     "text": [
      "The attention mask and the pad token id were not set. As a consequence, you may observe unexpected behavior. Please pass your input's `attention_mask` to obtain reliable results.\n",
      "Setting `pad_token_id` to `eos_token_id`:128001 for open-end generation.\n"
     ]
    },
    {
     "name": "stdout",
     "output_type": "stream",
     "text": [
      "['CRITICAL TEMPERATURE: 0.3 K']\n",
      "['Eu1Bi1S2F1', ' 0.3 K']\n",
      "193 /home/louis/research/pdf_processor/processed_data/superconductivity_processed/physrevb.96.140501\n",
      "15000 characters = 3682 tokens\n"
     ]
    },
    {
     "name": "stderr",
     "output_type": "stream",
     "text": [
      "The attention mask and the pad token id were not set. As a consequence, you may observe unexpected behavior. Please pass your input's `attention_mask` to obtain reliable results.\n",
      "Setting `pad_token_id` to `eos_token_id`:128001 for open-end generation.\n"
     ]
    },
    {
     "name": "stdout",
     "output_type": "stream",
     "text": [
      "['CRITICAL TEMPERATURE: 35 K']\n",
      "['Ca1K1Fe4As4', ' 35 K']\n",
      "194 /home/louis/research/pdf_processor/processed_data/superconductivity_processed/physrevb.49.9924\n",
      "15000 characters = 3619 tokens\n"
     ]
    },
    {
     "name": "stderr",
     "output_type": "stream",
     "text": [
      "The attention mask and the pad token id were not set. As a consequence, you may observe unexpected behavior. Please pass your input's `attention_mask` to obtain reliable results.\n",
      "Setting `pad_token_id` to `eos_token_id`:128001 for open-end generation.\n"
     ]
    },
    {
     "name": "stdout",
     "output_type": "stream",
     "text": [
      "['CRITICAL TEMPERATURE: 90 K']\n",
      "['Y1Ba2Cu3O7-d', ' 90 K']\n",
      "196 /home/louis/research/pdf_processor/processed_data/superconductivity_processed/physrevb.93.220504\n",
      "13439 characters = 3355 tokens\n"
     ]
    },
    {
     "name": "stderr",
     "output_type": "stream",
     "text": [
      "The attention mask and the pad token id were not set. As a consequence, you may observe unexpected behavior. Please pass your input's `attention_mask` to obtain reliable results.\n",
      "Setting `pad_token_id` to `eos_token_id`:128001 for open-end generation.\n"
     ]
    },
    {
     "name": "stdout",
     "output_type": "stream",
     "text": [
      "['CRITICAL TEMPERATURE: 4.84 K']\n",
      "['Bi2Pd1', ' 4.84 K']\n",
      "197 /home/louis/research/pdf_processor/processed_data/superconductivity_processed/physrevb.87.024508\n",
      "15000 characters = 3820 tokens\n"
     ]
    },
    {
     "name": "stderr",
     "output_type": "stream",
     "text": [
      "The attention mask and the pad token id were not set. As a consequence, you may observe unexpected behavior. Please pass your input's `attention_mask` to obtain reliable results.\n",
      "Setting `pad_token_id` to `eos_token_id`:128001 for open-end generation.\n"
     ]
    },
    {
     "name": "stdout",
     "output_type": "stream",
     "text": [
      "['CRITICAL TEMPERATURE: 4 K']\n",
      "['Te3Zr1', ' 4 K']\n",
      "201 /home/louis/research/pdf_processor/processed_data/superconductivity_processed/physrevb.52.4432\n",
      "15000 characters = 3528 tokens\n"
     ]
    },
    {
     "name": "stderr",
     "output_type": "stream",
     "text": [
      "The attention mask and the pad token id were not set. As a consequence, you may observe unexpected behavior. Please pass your input's `attention_mask` to obtain reliable results.\n",
      "Setting `pad_token_id` to `eos_token_id`:128001 for open-end generation.\n"
     ]
    },
    {
     "name": "stdout",
     "output_type": "stream",
     "text": [
      "['CRITICAL TEMPERATURE: 33 K']\n",
      "['Rb1Cs2C60', ' 33 K']\n",
      "209 /home/louis/research/pdf_processor/processed_data/superconductivity_processed/physrevb.81.092507\n",
      "14948 characters = 3636 tokens\n"
     ]
    },
    {
     "name": "stderr",
     "output_type": "stream",
     "text": [
      "The attention mask and the pad token id were not set. As a consequence, you may observe unexpected behavior. Please pass your input's `attention_mask` to obtain reliable results.\n",
      "Setting `pad_token_id` to `eos_token_id`:128001 for open-end generation.\n"
     ]
    },
    {
     "name": "stdout",
     "output_type": "stream",
     "text": [
      "['CRITICAL TEMPERATURE: 2.5 K']\n",
      "['Cu0.06Ti1Se2', ' 2.5 K']\n",
      "214 /home/louis/research/pdf_processor/processed_data/superconductivity_processed/physrevb.98.094504\n",
      "15000 characters = 3538 tokens\n"
     ]
    },
    {
     "name": "stderr",
     "output_type": "stream",
     "text": [
      "The attention mask and the pad token id were not set. As a consequence, you may observe unexpected behavior. Please pass your input's `attention_mask` to obtain reliable results.\n",
      "Setting `pad_token_id` to `eos_token_id`:128001 for open-end generation.\n"
     ]
    },
    {
     "name": "stdout",
     "output_type": "stream",
     "text": [
      "['CRITICAL TEMPERATURE: 45.4 K']\n",
      "['Nd1Fe1As1F0.1O0.9', ' 45.4 K']\n",
      "215 /home/louis/research/pdf_processor/processed_data/superconductivity_processed/physrevb.86.020501\n",
      "15000 characters = 3828 tokens\n"
     ]
    },
    {
     "name": "stderr",
     "output_type": "stream",
     "text": [
      "The attention mask and the pad token id were not set. As a consequence, you may observe unexpected behavior. Please pass your input's `attention_mask` to obtain reliable results.\n",
      "Setting `pad_token_id` to `eos_token_id`:128001 for open-end generation.\n"
     ]
    },
    {
     "name": "stdout",
     "output_type": "stream",
     "text": [
      "['CRITICAL TEMPERATURE: 4 K']\n",
      "['Ce1Fe1As0.7P0.3O1', ' 4 K']\n",
      "216 /home/louis/research/pdf_processor/processed_data/superconductivity_processed/physrevb.81.104522\n",
      "15000 characters = 3762 tokens\n"
     ]
    },
    {
     "name": "stderr",
     "output_type": "stream",
     "text": [
      "The attention mask and the pad token id were not set. As a consequence, you may observe unexpected behavior. Please pass your input's `attention_mask` to obtain reliable results.\n",
      "Setting `pad_token_id` to `eos_token_id`:128001 for open-end generation.\n"
     ]
    },
    {
     "name": "stdout",
     "output_type": "stream",
     "text": [
      "['CRITICAL TEMPERATURE: 2.3 K']\n",
      "['Ba8Si46', ' 2.3 K']\n",
      "218 /home/louis/research/pdf_processor/processed_data/superconductivity_processed/physrevb.53.12389\n",
      "15000 characters = 3633 tokens\n"
     ]
    },
    {
     "name": "stderr",
     "output_type": "stream",
     "text": [
      "The attention mask and the pad token id were not set. As a consequence, you may observe unexpected behavior. Please pass your input's `attention_mask` to obtain reliable results.\n",
      "Setting `pad_token_id` to `eos_token_id`:128001 for open-end generation.\n"
     ]
    },
    {
     "name": "stdout",
     "output_type": "stream",
     "text": [
      "['CRITICAL TEMPERATURE: 1.15 K']\n",
      "['Tm2Fe3Si5', ' 1.15 K']\n",
      "225 /home/louis/research/pdf_processor/processed_data/superconductivity_processed/physrevb.34.4590\n",
      "15000 characters = 3651 tokens\n"
     ]
    },
    {
     "name": "stderr",
     "output_type": "stream",
     "text": [
      "The attention mask and the pad token id were not set. As a consequence, you may observe unexpected behavior. Please pass your input's `attention_mask` to obtain reliable results.\n",
      "Setting `pad_token_id` to `eos_token_id`:128001 for open-end generation.\n"
     ]
    },
    {
     "name": "stdout",
     "output_type": "stream",
     "text": [
      "['CRITICAL TEMPERATURE: 79 K']\n",
      "['Lu5Ir4Si10', ' 79 K']\n",
      "226 /home/louis/research/pdf_processor/processed_data/superconductivity_processed/physrevb.69.100506\n",
      "15000 characters = 3847 tokens\n"
     ]
    },
    {
     "name": "stderr",
     "output_type": "stream",
     "text": [
      "The attention mask and the pad token id were not set. As a consequence, you may observe unexpected behavior. Please pass your input's `attention_mask` to obtain reliable results.\n",
      "Setting `pad_token_id` to `eos_token_id`:128001 for open-end generation.\n"
     ]
    },
    {
     "name": "stdout",
     "output_type": "stream",
     "text": [
      "['CRITICAL TEMPERATURE: 7.7 K']\n",
      "['Ca1Al1Si1', ' 7.7 K']\n",
      "227 /home/louis/research/pdf_processor/processed_data/superconductivity_processed/physrevb.91.100504\n",
      "14032 characters = 3549 tokens\n"
     ]
    },
    {
     "name": "stderr",
     "output_type": "stream",
     "text": [
      "The attention mask and the pad token id were not set. As a consequence, you may observe unexpected behavior. Please pass your input's `attention_mask` to obtain reliable results.\n",
      "Setting `pad_token_id` to `eos_token_id`:128001 for open-end generation.\n"
     ]
    },
    {
     "name": "stdout",
     "output_type": "stream",
     "text": [
      "['CRITICAL TEMPERATURE: 6.6 K']\n",
      "['Nb2Pd1S5', ' 6.6 K']\n",
      "228 /home/louis/research/pdf_processor/processed_data/superconductivity_processed/physrevb.95.024510\n",
      "15000 characters = 3666 tokens\n"
     ]
    },
    {
     "name": "stderr",
     "output_type": "stream",
     "text": [
      "The attention mask and the pad token id were not set. As a consequence, you may observe unexpected behavior. Please pass your input's `attention_mask` to obtain reliable results.\n",
      "Setting `pad_token_id` to `eos_token_id`:128001 for open-end generation.\n"
     ]
    },
    {
     "name": "stdout",
     "output_type": "stream",
     "text": [
      "['CRITICAL TEMPERATURE: 3.92 K']\n",
      "['Bi1', ' 3.92 K']\n",
      "231 /home/louis/research/pdf_processor/processed_data/superconductivity_processed/physrevb.51.1393\n",
      "14397 characters = 3889 tokens\n"
     ]
    },
    {
     "name": "stderr",
     "output_type": "stream",
     "text": [
      "The attention mask and the pad token id were not set. As a consequence, you may observe unexpected behavior. Please pass your input's `attention_mask` to obtain reliable results.\n",
      "Setting `pad_token_id` to `eos_token_id`:128001 for open-end generation.\n"
     ]
    },
    {
     "name": "stdout",
     "output_type": "stream",
     "text": [
      "['CRITICAL TEMPERATURE: 133.6 K']\n",
      "['Pb0.17Hg1.22Ba2Ca1.44Cu2.79Ox', ' 133.6 K']\n",
      "233 /home/louis/research/pdf_processor/processed_data/superconductivity_processed/physrevb.83.054509\n",
      "15000 characters = 3865 tokens\n"
     ]
    },
    {
     "name": "stderr",
     "output_type": "stream",
     "text": [
      "The attention mask and the pad token id were not set. As a consequence, you may observe unexpected behavior. Please pass your input's `attention_mask` to obtain reliable results.\n",
      "Setting `pad_token_id` to `eos_token_id`:128001 for open-end generation.\n"
     ]
    },
    {
     "name": "stdout",
     "output_type": "stream",
     "text": [
      "['CRITICAL TEMPERATURE: 28 K']\n",
      "['Bi2Sr1.6La0.4Cu1O6+z', ' 28 K']\n",
      "234 /home/louis/research/pdf_processor/processed_data/superconductivity_processed/physrevb.91.060508\n",
      "15000 characters = 3747 tokens\n"
     ]
    },
    {
     "name": "stderr",
     "output_type": "stream",
     "text": [
      "The attention mask and the pad token id were not set. As a consequence, you may observe unexpected behavior. Please pass your input's `attention_mask` to obtain reliable results.\n",
      "Setting `pad_token_id` to `eos_token_id`:128001 for open-end generation.\n"
     ]
    },
    {
     "name": "stdout",
     "output_type": "stream",
     "text": [
      "['CRITICAL TEMPERATURE: 3 K']\n",
      "['K1Fe2As2', ' 3 K']\n",
      "236 /home/louis/research/pdf_processor/processed_data/superconductivity_processed/physrevb.49.12322\n",
      "14112 characters = 3812 tokens\n"
     ]
    },
    {
     "name": "stderr",
     "output_type": "stream",
     "text": [
      "The attention mask and the pad token id were not set. As a consequence, you may observe unexpected behavior. Please pass your input's `attention_mask` to obtain reliable results.\n",
      "Setting `pad_token_id` to `eos_token_id`:128001 for open-end generation.\n"
     ]
    },
    {
     "name": "stdout",
     "output_type": "stream",
     "text": [
      "['CRITICAL TEMPERATURE: 133 K']\n",
      "['Hg0.66Pb0.33Ba2Ca2Cu3Oy', ' 133 K']\n",
      "241 /home/louis/research/pdf_processor/processed_data/superconductivity_processed/physrevb.83.220512\n",
      "12537 characters = 3131 tokens\n"
     ]
    },
    {
     "name": "stderr",
     "output_type": "stream",
     "text": [
      "The attention mask and the pad token id were not set. As a consequence, you may observe unexpected behavior. Please pass your input's `attention_mask` to obtain reliable results.\n",
      "Setting `pad_token_id` to `eos_token_id`:128001 for open-end generation.\n"
     ]
    },
    {
     "name": "stdout",
     "output_type": "stream",
     "text": [
      "['CRITICAL TEMPERATURE: 3 K']\n",
      "['Ca1', ' 3 K']\n",
      "242 /home/louis/research/pdf_processor/processed_data/superconductivity_processed/physrevb.30.5135\n",
      "15000 characters = 3287 tokens\n"
     ]
    },
    {
     "name": "stderr",
     "output_type": "stream",
     "text": [
      "The attention mask and the pad token id were not set. As a consequence, you may observe unexpected behavior. Please pass your input's `attention_mask` to obtain reliable results.\n",
      "Setting `pad_token_id` to `eos_token_id`:128001 for open-end generation.\n"
     ]
    },
    {
     "name": "stdout",
     "output_type": "stream",
     "text": [
      "['CRITICAL TEMPERATURE: 2.67 K']\n",
      "['Co35.38Zr64.62', ' 2.67 K']\n",
      "247 /home/louis/research/pdf_processor/processed_data/superconductivity_processed/physrevb.90.035115\n",
      "15000 characters = 3347 tokens\n"
     ]
    },
    {
     "name": "stderr",
     "output_type": "stream",
     "text": [
      "The attention mask and the pad token id were not set. As a consequence, you may observe unexpected behavior. Please pass your input's `attention_mask` to obtain reliable results.\n",
      "Setting `pad_token_id` to `eos_token_id`:128001 for open-end generation.\n"
     ]
    },
    {
     "name": "stdout",
     "output_type": "stream",
     "text": [
      "['CRITICAL TEMPERATURE: 5 K']\n",
      "['Sr3Ir4Sn13', ' 5 K']\n",
      "248 /home/louis/research/pdf_processor/processed_data/superconductivity_processed/physrevb.94.054514\n",
      "15000 characters = 3819 tokens\n"
     ]
    },
    {
     "name": "stderr",
     "output_type": "stream",
     "text": [
      "The attention mask and the pad token id were not set. As a consequence, you may observe unexpected behavior. Please pass your input's `attention_mask` to obtain reliable results.\n",
      "Setting `pad_token_id` to `eos_token_id`:128001 for open-end generation.\n"
     ]
    },
    {
     "name": "stdout",
     "output_type": "stream",
     "text": [
      "['CRITICAL TEMPERATURE: 0.6 K']\n",
      "['Ce1Cu2Si2', ' 0.6 K']\n",
      "250 /home/louis/research/pdf_processor/processed_data/superconductivity_processed/physrevb.88.224515\n",
      "15000 characters = 3871 tokens\n"
     ]
    },
    {
     "name": "stderr",
     "output_type": "stream",
     "text": [
      "The attention mask and the pad token id were not set. As a consequence, you may observe unexpected behavior. Please pass your input's `attention_mask` to obtain reliable results.\n",
      "Setting `pad_token_id` to `eos_token_id`:128001 for open-end generation.\n"
     ]
    },
    {
     "name": "stdout",
     "output_type": "stream",
     "text": [
      "['CRITICAL TEMPERATURE: 4.5 K']\n",
      "['Bi4S3O4', ' 4.5 K']\n",
      "256 /home/louis/research/pdf_processor/processed_data/superconductivity_processed/physrevb.51.12747\n",
      "15000 characters = 3954 tokens\n"
     ]
    },
    {
     "name": "stderr",
     "output_type": "stream",
     "text": [
      "The attention mask and the pad token id were not set. As a consequence, you may observe unexpected behavior. Please pass your input's `attention_mask` to obtain reliable results.\n",
      "Setting `pad_token_id` to `eos_token_id`:128001 for open-end generation.\n"
     ]
    },
    {
     "name": "stdout",
     "output_type": "stream",
     "text": [
      "['CRITICAL TEMPERATURE: 49 K']\n",
      "['Tl1.89Ba2Cu1.11O6.18', ' 49 K']\n",
      "262 /home/louis/research/pdf_processor/processed_data/superconductivity_processed/physrevb.98.104506\n",
      "15000 characters = 3606 tokens\n"
     ]
    },
    {
     "name": "stderr",
     "output_type": "stream",
     "text": [
      "The attention mask and the pad token id were not set. As a consequence, you may observe unexpected behavior. Please pass your input's `attention_mask` to obtain reliable results.\n",
      "Setting `pad_token_id` to `eos_token_id`:128001 for open-end generation.\n"
     ]
    },
    {
     "name": "stdout",
     "output_type": "stream",
     "text": [
      "['CRITICAL TEMPERATURE: 4.68 K']\n",
      "['Re3Ta1', ' 4.68 K']\n",
      "263 /home/louis/research/pdf_processor/processed_data/superconductivity_processed/physrevb.67.172502\n",
      "15000 characters = 3846 tokens\n"
     ]
    },
    {
     "name": "stderr",
     "output_type": "stream",
     "text": [
      "The attention mask and the pad token id were not set. As a consequence, you may observe unexpected behavior. Please pass your input's `attention_mask` to obtain reliable results.\n",
      "Setting `pad_token_id` to `eos_token_id`:128001 for open-end generation.\n"
     ]
    },
    {
     "name": "stdout",
     "output_type": "stream",
     "text": [
      "['CRITICAL TEMPERATURE: 30 K']\n",
      "['Ru0.9Sr2Y1Cu2.1O7.9', ' 30 K']\n",
      "265 /home/louis/research/pdf_processor/processed_data/superconductivity_processed/physrevb.57.613\n",
      "15000 characters = 3907 tokens\n"
     ]
    },
    {
     "name": "stderr",
     "output_type": "stream",
     "text": [
      "The attention mask and the pad token id were not set. As a consequence, you may observe unexpected behavior. Please pass your input's `attention_mask` to obtain reliable results.\n",
      "Setting `pad_token_id` to `eos_token_id`:128001 for open-end generation.\n"
     ]
    },
    {
     "name": "stdout",
     "output_type": "stream",
     "text": [
      "['CRITICAL TEMPERATURE: 13 K']\n",
      "['Sr0.4Ca13.6Cu24O41+z', ' 13 K']\n",
      "266 /home/louis/research/pdf_processor/processed_data/superconductivity_processed/physrevb.75.064517\n",
      "15000 characters = 3687 tokens\n"
     ]
    },
    {
     "name": "stderr",
     "output_type": "stream",
     "text": [
      "The attention mask and the pad token id were not set. As a consequence, you may observe unexpected behavior. Please pass your input's `attention_mask` to obtain reliable results.\n",
      "Setting `pad_token_id` to `eos_token_id`:128001 for open-end generation.\n"
     ]
    },
    {
     "name": "stdout",
     "output_type": "stream",
     "text": [
      "['CRITICAL TEMPERATURE: 2.0 K']\n",
      "['Nb2Se3', ' 2.0 K']\n",
      "267 /home/louis/research/pdf_processor/processed_data/superconductivity_processed/physrevb.83.140504\n",
      "14587 characters = 3324 tokens\n"
     ]
    },
    {
     "name": "stderr",
     "output_type": "stream",
     "text": [
      "The attention mask and the pad token id were not set. As a consequence, you may observe unexpected behavior. Please pass your input's `attention_mask` to obtain reliable results.\n",
      "Setting `pad_token_id` to `eos_token_id`:128001 for open-end generation.\n"
     ]
    },
    {
     "name": "stdout",
     "output_type": "stream",
     "text": [
      "['CRITICAL TEMPERATURE: 3 K']\n",
      "['Bi2Te3', ' 3 K']\n",
      "272 /home/louis/research/pdf_processor/processed_data/superconductivity_processed/physrevb.84.024502\n",
      "15000 characters = 3566 tokens\n"
     ]
    },
    {
     "name": "stderr",
     "output_type": "stream",
     "text": [
      "The attention mask and the pad token id were not set. As a consequence, you may observe unexpected behavior. Please pass your input's `attention_mask` to obtain reliable results.\n",
      "Setting `pad_token_id` to `eos_token_id`:128001 for open-end generation.\n"
     ]
    },
    {
     "name": "stdout",
     "output_type": "stream",
     "text": [
      "['CRITICAL TEMPERATURE: 20 K']\n",
      "['Eu1Fe2As2', ' 20 K']\n",
      "273 /home/louis/research/pdf_processor/processed_data/superconductivity_processed/physrevb.89.140504\n",
      "10715 characters = 2760 tokens\n"
     ]
    },
    {
     "name": "stderr",
     "output_type": "stream",
     "text": [
      "The attention mask and the pad token id were not set. As a consequence, you may observe unexpected behavior. Please pass your input's `attention_mask` to obtain reliable results.\n",
      "Setting `pad_token_id` to `eos_token_id`:128001 for open-end generation.\n"
     ]
    },
    {
     "name": "stdout",
     "output_type": "stream",
     "text": [
      "['CRITICAL TEMPERATURE: 2.40 K']\n",
      "['Sr1Pt1As1', ' 2.40 K']\n",
      "278 /home/louis/research/pdf_processor/processed_data/superconductivity_processed/physrevb.91.020507\n",
      "15000 characters = 3907 tokens\n"
     ]
    },
    {
     "name": "stderr",
     "output_type": "stream",
     "text": [
      "The attention mask and the pad token id were not set. As a consequence, you may observe unexpected behavior. Please pass your input's `attention_mask` to obtain reliable results.\n",
      "Setting `pad_token_id` to `eos_token_id`:128001 for open-end generation.\n"
     ]
    },
    {
     "name": "stdout",
     "output_type": "stream",
     "text": [
      "['CRITICAL TEMPERATURE: 6.1 K']\n",
      "['K2Cr3As3', ' 6.1 K']\n",
      "283 /home/louis/research/pdf_processor/processed_data/superconductivity_processed/physrevb.83.064522\n",
      "15000 characters = 3611 tokens\n"
     ]
    },
    {
     "name": "stderr",
     "output_type": "stream",
     "text": [
      "The attention mask and the pad token id were not set. As a consequence, you may observe unexpected behavior. Please pass your input's `attention_mask` to obtain reliable results.\n",
      "Setting `pad_token_id` to `eos_token_id`:128001 for open-end generation.\n"
     ]
    },
    {
     "name": "stdout",
     "output_type": "stream",
     "text": [
      "['CRITICAL TEMPERATURE: 2.16 K']\n",
      "['La1Rh1Si3', ' 2.16 K']\n",
      "284 /home/louis/research/pdf_processor/processed_data/superconductivity_processed/physrevb.60.3064\n",
      "12600 characters = 3005 tokens\n"
     ]
    },
    {
     "name": "stderr",
     "output_type": "stream",
     "text": [
      "The attention mask and the pad token id were not set. As a consequence, you may observe unexpected behavior. Please pass your input's `attention_mask` to obtain reliable results.\n",
      "Setting `pad_token_id` to `eos_token_id`:128001 for open-end generation.\n"
     ]
    },
    {
     "name": "stdout",
     "output_type": "stream",
     "text": [
      "['CRITICAL TEMPERATURE: 7.5 K']\n",
      "['Ba8Ga16Ge30', ' 7.5 K']\n",
      "286 /home/louis/research/pdf_processor/processed_data/superconductivity_processed/physrevb.80.180507\n",
      "13629 characters = 3446 tokens\n"
     ]
    },
    {
     "name": "stderr",
     "output_type": "stream",
     "text": [
      "The attention mask and the pad token id were not set. As a consequence, you may observe unexpected behavior. Please pass your input's `attention_mask` to obtain reliable results.\n",
      "Setting `pad_token_id` to `eos_token_id`:128001 for open-end generation.\n"
     ]
    },
    {
     "name": "stdout",
     "output_type": "stream",
     "text": [
      "['CRITICAL TEMPERATURE: 14 K']\n",
      "['Fe1Se0.25Te0.75', ' 14 K']\n",
      "290 /home/louis/research/pdf_processor/processed_data/superconductivity_processed/physrevb.100.060103\n",
      "15000 characters = 3756 tokens\n"
     ]
    },
    {
     "name": "stderr",
     "output_type": "stream",
     "text": [
      "The attention mask and the pad token id were not set. As a consequence, you may observe unexpected behavior. Please pass your input's `attention_mask` to obtain reliable results.\n",
      "Setting `pad_token_id` to `eos_token_id`:128001 for open-end generation.\n"
     ]
    },
    {
     "name": "stdout",
     "output_type": "stream",
     "text": [
      "['CRITICAL TEMPERATURE: 4 K']\n",
      "['Au2Pb1', ' 4 K']\n",
      "292 /home/louis/research/pdf_processor/processed_data/superconductivity_processed/physrevb.56.5631\n",
      "15000 characters = 3537 tokens\n"
     ]
    },
    {
     "name": "stderr",
     "output_type": "stream",
     "text": [
      "The attention mask and the pad token id were not set. As a consequence, you may observe unexpected behavior. Please pass your input's `attention_mask` to obtain reliable results.\n",
      "Setting `pad_token_id` to `eos_token_id`:128001 for open-end generation.\n"
     ]
    },
    {
     "name": "stdout",
     "output_type": "stream",
     "text": [
      "['CRITICAL TEMPERATURE: 32 K']\n",
      "['Tb1Sr2Cu2.69Mo0.31O7', ' 32 K']\n",
      "293 /home/louis/research/pdf_processor/processed_data/superconductivity_processed/physrevb.67.052501\n",
      "14027 characters = 3869 tokens\n"
     ]
    },
    {
     "name": "stderr",
     "output_type": "stream",
     "text": [
      "The attention mask and the pad token id were not set. As a consequence, you may observe unexpected behavior. Please pass your input's `attention_mask` to obtain reliable results.\n",
      "Setting `pad_token_id` to `eos_token_id`:128001 for open-end generation.\n"
     ]
    },
    {
     "name": "stdout",
     "output_type": "stream",
     "text": [
      "['CRITICAL TEMPERATURE: 7 K']\n",
      "['Mg1C1Ni3', ' 7 K']\n",
      "296 /home/louis/research/pdf_processor/processed_data/superconductivity_processed/physrevb.79.094508\n",
      "15000 characters = 3965 tokens\n"
     ]
    },
    {
     "name": "stderr",
     "output_type": "stream",
     "text": [
      "The attention mask and the pad token id were not set. As a consequence, you may observe unexpected behavior. Please pass your input's `attention_mask` to obtain reliable results.\n",
      "Setting `pad_token_id` to `eos_token_id`:128001 for open-end generation.\n"
     ]
    },
    {
     "name": "stdout",
     "output_type": "stream",
     "text": [
      "['CRITICAL TEMPERATURE: 0.69 K']\n",
      "['Ba1Ni2As2', ' 0.69 K']\n",
      "301 /home/louis/research/pdf_processor/processed_data/superconductivity_processed/physrevb.78.100503\n",
      "15000 characters = 3737 tokens\n"
     ]
    },
    {
     "name": "stderr",
     "output_type": "stream",
     "text": [
      "The attention mask and the pad token id were not set. As a consequence, you may observe unexpected behavior. Please pass your input's `attention_mask` to obtain reliable results.\n",
      "Setting `pad_token_id` to `eos_token_id`:128001 for open-end generation.\n"
     ]
    },
    {
     "name": "stdout",
     "output_type": "stream",
     "text": [
      "['CRITICAL TEMPERATURE: 108 K']\n",
      "['Y1Ba2Cu4O8', ' 108 K']\n",
      "303 /home/louis/research/pdf_processor/processed_data/superconductivity_processed/physrevb.94.064501\n",
      "15000 characters = 3887 tokens\n"
     ]
    },
    {
     "name": "stderr",
     "output_type": "stream",
     "text": [
      "The attention mask and the pad token id were not set. As a consequence, you may observe unexpected behavior. Please pass your input's `attention_mask` to obtain reliable results.\n",
      "Setting `pad_token_id` to `eos_token_id`:128001 for open-end generation.\n"
     ]
    },
    {
     "name": "stdout",
     "output_type": "stream",
     "text": [
      "['CRITICAL TEMPERATURE: 35.0 K']\n",
      "['Ca1K1Fe4As4', ' 35.0 K']\n",
      "304 /home/louis/research/pdf_processor/processed_data/superconductivity_processed/physrevb.99.100501\n",
      "15000 characters = 3801 tokens\n"
     ]
    },
    {
     "name": "stderr",
     "output_type": "stream",
     "text": [
      "The attention mask and the pad token id were not set. As a consequence, you may observe unexpected behavior. Please pass your input's `attention_mask` to obtain reliable results.\n",
      "Setting `pad_token_id` to `eos_token_id`:128001 for open-end generation.\n"
     ]
    },
    {
     "name": "stdout",
     "output_type": "stream",
     "text": [
      "['CRITICAL TEMPERATURE: 3.5 K']\n",
      "['Ce1Ni1C2', ' 3.5 K']\n",
      "306 /home/louis/research/pdf_processor/processed_data/superconductivity_processed/physrevb.87.214509\n",
      "15000 characters = 3993 tokens\n"
     ]
    },
    {
     "name": "stderr",
     "output_type": "stream",
     "text": [
      "The attention mask and the pad token id were not set. As a consequence, you may observe unexpected behavior. Please pass your input's `attention_mask` to obtain reliable results.\n",
      "Setting `pad_token_id` to `eos_token_id`:128001 for open-end generation.\n"
     ]
    },
    {
     "name": "stdout",
     "output_type": "stream",
     "text": [
      "['CRITICAL TEMPERATURE: 1.8 K']\n",
      "['Cs1Fe2As2', ' 1.8 K']\n",
      "307 /home/louis/research/pdf_processor/processed_data/superconductivity_processed/physrevb.86.064516\n",
      "15000 characters = 3935 tokens\n"
     ]
    },
    {
     "name": "stderr",
     "output_type": "stream",
     "text": [
      "The attention mask and the pad token id were not set. As a consequence, you may observe unexpected behavior. Please pass your input's `attention_mask` to obtain reliable results.\n",
      "Setting `pad_token_id` to `eos_token_id`:128001 for open-end generation.\n"
     ]
    },
    {
     "name": "stdout",
     "output_type": "stream",
     "text": [
      "['CRITICAL TEMPERATURE: 18 K']\n",
      "['Li1Fe1As1', ' 18 K']\n",
      "311 /home/louis/research/pdf_processor/processed_data/superconductivity_processed/physrevb.93.094511\n",
      "15000 characters = 3660 tokens\n"
     ]
    },
    {
     "name": "stderr",
     "output_type": "stream",
     "text": [
      "The attention mask and the pad token id were not set. As a consequence, you may observe unexpected behavior. Please pass your input's `attention_mask` to obtain reliable results.\n",
      "Setting `pad_token_id` to `eos_token_id`:128001 for open-end generation.\n"
     ]
    },
    {
     "name": "stdout",
     "output_type": "stream",
     "text": [
      "['CRITICAL TEMPERATURE: 8.6 K']\n",
      "['Bi2Te1', ' 8.6 K']\n",
      "314 /home/louis/research/pdf_processor/processed_data/superconductivity_processed/physrevb.83.214513\n",
      "15000 characters = 4010 tokens\n"
     ]
    },
    {
     "name": "stderr",
     "output_type": "stream",
     "text": [
      "The attention mask and the pad token id were not set. As a consequence, you may observe unexpected behavior. Please pass your input's `attention_mask` to obtain reliable results.\n",
      "Setting `pad_token_id` to `eos_token_id`:128001 for open-end generation.\n"
     ]
    },
    {
     "name": "stdout",
     "output_type": "stream",
     "text": [
      "['CRITICAL TEMPERATURE: 30 K']\n",
      "['Eu1Fe2As2', ' 30 K']\n",
      "315 /home/louis/research/pdf_processor/processed_data/superconductivity_processed/physrevb.76.012505\n",
      "15000 characters = 3640 tokens\n"
     ]
    },
    {
     "name": "stderr",
     "output_type": "stream",
     "text": [
      "The attention mask and the pad token id were not set. As a consequence, you may observe unexpected behavior. Please pass your input's `attention_mask` to obtain reliable results.\n",
      "Setting `pad_token_id` to `eos_token_id`:128001 for open-end generation.\n"
     ]
    },
    {
     "name": "stdout",
     "output_type": "stream",
     "text": [
      "['CRITICAL TEMPERATURE: 8.2 K']\n",
      "['Sc1', ' 8.2 K']\n",
      "322 /home/louis/research/pdf_processor/processed_data/superconductivity_processed/physrevb.61.1500\n",
      "15000 characters = 3687 tokens\n"
     ]
    },
    {
     "name": "stderr",
     "output_type": "stream",
     "text": [
      "The attention mask and the pad token id were not set. As a consequence, you may observe unexpected behavior. Please pass your input's `attention_mask` to obtain reliable results.\n",
      "Setting `pad_token_id` to `eos_token_id`:128001 for open-end generation.\n"
     ]
    },
    {
     "name": "stdout",
     "output_type": "stream",
     "text": [
      "['CRITICAL TEMPERATURE: 75 K']\n",
      "['Ca5.84Sr4.02Bi0.14Cu15.84O29', ' 75 K']\n",
      "325 /home/louis/research/pdf_processor/processed_data/superconductivity_processed/physrevb.87.214504\n",
      "15000 characters = 3456 tokens\n"
     ]
    },
    {
     "name": "stderr",
     "output_type": "stream",
     "text": [
      "The attention mask and the pad token id were not set. As a consequence, you may observe unexpected behavior. Please pass your input's `attention_mask` to obtain reliable results.\n",
      "Setting `pad_token_id` to `eos_token_id`:128001 for open-end generation.\n"
     ]
    },
    {
     "name": "stdout",
     "output_type": "stream",
     "text": [
      "['CRITICAL TEMPERATURE: 1.2 K']\n",
      "['La1Sb2', ' 1.2 K']\n",
      "327 /home/louis/research/pdf_processor/processed_data/superconductivity_processed/physrevb.84.064518\n",
      "15000 characters = 3760 tokens\n"
     ]
    },
    {
     "name": "stderr",
     "output_type": "stream",
     "text": [
      "The attention mask and the pad token id were not set. As a consequence, you may observe unexpected behavior. Please pass your input's `attention_mask` to obtain reliable results.\n",
      "Setting `pad_token_id` to `eos_token_id`:128001 for open-end generation.\n"
     ]
    },
    {
     "name": "stdout",
     "output_type": "stream",
     "text": [
      "['CRITICAL TEMPERATURE: 3.8 K']\n",
      "['Bi1Pd1', ' 3.8 K']\n",
      "329 /home/louis/research/pdf_processor/processed_data/superconductivity_processed/physrevb.83.174520\n",
      "15000 characters = 3669 tokens\n"
     ]
    },
    {
     "name": "stderr",
     "output_type": "stream",
     "text": [
      "The attention mask and the pad token id were not set. As a consequence, you may observe unexpected behavior. Please pass your input's `attention_mask` to obtain reliable results.\n",
      "Setting `pad_token_id` to `eos_token_id`:128001 for open-end generation.\n"
     ]
    },
    {
     "name": "stdout",
     "output_type": "stream",
     "text": [
      "['CRITICAL TEMPERATURE: 2.5 K']\n",
      "['La1Sb2', ' 2.5 K']\n",
      "330 /home/louis/research/pdf_processor/processed_data/superconductivity_processed/physrevb.98.014502\n",
      "15000 characters = 3988 tokens\n"
     ]
    },
    {
     "name": "stderr",
     "output_type": "stream",
     "text": [
      "The attention mask and the pad token id were not set. As a consequence, you may observe unexpected behavior. Please pass your input's `attention_mask` to obtain reliable results.\n",
      "Setting `pad_token_id` to `eos_token_id`:128001 for open-end generation.\n"
     ]
    },
    {
     "name": "stdout",
     "output_type": "stream",
     "text": [
      "['CRITICAL TEMPERATURE: 15.2 T']\n",
      "['Ta1Rh2B2', ' 15.2 T']\n",
      "335 /home/louis/research/pdf_processor/processed_data/superconductivity_processed/physrevb.78.064510\n",
      "15000 characters = 4192 tokens\n"
     ]
    },
    {
     "name": "stderr",
     "output_type": "stream",
     "text": [
      "The attention mask and the pad token id were not set. As a consequence, you may observe unexpected behavior. Please pass your input's `attention_mask` to obtain reliable results.\n",
      "Setting `pad_token_id` to `eos_token_id`:128001 for open-end generation.\n"
     ]
    },
    {
     "name": "stdout",
     "output_type": "stream",
     "text": [
      "['CRITICAL TEMPERATURE: 1.55 K']\n",
      "['Pr1Os4Sb12', ' 1.55 K']\n",
      "336 /home/louis/research/pdf_processor/processed_data/superconductivity_processed/physrevb.83.140501\n",
      "15000 characters = 3528 tokens\n"
     ]
    },
    {
     "name": "stderr",
     "output_type": "stream",
     "text": [
      "The attention mask and the pad token id were not set. As a consequence, you may observe unexpected behavior. Please pass your input's `attention_mask` to obtain reliable results.\n",
      "Setting `pad_token_id` to `eos_token_id`:128001 for open-end generation.\n"
     ]
    },
    {
     "name": "stdout",
     "output_type": "stream",
     "text": [
      "['CRITICAL TEMPERATURE: 4.06 K']\n",
      "['Bi3Ni1', ' 4.06 K']\n",
      "338 /home/louis/research/pdf_processor/processed_data/superconductivity_processed/physrevb.68.144510\n",
      "15000 characters = 3508 tokens\n"
     ]
    },
    {
     "name": "stderr",
     "output_type": "stream",
     "text": [
      "The attention mask and the pad token id were not set. As a consequence, you may observe unexpected behavior. Please pass your input's `attention_mask` to obtain reliable results.\n",
      "Setting `pad_token_id` to `eos_token_id`:128001 for open-end generation.\n"
     ]
    },
    {
     "name": "stdout",
     "output_type": "stream",
     "text": [
      "['CRITICAL TEMPERATURE: 7 K']\n",
      "['Mg1C1Ni3', ' 7 K']\n",
      "345 /home/louis/research/pdf_processor/processed_data/superconductivity_processed/physrevb.97.024501\n",
      "15000 characters = 3796 tokens\n"
     ]
    },
    {
     "name": "stderr",
     "output_type": "stream",
     "text": [
      "The attention mask and the pad token id were not set. As a consequence, you may observe unexpected behavior. Please pass your input's `attention_mask` to obtain reliable results.\n",
      "Setting `pad_token_id` to `eos_token_id`:128001 for open-end generation.\n"
     ]
    },
    {
     "name": "stdout",
     "output_type": "stream",
     "text": [
      "['CRITICAL TEMPERATURE: 1.54 K']\n",
      "['Sr1Au1Si3', ' 1.54 K']\n",
      "346 /home/louis/research/pdf_processor/processed_data/superconductivity_processed/physrevb.72.214523\n",
      "15000 characters = 3519 tokens\n"
     ]
    },
    {
     "name": "stderr",
     "output_type": "stream",
     "text": [
      "The attention mask and the pad token id were not set. As a consequence, you may observe unexpected behavior. Please pass your input's `attention_mask` to obtain reliable results.\n",
      "Setting `pad_token_id` to `eos_token_id`:128001 for open-end generation.\n"
     ]
    },
    {
     "name": "stdout",
     "output_type": "stream",
     "text": [
      "['CRITICAL TEMPERATURE: 0.6 K']\n",
      "['Zn2Zr1', ' 0.6 K']\n",
      "347 /home/louis/research/pdf_processor/processed_data/superconductivity_processed/physrevb.100.094522\n",
      "15000 characters = 3813 tokens\n"
     ]
    },
    {
     "name": "stderr",
     "output_type": "stream",
     "text": [
      "The attention mask and the pad token id were not set. As a consequence, you may observe unexpected behavior. Please pass your input's `attention_mask` to obtain reliable results.\n",
      "Setting `pad_token_id` to `eos_token_id`:128001 for open-end generation.\n"
     ]
    },
    {
     "name": "stdout",
     "output_type": "stream",
     "text": [
      "['CRITICAL TEMPERATURE: 7.6 K']\n",
      "['W3Al2C1', ' 7.6 K']\n",
      "348 /home/louis/research/pdf_processor/processed_data/superconductivity_processed/physrevb.64.094522\n",
      "15000 characters = 3715 tokens\n"
     ]
    },
    {
     "name": "stderr",
     "output_type": "stream",
     "text": [
      "The attention mask and the pad token id were not set. As a consequence, you may observe unexpected behavior. Please pass your input's `attention_mask` to obtain reliable results.\n",
      "Setting `pad_token_id` to `eos_token_id`:128001 for open-end generation.\n"
     ]
    },
    {
     "name": "stdout",
     "output_type": "stream",
     "text": [
      "['CRITICAL TEMPERATURE: 40 K']\n",
      "['B2Mg1', ' 40 K']\n",
      "350 /home/louis/research/pdf_processor/processed_data/superconductivity_processed/physrevb.98.224505\n",
      "15000 characters = 3593 tokens\n"
     ]
    },
    {
     "name": "stderr",
     "output_type": "stream",
     "text": [
      "The attention mask and the pad token id were not set. As a consequence, you may observe unexpected behavior. Please pass your input's `attention_mask` to obtain reliable results.\n",
      "Setting `pad_token_id` to `eos_token_id`:128001 for open-end generation.\n"
     ]
    },
    {
     "name": "stdout",
     "output_type": "stream",
     "text": [
      "['CRITICAL TEMPERATURE: 23 K']\n",
      "['Ba1Fe1.9Pt0.1As2', ' 23 K']\n",
      "351 /home/louis/research/pdf_processor/processed_data/superconductivity_processed/physrevb.67.100509\n",
      "14551 characters = 3918 tokens\n"
     ]
    },
    {
     "name": "stderr",
     "output_type": "stream",
     "text": [
      "The attention mask and the pad token id were not set. As a consequence, you may observe unexpected behavior. Please pass your input's `attention_mask` to obtain reliable results.\n",
      "Setting `pad_token_id` to `eos_token_id`:128001 for open-end generation.\n"
     ]
    },
    {
     "name": "stdout",
     "output_type": "stream",
     "text": [
      "['CRITICAL TEMPERATURE: 25.5 K']\n",
      "['Li0.48M0.3Hf1N1Cl1', ' 25.5 K']\n",
      "353 /home/louis/research/pdf_processor/processed_data/superconductivity_processed/physrevb.93.224516\n",
      "15000 characters = 3648 tokens\n"
     ]
    },
    {
     "name": "stderr",
     "output_type": "stream",
     "text": [
      "The attention mask and the pad token id were not set. As a consequence, you may observe unexpected behavior. Please pass your input's `attention_mask` to obtain reliable results.\n",
      "Setting `pad_token_id` to `eos_token_id`:128001 for open-end generation.\n"
     ]
    },
    {
     "name": "stdout",
     "output_type": "stream",
     "text": [
      "['CRITICAL TEMPERATURE: 13 K']\n",
      "['Cs1Fe2As2', ' 13 K']\n",
      "354 /home/louis/research/pdf_processor/processed_data/superconductivity_processed/physrevb.51.3316\n",
      "15000 characters = 4165 tokens\n"
     ]
    },
    {
     "name": "stderr",
     "output_type": "stream",
     "text": [
      "The attention mask and the pad token id were not set. As a consequence, you may observe unexpected behavior. Please pass your input's `attention_mask` to obtain reliable results.\n",
      "Setting `pad_token_id` to `eos_token_id`:128001 for open-end generation.\n"
     ]
    },
    {
     "name": "stdout",
     "output_type": "stream",
     "text": [
      "['CRITICAL TEMPERATURE: 92.5 K']\n",
      "['Y1Ba2Cu3O7-d', ' 92.5 K']\n",
      "360 /home/louis/research/pdf_processor/processed_data/superconductivity_processed/physrevb.30.1583\n",
      "10293 characters = 2700 tokens\n"
     ]
    },
    {
     "name": "stderr",
     "output_type": "stream",
     "text": [
      "The attention mask and the pad token id were not set. As a consequence, you may observe unexpected behavior. Please pass your input's `attention_mask` to obtain reliable results.\n",
      "Setting `pad_token_id` to `eos_token_id`:128001 for open-end generation.\n"
     ]
    },
    {
     "name": "stdout",
     "output_type": "stream",
     "text": [
      "['CRITICAL TEMPERATURE: 0.54 K']\n",
      "['Pt3U1', ' 0.54 K']\n",
      "371 /home/louis/research/pdf_processor/processed_data/superconductivity_processed/physrevb.68.024523\n",
      "15000 characters = 3865 tokens\n"
     ]
    },
    {
     "name": "stderr",
     "output_type": "stream",
     "text": [
      "The attention mask and the pad token id were not set. As a consequence, you may observe unexpected behavior. Please pass your input's `attention_mask` to obtain reliable results.\n",
      "Setting `pad_token_id` to `eos_token_id`:128001 for open-end generation.\n"
     ]
    },
    {
     "name": "stdout",
     "output_type": "stream",
     "text": [
      "['CRITICAL TEMPERATURE: 7 K']\n",
      "['Mg1C0.977Ni3', ' 7 K']\n",
      "372 /home/louis/research/pdf_processor/processed_data/superconductivity_processed/physrevb.99.144511\n",
      "15000 characters = 3709 tokens\n"
     ]
    },
    {
     "name": "stderr",
     "output_type": "stream",
     "text": [
      "The attention mask and the pad token id were not set. As a consequence, you may observe unexpected behavior. Please pass your input's `attention_mask` to obtain reliable results.\n",
      "Setting `pad_token_id` to `eos_token_id`:128001 for open-end generation.\n"
     ]
    },
    {
     "name": "stdout",
     "output_type": "stream",
     "text": [
      "['CRITICAL TEMPERATURE: 7 K']\n",
      "['H1Pt1', ' 7 K']\n",
      "375 /home/louis/research/pdf_processor/processed_data/superconductivity_processed/physrevb.50.15875\n",
      "15000 characters = 3702 tokens\n"
     ]
    },
    {
     "name": "stderr",
     "output_type": "stream",
     "text": [
      "The attention mask and the pad token id were not set. As a consequence, you may observe unexpected behavior. Please pass your input's `attention_mask` to obtain reliable results.\n",
      "Setting `pad_token_id` to `eos_token_id`:128001 for open-end generation.\n"
     ]
    },
    {
     "name": "stdout",
     "output_type": "stream",
     "text": [
      "['CRITICAL TEMPERATURE: 36 K']\n",
      "['La1.85Sr0.15Cu1O4', ' 36 K']\n",
      "381 /home/louis/research/pdf_processor/processed_data/superconductivity_processed/physrevb.85.205105\n",
      "15000 characters = 3686 tokens\n"
     ]
    },
    {
     "name": "stderr",
     "output_type": "stream",
     "text": [
      "The attention mask and the pad token id were not set. As a consequence, you may observe unexpected behavior. Please pass your input's `attention_mask` to obtain reliable results.\n",
      "Setting `pad_token_id` to `eos_token_id`:128001 for open-end generation.\n"
     ]
    },
    {
     "name": "stdout",
     "output_type": "stream",
     "text": [
      "['CRITICAL TEMPERATURE: 4.5 K']\n",
      "['Ce1Cu2Si2', ' 4.5 K']\n",
      "383 /home/louis/research/pdf_processor/processed_data/superconductivity_processed/physrevb.81.092506\n",
      "12827 characters = 3068 tokens\n"
     ]
    },
    {
     "name": "stderr",
     "output_type": "stream",
     "text": [
      "The attention mask and the pad token id were not set. As a consequence, you may observe unexpected behavior. Please pass your input's `attention_mask` to obtain reliable results.\n",
      "Setting `pad_token_id` to `eos_token_id`:128001 for open-end generation.\n"
     ]
    },
    {
     "name": "stdout",
     "output_type": "stream",
     "text": [
      "['CRITICAL TEMPERATURE: 8 K']\n",
      "['Fe1.08Te1Ox', ' 8 K']\n",
      "384 /home/louis/research/pdf_processor/processed_data/superconductivity_processed/physrevb.66.144503\n",
      "15000 characters = 3857 tokens\n"
     ]
    },
    {
     "name": "stderr",
     "output_type": "stream",
     "text": [
      "The attention mask and the pad token id were not set. As a consequence, you may observe unexpected behavior. Please pass your input's `attention_mask` to obtain reliable results.\n",
      "Setting `pad_token_id` to `eos_token_id`:128001 for open-end generation.\n"
     ]
    },
    {
     "name": "stdout",
     "output_type": "stream",
     "text": [
      "['CRITICAL TEMPERATURE: 42 K']\n",
      "['Ru1Gd1.4Ce0.6Sr2Cu2O10+z', ' 42 K']\n",
      "385 /home/louis/research/pdf_processor/processed_data/superconductivity_processed/physrevb.100.134503\n",
      "15000 characters = 3812 tokens\n"
     ]
    },
    {
     "name": "stderr",
     "output_type": "stream",
     "text": [
      "The attention mask and the pad token id were not set. As a consequence, you may observe unexpected behavior. Please pass your input's `attention_mask` to obtain reliable results.\n",
      "Setting `pad_token_id` to `eos_token_id`:128001 for open-end generation.\n"
     ]
    },
    {
     "name": "stdout",
     "output_type": "stream",
     "text": [
      "['CRITICAL TEMPERATURE: 5.8 K']\n",
      "['Ta1Os1Si1', ' 5.8 K']\n",
      "388 /home/louis/research/pdf_processor/processed_data/superconductivity_processed/physrevb.89.174515\n",
      "15000 characters = 4055 tokens\n"
     ]
    },
    {
     "name": "stderr",
     "output_type": "stream",
     "text": [
      "The attention mask and the pad token id were not set. As a consequence, you may observe unexpected behavior. Please pass your input's `attention_mask` to obtain reliable results.\n",
      "Setting `pad_token_id` to `eos_token_id`:128001 for open-end generation.\n"
     ]
    },
    {
     "name": "stdout",
     "output_type": "stream",
     "text": [
      "['CRITICAL TEMPERATURE: 11 K']\n",
      "['La1F0.5Bi1S2O0.5', ' 11 K']\n",
      "402 /home/louis/research/pdf_processor/processed_data/superconductivity_processed/physrevb.36.3910\n",
      "11058 characters = 2502 tokens\n"
     ]
    },
    {
     "name": "stderr",
     "output_type": "stream",
     "text": [
      "The attention mask and the pad token id were not set. As a consequence, you may observe unexpected behavior. Please pass your input's `attention_mask` to obtain reliable results.\n",
      "Setting `pad_token_id` to `eos_token_id`:128001 for open-end generation.\n"
     ]
    },
    {
     "name": "stdout",
     "output_type": "stream",
     "text": [
      "['CRITICAL TEMPERATURE: 34 K']\n",
      "['Y1.2Ba0.8Cu1O4', ' 34 K']\n",
      "414 /home/louis/research/pdf_processor/processed_data/superconductivity_processed/physrevb.81.220501\n",
      "15000 characters = 3757 tokens\n"
     ]
    },
    {
     "name": "stderr",
     "output_type": "stream",
     "text": [
      "The attention mask and the pad token id were not set. As a consequence, you may observe unexpected behavior. Please pass your input's `attention_mask` to obtain reliable results.\n",
      "Setting `pad_token_id` to `eos_token_id`:128001 for open-end generation.\n"
     ]
    },
    {
     "name": "stdout",
     "output_type": "stream",
     "text": [
      "['CRITICAL TEMPERATURE: 30 K']\n",
      "['Ba1Fe2As1.34P0.66', ' 30 K']\n",
      "416 /home/louis/research/pdf_processor/processed_data/superconductivity_processed/physrevb.96.165123\n",
      "15000 characters = 3673 tokens\n"
     ]
    },
    {
     "name": "stderr",
     "output_type": "stream",
     "text": [
      "The attention mask and the pad token id were not set. As a consequence, you may observe unexpected behavior. Please pass your input's `attention_mask` to obtain reliable results.\n",
      "Setting `pad_token_id` to `eos_token_id`:128001 for open-end generation.\n"
     ]
    },
    {
     "name": "stdout",
     "output_type": "stream",
     "text": [
      "['CRITICAL TEMPERATURE: 3.2 K']\n",
      "['Se1Sn1', ' 3.2 K']\n",
      "421 /home/louis/research/pdf_processor/processed_data/superconductivity_processed/physrevb.64.094514\n",
      "11506 characters = 2722 tokens\n"
     ]
    },
    {
     "name": "stderr",
     "output_type": "stream",
     "text": [
      "The attention mask and the pad token id were not set. As a consequence, you may observe unexpected behavior. Please pass your input's `attention_mask` to obtain reliable results.\n",
      "Setting `pad_token_id` to `eos_token_id`:128001 for open-end generation.\n"
     ]
    },
    {
     "name": "stdout",
     "output_type": "stream",
     "text": [
      "['CRITICAL TEMPERATURE: 39 K']\n",
      "['B2Mg1', ' 39 K']\n",
      "422 /home/louis/research/pdf_processor/processed_data/superconductivity_processed/physrevb.30.2986\n",
      "12075 characters = 2868 tokens\n"
     ]
    },
    {
     "name": "stderr",
     "output_type": "stream",
     "text": [
      "The attention mask and the pad token id were not set. As a consequence, you may observe unexpected behavior. Please pass your input's `attention_mask` to obtain reliable results.\n",
      "Setting `pad_token_id` to `eos_token_id`:128001 for open-end generation.\n"
     ]
    },
    {
     "name": "stdout",
     "output_type": "stream",
     "text": [
      "['CRITICAL TEMPERATURE: 0.49 K']\n",
      "['Pt3U1', ' 0.49 K']\n",
      "423 /home/louis/research/pdf_processor/processed_data/superconductivity_processed/physrevb.36.4018\n",
      "11849 characters = 2727 tokens\n"
     ]
    },
    {
     "name": "stderr",
     "output_type": "stream",
     "text": [
      "The attention mask and the pad token id were not set. As a consequence, you may observe unexpected behavior. Please pass your input's `attention_mask` to obtain reliable results.\n",
      "Setting `pad_token_id` to `eos_token_id`:128001 for open-end generation.\n"
     ]
    },
    {
     "name": "stdout",
     "output_type": "stream",
     "text": [
      "['CRITICAL TEMPERATURE: 31 K']\n",
      "['Gd1Ba2Cu2.82Fe0.18O9-Z', ' 31 K']\n",
      "436 /home/louis/research/pdf_processor/processed_data/superconductivity_processed/physrevb.63.144519\n",
      "15000 characters = 3383 tokens\n"
     ]
    },
    {
     "name": "stderr",
     "output_type": "stream",
     "text": [
      "The attention mask and the pad token id were not set. As a consequence, you may observe unexpected behavior. Please pass your input's `attention_mask` to obtain reliable results.\n",
      "Setting `pad_token_id` to `eos_token_id`:128001 for open-end generation.\n"
     ]
    },
    {
     "name": "stdout",
     "output_type": "stream",
     "text": [
      "['CRITICAL TEMPERATURE: 0.8 K']\n",
      "['Ge2U1', ' 0.8 K']\n",
      "437 /home/louis/research/pdf_processor/processed_data/superconductivity_processed/physrevb.59.8962\n",
      "15000 characters = 3651 tokens\n"
     ]
    },
    {
     "name": "stderr",
     "output_type": "stream",
     "text": [
      "The attention mask and the pad token id were not set. As a consequence, you may observe unexpected behavior. Please pass your input's `attention_mask` to obtain reliable results.\n",
      "Setting `pad_token_id` to `eos_token_id`:128001 for open-end generation.\n"
     ]
    },
    {
     "name": "stdout",
     "output_type": "stream",
     "text": [
      "['CRITICAL TEMPERATURE: 80 K']\n",
      "['I1Bi1.9Pb0.1Sr2Ca1Cu2O8+Z', ' 80 K']\n",
      "439 /home/louis/research/pdf_processor/processed_data/superconductivity_processed/physrevb.63.134519\n",
      "15000 characters = 3738 tokens\n"
     ]
    },
    {
     "name": "stderr",
     "output_type": "stream",
     "text": [
      "The attention mask and the pad token id were not set. As a consequence, you may observe unexpected behavior. Please pass your input's `attention_mask` to obtain reliable results.\n",
      "Setting `pad_token_id` to `eos_token_id`:128001 for open-end generation.\n"
     ]
    },
    {
     "name": "stdout",
     "output_type": "stream",
     "text": [
      "['CRITICAL TEMPERATURE: 16 K']\n",
      "['Lu1Ni2B2C1', ' 16 K']\n",
      "440 /home/louis/research/pdf_processor/processed_data/superconductivity_processed/physrevb.85.064513\n",
      "15000 characters = 3902 tokens\n"
     ]
    },
    {
     "name": "stderr",
     "output_type": "stream",
     "text": [
      "The attention mask and the pad token id were not set. As a consequence, you may observe unexpected behavior. Please pass your input's `attention_mask` to obtain reliable results.\n",
      "Setting `pad_token_id` to `eos_token_id`:128001 for open-end generation.\n"
     ]
    },
    {
     "name": "stdout",
     "output_type": "stream",
     "text": [
      "['CRITICAL TEMPERATURE: 33.5 K']\n",
      "['Tl0.58Rb0.42Fe1.72Se2', ' 33.5 K']\n",
      "442 /home/louis/research/pdf_processor/processed_data/superconductivity_processed/physrevb.45.4803\n",
      "11858 characters = 3126 tokens\n"
     ]
    },
    {
     "name": "stderr",
     "output_type": "stream",
     "text": [
      "The attention mask and the pad token id were not set. As a consequence, you may observe unexpected behavior. Please pass your input's `attention_mask` to obtain reliable results.\n",
      "Setting `pad_token_id` to `eos_token_id`:128001 for open-end generation.\n"
     ]
    },
    {
     "name": "stdout",
     "output_type": "stream",
     "text": [
      "['CRITICAL TEMPERATURE: 0.353 K']\n",
      "['Si2Ta1', ' 0.353 K']\n",
      "446 /home/louis/research/pdf_processor/processed_data/superconductivity_processed/physrevb.89.054512\n",
      "15000 characters = 3982 tokens\n"
     ]
    },
    {
     "name": "stderr",
     "output_type": "stream",
     "text": [
      "The attention mask and the pad token id were not set. As a consequence, you may observe unexpected behavior. Please pass your input's `attention_mask` to obtain reliable results.\n",
      "Setting `pad_token_id` to `eos_token_id`:128001 for open-end generation.\n"
     ]
    },
    {
     "name": "stdout",
     "output_type": "stream",
     "text": [
      "['CRITICAL TEMPERATURE: 2.2 K']\n",
      "['Ca10Bi9.88', ' 2.2 K']\n",
      "447 /home/louis/research/pdf_processor/processed_data/superconductivity_processed/physrevb.73.052504\n",
      "14961 characters = 3808 tokens\n"
     ]
    },
    {
     "name": "stderr",
     "output_type": "stream",
     "text": [
      "The attention mask and the pad token id were not set. As a consequence, you may observe unexpected behavior. Please pass your input's `attention_mask` to obtain reliable results.\n",
      "Setting `pad_token_id` to `eos_token_id`:128001 for open-end generation.\n"
     ]
    },
    {
     "name": "stdout",
     "output_type": "stream",
     "text": [
      "['CRITICAL TEMPERATURE: 4.2 K']\n",
      "['Mo1N1', ' 4.2 K']\n",
      "454 /home/louis/research/pdf_processor/processed_data/superconductivity_processed/physrevb.77.180510\n",
      "12762 characters = 3531 tokens\n"
     ]
    },
    {
     "name": "stderr",
     "output_type": "stream",
     "text": [
      "The attention mask and the pad token id were not set. As a consequence, you may observe unexpected behavior. Please pass your input's `attention_mask` to obtain reliable results.\n",
      "Setting `pad_token_id` to `eos_token_id`:128001 for open-end generation.\n"
     ]
    },
    {
     "name": "stdout",
     "output_type": "stream",
     "text": [
      "['CRITICAL TEMPERATURE: 3.7 K']\n",
      "['Sm1Fe1As1F0.15O0.85', ' 3.7 K']\n",
      "456 /home/louis/research/pdf_processor/processed_data/superconductivity_processed/physrevb.86.144525\n",
      "15000 characters = 3930 tokens\n"
     ]
    },
    {
     "name": "stderr",
     "output_type": "stream",
     "text": [
      "The attention mask and the pad token id were not set. As a consequence, you may observe unexpected behavior. Please pass your input's `attention_mask` to obtain reliable results.\n",
      "Setting `pad_token_id` to `eos_token_id`:128001 for open-end generation.\n"
     ]
    },
    {
     "name": "stdout",
     "output_type": "stream",
     "text": [
      "['CRITICAL TEMPERATURE: 25 K']\n",
      "['Sr1Fe2As1.4P0.6', ' 25 K']\n",
      "458 /home/louis/research/pdf_processor/processed_data/superconductivity_processed/physrevb.36.8660\n",
      "15000 characters = 3976 tokens\n"
     ]
    },
    {
     "name": "stderr",
     "output_type": "stream",
     "text": [
      "The attention mask and the pad token id were not set. As a consequence, you may observe unexpected behavior. Please pass your input's `attention_mask` to obtain reliable results.\n",
      "Setting `pad_token_id` to `eos_token_id`:128001 for open-end generation.\n"
     ]
    },
    {
     "name": "stdout",
     "output_type": "stream",
     "text": [
      "['CRITICAL TEMPERATURE: 4 K']\n",
      "['La1Fe4P12', ' 4 K']\n",
      "459 /home/louis/research/pdf_processor/processed_data/superconductivity_processed/physrevb.98.104503\n",
      "15000 characters = 3775 tokens\n"
     ]
    },
    {
     "name": "stderr",
     "output_type": "stream",
     "text": [
      "The attention mask and the pad token id were not set. As a consequence, you may observe unexpected behavior. Please pass your input's `attention_mask` to obtain reliable results.\n",
      "Setting `pad_token_id` to `eos_token_id`:128001 for open-end generation.\n"
     ]
    },
    {
     "name": "stdout",
     "output_type": "stream",
     "text": [
      "['CRITICAL TEMPERATURE: 36.8 K']\n",
      "['Rb1Eu1Fe4As4', ' 36.8 K']\n",
      "467 /home/louis/research/pdf_processor/processed_data/superconductivity_processed/physrevb.80.100503\n",
      "12312 characters = 3274 tokens\n"
     ]
    },
    {
     "name": "stderr",
     "output_type": "stream",
     "text": [
      "The attention mask and the pad token id were not set. As a consequence, you may observe unexpected behavior. Please pass your input's `attention_mask` to obtain reliable results.\n",
      "Setting `pad_token_id` to `eos_token_id`:128001 for open-end generation.\n"
     ]
    },
    {
     "name": "stdout",
     "output_type": "stream",
     "text": [
      "['CRITICAL TEMPERATURE: 3 K']\n",
      "['Sr2Ca12Cu24O41', ' 3 K']\n",
      "469 /home/louis/research/pdf_processor/processed_data/superconductivity_processed/physrevb.90.224513\n",
      "13242 characters = 3461 tokens\n"
     ]
    },
    {
     "name": "stderr",
     "output_type": "stream",
     "text": [
      "The attention mask and the pad token id were not set. As a consequence, you may observe unexpected behavior. Please pass your input's `attention_mask` to obtain reliable results.\n",
      "Setting `pad_token_id` to `eos_token_id`:128001 for open-end generation.\n"
     ]
    },
    {
     "name": "stdout",
     "output_type": "stream",
     "text": [
      "['CRITICAL TEMPERATURE: 16 K']\n",
      "['Ca10Ir4Fe10As18', ' 16 K']\n",
      "474 /home/louis/research/pdf_processor/processed_data/superconductivity_processed/physrevb.88.224510\n",
      "15000 characters = 4080 tokens\n"
     ]
    },
    {
     "name": "stderr",
     "output_type": "stream",
     "text": [
      "The attention mask and the pad token id were not set. As a consequence, you may observe unexpected behavior. Please pass your input's `attention_mask` to obtain reliable results.\n",
      "Setting `pad_token_id` to `eos_token_id`:128001 for open-end generation.\n"
     ]
    },
    {
     "name": "stdout",
     "output_type": "stream",
     "text": [
      "['CRITICAL TEMPERATURE: 26 K']\n",
      "['Eu1Fe2As2', ' 26 K']\n",
      "476 /home/louis/research/pdf_processor/processed_data/superconductivity_processed/physrevb.73.024512\n",
      "15000 characters = 3998 tokens\n"
     ]
    },
    {
     "name": "stderr",
     "output_type": "stream",
     "text": [
      "The attention mask and the pad token id were not set. As a consequence, you may observe unexpected behavior. Please pass your input's `attention_mask` to obtain reliable results.\n",
      "Setting `pad_token_id` to `eos_token_id`:128001 for open-end generation.\n"
     ]
    },
    {
     "name": "stdout",
     "output_type": "stream",
     "text": [
      "['CRITICAL TEMPERATURE: 7.2 K']\n",
      "['B6Y1', ' 7.2 K']\n",
      "477 /home/louis/research/pdf_processor/processed_data/superconductivity_processed/physrevb.83.134521\n",
      "15000 characters = 3848 tokens\n"
     ]
    },
    {
     "name": "stderr",
     "output_type": "stream",
     "text": [
      "The attention mask and the pad token id were not set. As a consequence, you may observe unexpected behavior. Please pass your input's `attention_mask` to obtain reliable results.\n",
      "Setting `pad_token_id` to `eos_token_id`:128001 for open-end generation.\n"
     ]
    },
    {
     "name": "stdout",
     "output_type": "stream",
     "text": [
      "['CRITICAL TEMPERATURE: 3.92 K']\n",
      "['Fe1Te0.57Se0.43', ' 3.92 K']\n",
      "478 /home/louis/research/pdf_processor/processed_data/superconductivity_processed/physrevb.78.024514\n",
      "15000 characters = 3566 tokens\n"
     ]
    },
    {
     "name": "stderr",
     "output_type": "stream",
     "text": [
      "The attention mask and the pad token id were not set. As a consequence, you may observe unexpected behavior. Please pass your input's `attention_mask` to obtain reliable results.\n",
      "Setting `pad_token_id` to `eos_token_id`:128001 for open-end generation.\n"
     ]
    },
    {
     "name": "stdout",
     "output_type": "stream",
     "text": [
      "['CRITICAL TEMPERATURE: 6 K']\n",
      "['Lu2Fe3Si5', ' 6 K']\n",
      "480 /home/louis/research/pdf_processor/processed_data/superconductivity_processed/physrevb.69.180509\n",
      "14625 characters = 3951 tokens\n"
     ]
    },
    {
     "name": "stderr",
     "output_type": "stream",
     "text": [
      "The attention mask and the pad token id were not set. As a consequence, you may observe unexpected behavior. Please pass your input's `attention_mask` to obtain reliable results.\n",
      "Setting `pad_token_id` to `eos_token_id`:128001 for open-end generation.\n"
     ]
    },
    {
     "name": "stdout",
     "output_type": "stream",
     "text": [
      "['CRITICAL TEMPERATURE: 1.25 K']\n",
      "['Pr1Ru4Sb12', ' 1.25 K']\n",
      "484 /home/louis/research/pdf_processor/processed_data/superconductivity_processed/physrevb.94.024518\n",
      "15000 characters = 4153 tokens\n"
     ]
    },
    {
     "name": "stderr",
     "output_type": "stream",
     "text": [
      "The attention mask and the pad token id were not set. As a consequence, you may observe unexpected behavior. Please pass your input's `attention_mask` to obtain reliable results.\n",
      "Setting `pad_token_id` to `eos_token_id`:128001 for open-end generation.\n"
     ]
    },
    {
     "name": "stdout",
     "output_type": "stream",
     "text": [
      "['CRITICAL TEMPERATURE: 6.2 K']\n",
      "['Hf1Re6', ' 6.2 K']\n",
      "488 /home/louis/research/pdf_processor/processed_data/superconductivity_processed/physrevb.98.094519\n",
      "15000 characters = 3705 tokens\n"
     ]
    },
    {
     "name": "stderr",
     "output_type": "stream",
     "text": [
      "The attention mask and the pad token id were not set. As a consequence, you may observe unexpected behavior. Please pass your input's `attention_mask` to obtain reliable results.\n",
      "Setting `pad_token_id` to `eos_token_id`:128001 for open-end generation.\n"
     ]
    },
    {
     "name": "stdout",
     "output_type": "stream",
     "text": [
      "['CRITICAL TEMPERATURE: 2.45 K']\n",
      "['Ir0.8Rh0.2Te2', ' 2.45 K']\n",
      "489 /home/louis/research/pdf_processor/processed_data/superconductivity_processed/physrevb.97.224511\n",
      "15000 characters = 3760 tokens\n"
     ]
    },
    {
     "name": "stderr",
     "output_type": "stream",
     "text": [
      "The attention mask and the pad token id were not set. As a consequence, you may observe unexpected behavior. Please pass your input's `attention_mask` to obtain reliable results.\n",
      "Setting `pad_token_id` to `eos_token_id`:128001 for open-end generation.\n"
     ]
    },
    {
     "name": "stdout",
     "output_type": "stream",
     "text": [
      "['CRITICAL TEMPERATURE: 1.7 K']\n",
      "['Tb1Pd1Bi1', ' 1.7 K']\n",
      "490 /home/louis/research/pdf_processor/processed_data/superconductivity_processed/physrevb.67.094504\n",
      "15000 characters = 3809 tokens\n"
     ]
    },
    {
     "name": "stderr",
     "output_type": "stream",
     "text": [
      "The attention mask and the pad token id were not set. As a consequence, you may observe unexpected behavior. Please pass your input's `attention_mask` to obtain reliable results.\n",
      "Setting `pad_token_id` to `eos_token_id`:128001 for open-end generation.\n"
     ]
    },
    {
     "name": "stdout",
     "output_type": "stream",
     "text": [
      "['CRITICAL TEMPERATURE: 39 K']\n",
      "['B2Mg1', ' 39 K']\n",
      "494 /home/louis/research/pdf_processor/processed_data/superconductivity_processed/physrevb.78.024509\n",
      "15000 characters = 4158 tokens\n"
     ]
    },
    {
     "name": "stderr",
     "output_type": "stream",
     "text": [
      "The attention mask and the pad token id were not set. As a consequence, you may observe unexpected behavior. Please pass your input's `attention_mask` to obtain reliable results.\n",
      "Setting `pad_token_id` to `eos_token_id`:128001 for open-end generation.\n"
     ]
    },
    {
     "name": "stdout",
     "output_type": "stream",
     "text": [
      "['CRITICAL TEMPERATURE: 0.96 K']\n",
      "['Bi2Pd3Se2', ' 0.96 K']\n",
      "495 /home/louis/research/pdf_processor/processed_data/superconductivity_processed/physrevb.56.7890\n",
      "12303 characters = 3030 tokens\n"
     ]
    },
    {
     "name": "stderr",
     "output_type": "stream",
     "text": [
      "The attention mask and the pad token id were not set. As a consequence, you may observe unexpected behavior. Please pass your input's `attention_mask` to obtain reliable results.\n",
      "Setting `pad_token_id` to `eos_token_id`:128001 for open-end generation.\n"
     ]
    },
    {
     "name": "stdout",
     "output_type": "stream",
     "text": [
      "['CRITICAL TEMPERATURE: 1 K']\n",
      "['Sr2Ru1O4', ' 1 K']\n",
      "501 /home/louis/research/pdf_processor/processed_data/superconductivity_processed/physrevb.79.054517\n",
      "15000 characters = 3779 tokens\n"
     ]
    },
    {
     "name": "stderr",
     "output_type": "stream",
     "text": [
      "The attention mask and the pad token id were not set. As a consequence, you may observe unexpected behavior. Please pass your input's `attention_mask` to obtain reliable results.\n",
      "Setting `pad_token_id` to `eos_token_id`:128001 for open-end generation.\n"
     ]
    },
    {
     "name": "stdout",
     "output_type": "stream",
     "text": [
      "['CRITICAL TEMPERATURE: 32 K']\n",
      "['Ba0.6K0.4Fe2As2', ' 32 K']\n",
      "505 /home/louis/research/pdf_processor/processed_data/superconductivity_processed/physrevb.100.041109\n",
      "15000 characters = 3943 tokens\n"
     ]
    },
    {
     "name": "stderr",
     "output_type": "stream",
     "text": [
      "The attention mask and the pad token id were not set. As a consequence, you may observe unexpected behavior. Please pass your input's `attention_mask` to obtain reliable results.\n",
      "Setting `pad_token_id` to `eos_token_id`:128001 for open-end generation.\n"
     ]
    },
    {
     "name": "stdout",
     "output_type": "stream",
     "text": [
      "['CRITICAL TEMPERATURE: 2 K']\n",
      "['Rb1', ' 2 K']\n",
      "508 /home/louis/research/pdf_processor/processed_data/superconductivity_processed/physrevb.84.054507\n",
      "15000 characters = 3921 tokens\n"
     ]
    },
    {
     "name": "stderr",
     "output_type": "stream",
     "text": [
      "The attention mask and the pad token id were not set. As a consequence, you may observe unexpected behavior. Please pass your input's `attention_mask` to obtain reliable results.\n",
      "Setting `pad_token_id` to `eos_token_id`:128001 for open-end generation.\n"
     ]
    },
    {
     "name": "stdout",
     "output_type": "stream",
     "text": [
      "['CRITICAL TEMPERATURE: 18 K']\n",
      "['Li1Fe1As1', ' 18 K']\n",
      "510 /home/louis/research/pdf_processor/processed_data/superconductivity_processed/physrevb.65.180505\n",
      "14434 characters = 3985 tokens\n"
     ]
    },
    {
     "name": "stderr",
     "output_type": "stream",
     "text": [
      "The attention mask and the pad token id were not set. As a consequence, you may observe unexpected behavior. Please pass your input's `attention_mask` to obtain reliable results.\n",
      "Setting `pad_token_id` to `eos_token_id`:128001 for open-end generation.\n"
     ]
    },
    {
     "name": "stdout",
     "output_type": "stream",
     "text": [
      "['CRITICAL TEMPERATURE: 40 K']\n",
      "['B2Mg1', ' 40 K']\n",
      "511 /home/louis/research/pdf_processor/processed_data/superconductivity_processed/physrevb.79.014514\n",
      "15000 characters = 4079 tokens\n"
     ]
    },
    {
     "name": "stderr",
     "output_type": "stream",
     "text": [
      "The attention mask and the pad token id were not set. As a consequence, you may observe unexpected behavior. Please pass your input's `attention_mask` to obtain reliable results.\n",
      "Setting `pad_token_id` to `eos_token_id`:128001 for open-end generation.\n"
     ]
    },
    {
     "name": "stdout",
     "output_type": "stream",
     "text": [
      "['CRITICAL TEMPERATURE: 26.2 K']\n",
      "['Ba0.64K0.36Fe2As2', ' 26.2 K']\n",
      "512 /home/louis/research/pdf_processor/processed_data/superconductivity_processed/physrevb.83.115131\n",
      "15000 characters = 4300 tokens\n"
     ]
    },
    {
     "name": "stderr",
     "output_type": "stream",
     "text": [
      "The attention mask and the pad token id were not set. As a consequence, you may observe unexpected behavior. Please pass your input's `attention_mask` to obtain reliable results.\n",
      "Setting `pad_token_id` to `eos_token_id`:128001 for open-end generation.\n"
     ]
    },
    {
     "name": "stdout",
     "output_type": "stream",
     "text": [
      "['CRITICAL TEMPERATURE: 13 K']\n",
      "['La3Ni2B2N2.7', ' 13 K']\n",
      "516 /home/louis/research/pdf_processor/processed_data/superconductivity_processed/physrevb.59.13639\n",
      "8853 characters = 2096 tokens\n"
     ]
    },
    {
     "name": "stderr",
     "output_type": "stream",
     "text": [
      "The attention mask and the pad token id were not set. As a consequence, you may observe unexpected behavior. Please pass your input's `attention_mask` to obtain reliable results.\n",
      "Setting `pad_token_id` to `eos_token_id`:128001 for open-end generation.\n"
     ]
    },
    {
     "name": "stdout",
     "output_type": "stream",
     "text": [
      "['CRITICAL TEMPERATURE: 89 K']\n",
      "['Y0.5Yb0.5Ba2Sr0Cu3O7-Z', ' 89 K']\n",
      "520 /home/louis/research/pdf_processor/processed_data/superconductivity_processed/physrevb.81.180507\n",
      "15000 characters = 4161 tokens\n"
     ]
    },
    {
     "name": "stderr",
     "output_type": "stream",
     "text": [
      "The attention mask and the pad token id were not set. As a consequence, you may observe unexpected behavior. Please pass your input's `attention_mask` to obtain reliable results.\n",
      "Setting `pad_token_id` to `eos_token_id`:128001 for open-end generation.\n"
     ]
    },
    {
     "name": "stdout",
     "output_type": "stream",
     "text": [
      "['CRITICAL TEMPERATURE: 2.1 K']\n",
      "['Ce1Pt2In7', ' 2.1 K']\n",
      "522 /home/louis/research/pdf_processor/processed_data/superconductivity_processed/physrevb.78.060506\n",
      "10428 characters = 2549 tokens\n"
     ]
    },
    {
     "name": "stderr",
     "output_type": "stream",
     "text": [
      "The attention mask and the pad token id were not set. As a consequence, you may observe unexpected behavior. Please pass your input's `attention_mask` to obtain reliable results.\n",
      "Setting `pad_token_id` to `eos_token_id`:128001 for open-end generation.\n"
     ]
    },
    {
     "name": "stdout",
     "output_type": "stream",
     "text": [
      "['CRITICAL TEMPERATURE: 3 K']\n",
      "['C6Ca1', ' 3 K']\n",
      "523 /home/louis/research/pdf_processor/processed_data/superconductivity_processed/physrevb.74.174501\n",
      "12498 characters = 3013 tokens\n"
     ]
    },
    {
     "name": "stderr",
     "output_type": "stream",
     "text": [
      "The attention mask and the pad token id were not set. As a consequence, you may observe unexpected behavior. Please pass your input's `attention_mask` to obtain reliable results.\n",
      "Setting `pad_token_id` to `eos_token_id`:128001 for open-end generation.\n"
     ]
    },
    {
     "name": "stdout",
     "output_type": "stream",
     "text": [
      "['CRITICAL TEMPERATURE: 2 K']\n",
      "['Nb2As1C1', ' 2 K']\n",
      "524 /home/louis/research/pdf_processor/processed_data/superconductivity_processed/physrevb.58.r603\n",
      "15000 characters = 3504 tokens\n"
     ]
    },
    {
     "name": "stderr",
     "output_type": "stream",
     "text": [
      "The attention mask and the pad token id were not set. As a consequence, you may observe unexpected behavior. Please pass your input's `attention_mask` to obtain reliable results.\n",
      "Setting `pad_token_id` to `eos_token_id`:128001 for open-end generation.\n"
     ]
    },
    {
     "name": "stdout",
     "output_type": "stream",
     "text": [
      "['CRITICAL TEMPERATURE: 563+5 mK']\n",
      "['Pt3U1', ' 563+5 mK']\n",
      "525 /home/louis/research/pdf_processor/processed_data/superconductivity_processed/physrevb.98.134512\n",
      "15000 characters = 3757 tokens\n"
     ]
    },
    {
     "name": "stderr",
     "output_type": "stream",
     "text": [
      "The attention mask and the pad token id were not set. As a consequence, you may observe unexpected behavior. Please pass your input's `attention_mask` to obtain reliable results.\n",
      "Setting `pad_token_id` to `eos_token_id`:128001 for open-end generation.\n"
     ]
    },
    {
     "name": "stdout",
     "output_type": "stream",
     "text": [
      "['CRITICAL TEMPERATURE: 1.35 K']\n",
      "['Cr0.8Ru0.2', ' 1.35 K']\n",
      "530 /home/louis/research/pdf_processor/processed_data/superconductivity_processed/physrevb.65.100510\n",
      "12947 characters = 3218 tokens\n"
     ]
    },
    {
     "name": "stderr",
     "output_type": "stream",
     "text": [
      "The attention mask and the pad token id were not set. As a consequence, you may observe unexpected behavior. Please pass your input's `attention_mask` to obtain reliable results.\n",
      "Setting `pad_token_id` to `eos_token_id`:128001 for open-end generation.\n"
     ]
    },
    {
     "name": "stdout",
     "output_type": "stream",
     "text": [
      "['CRITICAL TEMPERATURE: 38 K']\n",
      "['B2Mg1', ' 38 K']\n",
      "531 /home/louis/research/pdf_processor/processed_data/superconductivity_processed/physrevb.99.144519\n",
      "15000 characters = 3481 tokens\n"
     ]
    },
    {
     "name": "stderr",
     "output_type": "stream",
     "text": [
      "The attention mask and the pad token id were not set. As a consequence, you may observe unexpected behavior. Please pass your input's `attention_mask` to obtain reliable results.\n",
      "Setting `pad_token_id` to `eos_token_id`:128001 for open-end generation.\n"
     ]
    },
    {
     "name": "stdout",
     "output_type": "stream",
     "text": [
      "['CRITICAL TEMPERATURE: 0.74 K']\n",
      "['Al6Re1', ' 0.74 K']\n",
      "535 /home/louis/research/pdf_processor/processed_data/superconductivity_processed/physrevb.87.180508\n",
      "11288 characters = 2982 tokens\n"
     ]
    },
    {
     "name": "stderr",
     "output_type": "stream",
     "text": [
      "The attention mask and the pad token id were not set. As a consequence, you may observe unexpected behavior. Please pass your input's `attention_mask` to obtain reliable results.\n",
      "Setting `pad_token_id` to `eos_token_id`:128001 for open-end generation.\n"
     ]
    },
    {
     "name": "stdout",
     "output_type": "stream",
     "text": [
      "['CRITICAL TEMPERATURE: 25 K']\n",
      "['Pr4Fe2As2Te0.88O4', ' 25 K']\n",
      "536 /home/louis/research/pdf_processor/processed_data/superconductivity_processed/physrevb.26.6315\n",
      "4602 characters = 1213 tokens\n"
     ]
    },
    {
     "name": "stderr",
     "output_type": "stream",
     "text": [
      "The attention mask and the pad token id were not set. As a consequence, you may observe unexpected behavior. Please pass your input's `attention_mask` to obtain reliable results.\n",
      "Setting `pad_token_id` to `eos_token_id`:128001 for open-end generation.\n"
     ]
    },
    {
     "name": "stdout",
     "output_type": "stream",
     "text": [
      "['CRITICAL TEMPERATURE: 1.7 K']\n",
      "['K1Hg1C4', ' 1.7 K']\n",
      "538 /home/louis/research/pdf_processor/processed_data/superconductivity_processed/physrevb.36.3920\n",
      "7096 characters = 1711 tokens\n"
     ]
    },
    {
     "name": "stderr",
     "output_type": "stream",
     "text": [
      "The attention mask and the pad token id were not set. As a consequence, you may observe unexpected behavior. Please pass your input's `attention_mask` to obtain reliable results.\n",
      "Setting `pad_token_id` to `eos_token_id`:128001 for open-end generation.\n"
     ]
    },
    {
     "name": "stdout",
     "output_type": "stream",
     "text": [
      "['CRITICAL TEMPERATURE: 92 K']\n",
      "['Y1Ba2Cu3O7+Y', ' 92 K']\n",
      "542 /home/louis/research/pdf_processor/processed_data/superconductivity_processed/physrevb.83.224512\n",
      "15000 characters = 3778 tokens\n"
     ]
    },
    {
     "name": "stderr",
     "output_type": "stream",
     "text": [
      "The attention mask and the pad token id were not set. As a consequence, you may observe unexpected behavior. Please pass your input's `attention_mask` to obtain reliable results.\n",
      "Setting `pad_token_id` to `eos_token_id`:128001 for open-end generation.\n"
     ]
    },
    {
     "name": "stdout",
     "output_type": "stream",
     "text": [
      "['CRITICAL TEMPERATURE: 14.7 K']\n",
      "['Li1Fe1As1', ' 14.7 K']\n",
      "545 /home/louis/research/pdf_processor/processed_data/superconductivity_processed/physrevb.45.5628\n",
      "15000 characters = 3713 tokens\n"
     ]
    },
    {
     "name": "stderr",
     "output_type": "stream",
     "text": [
      "The attention mask and the pad token id were not set. As a consequence, you may observe unexpected behavior. Please pass your input's `attention_mask` to obtain reliable results.\n",
      "Setting `pad_token_id` to `eos_token_id`:128001 for open-end generation.\n"
     ]
    },
    {
     "name": "stdout",
     "output_type": "stream",
     "text": [
      "['CRITICAL TEMPERATURE: 102 K']\n",
      "['Tl2Ba2Ca1Cu2O8', ' 102 K']\n",
      "547 /home/louis/research/pdf_processor/processed_data/superconductivity_processed/physrevb.87.184504\n",
      "15000 characters = 3743 tokens\n"
     ]
    },
    {
     "name": "stderr",
     "output_type": "stream",
     "text": [
      "The attention mask and the pad token id were not set. As a consequence, you may observe unexpected behavior. Please pass your input's `attention_mask` to obtain reliable results.\n",
      "Setting `pad_token_id` to `eos_token_id`:128001 for open-end generation.\n"
     ]
    },
    {
     "name": "stdout",
     "output_type": "stream",
     "text": [
      "['CRITICAL TEMPERATURE: 1.0 K']\n",
      "['Lu1Pt1Bi1', ' 1.0 K']\n",
      "550 /home/louis/research/pdf_processor/processed_data/superconductivity_processed/physrevb.68.214517\n",
      "15000 characters = 3620 tokens\n"
     ]
    },
    {
     "name": "stderr",
     "output_type": "stream",
     "text": [
      "The attention mask and the pad token id were not set. As a consequence, you may observe unexpected behavior. Please pass your input's `attention_mask` to obtain reliable results.\n",
      "Setting `pad_token_id` to `eos_token_id`:128001 for open-end generation.\n"
     ]
    },
    {
     "name": "stdout",
     "output_type": "stream",
     "text": [
      "['CRITICAL TEMPERATURE: 4.5 K']\n",
      "['Na0.31Co1D2.5O3.25', ' 4.5 K']\n",
      "551 /home/louis/research/pdf_processor/processed_data/superconductivity_processed/physrevb.82.180512\n",
      "15000 characters = 3694 tokens\n"
     ]
    },
    {
     "name": "stderr",
     "output_type": "stream",
     "text": [
      "The attention mask and the pad token id were not set. As a consequence, you may observe unexpected behavior. Please pass your input's `attention_mask` to obtain reliable results.\n",
      "Setting `pad_token_id` to `eos_token_id`:128001 for open-end generation.\n"
     ]
    },
    {
     "name": "stdout",
     "output_type": "stream",
     "text": [
      "['CRITICAL TEMPERATURE: 26 K']\n",
      "['Sr0.6La0.4Fe2As2', ' 26 K']\n",
      "552 /home/louis/research/pdf_processor/processed_data/superconductivity_processed/physrevb.70.174514\n",
      "13172 characters = 3847 tokens\n"
     ]
    },
    {
     "name": "stderr",
     "output_type": "stream",
     "text": [
      "The attention mask and the pad token id were not set. As a consequence, you may observe unexpected behavior. Please pass your input's `attention_mask` to obtain reliable results.\n",
      "Setting `pad_token_id` to `eos_token_id`:128001 for open-end generation.\n"
     ]
    },
    {
     "name": "stdout",
     "output_type": "stream",
     "text": [
      "['CRITICAL TEMPERATURE: 33 K']\n",
      "['Hg0.7W0.3Sr2Ce1.74Eu1.26Cu2O11+z', ' 33 K']\n",
      "560 /home/louis/research/pdf_processor/processed_data/superconductivity_processed/physrevb.85.054507\n",
      "15000 characters = 3781 tokens\n"
     ]
    },
    {
     "name": "stderr",
     "output_type": "stream",
     "text": [
      "The attention mask and the pad token id were not set. As a consequence, you may observe unexpected behavior. Please pass your input's `attention_mask` to obtain reliable results.\n",
      "Setting `pad_token_id` to `eos_token_id`:128001 for open-end generation.\n"
     ]
    },
    {
     "name": "stdout",
     "output_type": "stream",
     "text": [
      "['CRITICAL TEMPERATURE: 26.3 K']\n",
      "['K0.8Fe1.7S1Se1', ' 26.3 K']\n",
      "562 /home/louis/research/pdf_processor/processed_data/superconductivity_processed/physrevb.80.224522\n",
      "15000 characters = 3604 tokens\n"
     ]
    },
    {
     "name": "stderr",
     "output_type": "stream",
     "text": [
      "The attention mask and the pad token id were not set. As a consequence, you may observe unexpected behavior. Please pass your input's `attention_mask` to obtain reliable results.\n",
      "Setting `pad_token_id` to `eos_token_id`:128001 for open-end generation.\n"
     ]
    },
    {
     "name": "stdout",
     "output_type": "stream",
     "text": [
      "['CRITICAL TEMPERATURE: 8.5 K']\n",
      "['Ho1Ni2B2C', ' 8.5 K']\n",
      "566 /home/louis/research/pdf_processor/processed_data/superconductivity_processed/physrevb.64.144524\n",
      "15000 characters = 4056 tokens\n"
     ]
    },
    {
     "name": "stderr",
     "output_type": "stream",
     "text": [
      "The attention mask and the pad token id were not set. As a consequence, you may observe unexpected behavior. Please pass your input's `attention_mask` to obtain reliable results.\n",
      "Setting `pad_token_id` to `eos_token_id`:128001 for open-end generation.\n"
     ]
    },
    {
     "name": "stdout",
     "output_type": "stream",
     "text": [
      "['CRITICAL TEMPERATURE: 10.2 K']\n",
      "['La1.89Ba0.11Cu1O4', ' 10.2 K']\n",
      "574 /home/louis/research/pdf_processor/processed_data/superconductivity_processed/physrevb.85.184513\n",
      "15000 characters = 3621 tokens\n"
     ]
    },
    {
     "name": "stderr",
     "output_type": "stream",
     "text": [
      "The attention mask and the pad token id were not set. As a consequence, you may observe unexpected behavior. Please pass your input's `attention_mask` to obtain reliable results.\n",
      "Setting `pad_token_id` to `eos_token_id`:128001 for open-end generation.\n"
     ]
    },
    {
     "name": "stdout",
     "output_type": "stream",
     "text": [
      "['CRITICAL TEMPERATURE: 2 K']\n",
      "['Te3Zr1', ' 2 K']\n",
      "575 /home/louis/research/pdf_processor/processed_data/superconductivity_processed/physrevb.82.014518\n",
      "15000 characters = 3643 tokens\n"
     ]
    },
    {
     "name": "stderr",
     "output_type": "stream",
     "text": [
      "The attention mask and the pad token id were not set. As a consequence, you may observe unexpected behavior. Please pass your input's `attention_mask` to obtain reliable results.\n",
      "Setting `pad_token_id` to `eos_token_id`:128001 for open-end generation.\n"
     ]
    },
    {
     "name": "stdout",
     "output_type": "stream",
     "text": [
      "['CRITICAL TEMPERATURE: 6.05 K']\n",
      "['Nb1S2', ' 6.05 K']\n",
      "577 /home/louis/research/pdf_processor/processed_data/superconductivity_processed/physrevb.71.104516\n",
      "15000 characters = 3997 tokens\n"
     ]
    },
    {
     "name": "stderr",
     "output_type": "stream",
     "text": [
      "The attention mask and the pad token id were not set. As a consequence, you may observe unexpected behavior. Please pass your input's `attention_mask` to obtain reliable results.\n",
      "Setting `pad_token_id` to `eos_token_id`:128001 for open-end generation.\n"
     ]
    },
    {
     "name": "stdout",
     "output_type": "stream",
     "text": [
      "['CRITICAL TEMPERATURE: 41 K']\n",
      "['La1.48Nd0.4Sr0.12Cu1O4', ' 41 K']\n",
      "582 /home/louis/research/pdf_processor/processed_data/superconductivity_processed/physrevb.93.054520\n",
      "15000 characters = 4002 tokens\n"
     ]
    },
    {
     "name": "stderr",
     "output_type": "stream",
     "text": [
      "The attention mask and the pad token id were not set. As a consequence, you may observe unexpected behavior. Please pass your input's `attention_mask` to obtain reliable results.\n",
      "Setting `pad_token_id` to `eos_token_id`:128001 for open-end generation.\n"
     ]
    },
    {
     "name": "stdout",
     "output_type": "stream",
     "text": [
      "['CRITICAL TEMPERATURE: 3.8 K']\n",
      "['Pb1Ta1Se2', ' 3.8 K']\n",
      "584 /home/louis/research/pdf_processor/processed_data/superconductivity_processed/physrevb.63.220505\n",
      "11023 characters = 2651 tokens\n"
     ]
    },
    {
     "name": "stderr",
     "output_type": "stream",
     "text": [
      "The attention mask and the pad token id were not set. As a consequence, you may observe unexpected behavior. Please pass your input's `attention_mask` to obtain reliable results.\n",
      "Setting `pad_token_id` to `eos_token_id`:128001 for open-end generation.\n"
     ]
    },
    {
     "name": "stdout",
     "output_type": "stream",
     "text": [
      "['CRITICAL TEMPERATURE: 40 K']\n",
      "['B2Mg1', ' 40 K']\n",
      "585 /home/louis/research/pdf_processor/processed_data/superconductivity_processed/physrevb.63.220504\n",
      "12304 characters = 2978 tokens\n"
     ]
    },
    {
     "name": "stderr",
     "output_type": "stream",
     "text": [
      "The attention mask and the pad token id were not set. As a consequence, you may observe unexpected behavior. Please pass your input's `attention_mask` to obtain reliable results.\n",
      "Setting `pad_token_id` to `eos_token_id`:128001 for open-end generation.\n"
     ]
    },
    {
     "name": "stdout",
     "output_type": "stream",
     "text": [
      "['CRITICAL TEMPERATURE: 39 K']\n",
      "['B2Mg1', ' 39 K']\n",
      "586 /home/louis/research/pdf_processor/processed_data/superconductivity_processed/physrevb.77.092505\n",
      "15000 characters = 4187 tokens\n"
     ]
    },
    {
     "name": "stderr",
     "output_type": "stream",
     "text": [
      "The attention mask and the pad token id were not set. As a consequence, you may observe unexpected behavior. Please pass your input's `attention_mask` to obtain reliable results.\n",
      "Setting `pad_token_id` to `eos_token_id`:128001 for open-end generation.\n"
     ]
    },
    {
     "name": "stdout",
     "output_type": "stream",
     "text": [
      "['CRITICAL TEMPERATURE: 0.2 K']\n",
      "['Ca24Al28O66', ' 0.2 K']\n",
      "588 /home/louis/research/pdf_processor/processed_data/superconductivity_processed/physrevb.49.1492\n",
      "8186 characters = 2341 tokens\n"
     ]
    },
    {
     "name": "stderr",
     "output_type": "stream",
     "text": [
      "The attention mask and the pad token id were not set. As a consequence, you may observe unexpected behavior. Please pass your input's `attention_mask` to obtain reliable results.\n",
      "Setting `pad_token_id` to `eos_token_id`:128001 for open-end generation.\n"
     ]
    },
    {
     "name": "stdout",
     "output_type": "stream",
     "text": [
      "['CRITICAL TEMPERATURE: 34 K']\n",
      "['Bi0.5Sr1.5Y1.15Ce0.85Cu2O8-z', ' 34 K']\n",
      "593 /home/louis/research/pdf_processor/processed_data/superconductivity_processed/physrevb.40.2690\n",
      "9974 characters = 2791 tokens\n"
     ]
    },
    {
     "name": "stderr",
     "output_type": "stream",
     "text": [
      "The attention mask and the pad token id were not set. As a consequence, you may observe unexpected behavior. Please pass your input's `attention_mask` to obtain reliable results.\n",
      "Setting `pad_token_id` to `eos_token_id`:128001 for open-end generation.\n"
     ]
    },
    {
     "name": "stdout",
     "output_type": "stream",
     "text": [
      "['CRITICAL TEMPERATURE: 29 K']\n",
      "['Ba0.6Rb0.4Bi1O3', ' 29 K']\n",
      "594 /home/louis/research/pdf_processor/processed_data/superconductivity_processed/physrevb.49.1495\n",
      "10856 characters = 2890 tokens\n"
     ]
    },
    {
     "name": "stderr",
     "output_type": "stream",
     "text": [
      "The attention mask and the pad token id were not set. As a consequence, you may observe unexpected behavior. Please pass your input's `attention_mask` to obtain reliable results.\n",
      "Setting `pad_token_id` to `eos_token_id`:128001 for open-end generation.\n"
     ]
    },
    {
     "name": "stdout",
     "output_type": "stream",
     "text": [
      "['CRITICAL TEMPERATURE: 110.3 K']\n",
      "['Bi2Sr2Ca2Cu3O10', ' 110.3 K']\n",
      "596 /home/louis/research/pdf_processor/processed_data/superconductivity_processed/physrevb.90.020502\n",
      "15000 characters = 4187 tokens\n"
     ]
    },
    {
     "name": "stderr",
     "output_type": "stream",
     "text": [
      "The attention mask and the pad token id were not set. As a consequence, you may observe unexpected behavior. Please pass your input's `attention_mask` to obtain reliable results.\n",
      "Setting `pad_token_id` to `eos_token_id`:128001 for open-end generation.\n"
     ]
    },
    {
     "name": "stdout",
     "output_type": "stream",
     "text": [
      "['CRITICAL TEMPERATURE: 20 K']\n",
      "['K0.5Na0.24Fe1.52Se2', ' 20 K']\n",
      "597 /home/louis/research/pdf_processor/processed_data/superconductivity_processed/physrevb.83.100513\n",
      "15000 characters = 3998 tokens\n"
     ]
    },
    {
     "name": "stderr",
     "output_type": "stream",
     "text": [
      "The attention mask and the pad token id were not set. As a consequence, you may observe unexpected behavior. Please pass your input's `attention_mask` to obtain reliable results.\n",
      "Setting `pad_token_id` to `eos_token_id`:128001 for open-end generation.\n"
     ]
    },
    {
     "name": "stdout",
     "output_type": "stream",
     "text": [
      "['CRITICAL TEMPERATURE: 49.5 K']\n",
      "['Sm1Fe1As1F0.15O0.85', ' 49.5 K']\n",
      "605 /home/louis/research/pdf_processor/processed_data/superconductivity_processed/physrevb.95.174521\n",
      "15000 characters = 3548 tokens\n"
     ]
    },
    {
     "name": "stderr",
     "output_type": "stream",
     "text": [
      "The attention mask and the pad token id were not set. As a consequence, you may observe unexpected behavior. Please pass your input's `attention_mask` to obtain reliable results.\n",
      "Setting `pad_token_id` to `eos_token_id`:128001 for open-end generation.\n"
     ]
    },
    {
     "name": "stdout",
     "output_type": "stream",
     "text": [
      "['CRITICAL TEMPERATURE: 3.5 K']\n",
      "['Ta1Ir2Ge2', ' 3.5 K']\n",
      "607 /home/louis/research/pdf_processor/processed_data/superconductivity_processed/physrevb.64.132505\n",
      "12503 characters = 3321 tokens\n"
     ]
    },
    {
     "name": "stderr",
     "output_type": "stream",
     "text": [
      "The attention mask and the pad token id were not set. As a consequence, you may observe unexpected behavior. Please pass your input's `attention_mask` to obtain reliable results.\n",
      "Setting `pad_token_id` to `eos_token_id`:128001 for open-end generation.\n"
     ]
    },
    {
     "name": "stdout",
     "output_type": "stream",
     "text": [
      "['CRITICAL TEMPERATURE: 8 K']\n",
      "['Mg1C1Ni3', ' 8 K']\n",
      "610 /home/louis/research/pdf_processor/processed_data/superconductivity_processed/physrevb.79.014519\n",
      "15000 characters = 3641 tokens\n"
     ]
    },
    {
     "name": "stderr",
     "output_type": "stream",
     "text": [
      "The attention mask and the pad token id were not set. As a consequence, you may observe unexpected behavior. Please pass your input's `attention_mask` to obtain reliable results.\n",
      "Setting `pad_token_id` to `eos_token_id`:128001 for open-end generation.\n"
     ]
    },
    {
     "name": "stdout",
     "output_type": "stream",
     "text": [
      "['CRITICAL TEMPERATURE: 8 K']\n",
      "['Fe1Se0.72', ' 8 K']\n",
      "614 /home/louis/research/pdf_processor/processed_data/superconductivity_processed/physrevb.51.12644\n",
      "15000 characters = 3611 tokens\n"
     ]
    },
    {
     "name": "stderr",
     "output_type": "stream",
     "text": [
      "The attention mask and the pad token id were not set. As a consequence, you may observe unexpected behavior. Please pass your input's `attention_mask` to obtain reliable results.\n",
      "Setting `pad_token_id` to `eos_token_id`:128001 for open-end generation.\n"
     ]
    },
    {
     "name": "stdout",
     "output_type": "stream",
     "text": [
      "['CRITICAL TEMPERATURE: 8.4 K']\n",
      "['Ho1Ni2B2C1', ' 8.4 K']\n",
      "618 /home/louis/research/pdf_processor/processed_data/superconductivity_processed/physrevb.49.15416\n",
      "13294 characters = 3228 tokens\n"
     ]
    },
    {
     "name": "stderr",
     "output_type": "stream",
     "text": [
      "The attention mask and the pad token id were not set. As a consequence, you may observe unexpected behavior. Please pass your input's `attention_mask` to obtain reliable results.\n",
      "Setting `pad_token_id` to `eos_token_id`:128001 for open-end generation.\n"
     ]
    },
    {
     "name": "stdout",
     "output_type": "stream",
     "text": [
      "['CRITICAL TEMPERATURE: 132 K']\n",
      "['Hg1Ba2Ca2Cu3O8+d', ' 132 K']\n",
      "624 /home/louis/research/pdf_processor/processed_data/superconductivity_processed/physrevb.93.104516\n",
      "15000 characters = 3504 tokens\n"
     ]
    },
    {
     "name": "stderr",
     "output_type": "stream",
     "text": [
      "The attention mask and the pad token id were not set. As a consequence, you may observe unexpected behavior. Please pass your input's `attention_mask` to obtain reliable results.\n",
      "Setting `pad_token_id` to `eos_token_id`:128001 for open-end generation.\n"
     ]
    },
    {
     "name": "stdout",
     "output_type": "stream",
     "text": [
      "['CRITICAL TEMPERATURE: 13.5 K']\n",
      "['Ba0.85K0.15Fe2As2', ' 13.5 K']\n",
      "628 /home/louis/research/pdf_processor/processed_data/superconductivity_processed/physrevb.53.5170\n",
      "15000 characters = 3805 tokens\n"
     ]
    },
    {
     "name": "stderr",
     "output_type": "stream",
     "text": [
      "The attention mask and the pad token id were not set. As a consequence, you may observe unexpected behavior. Please pass your input's `attention_mask` to obtain reliable results.\n",
      "Setting `pad_token_id` to `eos_token_id`:128001 for open-end generation.\n"
     ]
    },
    {
     "name": "stdout",
     "output_type": "stream",
     "text": [
      "['CRITICAL TEMPERATURE: 115.9 K']\n",
      "['Ba2Ca3Cu5O11-y', ' 115.9 K']\n",
      "633 /home/louis/research/pdf_processor/processed_data/superconductivity_processed/physrevb.66.180502\n",
      "15000 characters = 3931 tokens\n"
     ]
    },
    {
     "name": "stderr",
     "output_type": "stream",
     "text": [
      "The attention mask and the pad token id were not set. As a consequence, you may observe unexpected behavior. Please pass your input's `attention_mask` to obtain reliable results.\n",
      "Setting `pad_token_id` to `eos_token_id`:128001 for open-end generation.\n"
     ]
    },
    {
     "name": "stdout",
     "output_type": "stream",
     "text": [
      "['CRITICAL TEMPERATURE: 39 K']\n",
      "['B2Mg1', ' 39 K']\n",
      "641 /home/louis/research/pdf_processor/processed_data/superconductivity_processed/physrevb.49.9073\n",
      "15000 characters = 3597 tokens\n"
     ]
    },
    {
     "name": "stderr",
     "output_type": "stream",
     "text": [
      "The attention mask and the pad token id were not set. As a consequence, you may observe unexpected behavior. Please pass your input's `attention_mask` to obtain reliable results.\n",
      "Setting `pad_token_id` to `eos_token_id`:128001 for open-end generation.\n"
     ]
    },
    {
     "name": "stdout",
     "output_type": "stream",
     "text": [
      "['CRITICAL TEMPERATURE: 38 K']\n",
      "['Bi2Sr2Ca1Cu2O8', ' 38 K']\n",
      "644 /home/louis/research/pdf_processor/processed_data/superconductivity_processed/physrevb.54.r6885\n",
      "11653 characters = 2852 tokens\n"
     ]
    },
    {
     "name": "stderr",
     "output_type": "stream",
     "text": [
      "The attention mask and the pad token id were not set. As a consequence, you may observe unexpected behavior. Please pass your input's `attention_mask` to obtain reliable results.\n",
      "Setting `pad_token_id` to `eos_token_id`:128001 for open-end generation.\n"
     ]
    },
    {
     "name": "stdout",
     "output_type": "stream",
     "text": [
      "['CRITICAL TEMPERATURE: 79.5 K']\n",
      "['Bi2Sr1.8Ca1.2Cu2O8', ' 79.5 K']\n",
      "646 /home/louis/research/pdf_processor/processed_data/superconductivity_processed/physrevb.88.014517\n",
      "15000 characters = 3885 tokens\n"
     ]
    },
    {
     "name": "stderr",
     "output_type": "stream",
     "text": [
      "The attention mask and the pad token id were not set. As a consequence, you may observe unexpected behavior. Please pass your input's `attention_mask` to obtain reliable results.\n",
      "Setting `pad_token_id` to `eos_token_id`:128001 for open-end generation.\n"
     ]
    },
    {
     "name": "stdout",
     "output_type": "stream",
     "text": [
      "['CRITICAL TEMPERATURE: 3.4 K']\n",
      "['K1Fe2As2', ' 3.4 K']\n",
      "653 /home/louis/research/pdf_processor/processed_data/superconductivity_processed/physrevb.89.020505\n",
      "15000 characters = 3930 tokens\n"
     ]
    },
    {
     "name": "stderr",
     "output_type": "stream",
     "text": [
      "The attention mask and the pad token id were not set. As a consequence, you may observe unexpected behavior. Please pass your input's `attention_mask` to obtain reliable results.\n",
      "Setting `pad_token_id` to `eos_token_id`:128001 for open-end generation.\n"
     ]
    },
    {
     "name": "stdout",
     "output_type": "stream",
     "text": [
      "['CRITICAL TEMPERATURE: 3.72 K']\n",
      "['Pb1Ta1Se2', ' 3.72 K']\n",
      "656 /home/louis/research/pdf_processor/processed_data/superconductivity_processed/physrevb.52.10569\n",
      "15000 characters = 3658 tokens\n"
     ]
    },
    {
     "name": "stderr",
     "output_type": "stream",
     "text": [
      "The attention mask and the pad token id were not set. As a consequence, you may observe unexpected behavior. Please pass your input's `attention_mask` to obtain reliable results.\n",
      "Setting `pad_token_id` to `eos_token_id`:128001 for open-end generation.\n"
     ]
    },
    {
     "name": "stdout",
     "output_type": "stream",
     "text": [
      "['CRITICAL TEMPERATURE: 92 K']\n",
      "['Y1Ba2Cu3O6.95', ' 92 K']\n",
      "657 /home/louis/research/pdf_processor/processed_data/superconductivity_processed/physrevb.80.134523\n",
      "12510 characters = 3244 tokens\n"
     ]
    },
    {
     "name": "stderr",
     "output_type": "stream",
     "text": [
      "The attention mask and the pad token id were not set. As a consequence, you may observe unexpected behavior. Please pass your input's `attention_mask` to obtain reliable results.\n",
      "Setting `pad_token_id` to `eos_token_id`:128001 for open-end generation.\n"
     ]
    },
    {
     "name": "stdout",
     "output_type": "stream",
     "text": [
      "['CRITICAL TEMPERATURE: 14 K']\n",
      "['Fe1.06Te0.5Se0.5', ' 14 K']\n",
      "660 /home/louis/research/pdf_processor/processed_data/superconductivity_processed/physrevb.97.224506\n",
      "15000 characters = 3700 tokens\n"
     ]
    },
    {
     "name": "stderr",
     "output_type": "stream",
     "text": [
      "The attention mask and the pad token id were not set. As a consequence, you may observe unexpected behavior. Please pass your input's `attention_mask` to obtain reliable results.\n",
      "Setting `pad_token_id` to `eos_token_id`:128001 for open-end generation.\n"
     ]
    },
    {
     "name": "stdout",
     "output_type": "stream",
     "text": [
      "['CRITICAL TEMPERATURE: 6.8 K']\n",
      "['Re6Zr1', ' 6.8 K']\n",
      "661 /home/louis/research/pdf_processor/processed_data/superconductivity_processed/physrevb.84.140507\n",
      "12910 characters = 3279 tokens\n"
     ]
    },
    {
     "name": "stderr",
     "output_type": "stream",
     "text": [
      "The attention mask and the pad token id were not set. As a consequence, you may observe unexpected behavior. Please pass your input's `attention_mask` to obtain reliable results.\n",
      "Setting `pad_token_id` to `eos_token_id`:128001 for open-end generation.\n"
     ]
    },
    {
     "name": "stdout",
     "output_type": "stream",
     "text": [
      "['CRITICAL TEMPERATURE: 0.68 K']\n",
      "['Ce2Pd1In8', ' 0.68 K']\n",
      "662 /home/louis/research/pdf_processor/processed_data/superconductivity_processed/physrevb.80.052501\n",
      "15000 characters = 3941 tokens\n"
     ]
    },
    {
     "name": "stderr",
     "output_type": "stream",
     "text": [
      "The attention mask and the pad token id were not set. As a consequence, you may observe unexpected behavior. Please pass your input's `attention_mask` to obtain reliable results.\n",
      "Setting `pad_token_id` to `eos_token_id`:128001 for open-end generation.\n"
     ]
    },
    {
     "name": "stdout",
     "output_type": "stream",
     "text": [
      "['CRITICAL TEMPERATURE: 25 K']\n",
      "['Sr1Fe2As2', ' 25 K']\n",
      "663 /home/louis/research/pdf_processor/processed_data/superconductivity_processed/physrevb.36.8329\n",
      "11910 characters = 2627 tokens\n"
     ]
    },
    {
     "name": "stderr",
     "output_type": "stream",
     "text": [
      "The attention mask and the pad token id were not set. As a consequence, you may observe unexpected behavior. Please pass your input's `attention_mask` to obtain reliable results.\n",
      "Setting `pad_token_id` to `eos_token_id`:128001 for open-end generation.\n"
     ]
    },
    {
     "name": "stdout",
     "output_type": "stream",
     "text": [
      "['CRITICAL TEMPERATURE: 92.4 K']\n",
      "['Y1Ba2Cu3O7-Z', ' 92.4 K']\n",
      "665 /home/louis/research/pdf_processor/processed_data/superconductivity_processed/physrevb.89.224504\n",
      "13946 characters = 3635 tokens\n"
     ]
    },
    {
     "name": "stderr",
     "output_type": "stream",
     "text": [
      "The attention mask and the pad token id were not set. As a consequence, you may observe unexpected behavior. Please pass your input's `attention_mask` to obtain reliable results.\n",
      "Setting `pad_token_id` to `eos_token_id`:128001 for open-end generation.\n"
     ]
    },
    {
     "name": "stdout",
     "output_type": "stream",
     "text": [
      "['CRITICAL TEMPERATURE: 1.8 K']\n",
      "['Ca3Ir4Ge4', ' 1.8 K']\n",
      "667 /home/louis/research/pdf_processor/processed_data/superconductivity_processed/physrevb.78.064516\n",
      "15000 characters = 3961 tokens\n"
     ]
    },
    {
     "name": "stderr",
     "output_type": "stream",
     "text": [
      "The attention mask and the pad token id were not set. As a consequence, you may observe unexpected behavior. Please pass your input's `attention_mask` to obtain reliable results.\n",
      "Setting `pad_token_id` to `eos_token_id`:128001 for open-end generation.\n"
     ]
    },
    {
     "name": "stdout",
     "output_type": "stream",
     "text": [
      "['CRITICAL TEMPERATURE: 4.75 K']\n",
      "['Th1Pt4Ge12', ' 4.75 K']\n",
      "670 /home/louis/research/pdf_processor/processed_data/superconductivity_processed/physrevb.7.4290\n",
      "3618 characters = 892 tokens\n"
     ]
    },
    {
     "name": "stderr",
     "output_type": "stream",
     "text": [
      "The attention mask and the pad token id were not set. As a consequence, you may observe unexpected behavior. Please pass your input's `attention_mask` to obtain reliable results.\n",
      "Setting `pad_token_id` to `eos_token_id`:128001 for open-end generation.\n"
     ]
    },
    {
     "name": "stdout",
     "output_type": "stream",
     "text": [
      "['CRITICAL TEMPERATURE: 15.6 K']\n",
      "['Mo0.18U0.82', ' 15.6 K']\n",
      "682 /home/louis/research/pdf_processor/processed_data/superconductivity_processed/physrevb.28.1389\n",
      "15000 characters = 3803 tokens\n"
     ]
    },
    {
     "name": "stderr",
     "output_type": "stream",
     "text": [
      "The attention mask and the pad token id were not set. As a consequence, you may observe unexpected behavior. Please pass your input's `attention_mask` to obtain reliable results.\n",
      "Setting `pad_token_id` to `eos_token_id`:128001 for open-end generation.\n"
     ]
    },
    {
     "name": "stdout",
     "output_type": "stream",
     "text": [
      "['CRITICAL TEMPERATURE: 1.58 K']\n",
      "['La1Ir2Si2', ' 1.58 K']\n",
      "683 /home/louis/research/pdf_processor/processed_data/superconductivity_processed/physrevb.93.144502\n",
      "15000 characters = 3310 tokens\n"
     ]
    },
    {
     "name": "stderr",
     "output_type": "stream",
     "text": [
      "The attention mask and the pad token id were not set. As a consequence, you may observe unexpected behavior. Please pass your input's `attention_mask` to obtain reliable results.\n",
      "Setting `pad_token_id` to `eos_token_id`:128001 for open-end generation.\n"
     ]
    },
    {
     "name": "stdout",
     "output_type": "stream",
     "text": [
      "['CRITICAL TEMPERATURE: 5 K']\n",
      "['Bi2Pd1', ' 5 K']\n",
      "687 /home/louis/research/pdf_processor/processed_data/superconductivity_processed/physrevb.50.6523\n",
      "9028 characters = 2258 tokens\n"
     ]
    },
    {
     "name": "stderr",
     "output_type": "stream",
     "text": [
      "The attention mask and the pad token id were not set. As a consequence, you may observe unexpected behavior. Please pass your input's `attention_mask` to obtain reliable results.\n",
      "Setting `pad_token_id` to `eos_token_id`:128001 for open-end generation.\n"
     ]
    },
    {
     "name": "stdout",
     "output_type": "stream",
     "text": [
      "['CRITICAL TEMPERATURE: 1.23 K']\n",
      "['La1Ni1Si1', ' 1.23 K']\n",
      "689 /home/louis/research/pdf_processor/processed_data/superconductivity_processed/physrevb.87.094515\n",
      "15000 characters = 3854 tokens\n"
     ]
    },
    {
     "name": "stderr",
     "output_type": "stream",
     "text": [
      "The attention mask and the pad token id were not set. As a consequence, you may observe unexpected behavior. Please pass your input's `attention_mask` to obtain reliable results.\n",
      "Setting `pad_token_id` to `eos_token_id`:128001 for open-end generation.\n"
     ]
    },
    {
     "name": "stdout",
     "output_type": "stream",
     "text": [
      "['CRITICAL TEMPERATURE: 2.7 K']\n",
      "['Sr1Pd2Ge2', ' 2.7 K']\n",
      "698 /home/louis/research/pdf_processor/processed_data/superconductivity_processed/physrevb.87.140507\n",
      "15000 characters = 3905 tokens\n"
     ]
    },
    {
     "name": "stderr",
     "output_type": "stream",
     "text": [
      "The attention mask and the pad token id were not set. As a consequence, you may observe unexpected behavior. Please pass your input's `attention_mask` to obtain reliable results.\n",
      "Setting `pad_token_id` to `eos_token_id`:128001 for open-end generation.\n"
     ]
    },
    {
     "name": "stdout",
     "output_type": "stream",
     "text": [
      "['CRITICAL TEMPERATURE: 3.50 K']\n",
      "['Sn0.6In0.4Te1', ' 3.50 K']\n",
      "706 /home/louis/research/pdf_processor/processed_data/superconductivity_processed/physrevb.81.224511\n",
      "15000 characters = 3717 tokens\n"
     ]
    },
    {
     "name": "stderr",
     "output_type": "stream",
     "text": [
      "The attention mask and the pad token id were not set. As a consequence, you may observe unexpected behavior. Please pass your input's `attention_mask` to obtain reliable results.\n",
      "Setting `pad_token_id` to `eos_token_id`:128001 for open-end generation.\n"
     ]
    },
    {
     "name": "stdout",
     "output_type": "stream",
     "text": [
      "['CRITICAL TEMPERATURE: 3 K']\n",
      "['Ba1Fe2As2', ' 3 K']\n",
      "707 /home/louis/research/pdf_processor/processed_data/superconductivity_processed/physrevb.74.012504\n",
      "12827 characters = 3330 tokens\n"
     ]
    },
    {
     "name": "stderr",
     "output_type": "stream",
     "text": [
      "The attention mask and the pad token id were not set. As a consequence, you may observe unexpected behavior. Please pass your input's `attention_mask` to obtain reliable results.\n",
      "Setting `pad_token_id` to `eos_token_id`:128001 for open-end generation.\n"
     ]
    },
    {
     "name": "stdout",
     "output_type": "stream",
     "text": [
      "['CRITICAL TEMPERATURE: 5.0 K']\n",
      "['Li0.68Nb1O2', ' 5.0 K']\n",
      "709 /home/louis/research/pdf_processor/processed_data/superconductivity_processed/physrevb.91.014513\n",
      "15000 characters = 4019 tokens\n"
     ]
    },
    {
     "name": "stderr",
     "output_type": "stream",
     "text": [
      "The attention mask and the pad token id were not set. As a consequence, you may observe unexpected behavior. Please pass your input's `attention_mask` to obtain reliable results.\n",
      "Setting `pad_token_id` to `eos_token_id`:128001 for open-end generation.\n"
     ]
    },
    {
     "name": "stdout",
     "output_type": "stream",
     "text": [
      "['CRITICAL TEMPERATURE: 1.82 K']\n",
      "['Ba1Pt2Sb2', ' 1.82 K']\n",
      "711 /home/louis/research/pdf_processor/processed_data/superconductivity_processed/physrevb.81.144414\n",
      "15000 characters = 3743 tokens\n"
     ]
    },
    {
     "name": "stderr",
     "output_type": "stream",
     "text": [
      "The attention mask and the pad token id were not set. As a consequence, you may observe unexpected behavior. Please pass your input's `attention_mask` to obtain reliable results.\n",
      "Setting `pad_token_id` to `eos_token_id`:128001 for open-end generation.\n"
     ]
    },
    {
     "name": "stdout",
     "output_type": "stream",
     "text": [
      "['CRITICAL TEMPERATURE: 16 K']\n",
      "['Eu1Pt1Si3', ' 16 K']\n",
      "713 /home/louis/research/pdf_processor/processed_data/superconductivity_processed/physrevb.55.8529\n",
      "15000 characters = 4184 tokens\n"
     ]
    },
    {
     "name": "stderr",
     "output_type": "stream",
     "text": [
      "The attention mask and the pad token id were not set. As a consequence, you may observe unexpected behavior. Please pass your input's `attention_mask` to obtain reliable results.\n",
      "Setting `pad_token_id` to `eos_token_id`:128001 for open-end generation.\n"
     ]
    },
    {
     "name": "stdout",
     "output_type": "stream",
     "text": [
      "['CRITICAL TEMPERATURE: 115 K']\n",
      "['Bi2Sr2Ca1Cu2O8+y', ' 115 K']\n",
      "719 /home/louis/research/pdf_processor/processed_data/superconductivity_processed/physrevb.87.134513\n",
      "15000 characters = 3647 tokens\n"
     ]
    },
    {
     "name": "stderr",
     "output_type": "stream",
     "text": [
      "The attention mask and the pad token id were not set. As a consequence, you may observe unexpected behavior. Please pass your input's `attention_mask` to obtain reliable results.\n",
      "Setting `pad_token_id` to `eos_token_id`:128001 for open-end generation.\n"
     ]
    },
    {
     "name": "stdout",
     "output_type": "stream",
     "text": [
      "['CRITICAL TEMPERATURE: 3.8 K']\n",
      "['K1Fe2As2', ' 3.8 K']\n",
      "723 /home/louis/research/pdf_processor/processed_data/superconductivity_processed/physrevb.85.180504\n",
      "15000 characters = 4111 tokens\n"
     ]
    },
    {
     "name": "stderr",
     "output_type": "stream",
     "text": [
      "The attention mask and the pad token id were not set. As a consequence, you may observe unexpected behavior. Please pass your input's `attention_mask` to obtain reliable results.\n",
      "Setting `pad_token_id` to `eos_token_id`:128001 for open-end generation.\n"
     ]
    },
    {
     "name": "stdout",
     "output_type": "stream",
     "text": [
      "['CRITICAL TEMPERATURE: 11 K']\n",
      "['Ca10Pt3.97Fe9.03As18', ' 11 K']\n",
      "727 /home/louis/research/pdf_processor/processed_data/superconductivity_processed/physrevb.73.094522\n",
      "14924 characters = 3945 tokens\n"
     ]
    },
    {
     "name": "stderr",
     "output_type": "stream",
     "text": [
      "The attention mask and the pad token id were not set. As a consequence, you may observe unexpected behavior. Please pass your input's `attention_mask` to obtain reliable results.\n",
      "Setting `pad_token_id` to `eos_token_id`:128001 for open-end generation.\n"
     ]
    },
    {
     "name": "stdout",
     "output_type": "stream",
     "text": [
      "['CRITICAL TEMPERATURE: 3 K']\n",
      "['Y1', ' 3 K']\n",
      "735 /home/louis/research/pdf_processor/processed_data/superconductivity_processed/physrevb.82.064512\n",
      "15000 characters = 3728 tokens\n"
     ]
    },
    {
     "name": "stderr",
     "output_type": "stream",
     "text": [
      "The attention mask and the pad token id were not set. As a consequence, you may observe unexpected behavior. Please pass your input's `attention_mask` to obtain reliable results.\n",
      "Setting `pad_token_id` to `eos_token_id`:128001 for open-end generation.\n"
     ]
    },
    {
     "name": "stdout",
     "output_type": "stream",
     "text": [
      "['CRITICAL TEMPERATURE: 9.2 K']\n",
      "['Al2C1Mo3', ' 9.2 K']\n",
      "736 /home/louis/research/pdf_processor/processed_data/superconductivity_processed/physrevb.93.060506\n",
      "15000 characters = 3702 tokens\n"
     ]
    },
    {
     "name": "stderr",
     "output_type": "stream",
     "text": [
      "The attention mask and the pad token id were not set. As a consequence, you may observe unexpected behavior. Please pass your input's `attention_mask` to obtain reliable results.\n",
      "Setting `pad_token_id` to `eos_token_id`:128001 for open-end generation.\n"
     ]
    },
    {
     "name": "stdout",
     "output_type": "stream",
     "text": [
      "['CRITICAL TEMPERATURE: 3.7 K']\n",
      "['Pb1Ta1Se2', ' 3.7 K']\n",
      "737 /home/louis/research/pdf_processor/processed_data/superconductivity_processed/physrevb.87.224507\n",
      "15000 characters = 3878 tokens\n"
     ]
    },
    {
     "name": "stderr",
     "output_type": "stream",
     "text": [
      "The attention mask and the pad token id were not set. As a consequence, you may observe unexpected behavior. Please pass your input's `attention_mask` to obtain reliable results.\n",
      "Setting `pad_token_id` to `eos_token_id`:128001 for open-end generation.\n"
     ]
    },
    {
     "name": "stdout",
     "output_type": "stream",
     "text": [
      "['CRITICAL TEMPERATURE: 5 K']\n",
      "['Sr1Pt2As2', ' 5 K']\n",
      "738 /home/louis/research/pdf_processor/processed_data/superconductivity_processed/physrevb.59.14099\n",
      "15000 characters = 3703 tokens\n"
     ]
    },
    {
     "name": "stderr",
     "output_type": "stream",
     "text": [
      "The attention mask and the pad token id were not set. As a consequence, you may observe unexpected behavior. Please pass your input's `attention_mask` to obtain reliable results.\n",
      "Setting `pad_token_id` to `eos_token_id`:128001 for open-end generation.\n"
     ]
    },
    {
     "name": "stdout",
     "output_type": "stream",
     "text": [
      "['CRITICAL TEMPERATURE: 16 K']\n",
      "['Ru1Sr2Gd1Cu2O8', ' 16 K']\n",
      "740 /home/louis/research/pdf_processor/processed_data/superconductivity_processed/physrevb.96.064528\n",
      "15000 characters = 3537 tokens\n"
     ]
    },
    {
     "name": "stderr",
     "output_type": "stream",
     "text": [
      "The attention mask and the pad token id were not set. As a consequence, you may observe unexpected behavior. Please pass your input's `attention_mask` to obtain reliable results.\n",
      "Setting `pad_token_id` to `eos_token_id`:128001 for open-end generation.\n"
     ]
    },
    {
     "name": "stdout",
     "output_type": "stream",
     "text": [
      "['CRITICAL TEMPERATURE: 3 K']\n",
      "['Pb1Ta1Se2', ' 3 K']\n",
      "747 /home/louis/research/pdf_processor/processed_data/superconductivity_processed/physrevb.83.174503\n",
      "15000 characters = 3771 tokens\n"
     ]
    },
    {
     "name": "stderr",
     "output_type": "stream",
     "text": [
      "The attention mask and the pad token id were not set. As a consequence, you may observe unexpected behavior. Please pass your input's `attention_mask` to obtain reliable results.\n",
      "Setting `pad_token_id` to `eos_token_id`:128001 for open-end generation.\n"
     ]
    },
    {
     "name": "stdout",
     "output_type": "stream",
     "text": [
      "['CRITICAL TEMPERATURE: 31.8 K']\n",
      "['K0.65Fe1.41Se2', ' 31.8 K']\n",
      "751 /home/louis/research/pdf_processor/processed_data/superconductivity_processed/physrevb.85.214526\n",
      "15000 characters = 4023 tokens\n"
     ]
    },
    {
     "name": "stderr",
     "output_type": "stream",
     "text": [
      "The attention mask and the pad token id were not set. As a consequence, you may observe unexpected behavior. Please pass your input's `attention_mask` to obtain reliable results.\n",
      "Setting `pad_token_id` to `eos_token_id`:128001 for open-end generation.\n"
     ]
    },
    {
     "name": "stdout",
     "output_type": "stream",
     "text": [
      "['CRITICAL TEMPERATURE: 1.3 K']\n",
      "['Yb1Sb2', ' 1.3 K']\n",
      "773 /home/louis/research/pdf_processor/processed_data/superconductivity_processed/physrevb.78.134508\n",
      "15000 characters = 3613 tokens\n"
     ]
    },
    {
     "name": "stderr",
     "output_type": "stream",
     "text": [
      "The attention mask and the pad token id were not set. As a consequence, you may observe unexpected behavior. Please pass your input's `attention_mask` to obtain reliable results.\n",
      "Setting `pad_token_id` to `eos_token_id`:128001 for open-end generation.\n"
     ]
    },
    {
     "name": "stdout",
     "output_type": "stream",
     "text": [
      "['CRITICAL TEMPERATURE: 50 K']\n",
      "['Nd1Fe1As1F0.18O0.82', ' 50 K']\n",
      "776 /home/louis/research/pdf_processor/processed_data/superconductivity_processed/physrevb.78.092406\n",
      "11748 characters = 2890 tokens\n"
     ]
    },
    {
     "name": "stderr",
     "output_type": "stream",
     "text": [
      "The attention mask and the pad token id were not set. As a consequence, you may observe unexpected behavior. Please pass your input's `attention_mask` to obtain reliable results.\n",
      "Setting `pad_token_id` to `eos_token_id`:128001 for open-end generation.\n"
     ]
    },
    {
     "name": "stdout",
     "output_type": "stream",
     "text": [
      "['CRITICAL TEMPERATURE: 32 K']\n",
      "['Eu0.5K0.5Fe2As2', ' 32 K']\n",
      "778 /home/louis/research/pdf_processor/processed_data/superconductivity_processed/physrevb.67.094501\n",
      "14261 characters = 3767 tokens\n"
     ]
    },
    {
     "name": "stderr",
     "output_type": "stream",
     "text": [
      "The attention mask and the pad token id were not set. As a consequence, you may observe unexpected behavior. Please pass your input's `attention_mask` to obtain reliable results.\n",
      "Setting `pad_token_id` to `eos_token_id`:128001 for open-end generation.\n"
     ]
    },
    {
     "name": "stdout",
     "output_type": "stream",
     "text": [
      "['CRITICAL TEMPERATURE: 7.0 K']\n",
      "['Ge5La1', ' 7.0 K']\n",
      "784 /home/louis/research/pdf_processor/processed_data/superconductivity_processed/physrevb.97.020508\n",
      "15000 characters = 4018 tokens\n"
     ]
    },
    {
     "name": "stderr",
     "output_type": "stream",
     "text": [
      "The attention mask and the pad token id were not set. As a consequence, you may observe unexpected behavior. Please pass your input's `attention_mask` to obtain reliable results.\n",
      "Setting `pad_token_id` to `eos_token_id`:128001 for open-end generation.\n"
     ]
    },
    {
     "name": "stdout",
     "output_type": "stream",
     "text": [
      "['CRITICAL TEMPERATURE: 55 K']\n",
      "['Li0.36M1Fe2As2', ' 55 K']\n",
      "785 /home/louis/research/pdf_processor/processed_data/superconductivity_processed/physrevb.93.064504\n",
      "15000 characters = 3532 tokens\n"
     ]
    },
    {
     "name": "stderr",
     "output_type": "stream",
     "text": [
      "The attention mask and the pad token id were not set. As a consequence, you may observe unexpected behavior. Please pass your input's `attention_mask` to obtain reliable results.\n",
      "Setting `pad_token_id` to `eos_token_id`:128001 for open-end generation.\n"
     ]
    },
    {
     "name": "stdout",
     "output_type": "stream",
     "text": [
      "['CRITICAL TEMPERATURE: 2.45 K']\n",
      "['Sr1Pt1As1', ' 2.45 K']\n",
      "787 /home/louis/research/pdf_processor/processed_data/superconductivity_processed/physrevb.48.16869\n",
      "15000 characters = 3729 tokens\n"
     ]
    },
    {
     "name": "stderr",
     "output_type": "stream",
     "text": [
      "The attention mask and the pad token id were not set. As a consequence, you may observe unexpected behavior. Please pass your input's `attention_mask` to obtain reliable results.\n",
      "Setting `pad_token_id` to `eos_token_id`:128001 for open-end generation.\n"
     ]
    },
    {
     "name": "stdout",
     "output_type": "stream",
     "text": [
      "['CRITICAL TEMPERATURE: 120 K']\n",
      "['Y1Ba2Cu4O8', ' 120 K']\n",
      "793 /home/louis/research/pdf_processor/processed_data/superconductivity_processed/physrevb.88.140501\n",
      "13004 characters = 3586 tokens\n"
     ]
    },
    {
     "name": "stderr",
     "output_type": "stream",
     "text": [
      "The attention mask and the pad token id were not set. As a consequence, you may observe unexpected behavior. Please pass your input's `attention_mask` to obtain reliable results.\n",
      "Setting `pad_token_id` to `eos_token_id`:128001 for open-end generation.\n"
     ]
    },
    {
     "name": "stdout",
     "output_type": "stream",
     "text": [
      "['CRITICAL TEMPERATURE: 58 K']\n",
      "['Ba0.75Na0.25Ti2Sb2O1', ' 58 K']\n",
      "797 /home/louis/research/pdf_processor/processed_data/superconductivity_processed/physrevb.55.11789\n",
      "15000 characters = 3498 tokens\n"
     ]
    },
    {
     "name": "stderr",
     "output_type": "stream",
     "text": [
      "The attention mask and the pad token id were not set. As a consequence, you may observe unexpected behavior. Please pass your input's `attention_mask` to obtain reliable results.\n",
      "Setting `pad_token_id` to `eos_token_id`:128001 for open-end generation.\n"
     ]
    },
    {
     "name": "stdout",
     "output_type": "stream",
     "text": [
      "['CRITICAL TEMPERATURE: 93.2 K']\n",
      "['Y1Ba2Cu3O6.95', ' 93.2 K']\n",
      "798 /home/louis/research/pdf_processor/processed_data/superconductivity_processed/physrevb.82.064511\n",
      "15000 characters = 4023 tokens\n"
     ]
    },
    {
     "name": "stderr",
     "output_type": "stream",
     "text": [
      "The attention mask and the pad token id were not set. As a consequence, you may observe unexpected behavior. Please pass your input's `attention_mask` to obtain reliable results.\n",
      "Setting `pad_token_id` to `eos_token_id`:128001 for open-end generation.\n"
     ]
    },
    {
     "name": "stdout",
     "output_type": "stream",
     "text": [
      "['CRITICAL TEMPERATURE: 9 K']\n",
      "['Al2C1Mo3', ' 9 K']\n",
      "806 /home/louis/research/pdf_processor/processed_data/superconductivity_processed/physrevb.64.064508\n",
      "15000 characters = 3573 tokens\n"
     ]
    },
    {
     "name": "stderr",
     "output_type": "stream",
     "text": [
      "The attention mask and the pad token id were not set. As a consequence, you may observe unexpected behavior. Please pass your input's `attention_mask` to obtain reliable results.\n",
      "Setting `pad_token_id` to `eos_token_id`:128001 for open-end generation.\n"
     ]
    },
    {
     "name": "stdout",
     "output_type": "stream",
     "text": [
      "['CRITICAL TEMPERATURE: 32 K']\n",
      "['Ru1Sr2Eu1Cu2O8', ' 32 K']\n",
      "807 /home/louis/research/pdf_processor/processed_data/superconductivity_processed/physrevb.34.4920\n",
      "13801 characters = 2911 tokens\n"
     ]
    },
    {
     "name": "stderr",
     "output_type": "stream",
     "text": [
      "The attention mask and the pad token id were not set. As a consequence, you may observe unexpected behavior. Please pass your input's `attention_mask` to obtain reliable results.\n",
      "Setting `pad_token_id` to `eos_token_id`:128001 for open-end generation.\n"
     ]
    },
    {
     "name": "stdout",
     "output_type": "stream",
     "text": [
      "['CRITICAL TEMPERATURE: 0.7 K']\n",
      "['Ga1', ' 0.7 K']\n",
      "809 /home/louis/research/pdf_processor/processed_data/superconductivity_processed/physrevb.57.r14084\n",
      "14998 characters = 3835 tokens\n"
     ]
    },
    {
     "name": "stderr",
     "output_type": "stream",
     "text": [
      "The attention mask and the pad token id were not set. As a consequence, you may observe unexpected behavior. Please pass your input's `attention_mask` to obtain reliable results.\n",
      "Setting `pad_token_id` to `eos_token_id`:128001 for open-end generation.\n"
     ]
    },
    {
     "name": "stdout",
     "output_type": "stream",
     "text": [
      "['CRITICAL TEMPERATURE: 84 K']\n",
      "['Y1Ba2Cu3O7-d', ' 84 K']\n",
      "810 /home/louis/research/pdf_processor/processed_data/superconductivity_processed/physrevb.89.020507\n",
      "15000 characters = 3965 tokens\n"
     ]
    },
    {
     "name": "stderr",
     "output_type": "stream",
     "text": [
      "The attention mask and the pad token id were not set. As a consequence, you may observe unexpected behavior. Please pass your input's `attention_mask` to obtain reliable results.\n",
      "Setting `pad_token_id` to `eos_token_id`:128001 for open-end generation.\n"
     ]
    },
    {
     "name": "stdout",
     "output_type": "stream",
     "text": [
      "['CRITICAL TEMPERATURE: 43 K']\n",
      "['Li1Fe3Se2O2', ' 43 K']\n",
      "816 /home/louis/research/pdf_processor/processed_data/superconductivity_processed/physrevb.93.224512\n",
      "15000 characters = 3825 tokens\n"
     ]
    },
    {
     "name": "stderr",
     "output_type": "stream",
     "text": [
      "The attention mask and the pad token id were not set. As a consequence, you may observe unexpected behavior. Please pass your input's `attention_mask` to obtain reliable results.\n",
      "Setting `pad_token_id` to `eos_token_id`:128001 for open-end generation.\n"
     ]
    },
    {
     "name": "stdout",
     "output_type": "stream",
     "text": [
      "['CRITICAL TEMPERATURE: 40 K']\n",
      "['Li1.84H1Fe1.14Se1O1', ' 40 K']\n",
      "823 /home/louis/research/pdf_processor/processed_data/superconductivity_processed/physrevb.64.180501\n",
      "13450 characters = 3207 tokens\n"
     ]
    },
    {
     "name": "stderr",
     "output_type": "stream",
     "text": [
      "The attention mask and the pad token id were not set. As a consequence, you may observe unexpected behavior. Please pass your input's `attention_mask` to obtain reliable results.\n",
      "Setting `pad_token_id` to `eos_token_id`:128001 for open-end generation.\n"
     ]
    },
    {
     "name": "stdout",
     "output_type": "stream",
     "text": [
      "['CRITICAL TEMPERATURE: 39.4 K']\n",
      "['B2Mg1', ' 39.4 K']\n",
      "827 /home/louis/research/pdf_processor/processed_data/superconductivity_processed/physrevb.97.054515\n",
      "15000 characters = 3630 tokens\n"
     ]
    },
    {
     "name": "stderr",
     "output_type": "stream",
     "text": [
      "The attention mask and the pad token id were not set. As a consequence, you may observe unexpected behavior. Please pass your input's `attention_mask` to obtain reliable results.\n",
      "Setting `pad_token_id` to `eos_token_id`:128001 for open-end generation.\n"
     ]
    },
    {
     "name": "stdout",
     "output_type": "stream",
     "text": [
      "['CRITICAL TEMPERATURE: 1.7 K']\n",
      "['Pd1Te2', ' 1.7 K']\n",
      "828 /home/louis/research/pdf_processor/processed_data/superconductivity_processed/physrevb.92.020506\n",
      "15000 characters = 4324 tokens\n"
     ]
    },
    {
     "name": "stderr",
     "output_type": "stream",
     "text": [
      "The attention mask and the pad token id were not set. As a consequence, you may observe unexpected behavior. Please pass your input's `attention_mask` to obtain reliable results.\n",
      "Setting `pad_token_id` to `eos_token_id`:128001 for open-end generation.\n"
     ]
    },
    {
     "name": "stdout",
     "output_type": "stream",
     "text": [
      "['CRITICAL TEMPERATURE: 2.9 K']\n",
      "['Sr0.1Bi2Se3', ' 2.9 K']\n",
      "829 /home/louis/research/pdf_processor/processed_data/superconductivity_processed/physrevb.83.064504\n",
      "15000 characters = 3680 tokens\n"
     ]
    },
    {
     "name": "stderr",
     "output_type": "stream",
     "text": [
      "The attention mask and the pad token id were not set. As a consequence, you may observe unexpected behavior. Please pass your input's `attention_mask` to obtain reliable results.\n",
      "Setting `pad_token_id` to `eos_token_id`:128001 for open-end generation.\n"
     ]
    },
    {
     "name": "stdout",
     "output_type": "stream",
     "text": [
      "['CRITICAL TEMPERATURE: 0.7 K']\n",
      "['Ce2Pd1In8', ' 0.7 K']\n",
      "832 /home/louis/research/pdf_processor/processed_data/superconductivity_processed/physrevb.97.060509\n",
      "15000 characters = 3710 tokens\n"
     ]
    },
    {
     "name": "stderr",
     "output_type": "stream",
     "text": [
      "The attention mask and the pad token id were not set. As a consequence, you may observe unexpected behavior. Please pass your input's `attention_mask` to obtain reliable results.\n",
      "Setting `pad_token_id` to `eos_token_id`:128001 for open-end generation.\n"
     ]
    },
    {
     "name": "stdout",
     "output_type": "stream",
     "text": [
      "['CRITICAL TEMPERATURE: 33.36 K']\n",
      "['K1Ca2Fe4As4F2', ' 33.36 K']\n",
      "833 /home/louis/research/pdf_processor/processed_data/superconductivity_processed/physrevb.32.135\n",
      "12114 characters = 2834 tokens\n"
     ]
    },
    {
     "name": "stderr",
     "output_type": "stream",
     "text": [
      "The attention mask and the pad token id were not set. As a consequence, you may observe unexpected behavior. Please pass your input's `attention_mask` to obtain reliable results.\n",
      "Setting `pad_token_id` to `eos_token_id`:128001 for open-end generation.\n"
     ]
    },
    {
     "name": "stdout",
     "output_type": "stream",
     "text": [
      "['CRITICAL TEMPERATURE: 2.46 K']\n",
      "['Pd2Yb1Sn1', ' 2.46 K']\n",
      "837 /home/louis/research/pdf_processor/processed_data/superconductivity_processed/physrevb.80.140513\n",
      "14932 characters = 3766 tokens\n"
     ]
    },
    {
     "name": "stderr",
     "output_type": "stream",
     "text": [
      "The attention mask and the pad token id were not set. As a consequence, you may observe unexpected behavior. Please pass your input's `attention_mask` to obtain reliable results.\n",
      "Setting `pad_token_id` to `eos_token_id`:128001 for open-end generation.\n"
     ]
    },
    {
     "name": "stdout",
     "output_type": "stream",
     "text": [
      "['CRITICAL TEMPERATURE: 0.46 K']\n",
      "['Ce1Cu2Si2', ' 0.46 K']\n",
      "838 /home/louis/research/pdf_processor/processed_data/superconductivity_processed/physrevb.98.020503\n",
      "15000 characters = 3854 tokens\n"
     ]
    },
    {
     "name": "stderr",
     "output_type": "stream",
     "text": [
      "The attention mask and the pad token id were not set. As a consequence, you may observe unexpected behavior. Please pass your input's `attention_mask` to obtain reliable results.\n",
      "Setting `pad_token_id` to `eos_token_id`:128001 for open-end generation.\n"
     ]
    },
    {
     "name": "stdout",
     "output_type": "stream",
     "text": [
      "['CRITICAL TEMPERATURE: 1.3 K']\n",
      "['Na1Sn2As2', ' 1.3 K']\n",
      "840 /home/louis/research/pdf_processor/processed_data/superconductivity_processed/physrevb.66.012510\n",
      "15000 characters = 3708 tokens\n"
     ]
    },
    {
     "name": "stderr",
     "output_type": "stream",
     "text": [
      "The attention mask and the pad token id were not set. As a consequence, you may observe unexpected behavior. Please pass your input's `attention_mask` to obtain reliable results.\n",
      "Setting `pad_token_id` to `eos_token_id`:128001 for open-end generation.\n"
     ]
    },
    {
     "name": "stdout",
     "output_type": "stream",
     "text": [
      "['CRITICAL TEMPERATURE: 10 K']\n",
      "['Y2Cu2I2', ' 10 K']\n",
      "841 /home/louis/research/pdf_processor/processed_data/superconductivity_processed/physrevb.83.144511\n",
      "15000 characters = 3697 tokens\n"
     ]
    },
    {
     "name": "stderr",
     "output_type": "stream",
     "text": [
      "The attention mask and the pad token id were not set. As a consequence, you may observe unexpected behavior. Please pass your input's `attention_mask` to obtain reliable results.\n",
      "Setting `pad_token_id` to `eos_token_id`:128001 for open-end generation.\n"
     ]
    },
    {
     "name": "stdout",
     "output_type": "stream",
     "text": [
      "['CRITICAL TEMPERATURE: 32 K']\n",
      "['K0.8Fe2Se2', ' 32 K']\n",
      "842 /home/louis/research/pdf_processor/processed_data/superconductivity_processed/physrevb.86.220509\n",
      "15000 characters = 3466 tokens\n"
     ]
    },
    {
     "name": "stderr",
     "output_type": "stream",
     "text": [
      "The attention mask and the pad token id were not set. As a consequence, you may observe unexpected behavior. Please pass your input's `attention_mask` to obtain reliable results.\n",
      "Setting `pad_token_id` to `eos_token_id`:128001 for open-end generation.\n"
     ]
    },
    {
     "name": "stdout",
     "output_type": "stream",
     "text": [
      "['CRITICAL TEMPERATURE: 12 K']\n",
      "['Fe1Te0.6Se0.4', ' 12 K']\n",
      "849 /home/louis/research/pdf_processor/processed_data/superconductivity_processed/physrevb.84.174502\n",
      "15000 characters = 3718 tokens\n"
     ]
    },
    {
     "name": "stderr",
     "output_type": "stream",
     "text": [
      "The attention mask and the pad token id were not set. As a consequence, you may observe unexpected behavior. Please pass your input's `attention_mask` to obtain reliable results.\n",
      "Setting `pad_token_id` to `eos_token_id`:128001 for open-end generation.\n"
     ]
    },
    {
     "name": "stdout",
     "output_type": "stream",
     "text": [
      "['CRITICAL TEMPERATURE: 14.8 K']\n",
      "['Fe1Se0.42Te0.58', ' 14.8 K']\n",
      "850 /home/louis/research/pdf_processor/processed_data/superconductivity_processed/physrevb.79.132506\n",
      "13316 characters = 3667 tokens\n"
     ]
    },
    {
     "name": "stderr",
     "output_type": "stream",
     "text": [
      "The attention mask and the pad token id were not set. As a consequence, you may observe unexpected behavior. Please pass your input's `attention_mask` to obtain reliable results.\n",
      "Setting `pad_token_id` to `eos_token_id`:128001 for open-end generation.\n"
     ]
    },
    {
     "name": "stdout",
     "output_type": "stream",
     "text": [
      "['CRITICAL TEMPERATURE: 2.51 K']\n",
      "['Ba1Ni2P2', ' 2.51 K']\n",
      "855 /home/louis/research/pdf_processor/processed_data/superconductivity_processed/physrevb.54.6133\n",
      "14364 characters = 3432 tokens\n"
     ]
    },
    {
     "name": "stderr",
     "output_type": "stream",
     "text": [
      "The attention mask and the pad token id were not set. As a consequence, you may observe unexpected behavior. Please pass your input's `attention_mask` to obtain reliable results.\n",
      "Setting `pad_token_id` to `eos_token_id`:128001 for open-end generation.\n"
     ]
    },
    {
     "name": "stdout",
     "output_type": "stream",
     "text": [
      "['CRITICAL TEMPERATURE: 31.8 K']\n",
      "['BaKBi1O3', ' 31.8 K']\n",
      "863 /home/louis/research/pdf_processor/processed_data/superconductivity_processed/physrevb.52.7647\n",
      "15000 characters = 3443 tokens\n"
     ]
    },
    {
     "name": "stderr",
     "output_type": "stream",
     "text": [
      "The attention mask and the pad token id were not set. As a consequence, you may observe unexpected behavior. Please pass your input's `attention_mask` to obtain reliable results.\n",
      "Setting `pad_token_id` to `eos_token_id`:128001 for open-end generation.\n"
     ]
    },
    {
     "name": "stdout",
     "output_type": "stream",
     "text": [
      "['CRITICAL TEMPERATURE: 92 K']\n",
      "['Bi2Sr2Ca1Cu2O8+y', ' 92 K']\n",
      "865 /home/louis/research/pdf_processor/processed_data/superconductivity_processed/physrevb.41.2520\n",
      "11640 characters = 2650 tokens\n"
     ]
    },
    {
     "name": "stderr",
     "output_type": "stream",
     "text": [
      "The attention mask and the pad token id were not set. As a consequence, you may observe unexpected behavior. Please pass your input's `attention_mask` to obtain reliable results.\n",
      "Setting `pad_token_id` to `eos_token_id`:128001 for open-end generation.\n"
     ]
    },
    {
     "name": "stdout",
     "output_type": "stream",
     "text": [
      "['CRITICAL TEMPERATURE: 9.5 K']\n",
      "['La1.96Sr0.04Cu1O4', ' 9.5 K']\n",
      "866 /home/louis/research/pdf_processor/processed_data/superconductivity_processed/physrevb.64.094520\n",
      "15000 characters = 3609 tokens\n"
     ]
    },
    {
     "name": "stderr",
     "output_type": "stream",
     "text": [
      "The attention mask and the pad token id were not set. As a consequence, you may observe unexpected behavior. Please pass your input's `attention_mask` to obtain reliable results.\n",
      "Setting `pad_token_id` to `eos_token_id`:128001 for open-end generation.\n"
     ]
    },
    {
     "name": "stdout",
     "output_type": "stream",
     "text": [
      "['CRITICAL TEMPERATURE: 1.6 K']\n",
      "['Dy1Mo6S8', ' 1.6 K']\n",
      "868 /home/louis/research/pdf_processor/processed_data/superconductivity_processed/physrevb.90.224410\n",
      "15000 characters = 3648 tokens\n"
     ]
    },
    {
     "name": "stderr",
     "output_type": "stream",
     "text": [
      "The attention mask and the pad token id were not set. As a consequence, you may observe unexpected behavior. Please pass your input's `attention_mask` to obtain reliable results.\n",
      "Setting `pad_token_id` to `eos_token_id`:128001 for open-end generation.\n"
     ]
    },
    {
     "name": "stdout",
     "output_type": "stream",
     "text": [
      "['CRITICAL TEMPERATURE: 4.5 K']\n",
      "['Ce1Bi1S2F0.7O0.3', ' 4.5 K']\n",
      "869 /home/louis/research/pdf_processor/processed_data/superconductivity_processed/physrevb.77.184512\n",
      "15000 characters = 4142 tokens\n"
     ]
    },
    {
     "name": "stderr",
     "output_type": "stream",
     "text": [
      "The attention mask and the pad token id were not set. As a consequence, you may observe unexpected behavior. Please pass your input's `attention_mask` to obtain reliable results.\n",
      "Setting `pad_token_id` to `eos_token_id`:128001 for open-end generation.\n"
     ]
    },
    {
     "name": "stdout",
     "output_type": "stream",
     "text": [
      "['CRITICAL TEMPERATURE: 1.6 K']\n",
      "['Sr0.9La0.1Cu1O2', ' 1.6 K']\n",
      "870 /home/louis/research/pdf_processor/processed_data/superconductivity_processed/physrevb.85.224504\n",
      "15000 characters = 4051 tokens\n"
     ]
    },
    {
     "name": "stderr",
     "output_type": "stream",
     "text": [
      "The attention mask and the pad token id were not set. As a consequence, you may observe unexpected behavior. Please pass your input's `attention_mask` to obtain reliable results.\n",
      "Setting `pad_token_id` to `eos_token_id`:128001 for open-end generation.\n"
     ]
    },
    {
     "name": "stdout",
     "output_type": "stream",
     "text": [
      "['CRITICAL TEMPERATURE: 32.5 K']\n",
      "['Ba0.55K0.45Fe1.95Co0.05As2', ' 32.5 K']\n",
      "872 /home/louis/research/pdf_processor/processed_data/superconductivity_processed/physrevb.79.172506\n",
      "10051 characters = 2595 tokens\n"
     ]
    },
    {
     "name": "stderr",
     "output_type": "stream",
     "text": [
      "The attention mask and the pad token id were not set. As a consequence, you may observe unexpected behavior. Please pass your input's `attention_mask` to obtain reliable results.\n",
      "Setting `pad_token_id` to `eos_token_id`:128001 for open-end generation.\n"
     ]
    },
    {
     "name": "stdout",
     "output_type": "stream",
     "text": [
      "['CRITICAL TEMPERATURE: 35 K']\n",
      "['Ba1Fe2As2', ' 35 K']\n",
      "877 /home/louis/research/pdf_processor/processed_data/superconductivity_processed/physrevb.95.064514\n",
      "14354 characters = 3250 tokens\n"
     ]
    },
    {
     "name": "stderr",
     "output_type": "stream",
     "text": [
      "The attention mask and the pad token id were not set. As a consequence, you may observe unexpected behavior. Please pass your input's `attention_mask` to obtain reliable results.\n",
      "Setting `pad_token_id` to `eos_token_id`:128001 for open-end generation.\n"
     ]
    },
    {
     "name": "stdout",
     "output_type": "stream",
     "text": [
      "['CRITICAL TEMPERATURE: 6 K']\n",
      "['Ge1Sb2Te4', ' 6 K']\n",
      "878 /home/louis/research/pdf_processor/processed_data/superconductivity_processed/physrevb.65.184514\n",
      "15000 characters = 3973 tokens\n"
     ]
    },
    {
     "name": "stderr",
     "output_type": "stream",
     "text": [
      "The attention mask and the pad token id were not set. As a consequence, you may observe unexpected behavior. Please pass your input's `attention_mask` to obtain reliable results.\n",
      "Setting `pad_token_id` to `eos_token_id`:128001 for open-end generation.\n"
     ]
    },
    {
     "name": "stdout",
     "output_type": "stream",
     "text": [
      "['CRITICAL TEMPERATURE: 39 K']\n",
      "['Mg0.99Al0.01B2', ' 39 K']\n",
      "880 /home/louis/research/pdf_processor/processed_data/superconductivity_processed/physrevb.87.104515\n",
      "15000 characters = 3661 tokens\n"
     ]
    },
    {
     "name": "stderr",
     "output_type": "stream",
     "text": [
      "The attention mask and the pad token id were not set. As a consequence, you may observe unexpected behavior. Please pass your input's `attention_mask` to obtain reliable results.\n",
      "Setting `pad_token_id` to `eos_token_id`:128001 for open-end generation.\n"
     ]
    },
    {
     "name": "stdout",
     "output_type": "stream",
     "text": [
      "['CRITICAL TEMPERATURE: 2.35 K']\n",
      "['Mo3Sb7', ' 2.35 K']\n",
      "882 /home/louis/research/pdf_processor/processed_data/superconductivity_processed/physrevb.49.3502\n",
      "15000 characters = 3558 tokens\n"
     ]
    },
    {
     "name": "stderr",
     "output_type": "stream",
     "text": [
      "The attention mask and the pad token id were not set. As a consequence, you may observe unexpected behavior. Please pass your input's `attention_mask` to obtain reliable results.\n",
      "Setting `pad_token_id` to `eos_token_id`:128001 for open-end generation.\n"
     ]
    },
    {
     "name": "stdout",
     "output_type": "stream",
     "text": [
      "['CRITICAL TEMPERATURE: 32 K']\n",
      "['Ba0.64K0.36Bi1O3', ' 32 K']\n",
      "883 /home/louis/research/pdf_processor/processed_data/superconductivity_processed/physrevb.100.014507\n",
      "15000 characters = 3655 tokens\n"
     ]
    },
    {
     "name": "stderr",
     "output_type": "stream",
     "text": [
      "The attention mask and the pad token id were not set. As a consequence, you may observe unexpected behavior. Please pass your input's `attention_mask` to obtain reliable results.\n",
      "Setting `pad_token_id` to `eos_token_id`:128001 for open-end generation.\n"
     ]
    },
    {
     "name": "stdout",
     "output_type": "stream",
     "text": [
      "['CRITICAL TEMPERATURE: 8.0 K']\n",
      "['Pd1S2', ' 8.0 K']\n",
      "886 /home/louis/research/pdf_processor/processed_data/superconductivity_processed/physrevb.94.035130\n",
      "15000 characters = 3708 tokens\n"
     ]
    },
    {
     "name": "stderr",
     "output_type": "stream",
     "text": [
      "The attention mask and the pad token id were not set. As a consequence, you may observe unexpected behavior. Please pass your input's `attention_mask` to obtain reliable results.\n",
      "Setting `pad_token_id` to `eos_token_id`:128001 for open-end generation.\n"
     ]
    },
    {
     "name": "stdout",
     "output_type": "stream",
     "text": [
      "['CRITICAL TEMPERATURE: 0.97 K']\n",
      "['Y1Pt1Bi1', ' 0.97 K']\n",
      "894 /home/louis/research/pdf_processor/processed_data/superconductivity_processed/physrevb.60.7512\n",
      "15000 characters = 3823 tokens\n"
     ]
    },
    {
     "name": "stderr",
     "output_type": "stream",
     "text": [
      "The attention mask and the pad token id were not set. As a consequence, you may observe unexpected behavior. Please pass your input's `attention_mask` to obtain reliable results.\n",
      "Setting `pad_token_id` to `eos_token_id`:128001 for open-end generation.\n"
     ]
    },
    {
     "name": "stdout",
     "output_type": "stream",
     "text": [
      "['CRITICAL TEMPERATURE: 0.46 K']\n",
      "['Ru1Sr2Gd1Cu2O8', ' 0.46 K']\n",
      "896 /home/louis/research/pdf_processor/processed_data/superconductivity_processed/physrevb.94.180509\n",
      "15000 characters = 3744 tokens\n"
     ]
    },
    {
     "name": "stderr",
     "output_type": "stream",
     "text": [
      "The attention mask and the pad token id were not set. As a consequence, you may observe unexpected behavior. Please pass your input's `attention_mask` to obtain reliable results.\n",
      "Setting `pad_token_id` to `eos_token_id`:128001 for open-end generation.\n"
     ]
    },
    {
     "name": "stdout",
     "output_type": "stream",
     "text": [
      "['CRITICAL TEMPERATURE: 84 K']\n",
      "['Y1Sr2Mo0.25Cu2.75O7.54', ' 84 K']\n",
      "898 /home/louis/research/pdf_processor/processed_data/superconductivity_processed/physrevb.61.778\n",
      "15000 characters = 3881 tokens\n"
     ]
    },
    {
     "name": "stderr",
     "output_type": "stream",
     "text": [
      "The attention mask and the pad token id were not set. As a consequence, you may observe unexpected behavior. Please pass your input's `attention_mask` to obtain reliable results.\n",
      "Setting `pad_token_id` to `eos_token_id`:128001 for open-end generation.\n"
     ]
    },
    {
     "name": "stdout",
     "output_type": "stream",
     "text": [
      "['CRITICAL TEMPERATURE: 80 K']\n",
      "['Sr2.3Ca0.7Cu2Cl1.3O4+z', ' 80 K']\n",
      "900 /home/louis/research/pdf_processor/processed_data/superconductivity_processed/physrevb.65.214518\n",
      "15000 characters = 3748 tokens\n"
     ]
    },
    {
     "name": "stderr",
     "output_type": "stream",
     "text": [
      "The attention mask and the pad token id were not set. As a consequence, you may observe unexpected behavior. Please pass your input's `attention_mask` to obtain reliable results.\n",
      "Setting `pad_token_id` to `eos_token_id`:128001 for open-end generation.\n"
     ]
    },
    {
     "name": "stdout",
     "output_type": "stream",
     "text": [
      "['CRITICAL TEMPERATURE: 7.2 K']\n",
      "['Mg1Cu1Ni3', ' 7.2 K']\n",
      "901 /home/louis/research/pdf_processor/processed_data/superconductivity_processed/physrevb.97.014501\n",
      "15000 characters = 3964 tokens\n"
     ]
    },
    {
     "name": "stderr",
     "output_type": "stream",
     "text": [
      "The attention mask and the pad token id were not set. As a consequence, you may observe unexpected behavior. Please pass your input's `attention_mask` to obtain reliable results.\n",
      "Setting `pad_token_id` to `eos_token_id`:128001 for open-end generation.\n"
     ]
    },
    {
     "name": "stdout",
     "output_type": "stream",
     "text": [
      "['CRITICAL TEMPERATURE: 3.3 K']\n",
      "['Au1Be1', ' 3.3 K']\n",
      "905 /home/louis/research/pdf_processor/processed_data/superconductivity_processed/physrevb.50.496\n",
      "15000 characters = 3686 tokens\n"
     ]
    },
    {
     "name": "stderr",
     "output_type": "stream",
     "text": [
      "The attention mask and the pad token id were not set. As a consequence, you may observe unexpected behavior. Please pass your input's `attention_mask` to obtain reliable results.\n",
      "Setting `pad_token_id` to `eos_token_id`:128001 for open-end generation.\n"
     ]
    },
    {
     "name": "stdout",
     "output_type": "stream",
     "text": [
      "['CRITICAL TEMPERATURE: 7.5 K']\n",
      "['Bi2Sr1.9Cu2.1Ox', ' 7.5 K']\n",
      "906 /home/louis/research/pdf_processor/processed_data/superconductivity_processed/physrevb.30.1182\n",
      "15000 characters = 3524 tokens\n"
     ]
    },
    {
     "name": "stderr",
     "output_type": "stream",
     "text": [
      "The attention mask and the pad token id were not set. As a consequence, you may observe unexpected behavior. Please pass your input's `attention_mask` to obtain reliable results.\n",
      "Setting `pad_token_id` to `eos_token_id`:128001 for open-end generation.\n"
     ]
    },
    {
     "name": "stdout",
     "output_type": "stream",
     "text": [
      "['CRITICAL TEMPERATURE: 2 K']\n",
      "['Ce1Cu2Si2', ' 2 K']\n",
      "908 /home/louis/research/pdf_processor/processed_data/superconductivity_processed/physrevb.96.094523\n",
      "15000 characters = 3769 tokens\n"
     ]
    },
    {
     "name": "stderr",
     "output_type": "stream",
     "text": [
      "The attention mask and the pad token id were not set. As a consequence, you may observe unexpected behavior. Please pass your input's `attention_mask` to obtain reliable results.\n",
      "Setting `pad_token_id` to `eos_token_id`:128001 for open-end generation.\n"
     ]
    },
    {
     "name": "stdout",
     "output_type": "stream",
     "text": [
      "['CRITICAL TEMPERATURE: 22.3 K']\n",
      "['Ba1Fe1.864Rh0.136As2', ' 22.3 K']\n",
      "909 /home/louis/research/pdf_processor/processed_data/superconductivity_processed/physrevb.55.r8674\n",
      "15000 characters = 3681 tokens\n"
     ]
    },
    {
     "name": "stderr",
     "output_type": "stream",
     "text": [
      "The attention mask and the pad token id were not set. As a consequence, you may observe unexpected behavior. Please pass your input's `attention_mask` to obtain reliable results.\n",
      "Setting `pad_token_id` to `eos_token_id`:128001 for open-end generation.\n"
     ]
    },
    {
     "name": "stdout",
     "output_type": "stream",
     "text": [
      "['CRITICAL TEMPERATURE: 110.4 K']\n",
      "['Hg1Ba2Ca2Cu3O8+y', ' 110.4 K']\n",
      "912 /home/louis/research/pdf_processor/processed_data/superconductivity_processed/physrevb.93.214503\n",
      "15000 characters = 3955 tokens\n"
     ]
    },
    {
     "name": "stderr",
     "output_type": "stream",
     "text": [
      "The attention mask and the pad token id were not set. As a consequence, you may observe unexpected behavior. Please pass your input's `attention_mask` to obtain reliable results.\n",
      "Setting `pad_token_id` to `eos_token_id`:128001 for open-end generation.\n"
     ]
    },
    {
     "name": "stdout",
     "output_type": "stream",
     "text": [
      "['CRITICAL TEMPERATURE: 36.5 K']\n",
      "['Rb1Eu1Fe4As4', ' 36.5 K']\n",
      "918 /home/louis/research/pdf_processor/processed_data/superconductivity_processed/physrevb.99.134509\n",
      "15000 characters = 3853 tokens\n"
     ]
    },
    {
     "name": "stderr",
     "output_type": "stream",
     "text": [
      "The attention mask and the pad token id were not set. As a consequence, you may observe unexpected behavior. Please pass your input's `attention_mask` to obtain reliable results.\n",
      "Setting `pad_token_id` to `eos_token_id`:128001 for open-end generation.\n"
     ]
    },
    {
     "name": "stdout",
     "output_type": "stream",
     "text": [
      "['CRITICAL TEMPERATURE: 3.2 K']\n",
      "['Au1Be1', ' 3.2 K']\n",
      "919 /home/louis/research/pdf_processor/processed_data/superconductivity_processed/physrevb.52.483\n",
      "15000 characters = 3723 tokens\n"
     ]
    },
    {
     "name": "stderr",
     "output_type": "stream",
     "text": [
      "The attention mask and the pad token id were not set. As a consequence, you may observe unexpected behavior. Please pass your input's `attention_mask` to obtain reliable results.\n",
      "Setting `pad_token_id` to `eos_token_id`:128001 for open-end generation.\n"
     ]
    },
    {
     "name": "stdout",
     "output_type": "stream",
     "text": [
      "['CRITICAL TEMPERATURE: 28 K']\n",
      "['K3N1H3C60', ' 28 K']\n",
      "926 /home/louis/research/pdf_processor/processed_data/superconductivity_processed/physrevb.71.064505\n",
      "13809 characters = 3523 tokens\n"
     ]
    },
    {
     "name": "stderr",
     "output_type": "stream",
     "text": [
      "The attention mask and the pad token id were not set. As a consequence, you may observe unexpected behavior. Please pass your input's `attention_mask` to obtain reliable results.\n",
      "Setting `pad_token_id` to `eos_token_id`:128001 for open-end generation.\n"
     ]
    },
    {
     "name": "stdout",
     "output_type": "stream",
     "text": [
      "['CRITICAL TEMPERATURE: 4.4 K']\n",
      "['Cu1.3K0.2Co1.5S4', ' 4.4 K']\n",
      "928 /home/louis/research/pdf_processor/processed_data/superconductivity_processed/physrevb.84.214527\n",
      "15000 characters = 3666 tokens\n"
     ]
    },
    {
     "name": "stderr",
     "output_type": "stream",
     "text": [
      "The attention mask and the pad token id were not set. As a consequence, you may observe unexpected behavior. Please pass your input's `attention_mask` to obtain reliable results.\n",
      "Setting `pad_token_id` to `eos_token_id`:128001 for open-end generation.\n"
     ]
    },
    {
     "name": "stdout",
     "output_type": "stream",
     "text": [
      "['CRITICAL TEMPERATURE: 7.8 K']\n",
      "['La1Ru3Si2', ' 7.8 K']\n",
      "931 /home/louis/research/pdf_processor/processed_data/superconductivity_processed/physrevb.68.180502\n",
      "14487 characters = 3312 tokens\n"
     ]
    },
    {
     "name": "stderr",
     "output_type": "stream",
     "text": [
      "The attention mask and the pad token id were not set. As a consequence, you may observe unexpected behavior. Please pass your input's `attention_mask` to obtain reliable results.\n",
      "Setting `pad_token_id` to `eos_token_id`:128001 for open-end generation.\n"
     ]
    },
    {
     "name": "stdout",
     "output_type": "stream",
     "text": [
      "['CRITICAL TEMPERATURE: 7.2 K']\n",
      "['Mg1C1Ni3', ' 7.2 K']\n",
      "935 /home/louis/research/pdf_processor/processed_data/superconductivity_processed/physrevb.68.214518\n",
      "15000 characters = 4276 tokens\n"
     ]
    },
    {
     "name": "stderr",
     "output_type": "stream",
     "text": [
      "The attention mask and the pad token id were not set. As a consequence, you may observe unexpected behavior. Please pass your input's `attention_mask` to obtain reliable results.\n",
      "Setting `pad_token_id` to `eos_token_id`:128001 for open-end generation.\n"
     ]
    },
    {
     "name": "stdout",
     "output_type": "stream",
     "text": [
      "['CRITICAL TEMPERATURE: 7.3 K']\n",
      "['Er1Ni1.96Fe0.04B2C0.99', ' 7.3 K']\n",
      "940 /home/louis/research/pdf_processor/processed_data/superconductivity_processed/physrevb.59.11179\n",
      "15000 characters = 3663 tokens\n"
     ]
    },
    {
     "name": "stderr",
     "output_type": "stream",
     "text": [
      "The attention mask and the pad token id were not set. As a consequence, you may observe unexpected behavior. Please pass your input's `attention_mask` to obtain reliable results.\n",
      "Setting `pad_token_id` to `eos_token_id`:128001 for open-end generation.\n"
     ]
    },
    {
     "name": "stdout",
     "output_type": "stream",
     "text": [
      "['CRITICAL TEMPERATURE: 79 K']\n",
      "['Bi2Sr2Ca1Cu2O8+X', ' 79 K']\n",
      "941 /home/louis/research/pdf_processor/processed_data/superconductivity_processed/physrevb.82.024503\n",
      "15000 characters = 3762 tokens\n"
     ]
    },
    {
     "name": "stderr",
     "output_type": "stream",
     "text": [
      "The attention mask and the pad token id were not set. As a consequence, you may observe unexpected behavior. Please pass your input's `attention_mask` to obtain reliable results.\n",
      "Setting `pad_token_id` to `eos_token_id`:128001 for open-end generation.\n"
     ]
    },
    {
     "name": "stdout",
     "output_type": "stream",
     "text": [
      "['CRITICAL TEMPERATURE: 2.3 K']\n",
      "['Pb1.16Ti2Se5.16', ' 2.3 K']\n",
      "944 /home/louis/research/pdf_processor/processed_data/superconductivity_processed/physrevb.99.054503\n",
      "15000 characters = 3393 tokens\n"
     ]
    },
    {
     "name": "stderr",
     "output_type": "stream",
     "text": [
      "The attention mask and the pad token id were not set. As a consequence, you may observe unexpected behavior. Please pass your input's `attention_mask` to obtain reliable results.\n",
      "Setting `pad_token_id` to `eos_token_id`:128001 for open-end generation.\n"
     ]
    },
    {
     "name": "stdout",
     "output_type": "stream",
     "text": [
      "['CRITICAL TEMPERATURE: 10 K']\n",
      "['Ga41Mo1', ' 10 K']\n",
      "948 /home/louis/research/pdf_processor/processed_data/superconductivity_processed/physrevb.79.054520\n",
      "15000 characters = 3665 tokens\n"
     ]
    },
    {
     "name": "stderr",
     "output_type": "stream",
     "text": [
      "The attention mask and the pad token id were not set. As a consequence, you may observe unexpected behavior. Please pass your input's `attention_mask` to obtain reliable results.\n",
      "Setting `pad_token_id` to `eos_token_id`:128001 for open-end generation.\n"
     ]
    },
    {
     "name": "stdout",
     "output_type": "stream",
     "text": [
      "['CRITICAL TEMPERATURE: 4.62 K']\n",
      "['Th1Pt4Ge12', ' 4.62 K']\n",
      "949 /home/louis/research/pdf_processor/processed_data/superconductivity_processed/physrevb.77.180504\n",
      "15000 characters = 3982 tokens\n"
     ]
    },
    {
     "name": "stderr",
     "output_type": "stream",
     "text": [
      "The attention mask and the pad token id were not set. As a consequence, you may observe unexpected behavior. Please pass your input's `attention_mask` to obtain reliable results.\n",
      "Setting `pad_token_id` to `eos_token_id`:128001 for open-end generation.\n"
     ]
    },
    {
     "name": "stdout",
     "output_type": "stream",
     "text": [
      "['CRITICAL TEMPERATURE: 4.62 K']\n",
      "['Th1Pt4Ge12', ' 4.62 K']\n",
      "950 /home/louis/research/pdf_processor/processed_data/superconductivity_processed/physrevb.65.140501\n",
      "15000 characters = 3768 tokens\n"
     ]
    },
    {
     "name": "stderr",
     "output_type": "stream",
     "text": [
      "The attention mask and the pad token id were not set. As a consequence, you may observe unexpected behavior. Please pass your input's `attention_mask` to obtain reliable results.\n",
      "Setting `pad_token_id` to `eos_token_id`:128001 for open-end generation.\n"
     ]
    },
    {
     "name": "stdout",
     "output_type": "stream",
     "text": [
      "['CRITICAL TEMPERATURE: 38.5 K']\n",
      "['B2Mg1', ' 38.5 K']\n",
      "951 /home/louis/research/pdf_processor/processed_data/superconductivity_processed/physrevb.80.220509\n",
      "15000 characters = 3945 tokens\n"
     ]
    },
    {
     "name": "stderr",
     "output_type": "stream",
     "text": [
      "The attention mask and the pad token id were not set. As a consequence, you may observe unexpected behavior. Please pass your input's `attention_mask` to obtain reliable results.\n",
      "Setting `pad_token_id` to `eos_token_id`:128001 for open-end generation.\n"
     ]
    },
    {
     "name": "stdout",
     "output_type": "stream",
     "text": [
      "['CRITICAL TEMPERATURE: 7.4 K']\n",
      "['La1Fe1P1O1', ' 7.4 K']\n",
      "952 /home/louis/research/pdf_processor/processed_data/superconductivity_processed/physrevb.94.054517\n",
      "15000 characters = 3603 tokens\n"
     ]
    },
    {
     "name": "stderr",
     "output_type": "stream",
     "text": [
      "The attention mask and the pad token id were not set. As a consequence, you may observe unexpected behavior. Please pass your input's `attention_mask` to obtain reliable results.\n",
      "Setting `pad_token_id` to `eos_token_id`:128001 for open-end generation.\n"
     ]
    },
    {
     "name": "stdout",
     "output_type": "stream",
     "text": [
      "['CRITICAL TEMPERATURE: 4.8 K']\n",
      "['Hf1Te5', ' 4.8 K']\n",
      "954 /home/louis/research/pdf_processor/processed_data/superconductivity_processed/physrevb.72.144504\n",
      "15000 characters = 3959 tokens\n"
     ]
    },
    {
     "name": "stderr",
     "output_type": "stream",
     "text": [
      "The attention mask and the pad token id were not set. As a consequence, you may observe unexpected behavior. Please pass your input's `attention_mask` to obtain reliable results.\n",
      "Setting `pad_token_id` to `eos_token_id`:128001 for open-end generation.\n"
     ]
    },
    {
     "name": "stdout",
     "output_type": "stream",
     "text": [
      "['CRITICAL TEMPERATURE: 1.4 K']\n",
      "['Ba24Si100', ' 1.4 K']\n",
      "955 /home/louis/research/pdf_processor/processed_data/superconductivity_processed/physrevb.78.100507\n",
      "11548 characters = 2865 tokens\n"
     ]
    },
    {
     "name": "stderr",
     "output_type": "stream",
     "text": [
      "The attention mask and the pad token id were not set. As a consequence, you may observe unexpected behavior. Please pass your input's `attention_mask` to obtain reliable results.\n",
      "Setting `pad_token_id` to `eos_token_id`:128001 for open-end generation.\n"
     ]
    },
    {
     "name": "stdout",
     "output_type": "stream",
     "text": [
      "['CRITICAL TEMPERATURE: 55 K']\n",
      "['La1Fe1As1F0.1O0.9', ' 55 K']\n",
      "958 /home/louis/research/pdf_processor/processed_data/superconductivity_processed/physrevb.80.172501\n",
      "15000 characters = 3659 tokens\n"
     ]
    },
    {
     "name": "stderr",
     "output_type": "stream",
     "text": [
      "The attention mask and the pad token id were not set. As a consequence, you may observe unexpected behavior. Please pass your input's `attention_mask` to obtain reliable results.\n",
      "Setting `pad_token_id` to `eos_token_id`:128001 for open-end generation.\n"
     ]
    },
    {
     "name": "stdout",
     "output_type": "stream",
     "text": [
      "['CRITICAL TEMPERATURE: 17 K']\n",
      "['U1Ru2Si2', ' 17 K']\n",
      "959 /home/louis/research/pdf_processor/processed_data/superconductivity_processed/physrevb.59.14753\n",
      "15000 characters = 3755 tokens\n"
     ]
    },
    {
     "name": "stderr",
     "output_type": "stream",
     "text": [
      "The attention mask and the pad token id were not set. As a consequence, you may observe unexpected behavior. Please pass your input's `attention_mask` to obtain reliable results.\n",
      "Setting `pad_token_id` to `eos_token_id`:128001 for open-end generation.\n"
     ]
    },
    {
     "name": "stdout",
     "output_type": "stream",
     "text": [
      "['CRITICAL TEMPERATURE: 31 K']\n",
      "['La1.905Ba0.095Cu1O4', ' 31 K']\n",
      "960 /home/louis/research/pdf_processor/processed_data/superconductivity_processed/physrevb.92.024511\n",
      "15000 characters = 3556 tokens\n"
     ]
    },
    {
     "name": "stderr",
     "output_type": "stream",
     "text": [
      "The attention mask and the pad token id were not set. As a consequence, you may observe unexpected behavior. Please pass your input's `attention_mask` to obtain reliable results.\n",
      "Setting `pad_token_id` to `eos_token_id`:128001 for open-end generation.\n"
     ]
    },
    {
     "name": "stdout",
     "output_type": "stream",
     "text": [
      "['CRITICAL TEMPERATURE: 0.75 K']\n",
      "['Th1Pt3B1', ' 0.75 K']\n",
      "963 /home/louis/research/pdf_processor/processed_data/superconductivity_processed/physrevb.64.224420\n",
      "15000 characters = 3745 tokens\n"
     ]
    },
    {
     "name": "stderr",
     "output_type": "stream",
     "text": [
      "The attention mask and the pad token id were not set. As a consequence, you may observe unexpected behavior. Please pass your input's `attention_mask` to obtain reliable results.\n",
      "Setting `pad_token_id` to `eos_token_id`:128001 for open-end generation.\n"
     ]
    },
    {
     "name": "stdout",
     "output_type": "stream",
     "text": [
      "['CRITICAL TEMPERATURE: 3.5 K']\n",
      "['La3Rh2Ge2', ' 3.5 K']\n",
      "964 /home/louis/research/pdf_processor/processed_data/superconductivity_processed/physrevb.79.020508\n",
      "15000 characters = 4203 tokens\n"
     ]
    },
    {
     "name": "stderr",
     "output_type": "stream",
     "text": [
      "The attention mask and the pad token id were not set. As a consequence, you may observe unexpected behavior. Please pass your input's `attention_mask` to obtain reliable results.\n",
      "Setting `pad_token_id` to `eos_token_id`:128001 for open-end generation.\n"
     ]
    },
    {
     "name": "stdout",
     "output_type": "stream",
     "text": [
      "['CRITICAL TEMPERATURE: 35 K']\n",
      "['Nd1Fe1As1F0.2O0.8', ' 35 K']\n",
      "968 /home/louis/research/pdf_processor/processed_data/superconductivity_processed/physrevb.53.8238\n",
      "9745 characters = 2286 tokens\n"
     ]
    },
    {
     "name": "stderr",
     "output_type": "stream",
     "text": [
      "The attention mask and the pad token id were not set. As a consequence, you may observe unexpected behavior. Please pass your input's `attention_mask` to obtain reliable results.\n",
      "Setting `pad_token_id` to `eos_token_id`:128001 for open-end generation.\n"
     ]
    },
    {
     "name": "stdout",
     "output_type": "stream",
     "text": [
      "['CRITICAL TEMPERATURE: 520 K']\n",
      "['La1', ' 520 K']\n",
      "977 /home/louis/research/pdf_processor/processed_data/superconductivity_processed/physrevb.97.064514\n",
      "15000 characters = 3666 tokens\n"
     ]
    },
    {
     "name": "stderr",
     "output_type": "stream",
     "text": [
      "The attention mask and the pad token id were not set. As a consequence, you may observe unexpected behavior. Please pass your input's `attention_mask` to obtain reliable results.\n",
      "Setting `pad_token_id` to `eos_token_id`:128001 for open-end generation.\n"
     ]
    },
    {
     "name": "stdout",
     "output_type": "stream",
     "text": [
      "['CRITICAL TEMPERATURE: 1.3 K']\n",
      "['Ce1Rh1Ge3', ' 1.3 K']\n",
      "980 /home/louis/research/pdf_processor/processed_data/superconductivity_processed/physrevb.91.024509\n",
      "15000 characters = 3940 tokens\n"
     ]
    },
    {
     "name": "stderr",
     "output_type": "stream",
     "text": [
      "The attention mask and the pad token id were not set. As a consequence, you may observe unexpected behavior. Please pass your input's `attention_mask` to obtain reliable results.\n",
      "Setting `pad_token_id` to `eos_token_id`:128001 for open-end generation.\n"
     ]
    },
    {
     "name": "stdout",
     "output_type": "stream",
     "text": [
      "['CRITICAL TEMPERATURE: 3.53 K']\n",
      "['Pd2Hf1Al1', ' 3.53 K']\n",
      "982 /home/louis/research/pdf_processor/processed_data/superconductivity_processed/physrevb.78.134504\n",
      "15000 characters = 3689 tokens\n"
     ]
    },
    {
     "name": "stderr",
     "output_type": "stream",
     "text": [
      "The attention mask and the pad token id were not set. As a consequence, you may observe unexpected behavior. Please pass your input's `attention_mask` to obtain reliable results.\n",
      "Setting `pad_token_id` to `eos_token_id`:128001 for open-end generation.\n"
     ]
    },
    {
     "name": "stdout",
     "output_type": "stream",
     "text": [
      "['CRITICAL TEMPERATURE: 0.44 K']\n",
      "['B12Lu1', ' 0.44 K']\n",
      "987 /home/louis/research/pdf_processor/processed_data/superconductivity_processed/physrevb.49.13075\n",
      "15000 characters = 4036 tokens\n"
     ]
    },
    {
     "name": "stderr",
     "output_type": "stream",
     "text": [
      "The attention mask and the pad token id were not set. As a consequence, you may observe unexpected behavior. Please pass your input's `attention_mask` to obtain reliable results.\n",
      "Setting `pad_token_id` to `eos_token_id`:128001 for open-end generation.\n"
     ]
    },
    {
     "name": "stdout",
     "output_type": "stream",
     "text": [
      "['CRITICAL TEMPERATURE: 94 K']\n",
      "['Hg1Ba2Cu1O4+d', ' 94 K']\n",
      "988 /home/louis/research/pdf_processor/processed_data/superconductivity_processed/physrevb.55.9125\n",
      "14088 characters = 3431 tokens\n"
     ]
    },
    {
     "name": "stderr",
     "output_type": "stream",
     "text": [
      "The attention mask and the pad token id were not set. As a consequence, you may observe unexpected behavior. Please pass your input's `attention_mask` to obtain reliable results.\n",
      "Setting `pad_token_id` to `eos_token_id`:128001 for open-end generation.\n"
     ]
    },
    {
     "name": "stdout",
     "output_type": "stream",
     "text": [
      "['CRITICAL TEMPERATURE: 90 K']\n",
      "['Bi2Sr2Ca1Cu2O8+y', ' 90 K']\n",
      "992 /home/louis/research/pdf_processor/processed_data/superconductivity_processed/physrevb.41.9551\n",
      "11162 characters = 2804 tokens\n"
     ]
    },
    {
     "name": "stderr",
     "output_type": "stream",
     "text": [
      "The attention mask and the pad token id were not set. As a consequence, you may observe unexpected behavior. Please pass your input's `attention_mask` to obtain reliable results.\n",
      "Setting `pad_token_id` to `eos_token_id`:128001 for open-end generation.\n"
     ]
    },
    {
     "name": "stdout",
     "output_type": "stream",
     "text": [
      "['CRITICAL TEMPERATURE: 30 K']\n",
      "['Bi2Sr2Ca1Cu2O8+z', ' 30 K']\n",
      "996 /home/louis/research/pdf_processor/processed_data/superconductivity_processed/physrevb.79.174511\n",
      "15000 characters = 3670 tokens\n"
     ]
    },
    {
     "name": "stderr",
     "output_type": "stream",
     "text": [
      "The attention mask and the pad token id were not set. As a consequence, you may observe unexpected behavior. Please pass your input's `attention_mask` to obtain reliable results.\n",
      "Setting `pad_token_id` to `eos_token_id`:128001 for open-end generation.\n"
     ]
    },
    {
     "name": "stdout",
     "output_type": "stream",
     "text": [
      "['CRITICAL TEMPERATURE: 1.85 K']\n",
      "['Pr1Os4Sb12', ' 1.85 K']\n",
      "1001 /home/louis/research/pdf_processor/processed_data/superconductivity_processed/physrevb.81.140507\n",
      "15000 characters = 3846 tokens\n"
     ]
    },
    {
     "name": "stderr",
     "output_type": "stream",
     "text": [
      "The attention mask and the pad token id were not set. As a consequence, you may observe unexpected behavior. Please pass your input's `attention_mask` to obtain reliable results.\n",
      "Setting `pad_token_id` to `eos_token_id`:128001 for open-end generation.\n"
     ]
    },
    {
     "name": "stdout",
     "output_type": "stream",
     "text": [
      "['CRITICAL TEMPERATURE: 1.5 K']\n",
      "['Ce1Ir1Ge3', ' 1.5 K']\n",
      "1003 /home/louis/research/pdf_processor/processed_data/superconductivity_processed/physrevb.56.8346\n",
      "15000 characters = 3397 tokens\n"
     ]
    },
    {
     "name": "stderr",
     "output_type": "stream",
     "text": [
      "The attention mask and the pad token id were not set. As a consequence, you may observe unexpected behavior. Please pass your input's `attention_mask` to obtain reliable results.\n",
      "Setting `pad_token_id` to `eos_token_id`:128001 for open-end generation.\n"
     ]
    },
    {
     "name": "stdout",
     "output_type": "stream",
     "text": [
      "['CRITICAL TEMPERATURE: 8.2 K']\n",
      "['Ca3Rh4Sn13', ' 8.2 K']\n",
      "1016 /home/louis/research/pdf_processor/processed_data/superconductivity_processed/physrevb.98.024520\n",
      "15000 characters = 3649 tokens\n"
     ]
    },
    {
     "name": "stderr",
     "output_type": "stream",
     "text": [
      "The attention mask and the pad token id were not set. As a consequence, you may observe unexpected behavior. Please pass your input's `attention_mask` to obtain reliable results.\n",
      "Setting `pad_token_id` to `eos_token_id`:128001 for open-end generation.\n"
     ]
    },
    {
     "name": "stdout",
     "output_type": "stream",
     "text": [
      "['CRITICAL TEMPERATURE: 2 K']\n",
      "['As1Cr1', ' 2 K']\n",
      "1019 /home/louis/research/pdf_processor/processed_data/superconductivity_processed/physrevb.84.104502\n",
      "15000 characters = 3986 tokens\n"
     ]
    },
    {
     "name": "stderr",
     "output_type": "stream",
     "text": [
      "The attention mask and the pad token id were not set. As a consequence, you may observe unexpected behavior. Please pass your input's `attention_mask` to obtain reliable results.\n",
      "Setting `pad_token_id` to `eos_token_id`:128001 for open-end generation.\n"
     ]
    },
    {
     "name": "stdout",
     "output_type": "stream",
     "text": [
      "['CRITICAL TEMPERATURE: 18 K']\n",
      "['Li1Fe1As1', ' 18 K']\n",
      "1023 /home/louis/research/pdf_processor/processed_data/superconductivity_processed/physrevb.59.r11668\n",
      "15000 characters = 3647 tokens\n"
     ]
    },
    {
     "name": "stderr",
     "output_type": "stream",
     "text": [
      "The attention mask and the pad token id were not set. As a consequence, you may observe unexpected behavior. Please pass your input's `attention_mask` to obtain reliable results.\n",
      "Setting `pad_token_id` to `eos_token_id`:128001 for open-end generation.\n"
     ]
    },
    {
     "name": "stdout",
     "output_type": "stream",
     "text": [
      "['CRITICAL TEMPERATURE: 82 K']\n",
      "['Y1Ba2Cu4O8', ' 82 K']\n",
      "1034 /home/louis/research/pdf_processor/processed_data/superconductivity_processed/physrevb.61.6303\n",
      "12073 characters = 3513 tokens\n"
     ]
    },
    {
     "name": "stderr",
     "output_type": "stream",
     "text": [
      "The attention mask and the pad token id were not set. As a consequence, you may observe unexpected behavior. Please pass your input's `attention_mask` to obtain reliable results.\n",
      "Setting `pad_token_id` to `eos_token_id`:128001 for open-end generation.\n"
     ]
    },
    {
     "name": "stdout",
     "output_type": "stream",
     "text": [
      "['CRITICAL TEMPERATURE: 22 K']\n",
      "['Eu1.5Ce0.5Sr2Cu1Ti1O10', ' 22 K']\n",
      "1041 /home/louis/research/pdf_processor/processed_data/superconductivity_processed/physrevb.88.184508\n",
      "13527 characters = 3353 tokens\n"
     ]
    },
    {
     "name": "stderr",
     "output_type": "stream",
     "text": [
      "The attention mask and the pad token id were not set. As a consequence, you may observe unexpected behavior. Please pass your input's `attention_mask` to obtain reliable results.\n",
      "Setting `pad_token_id` to `eos_token_id`:128001 for open-end generation.\n"
     ]
    },
    {
     "name": "stdout",
     "output_type": "stream",
     "text": [
      "['CRITICAL TEMPERATURE: 4 K']\n",
      "['Bi3Ni1', ' 4 K']\n",
      "1045 /home/louis/research/pdf_processor/processed_data/superconductivity_processed/physrevb.99.184513\n",
      "15000 characters = 3932 tokens\n"
     ]
    },
    {
     "name": "stderr",
     "output_type": "stream",
     "text": [
      "The attention mask and the pad token id were not set. As a consequence, you may observe unexpected behavior. Please pass your input's `attention_mask` to obtain reliable results.\n",
      "Setting `pad_token_id` to `eos_token_id`:128001 for open-end generation.\n"
     ]
    },
    {
     "name": "stdout",
     "output_type": "stream",
     "text": [
      "['CRITICAL TEMPERATURE: 5.5 K']\n",
      "['Mo3P1', ' 5.5 K']\n",
      "1046 /home/louis/research/pdf_processor/processed_data/superconductivity_processed/physrevb.84.220504\n",
      "15000 characters = 3509 tokens\n"
     ]
    },
    {
     "name": "stderr",
     "output_type": "stream",
     "text": [
      "The attention mask and the pad token id were not set. As a consequence, you may observe unexpected behavior. Please pass your input's `attention_mask` to obtain reliable results.\n",
      "Setting `pad_token_id` to `eos_token_id`:128001 for open-end generation.\n"
     ]
    },
    {
     "name": "stdout",
     "output_type": "stream",
     "text": [
      "['CRITICAL TEMPERATURE: 0.77 K']\n",
      "['Y1Pt1Bi1', ' 0.77 K']\n",
      "1047 /home/louis/research/pdf_processor/processed_data/superconductivity_processed/physrevb.39.9074\n",
      "15000 characters = 4001 tokens\n"
     ]
    },
    {
     "name": "stderr",
     "output_type": "stream",
     "text": [
      "The attention mask and the pad token id were not set. As a consequence, you may observe unexpected behavior. Please pass your input's `attention_mask` to obtain reliable results.\n",
      "Setting `pad_token_id` to `eos_token_id`:128001 for open-end generation.\n"
     ]
    },
    {
     "name": "stdout",
     "output_type": "stream",
     "text": [
      "['CRITICAL TEMPERATURE: 78.5 K']\n",
      "['La1Ba1Ca1Cu3O6.98', ' 78.5 K']\n",
      "1051 /home/louis/research/pdf_processor/processed_data/superconductivity_processed/physrevb.71.045109\n",
      "15000 characters = 3543 tokens\n"
     ]
    },
    {
     "name": "stderr",
     "output_type": "stream",
     "text": [
      "The attention mask and the pad token id were not set. As a consequence, you may observe unexpected behavior. Please pass your input's `attention_mask` to obtain reliable results.\n",
      "Setting `pad_token_id` to `eos_token_id`:128001 for open-end generation.\n"
     ]
    },
    {
     "name": "stdout",
     "output_type": "stream",
     "text": [
      "['CRITICAL TEMPERATURE: 3.5 K']\n",
      "['Lu2Ir3Si5', ' 3.5 K']\n",
      "1058 /home/louis/research/pdf_processor/processed_data/superconductivity_processed/physrevb.100.094511\n",
      "15000 characters = 3606 tokens\n"
     ]
    },
    {
     "name": "stderr",
     "output_type": "stream",
     "text": [
      "The attention mask and the pad token id were not set. As a consequence, you may observe unexpected behavior. Please pass your input's `attention_mask` to obtain reliable results.\n",
      "Setting `pad_token_id` to `eos_token_id`:128001 for open-end generation.\n"
     ]
    },
    {
     "name": "stdout",
     "output_type": "stream",
     "text": [
      "['CRITICAL TEMPERATURE: 7.17 K']\n",
      "['Rb1Cr3As3', ' 7.17 K']\n",
      "1062 /home/louis/research/pdf_processor/processed_data/superconductivity_processed/physrevb.85.024538\n",
      "15000 characters = 4446 tokens\n"
     ]
    },
    {
     "name": "stderr",
     "output_type": "stream",
     "text": [
      "The attention mask and the pad token id were not set. As a consequence, you may observe unexpected behavior. Please pass your input's `attention_mask` to obtain reliable results.\n",
      "Setting `pad_token_id` to `eos_token_id`:128001 for open-end generation.\n"
     ]
    },
    {
     "name": "stdout",
     "output_type": "stream",
     "text": [
      "['CRITICAL TEMPERATURE: 0.92 K']\n",
      "['Sr1Ni2Ge2', ' 0.92 K']\n",
      "1068 /home/louis/research/pdf_processor/processed_data/superconductivity_processed/physrevb.63.220508\n",
      "11820 characters = 2937 tokens\n"
     ]
    },
    {
     "name": "stderr",
     "output_type": "stream",
     "text": [
      "The attention mask and the pad token id were not set. As a consequence, you may observe unexpected behavior. Please pass your input's `attention_mask` to obtain reliable results.\n",
      "Setting `pad_token_id` to `eos_token_id`:128001 for open-end generation.\n"
     ]
    },
    {
     "name": "stdout",
     "output_type": "stream",
     "text": [
      "['CRITICAL TEMPERATURE: 39 K']\n",
      "['B2Mg1', ' 39 K']\n",
      "1070 /home/louis/research/pdf_processor/processed_data/superconductivity_processed/physrevb.87.020504\n",
      "14594 characters = 3624 tokens\n"
     ]
    },
    {
     "name": "stderr",
     "output_type": "stream",
     "text": [
      "The attention mask and the pad token id were not set. As a consequence, you may observe unexpected behavior. Please pass your input's `attention_mask` to obtain reliable results.\n",
      "Setting `pad_token_id` to `eos_token_id`:128001 for open-end generation.\n"
     ]
    },
    {
     "name": "stdout",
     "output_type": "stream",
     "text": [
      "['CRITICAL TEMPERATURE: 2.8 K']\n",
      "['Sr0.5La0.5F1Bi1S2', ' 2.8 K']\n",
      "1081 /home/louis/research/pdf_processor/processed_data/superconductivity_processed/physrevb.85.184501\n",
      "15000 characters = 3593 tokens\n"
     ]
    },
    {
     "name": "stderr",
     "output_type": "stream",
     "text": [
      "The attention mask and the pad token id were not set. As a consequence, you may observe unexpected behavior. Please pass your input's `attention_mask` to obtain reliable results.\n",
      "Setting `pad_token_id` to `eos_token_id`:128001 for open-end generation.\n"
     ]
    },
    {
     "name": "stdout",
     "output_type": "stream",
     "text": [
      "['CRITICAL TEMPERATURE: 22.2 K']\n",
      "['Ca0.67Sr0.33Fe2As2', ' 22.2 K']\n",
      "1083 /home/louis/research/pdf_processor/processed_data/superconductivity_processed/physrevb.79.140505\n",
      "13891 characters = 3518 tokens\n"
     ]
    },
    {
     "name": "stderr",
     "output_type": "stream",
     "text": [
      "The attention mask and the pad token id were not set. As a consequence, you may observe unexpected behavior. Please pass your input's `attention_mask` to obtain reliable results.\n",
      "Setting `pad_token_id` to `eos_token_id`:128001 for open-end generation.\n"
     ]
    },
    {
     "name": "stdout",
     "output_type": "stream",
     "text": [
      "['CRITICAL TEMPERATURE: 1.5 K']\n",
      "['B105', ' 1.5 K']\n",
      "1091 /home/louis/research/pdf_processor/processed_data/superconductivity_processed/physrevb.73.184521\n",
      "15000 characters = 3683 tokens\n"
     ]
    },
    {
     "name": "stderr",
     "output_type": "stream",
     "text": [
      "The attention mask and the pad token id were not set. As a consequence, you may observe unexpected behavior. Please pass your input's `attention_mask` to obtain reliable results.\n",
      "Setting `pad_token_id` to `eos_token_id`:128001 for open-end generation.\n"
     ]
    },
    {
     "name": "stdout",
     "output_type": "stream",
     "text": [
      "['CRITICAL TEMPERATURE: 12 K']\n",
      "['Li1Ti2O4', ' 12 K']\n",
      "1096 /home/louis/research/pdf_processor/processed_data/superconductivity_processed/physrevb.64.064514\n",
      "15000 characters = 3711 tokens\n"
     ]
    },
    {
     "name": "stderr",
     "output_type": "stream",
     "text": [
      "The attention mask and the pad token id were not set. As a consequence, you may observe unexpected behavior. Please pass your input's `attention_mask` to obtain reliable results.\n",
      "Setting `pad_token_id` to `eos_token_id`:128001 for open-end generation.\n"
     ]
    },
    {
     "name": "stdout",
     "output_type": "stream",
     "text": [
      "['CRITICAL TEMPERATURE: 4.4 K']\n",
      "['La2Rh3Si5', ' 4.4 K']\n",
      "1098 /home/louis/research/pdf_processor/processed_data/superconductivity_processed/physrevb.78.104527\n",
      "15000 characters = 3780 tokens\n"
     ]
    },
    {
     "name": "stderr",
     "output_type": "stream",
     "text": [
      "The attention mask and the pad token id were not set. As a consequence, you may observe unexpected behavior. Please pass your input's `attention_mask` to obtain reliable results.\n",
      "Setting `pad_token_id` to `eos_token_id`:128001 for open-end generation.\n"
     ]
    },
    {
     "name": "stdout",
     "output_type": "stream",
     "text": [
      "['CRITICAL TEMPERATURE: 38 K']\n",
      "['Ba0.55K0.45Fe2As2', ' 38 K']\n",
      "1105 /home/louis/research/pdf_processor/processed_data/superconductivity_processed/physrevb.90.220504\n",
      "15000 characters = 3769 tokens\n"
     ]
    },
    {
     "name": "stderr",
     "output_type": "stream",
     "text": [
      "The attention mask and the pad token id were not set. As a consequence, you may observe unexpected behavior. Please pass your input's `attention_mask` to obtain reliable results.\n",
      "Setting `pad_token_id` to `eos_token_id`:128001 for open-end generation.\n"
     ]
    },
    {
     "name": "stdout",
     "output_type": "stream",
     "text": [
      "['CRITICAL TEMPERATURE: 2.9 K']\n",
      "['C1.36Pb5Bi12Se23', ' 2.9 K']\n",
      "1106 /home/louis/research/pdf_processor/processed_data/superconductivity_processed/physrevb.64.100505\n",
      "14831 characters = 3496 tokens\n"
     ]
    },
    {
     "name": "stderr",
     "output_type": "stream",
     "text": [
      "The attention mask and the pad token id were not set. As a consequence, you may observe unexpected behavior. Please pass your input's `attention_mask` to obtain reliable results.\n",
      "Setting `pad_token_id` to `eos_token_id`:128001 for open-end generation.\n"
     ]
    },
    {
     "name": "stdout",
     "output_type": "stream",
     "text": [
      "['CRITICAL TEMPERATURE: 15 K']\n",
      "['Lu1Ni2B2C1', ' 15 K']\n",
      "1113 /home/louis/research/pdf_processor/processed_data/superconductivity_processed/physrevb.82.094502\n",
      "15000 characters = 3926 tokens\n"
     ]
    },
    {
     "name": "stderr",
     "output_type": "stream",
     "text": [
      "The attention mask and the pad token id were not set. As a consequence, you may observe unexpected behavior. Please pass your input's `attention_mask` to obtain reliable results.\n",
      "Setting `pad_token_id` to `eos_token_id`:128001 for open-end generation.\n"
     ]
    },
    {
     "name": "stdout",
     "output_type": "stream",
     "text": [
      "['CRITICAL TEMPERATURE: 30.5 K']\n",
      "['Ba1Fe2As1.3P0.7', ' 30.5 K']\n",
      "1118 /home/louis/research/pdf_processor/processed_data/superconductivity_processed/physrevb.39.7339\n",
      "14317 characters = 3594 tokens\n"
     ]
    },
    {
     "name": "stderr",
     "output_type": "stream",
     "text": [
      "The attention mask and the pad token id were not set. As a consequence, you may observe unexpected behavior. Please pass your input's `attention_mask` to obtain reliable results.\n",
      "Setting `pad_token_id` to `eos_token_id`:128001 for open-end generation.\n"
     ]
    },
    {
     "name": "stdout",
     "output_type": "stream",
     "text": [
      "['CRITICAL TEMPERATURE: 30 K']\n",
      "['Ba0.6K0.4Bi1O3-Z', ' 30 K']\n",
      "1122 /home/louis/research/pdf_processor/processed_data/superconductivity_processed/physrevb.96.144502\n",
      "15000 characters = 3801 tokens\n"
     ]
    },
    {
     "name": "stderr",
     "output_type": "stream",
     "text": [
      "The attention mask and the pad token id were not set. As a consequence, you may observe unexpected behavior. Please pass your input's `attention_mask` to obtain reliable results.\n",
      "Setting `pad_token_id` to `eos_token_id`:128001 for open-end generation.\n"
     ]
    },
    {
     "name": "stdout",
     "output_type": "stream",
     "text": [
      "['CRITICAL TEMPERATURE: 30 K']\n",
      "['Th1As1Fe1N1', ' 30 K']\n",
      "1129 /home/louis/research/pdf_processor/processed_data/superconductivity_processed/physrevb.86.220510\n",
      "15000 characters = 3886 tokens\n"
     ]
    },
    {
     "name": "stderr",
     "output_type": "stream",
     "text": [
      "The attention mask and the pad token id were not set. As a consequence, you may observe unexpected behavior. Please pass your input's `attention_mask` to obtain reliable results.\n",
      "Setting `pad_token_id` to `eos_token_id`:128001 for open-end generation.\n"
     ]
    },
    {
     "name": "stdout",
     "output_type": "stream",
     "text": [
      "['CRITICAL TEMPERATURE: 8.6 K']\n",
      "['Bi4S3O4', ' 8.6 K']\n",
      "1131 /home/louis/research/pdf_processor/processed_data/superconductivity_processed/physrevb.52.15534\n",
      "11933 characters = 2956 tokens\n"
     ]
    },
    {
     "name": "stderr",
     "output_type": "stream",
     "text": [
      "The attention mask and the pad token id were not set. As a consequence, you may observe unexpected behavior. Please pass your input's `attention_mask` to obtain reliable results.\n",
      "Setting `pad_token_id` to `eos_token_id`:128001 for open-end generation.\n"
     ]
    },
    {
     "name": "stdout",
     "output_type": "stream",
     "text": [
      "['CRITICAL TEMPERATURE: 2 K']\n",
      "['C60Sm3', ' 2 K']\n",
      "1135 /home/louis/research/pdf_processor/processed_data/superconductivity_processed/physrevb.53.12299\n",
      "15000 characters = 3777 tokens\n"
     ]
    },
    {
     "name": "stderr",
     "output_type": "stream",
     "text": [
      "The attention mask and the pad token id were not set. As a consequence, you may observe unexpected behavior. Please pass your input's `attention_mask` to obtain reliable results.\n",
      "Setting `pad_token_id` to `eos_token_id`:128001 for open-end generation.\n"
     ]
    },
    {
     "name": "stdout",
     "output_type": "stream",
     "text": [
      "['CRITICAL TEMPERATURE: 11 K']\n",
      "['Rh1Zr2', ' 11 K']\n",
      "1136 /home/louis/research/pdf_processor/processed_data/superconductivity_processed/physrevb.67.212504\n",
      "14149 characters = 3476 tokens\n"
     ]
    },
    {
     "name": "stderr",
     "output_type": "stream",
     "text": [
      "The attention mask and the pad token id were not set. As a consequence, you may observe unexpected behavior. Please pass your input's `attention_mask` to obtain reliable results.\n",
      "Setting `pad_token_id` to `eos_token_id`:128001 for open-end generation.\n"
     ]
    },
    {
     "name": "stdout",
     "output_type": "stream",
     "text": [
      "['CRITICAL TEMPERATURE: 2.7 K']\n",
      "['Ce1Te1.82', ' 2.7 K']\n",
      "1141 /home/louis/research/pdf_processor/processed_data/superconductivity_processed/physrevb.97.020502\n",
      "15000 characters = 3942 tokens\n"
     ]
    },
    {
     "name": "stderr",
     "output_type": "stream",
     "text": [
      "The attention mask and the pad token id were not set. As a consequence, you may observe unexpected behavior. Please pass your input's `attention_mask` to obtain reliable results.\n",
      "Setting `pad_token_id` to `eos_token_id`:128001 for open-end generation.\n"
     ]
    },
    {
     "name": "stdout",
     "output_type": "stream",
     "text": [
      "['CRITICAL TEMPERATURE: 6 K']\n",
      "['Re24Ti5', ' 6 K']\n",
      "1142 /home/louis/research/pdf_processor/processed_data/superconductivity_processed/physrevb.72.020501\n",
      "14844 characters = 4257 tokens\n"
     ]
    },
    {
     "name": "stderr",
     "output_type": "stream",
     "text": [
      "The attention mask and the pad token id were not set. As a consequence, you may observe unexpected behavior. Please pass your input's `attention_mask` to obtain reliable results.\n",
      "Setting `pad_token_id` to `eos_token_id`:128001 for open-end generation.\n"
     ]
    },
    {
     "name": "stdout",
     "output_type": "stream",
     "text": [
      "['CRITICAL TEMPERATURE: 12.8 K']\n",
      "['Zr1N1Cl0.7', ' 12.8 K']\n",
      "1143 /home/louis/research/pdf_processor/processed_data/superconductivity_processed/physrevb.81.205119\n",
      "15000 characters = 3640 tokens\n"
     ]
    },
    {
     "name": "stderr",
     "output_type": "stream",
     "text": [
      "The attention mask and the pad token id were not set. As a consequence, you may observe unexpected behavior. Please pass your input's `attention_mask` to obtain reliable results.\n",
      "Setting `pad_token_id` to `eos_token_id`:128001 for open-end generation.\n"
     ]
    },
    {
     "name": "stdout",
     "output_type": "stream",
     "text": [
      "['CRITICAL TEMPERATURE: 30 K']\n",
      "['Fe1Se0.99', ' 30 K']\n",
      "1144 /home/louis/research/pdf_processor/processed_data/superconductivity_processed/physrevb.82.094506\n",
      "15000 characters = 3744 tokens\n"
     ]
    },
    {
     "name": "stderr",
     "output_type": "stream",
     "text": [
      "The attention mask and the pad token id were not set. As a consequence, you may observe unexpected behavior. Please pass your input's `attention_mask` to obtain reliable results.\n",
      "Setting `pad_token_id` to `eos_token_id`:128001 for open-end generation.\n"
     ]
    },
    {
     "name": "stdout",
     "output_type": "stream",
     "text": [
      "['CRITICAL TEMPERATURE: 23 K']\n",
      "['B1I3', ' 23 K']\n",
      "1148 /home/louis/research/pdf_processor/processed_data/superconductivity_processed/physrevb.83.060512\n",
      "14734 characters = 3836 tokens\n"
     ]
    },
    {
     "name": "stderr",
     "output_type": "stream",
     "text": [
      "The attention mask and the pad token id were not set. As a consequence, you may observe unexpected behavior. Please pass your input's `attention_mask` to obtain reliable results.\n",
      "Setting `pad_token_id` to `eos_token_id`:128001 for open-end generation.\n"
     ]
    },
    {
     "name": "stdout",
     "output_type": "stream",
     "text": [
      "['CRITICAL TEMPERATURE: 32.1 K']\n",
      "['Rb0.88Fe1.81Se2', ' 32.1 K']\n",
      "1149 /home/louis/research/pdf_processor/processed_data/superconductivity_processed/physrevb.71.132508\n",
      "14338 characters = 3609 tokens\n"
     ]
    },
    {
     "name": "stderr",
     "output_type": "stream",
     "text": [
      "The attention mask and the pad token id were not set. As a consequence, you may observe unexpected behavior. Please pass your input's `attention_mask` to obtain reliable results.\n",
      "Setting `pad_token_id` to `eos_token_id`:128001 for open-end generation.\n"
     ]
    },
    {
     "name": "stdout",
     "output_type": "stream",
     "text": [
      "['CRITICAL TEMPERATURE: 2 K']\n",
      "['Te3Zr1', ' 2 K']\n",
      "1151 /home/louis/research/pdf_processor/processed_data/superconductivity_processed/physrevb.78.014507\n",
      "15000 characters = 3681 tokens\n"
     ]
    },
    {
     "name": "stderr",
     "output_type": "stream",
     "text": [
      "The attention mask and the pad token id were not set. As a consequence, you may observe unexpected behavior. Please pass your input's `attention_mask` to obtain reliable results.\n",
      "Setting `pad_token_id` to `eos_token_id`:128001 for open-end generation.\n"
     ]
    },
    {
     "name": "stdout",
     "output_type": "stream",
     "text": [
      "['CRITICAL TEMPERATURE: 30 K']\n",
      "['Ba0.55K0.45Fe2As2', ' 30 K']\n",
      "1152 /home/louis/research/pdf_processor/processed_data/superconductivity_processed/physrevb.67.020506\n",
      "15000 characters = 3936 tokens\n"
     ]
    },
    {
     "name": "stderr",
     "output_type": "stream",
     "text": [
      "The attention mask and the pad token id were not set. As a consequence, you may observe unexpected behavior. Please pass your input's `attention_mask` to obtain reliable results.\n",
      "Setting `pad_token_id` to `eos_token_id`:128001 for open-end generation.\n"
     ]
    },
    {
     "name": "stdout",
     "output_type": "stream",
     "text": [
      "['CRITICAL TEMPERATURE: 2 K']\n",
      "['Ce2Rh1In8', ' 2 K']\n",
      "1157 /home/louis/research/pdf_processor/processed_data/superconductivity_processed/physrevb.81.060509\n",
      "13752 characters = 3389 tokens\n"
     ]
    },
    {
     "name": "stderr",
     "output_type": "stream",
     "text": [
      "The attention mask and the pad token id were not set. As a consequence, you may observe unexpected behavior. Please pass your input's `attention_mask` to obtain reliable results.\n",
      "Setting `pad_token_id` to `eos_token_id`:128001 for open-end generation.\n"
     ]
    },
    {
     "name": "stdout",
     "output_type": "stream",
     "text": [
      "['CRITICAL TEMPERATURE: 20 K']\n",
      "['Ba1Fe1.8Co0.2As2', ' 20 K']\n",
      "1160 /home/louis/research/pdf_processor/processed_data/superconductivity_processed/physrevb.61.r9269\n",
      "15000 characters = 3968 tokens\n"
     ]
    },
    {
     "name": "stderr",
     "output_type": "stream",
     "text": [
      "The attention mask and the pad token id were not set. As a consequence, you may observe unexpected behavior. Please pass your input's `attention_mask` to obtain reliable results.\n",
      "Setting `pad_token_id` to `eos_token_id`:128001 for open-end generation.\n"
     ]
    },
    {
     "name": "stdout",
     "output_type": "stream",
     "text": [
      "['CRITICAL TEMPERATURE: 65 K']\n",
      "['Bi1.6Pb0.6Sr1.8Ca1Cu2OZ', ' 65 K']\n",
      "1161 /home/louis/research/pdf_processor/processed_data/superconductivity_processed/physrevb.82.144518\n",
      "15000 characters = 3634 tokens\n"
     ]
    },
    {
     "name": "stderr",
     "output_type": "stream",
     "text": [
      "The attention mask and the pad token id were not set. As a consequence, you may observe unexpected behavior. Please pass your input's `attention_mask` to obtain reliable results.\n",
      "Setting `pad_token_id` to `eos_token_id`:128001 for open-end generation.\n"
     ]
    },
    {
     "name": "stdout",
     "output_type": "stream",
     "text": [
      "['CRITICAL TEMPERATURE: 16 K']\n",
      "['Sr1Fe1.84Pt0.16As2', ' 16 K']\n",
      "1164 /home/louis/research/pdf_processor/processed_data/superconductivity_processed/physrevb.64.172501\n",
      "13193 characters = 3489 tokens\n"
     ]
    },
    {
     "name": "stderr",
     "output_type": "stream",
     "text": [
      "The attention mask and the pad token id were not set. As a consequence, you may observe unexpected behavior. Please pass your input's `attention_mask` to obtain reliable results.\n",
      "Setting `pad_token_id` to `eos_token_id`:128001 for open-end generation.\n"
     ]
    },
    {
     "name": "stdout",
     "output_type": "stream",
     "text": [
      "['CRITICAL TEMPERATURE: 40 K']\n",
      "['B2Mg1', ' 40 K']\n",
      "1170 /home/louis/research/pdf_processor/processed_data/superconductivity_processed/physrevb.93.115119\n",
      "15000 characters = 3330 tokens\n"
     ]
    },
    {
     "name": "stderr",
     "output_type": "stream",
     "text": [
      "The attention mask and the pad token id were not set. As a consequence, you may observe unexpected behavior. Please pass your input's `attention_mask` to obtain reliable results.\n",
      "Setting `pad_token_id` to `eos_token_id`:128001 for open-end generation.\n"
     ]
    },
    {
     "name": "stdout",
     "output_type": "stream",
     "text": [
      "['CRITICAL TEMPERATURE: 29 K']\n",
      "['Ba1Fe2As1.34P0.66', ' 29 K']\n",
      "1173 /home/louis/research/pdf_processor/processed_data/superconductivity_processed/physrevb.36.4003\n",
      "12658 characters = 3053 tokens\n"
     ]
    },
    {
     "name": "stderr",
     "output_type": "stream",
     "text": [
      "The attention mask and the pad token id were not set. As a consequence, you may observe unexpected behavior. Please pass your input's `attention_mask` to obtain reliable results.\n",
      "Setting `pad_token_id` to `eos_token_id`:128001 for open-end generation.\n"
     ]
    },
    {
     "name": "stdout",
     "output_type": "stream",
     "text": [
      "['CRITICAL TEMPERATURE: 36 K']\n",
      "['La1.85Sr0.15Cu1O4', ' 36 K']\n",
      "1176 /home/louis/research/pdf_processor/processed_data/superconductivity_processed/physrevb.79.104501\n",
      "15000 characters = 3670 tokens\n"
     ]
    },
    {
     "name": "stderr",
     "output_type": "stream",
     "text": [
      "The attention mask and the pad token id were not set. As a consequence, you may observe unexpected behavior. Please pass your input's `attention_mask` to obtain reliable results.\n",
      "Setting `pad_token_id` to `eos_token_id`:128001 for open-end generation.\n"
     ]
    },
    {
     "name": "stdout",
     "output_type": "stream",
     "text": [
      "['CRITICAL TEMPERATURE: 16.3 K']\n",
      "['Pr0.75Sr0.25Fe1As1O1', ' 16.3 K']\n",
      "1178 /home/louis/research/pdf_processor/processed_data/superconductivity_processed/physrevb.88.180509\n",
      "15000 characters = 3906 tokens\n"
     ]
    },
    {
     "name": "stderr",
     "output_type": "stream",
     "text": [
      "The attention mask and the pad token id were not set. As a consequence, you may observe unexpected behavior. Please pass your input's `attention_mask` to obtain reliable results.\n",
      "Setting `pad_token_id` to `eos_token_id`:128001 for open-end generation.\n"
     ]
    },
    {
     "name": "stdout",
     "output_type": "stream",
     "text": [
      "['CRITICAL TEMPERATURE: 10 K']\n",
      "['La0.5Bi1S2F0.5O0.5', ' 10 K']\n",
      "1182 /home/louis/research/pdf_processor/processed_data/superconductivity_processed/physrevb.80.144524\n",
      "15000 characters = 3837 tokens\n"
     ]
    },
    {
     "name": "stderr",
     "output_type": "stream",
     "text": [
      "The attention mask and the pad token id were not set. As a consequence, you may observe unexpected behavior. Please pass your input's `attention_mask` to obtain reliable results.\n",
      "Setting `pad_token_id` to `eos_token_id`:128001 for open-end generation.\n"
     ]
    },
    {
     "name": "stdout",
     "output_type": "stream",
     "text": [
      "['CRITICAL TEMPERATURE: 15 K']\n",
      "['Ca1Fe1.94Ni0.06As2', ' 15 K']\n",
      "1186 /home/louis/research/pdf_processor/processed_data/superconductivity_processed/physrevb.96.064521\n",
      "15000 characters = 3826 tokens\n"
     ]
    },
    {
     "name": "stderr",
     "output_type": "stream",
     "text": [
      "The attention mask and the pad token id were not set. As a consequence, you may observe unexpected behavior. Please pass your input's `attention_mask` to obtain reliable results.\n",
      "Setting `pad_token_id` to `eos_token_id`:128001 for open-end generation.\n"
     ]
    },
    {
     "name": "stdout",
     "output_type": "stream",
     "text": [
      "['CRITICAL TEMPERATURE: 6.75 K']\n",
      "['Re6Zr1', ' 6.75 K']\n",
      "1190 /home/louis/research/pdf_processor/processed_data/superconductivity_processed/physrevb.100.014503\n",
      "15000 characters = 3472 tokens\n"
     ]
    },
    {
     "name": "stderr",
     "output_type": "stream",
     "text": [
      "The attention mask and the pad token id were not set. As a consequence, you may observe unexpected behavior. Please pass your input's `attention_mask` to obtain reliable results.\n",
      "Setting `pad_token_id` to `eos_token_id`:128001 for open-end generation.\n"
     ]
    },
    {
     "name": "stdout",
     "output_type": "stream",
     "text": [
      "['CRITICAL TEMPERATURE: 27 K']\n",
      "['Eu1Fe2As2', ' 27 K']\n",
      "1191 /home/louis/research/pdf_processor/processed_data/superconductivity_processed/physrevb.88.024423\n",
      "15000 characters = 3835 tokens\n"
     ]
    },
    {
     "name": "stderr",
     "output_type": "stream",
     "text": [
      "The attention mask and the pad token id were not set. As a consequence, you may observe unexpected behavior. Please pass your input's `attention_mask` to obtain reliable results.\n",
      "Setting `pad_token_id` to `eos_token_id`:128001 for open-end generation.\n"
     ]
    },
    {
     "name": "stdout",
     "output_type": "stream",
     "text": [
      "['CRITICAL TEMPERATURE: 2 K']\n",
      "['La3Pd4Si4', ' 2 K']\n",
      "1193 /home/louis/research/pdf_processor/processed_data/superconductivity_processed/physrevb.78.184512\n",
      "15000 characters = 4019 tokens\n"
     ]
    },
    {
     "name": "stderr",
     "output_type": "stream",
     "text": [
      "The attention mask and the pad token id were not set. As a consequence, you may observe unexpected behavior. Please pass your input's `attention_mask` to obtain reliable results.\n",
      "Setting `pad_token_id` to `eos_token_id`:128001 for open-end generation.\n"
     ]
    },
    {
     "name": "stdout",
     "output_type": "stream",
     "text": [
      "['CRITICAL TEMPERATURE: 3 K']\n",
      "['Sm1Fe1P1O1', ' 3 K']\n",
      "1195 /home/louis/research/pdf_processor/processed_data/superconductivity_processed/physrevb.81.060501\n",
      "13869 characters = 3562 tokens\n"
     ]
    },
    {
     "name": "stderr",
     "output_type": "stream",
     "text": [
      "The attention mask and the pad token id were not set. As a consequence, you may observe unexpected behavior. Please pass your input's `attention_mask` to obtain reliable results.\n",
      "Setting `pad_token_id` to `eos_token_id`:128001 for open-end generation.\n"
     ]
    },
    {
     "name": "stdout",
     "output_type": "stream",
     "text": [
      "['CRITICAL TEMPERATURE: 21.4 K']\n",
      "['Ba1Fe1.85Co0.15As2', ' 21.4 K']\n",
      "1197 /home/louis/research/pdf_processor/processed_data/superconductivity_processed/physrevb.61.r3823\n",
      "10098 characters = 2337 tokens\n"
     ]
    },
    {
     "name": "stderr",
     "output_type": "stream",
     "text": [
      "The attention mask and the pad token id were not set. As a consequence, you may observe unexpected behavior. Please pass your input's `attention_mask` to obtain reliable results.\n",
      "Setting `pad_token_id` to `eos_token_id`:128001 for open-end generation.\n"
     ]
    },
    {
     "name": "stdout",
     "output_type": "stream",
     "text": [
      "['CRITICAL TEMPERATURE: 5.3 K']\n",
      "['V1', ' 5.3 K']\n",
      "1199 /home/louis/research/pdf_processor/processed_data/superconductivity_processed/physrevb.49.9885\n",
      "15000 characters = 3760 tokens\n"
     ]
    },
    {
     "name": "stderr",
     "output_type": "stream",
     "text": [
      "The attention mask and the pad token id were not set. As a consequence, you may observe unexpected behavior. Please pass your input's `attention_mask` to obtain reliable results.\n",
      "Setting `pad_token_id` to `eos_token_id`:128001 for open-end generation.\n"
     ]
    },
    {
     "name": "stdout",
     "output_type": "stream",
     "text": [
      "['CRITICAL TEMPERATURE: 73.6 K']\n",
      "['I1Bi2.2Sr1.8Ca1Cu2O8+y', ' 73.6 K']\n",
      "1206 /home/louis/research/pdf_processor/processed_data/superconductivity_processed/physrevb.97.100504\n",
      "15000 characters = 3484 tokens\n"
     ]
    },
    {
     "name": "stderr",
     "output_type": "stream",
     "text": [
      "The attention mask and the pad token id were not set. As a consequence, you may observe unexpected behavior. Please pass your input's `attention_mask` to obtain reliable results.\n",
      "Setting `pad_token_id` to `eos_token_id`:128001 for open-end generation.\n"
     ]
    },
    {
     "name": "stdout",
     "output_type": "stream",
     "text": [
      "['CRITICAL TEMPERATURE: 11 K']\n",
      "['La1Fe1Si1H1', ' 11 K']\n",
      "1211 /home/louis/research/pdf_processor/processed_data/superconductivity_processed/physrevb.83.060502\n",
      "15000 characters = 4390 tokens\n"
     ]
    },
    {
     "name": "stderr",
     "output_type": "stream",
     "text": [
      "The attention mask and the pad token id were not set. As a consequence, you may observe unexpected behavior. Please pass your input's `attention_mask` to obtain reliable results.\n",
      "Setting `pad_token_id` to `eos_token_id`:128001 for open-end generation.\n"
     ]
    },
    {
     "name": "stdout",
     "output_type": "stream",
     "text": [
      "['CRITICAL TEMPERATURE: 5 K']\n",
      "['Li1Fe1As1', ' 5 K']\n",
      "1214 /home/louis/research/pdf_processor/processed_data/superconductivity_processed/physrevb.79.094507\n",
      "15000 characters = 3736 tokens\n"
     ]
    },
    {
     "name": "stderr",
     "output_type": "stream",
     "text": [
      "The attention mask and the pad token id were not set. As a consequence, you may observe unexpected behavior. Please pass your input's `attention_mask` to obtain reliable results.\n",
      "Setting `pad_token_id` to `eos_token_id`:128001 for open-end generation.\n"
     ]
    },
    {
     "name": "stdout",
     "output_type": "stream",
     "text": [
      "['CRITICAL TEMPERATURE: 23 K']\n",
      "['Ba1Fe1.852Co0.148As2', ' 23 K']\n",
      "1216 /home/louis/research/pdf_processor/processed_data/superconductivity_processed/physrevb.78.172504\n",
      "8756 characters = 2549 tokens\n"
     ]
    },
    {
     "name": "stderr",
     "output_type": "stream",
     "text": [
      "The attention mask and the pad token id were not set. As a consequence, you may observe unexpected behavior. Please pass your input's `attention_mask` to obtain reliable results.\n",
      "Setting `pad_token_id` to `eos_token_id`:128001 for open-end generation.\n"
     ]
    },
    {
     "name": "stdout",
     "output_type": "stream",
     "text": [
      "['CRITICAL TEMPERATURE: 0.62 K']\n",
      "['Sr1Ni2As2', ' 0.62 K']\n",
      "1219 /home/louis/research/pdf_processor/processed_data/superconductivity_processed/physrevb.70.064519\n",
      "15000 characters = 4521 tokens\n"
     ]
    },
    {
     "name": "stderr",
     "output_type": "stream",
     "text": [
      "The attention mask and the pad token id were not set. As a consequence, you may observe unexpected behavior. Please pass your input's `attention_mask` to obtain reliable results.\n",
      "Setting `pad_token_id` to `eos_token_id`:128001 for open-end generation.\n"
     ]
    },
    {
     "name": "stdout",
     "output_type": "stream",
     "text": [
      "['CRITICAL TEMPERATURE: 3.61 K']\n",
      "['Ta2S2C2', ' 3.61 K']\n",
      "1225 /home/louis/research/pdf_processor/processed_data/superconductivity_processed/physrevb.81.184509\n",
      "15000 characters = 3559 tokens\n"
     ]
    },
    {
     "name": "stderr",
     "output_type": "stream",
     "text": [
      "The attention mask and the pad token id were not set. As a consequence, you may observe unexpected behavior. Please pass your input's `attention_mask` to obtain reliable results.\n",
      "Setting `pad_token_id` to `eos_token_id`:128001 for open-end generation.\n"
     ]
    },
    {
     "name": "stdout",
     "output_type": "stream",
     "text": [
      "['CRITICAL TEMPERATURE: 8-10 K']\n",
      "['Bi1.98Sr2.06Y0.68Cu2O8+z', ' 8-10 K']\n",
      "1227 /home/louis/research/pdf_processor/processed_data/superconductivity_processed/physrevb.90.014513\n",
      "15000 characters = 3826 tokens\n"
     ]
    },
    {
     "name": "stderr",
     "output_type": "stream",
     "text": [
      "The attention mask and the pad token id were not set. As a consequence, you may observe unexpected behavior. Please pass your input's `attention_mask` to obtain reliable results.\n",
      "Setting `pad_token_id` to `eos_token_id`:128001 for open-end generation.\n"
     ]
    },
    {
     "name": "stdout",
     "output_type": "stream",
     "text": [
      "['CRITICAL TEMPERATURE: 0.72 K']\n",
      "['La1Ir1Si3', ' 0.72 K']\n",
      "1231 /home/louis/research/pdf_processor/processed_data/superconductivity_processed/physrevb.93.104508\n",
      "15000 characters = 4280 tokens\n"
     ]
    },
    {
     "name": "stderr",
     "output_type": "stream",
     "text": [
      "The attention mask and the pad token id were not set. As a consequence, you may observe unexpected behavior. Please pass your input's `attention_mask` to obtain reliable results.\n",
      "Setting `pad_token_id` to `eos_token_id`:128001 for open-end generation.\n"
     ]
    },
    {
     "name": "stdout",
     "output_type": "stream",
     "text": [
      "['CRITICAL TEMPERATURE: 33 K']\n",
      "['M0.37Cs0.268Fe1Se1', ' 33 K']\n",
      "1233 /home/louis/research/pdf_processor/processed_data/superconductivity_processed/physrevb.91.214517\n",
      "15000 characters = 3801 tokens\n"
     ]
    },
    {
     "name": "stderr",
     "output_type": "stream",
     "text": [
      "The attention mask and the pad token id were not set. As a consequence, you may observe unexpected behavior. Please pass your input's `attention_mask` to obtain reliable results.\n",
      "Setting `pad_token_id` to `eos_token_id`:128001 for open-end generation.\n"
     ]
    },
    {
     "name": "stdout",
     "output_type": "stream",
     "text": [
      "['CRITICAL TEMPERATURE: 100 K']\n",
      "['Au2Pb1', ' 100 K']\n",
      "1235 /home/louis/research/pdf_processor/processed_data/superconductivity_processed/physrevb.58.497\n",
      "15000 characters = 4065 tokens\n"
     ]
    },
    {
     "name": "stderr",
     "output_type": "stream",
     "text": [
      "The attention mask and the pad token id were not set. As a consequence, you may observe unexpected behavior. Please pass your input's `attention_mask` to obtain reliable results.\n",
      "Setting `pad_token_id` to `eos_token_id`:128001 for open-end generation.\n"
     ]
    },
    {
     "name": "stdout",
     "output_type": "stream",
     "text": [
      "['CRITICAL TEMPERATURE: 2.7 K']\n",
      "['La1Ni1C2', ' 2.7 K']\n",
      "1238 /home/louis/research/pdf_processor/processed_data/superconductivity_processed/physrevb.82.140507\n",
      "12150 characters = 3073 tokens\n"
     ]
    },
    {
     "name": "stderr",
     "output_type": "stream",
     "text": [
      "The attention mask and the pad token id were not set. As a consequence, you may observe unexpected behavior. Please pass your input's `attention_mask` to obtain reliable results.\n",
      "Setting `pad_token_id` to `eos_token_id`:128001 for open-end generation.\n"
     ]
    },
    {
     "name": "stdout",
     "output_type": "stream",
     "text": [
      "['CRITICAL TEMPERATURE: 33 K']\n",
      "['Sr2V1Fe1As1O3', ' 33 K']\n",
      "1239 /home/louis/research/pdf_processor/processed_data/superconductivity_processed/physrevb.78.174523\n",
      "15000 characters = 4055 tokens\n"
     ]
    },
    {
     "name": "stderr",
     "output_type": "stream",
     "text": [
      "The attention mask and the pad token id were not set. As a consequence, you may observe unexpected behavior. Please pass your input's `attention_mask` to obtain reliable results.\n",
      "Setting `pad_token_id` to `eos_token_id`:128001 for open-end generation.\n"
     ]
    },
    {
     "name": "stdout",
     "output_type": "stream",
     "text": [
      "['CRITICAL TEMPERATURE: 47 K']\n",
      "['Nd1Fe1As1F0.3O0.7', ' 47 K']\n",
      "1241 /home/louis/research/pdf_processor/processed_data/superconductivity_processed/physrevb.78.012507\n",
      "13806 characters = 3429 tokens\n"
     ]
    },
    {
     "name": "stderr",
     "output_type": "stream",
     "text": [
      "The attention mask and the pad token id were not set. As a consequence, you may observe unexpected behavior. Please pass your input's `attention_mask` to obtain reliable results.\n",
      "Setting `pad_token_id` to `eos_token_id`:128001 for open-end generation.\n"
     ]
    },
    {
     "name": "stdout",
     "output_type": "stream",
     "text": [
      "['CRITICAL TEMPERATURE: 23.7 K']\n",
      "['La1Fe1As1F0.1O0.9', ' 23.7 K']\n",
      "1243 /home/louis/research/pdf_processor/processed_data/superconductivity_processed/physrevb.86.224514\n",
      "13734 characters = 3651 tokens\n"
     ]
    },
    {
     "name": "stderr",
     "output_type": "stream",
     "text": [
      "The attention mask and the pad token id were not set. As a consequence, you may observe unexpected behavior. Please pass your input's `attention_mask` to obtain reliable results.\n",
      "Setting `pad_token_id` to `eos_token_id`:128001 for open-end generation.\n"
     ]
    },
    {
     "name": "stdout",
     "output_type": "stream",
     "text": [
      "['CRITICAL TEMPERATURE: 3.8 K']\n",
      "['K1Fe2As2', ' 3.8 K']\n",
      "1248 /home/louis/research/pdf_processor/processed_data/superconductivity_processed/physrevb.87.054504\n",
      "9763 characters = 2643 tokens\n"
     ]
    },
    {
     "name": "stderr",
     "output_type": "stream",
     "text": [
      "The attention mask and the pad token id were not set. As a consequence, you may observe unexpected behavior. Please pass your input's `attention_mask` to obtain reliable results.\n",
      "Setting `pad_token_id` to `eos_token_id`:128001 for open-end generation.\n"
     ]
    },
    {
     "name": "stdout",
     "output_type": "stream",
     "text": [
      "['CRITICAL TEMPERATURE: 4.86 K']\n",
      "['Li1Fe1P1', ' 4.86 K']\n",
      "1249 /home/louis/research/pdf_processor/processed_data/superconductivity_processed/physrevb.55.r6145\n",
      "15000 characters = 3612 tokens\n"
     ]
    },
    {
     "name": "stderr",
     "output_type": "stream",
     "text": [
      "The attention mask and the pad token id were not set. As a consequence, you may observe unexpected behavior. Please pass your input's `attention_mask` to obtain reliable results.\n",
      "Setting `pad_token_id` to `eos_token_id`:128001 for open-end generation.\n"
     ]
    },
    {
     "name": "stdout",
     "output_type": "stream",
     "text": [
      "['CRITICAL TEMPERATURE: 21 K']\n",
      "['Pr1.85Ce0.15Cu1O4-z', ' 21 K']\n",
      "1251 /home/louis/research/pdf_processor/processed_data/superconductivity_processed/physrevb.84.054541\n",
      "15000 characters = 3773 tokens\n"
     ]
    },
    {
     "name": "stderr",
     "output_type": "stream",
     "text": [
      "The attention mask and the pad token id were not set. As a consequence, you may observe unexpected behavior. Please pass your input's `attention_mask` to obtain reliable results.\n",
      "Setting `pad_token_id` to `eos_token_id`:128001 for open-end generation.\n"
     ]
    },
    {
     "name": "stdout",
     "output_type": "stream",
     "text": [
      "['CRITICAL TEMPERATURE: 6.0 K']\n",
      "['Lu2Fe3Si5', ' 6.0 K']\n",
      "1260 /home/louis/research/pdf_processor/processed_data/superconductivity_processed/physrevb.91.064509\n",
      "13879 characters = 3682 tokens\n"
     ]
    },
    {
     "name": "stderr",
     "output_type": "stream",
     "text": [
      "The attention mask and the pad token id were not set. As a consequence, you may observe unexpected behavior. Please pass your input's `attention_mask` to obtain reliable results.\n",
      "Setting `pad_token_id` to `eos_token_id`:128001 for open-end generation.\n"
     ]
    },
    {
     "name": "stdout",
     "output_type": "stream",
     "text": [
      "['CRITICAL TEMPERATURE: 49 K']\n",
      "['La1Fe1As1H0.44O0.56', ' 49 K']\n",
      "1274 /home/louis/research/pdf_processor/processed_data/superconductivity_processed/physrevb.69.054505\n",
      "15000 characters = 3773 tokens\n"
     ]
    },
    {
     "name": "stderr",
     "output_type": "stream",
     "text": [
      "The attention mask and the pad token id were not set. As a consequence, you may observe unexpected behavior. Please pass your input's `attention_mask` to obtain reliable results.\n",
      "Setting `pad_token_id` to `eos_token_id`:128001 for open-end generation.\n"
     ]
    },
    {
     "name": "stdout",
     "output_type": "stream",
     "text": [
      "['CRITICAL TEMPERATURE: 5.5 K']\n",
      "['Ho1Ni2B2C1', ' 5.5 K']\n",
      "1276 /home/louis/research/pdf_processor/processed_data/superconductivity_processed/physrevb.90.220510\n",
      "15000 characters = 3935 tokens\n"
     ]
    },
    {
     "name": "stderr",
     "output_type": "stream",
     "text": [
      "The attention mask and the pad token id were not set. As a consequence, you may observe unexpected behavior. Please pass your input's `attention_mask` to obtain reliable results.\n",
      "Setting `pad_token_id` to `eos_token_id`:128001 for open-end generation.\n"
     ]
    },
    {
     "name": "stdout",
     "output_type": "stream",
     "text": [
      "['CRITICAL TEMPERATURE: 1.5 K']\n",
      "['Eu3Bi2S4F4', ' 1.5 K']\n",
      "1278 /home/louis/research/pdf_processor/processed_data/superconductivity_processed/physrevb.81.020510\n",
      "15000 characters = 3798 tokens\n"
     ]
    },
    {
     "name": "stderr",
     "output_type": "stream",
     "text": [
      "The attention mask and the pad token id were not set. As a consequence, you may observe unexpected behavior. Please pass your input's `attention_mask` to obtain reliable results.\n",
      "Setting `pad_token_id` to `eos_token_id`:128001 for open-end generation.\n"
     ]
    },
    {
     "name": "stdout",
     "output_type": "stream",
     "text": [
      "['CRITICAL TEMPERATURE: 20.4 K']\n",
      "['Ca1Fe1.92Co0.08As2', ' 20.4 K']\n",
      "1284 /home/louis/research/pdf_processor/processed_data/superconductivity_processed/physrevb.84.024509\n",
      "15000 characters = 4231 tokens\n"
     ]
    },
    {
     "name": "stderr",
     "output_type": "stream",
     "text": [
      "The attention mask and the pad token id were not set. As a consequence, you may observe unexpected behavior. Please pass your input's `attention_mask` to obtain reliable results.\n",
      "Setting `pad_token_id` to `eos_token_id`:128001 for open-end generation.\n"
     ]
    },
    {
     "name": "stdout",
     "output_type": "stream",
     "text": [
      "['CRITICAL TEMPERATURE: 14 K']\n",
      "['Ba1Fe1.922Rh0.078As2', ' 14 K']\n",
      "1285 /home/louis/research/pdf_processor/processed_data/superconductivity_processed/physrevb.50.426\n",
      "15000 characters = 3690 tokens\n"
     ]
    },
    {
     "name": "stderr",
     "output_type": "stream",
     "text": [
      "The attention mask and the pad token id were not set. As a consequence, you may observe unexpected behavior. Please pass your input's `attention_mask` to obtain reliable results.\n",
      "Setting `pad_token_id` to `eos_token_id`:128001 for open-end generation.\n"
     ]
    },
    {
     "name": "stdout",
     "output_type": "stream",
     "text": [
      "['CRITICAL TEMPERATURE: 15.1 K']\n",
      "['Y2Ba4Cu7O15.1', ' 15.1 K']\n",
      "1287 /home/louis/research/pdf_processor/processed_data/superconductivity_processed/physrevb.87.064502\n",
      "15000 characters = 3895 tokens\n"
     ]
    },
    {
     "name": "stderr",
     "output_type": "stream",
     "text": [
      "The attention mask and the pad token id were not set. As a consequence, you may observe unexpected behavior. Please pass your input's `attention_mask` to obtain reliable results.\n",
      "Setting `pad_token_id` to `eos_token_id`:128001 for open-end generation.\n"
     ]
    },
    {
     "name": "stdout",
     "output_type": "stream",
     "text": [
      "['CRITICAL TEMPERATURE: 8 K']\n",
      "['Pr1Pt4Ge12', ' 8 K']\n",
      "1289 /home/louis/research/pdf_processor/processed_data/superconductivity_processed/physrevb.73.144510\n",
      "15000 characters = 3588 tokens\n"
     ]
    },
    {
     "name": "stderr",
     "output_type": "stream",
     "text": [
      "The attention mask and the pad token id were not set. As a consequence, you may observe unexpected behavior. Please pass your input's `attention_mask` to obtain reliable results.\n",
      "Setting `pad_token_id` to `eos_token_id`:128001 for open-end generation.\n"
     ]
    },
    {
     "name": "stdout",
     "output_type": "stream",
     "text": [
      "['CRITICAL TEMPERATURE: 38 K']\n",
      "['Y0.54Pr0.46Ba2Cu3O7-z', ' 38 K']\n",
      "1290 /home/louis/research/pdf_processor/processed_data/superconductivity_processed/physrevb.67.024519\n",
      "15000 characters = 3654 tokens\n"
     ]
    },
    {
     "name": "stderr",
     "output_type": "stream",
     "text": [
      "The attention mask and the pad token id were not set. As a consequence, you may observe unexpected behavior. Please pass your input's `attention_mask` to obtain reliable results.\n",
      "Setting `pad_token_id` to `eos_token_id`:128001 for open-end generation.\n"
     ]
    },
    {
     "name": "stdout",
     "output_type": "stream",
     "text": [
      "['CRITICAL TEMPERATURE: 12 K']\n",
      "['N0.72H2.16Na1K3C60', ' 12 K']\n",
      "1293 /home/louis/research/pdf_processor/processed_data/superconductivity_processed/physrevb.49.13184\n",
      "15000 characters = 3659 tokens\n"
     ]
    },
    {
     "name": "stderr",
     "output_type": "stream",
     "text": [
      "The attention mask and the pad token id were not set. As a consequence, you may observe unexpected behavior. Please pass your input's `attention_mask` to obtain reliable results.\n",
      "Setting `pad_token_id` to `eos_token_id`:128001 for open-end generation.\n"
     ]
    },
    {
     "name": "stdout",
     "output_type": "stream",
     "text": [
      "['CRITICAL TEMPERATURE: 110 K']\n",
      "['Bi2Sr2Ca1Cu2O8+y', ' 110 K']\n",
      "1296 /home/louis/research/pdf_processor/processed_data/superconductivity_processed/physrevb.99.184509\n",
      "15000 characters = 3741 tokens\n"
     ]
    },
    {
     "name": "stderr",
     "output_type": "stream",
     "text": [
      "The attention mask and the pad token id were not set. As a consequence, you may observe unexpected behavior. Please pass your input's `attention_mask` to obtain reliable results.\n",
      "Setting `pad_token_id` to `eos_token_id`:128001 for open-end generation.\n"
     ]
    },
    {
     "name": "stdout",
     "output_type": "stream",
     "text": [
      "['CRITICAL TEMPERATURE: 0.8 K']\n",
      "['P1W1', ' 0.8 K']\n",
      "1299 /home/louis/research/pdf_processor/processed_data/superconductivity_processed/physrevb.97.104509\n",
      "15000 characters = 4104 tokens\n"
     ]
    },
    {
     "name": "stderr",
     "output_type": "stream",
     "text": [
      "The attention mask and the pad token id were not set. As a consequence, you may observe unexpected behavior. Please pass your input's `attention_mask` to obtain reliable results.\n",
      "Setting `pad_token_id` to `eos_token_id`:128001 for open-end generation.\n"
     ]
    },
    {
     "name": "stdout",
     "output_type": "stream",
     "text": [
      "['CRITICAL TEMPERATURE: 3 K']\n",
      "['La1Bi1S2F0.5O0.5', ' 3 K']\n",
      "1300 /home/louis/research/pdf_processor/processed_data/superconductivity_processed/physrevb.50.351\n",
      "8212 characters = 2290 tokens\n"
     ]
    },
    {
     "name": "stderr",
     "output_type": "stream",
     "text": [
      "The attention mask and the pad token id were not set. As a consequence, you may observe unexpected behavior. Please pass your input's `attention_mask` to obtain reliable results.\n",
      "Setting `pad_token_id` to `eos_token_id`:128001 for open-end generation.\n"
     ]
    },
    {
     "name": "stdout",
     "output_type": "stream",
     "text": [
      "['CRITICAL TEMPERATURE: 14.6 K']\n",
      "['Sc1Ni2B2C1', ' 14.6 K']\n",
      "1303 /home/louis/research/pdf_processor/processed_data/superconductivity_processed/physrevb.76.100506\n",
      "13163 characters = 3630 tokens\n"
     ]
    },
    {
     "name": "stderr",
     "output_type": "stream",
     "text": [
      "The attention mask and the pad token id were not set. As a consequence, you may observe unexpected behavior. Please pass your input's `attention_mask` to obtain reliable results.\n",
      "Setting `pad_token_id` to `eos_token_id`:128001 for open-end generation.\n"
     ]
    },
    {
     "name": "stdout",
     "output_type": "stream",
     "text": [
      "['CRITICAL TEMPERATURE: 4.8 K']\n",
      "['Na0.3Co1H2.6O3.3', ' 4.8 K']\n",
      "1304 /home/louis/research/pdf_processor/processed_data/superconductivity_processed/physrevb.97.060506\n",
      "15000 characters = 3865 tokens\n"
     ]
    },
    {
     "name": "stderr",
     "output_type": "stream",
     "text": [
      "The attention mask and the pad token id were not set. As a consequence, you may observe unexpected behavior. Please pass your input's `attention_mask` to obtain reliable results.\n",
      "Setting `pad_token_id` to `eos_token_id`:128001 for open-end generation.\n"
     ]
    },
    {
     "name": "stdout",
     "output_type": "stream",
     "text": [
      "['CRITICAL TEMPERATURE: 28.3 K']\n",
      "['Cs1Ca2Fe4As4F2', ' 28.3 K']\n",
      "1305 /home/louis/research/pdf_processor/processed_data/superconductivity_processed/physrevb.78.014502\n",
      "15000 characters = 4136 tokens\n"
     ]
    },
    {
     "name": "stderr",
     "output_type": "stream",
     "text": [
      "The attention mask and the pad token id were not set. As a consequence, you may observe unexpected behavior. Please pass your input's `attention_mask` to obtain reliable results.\n",
      "Setting `pad_token_id` to `eos_token_id`:128001 for open-end generation.\n"
     ]
    },
    {
     "name": "stdout",
     "output_type": "stream",
     "text": [
      "['CRITICAL TEMPERATURE: 2.1 K']\n",
      "['Mo3Sb7', ' 2.1 K']\n",
      "1310 /home/louis/research/pdf_processor/processed_data/superconductivity_processed/physrevb.94.144515\n",
      "15000 characters = 3584 tokens\n"
     ]
    },
    {
     "name": "stderr",
     "output_type": "stream",
     "text": [
      "The attention mask and the pad token id were not set. As a consequence, you may observe unexpected behavior. Please pass your input's `attention_mask` to obtain reliable results.\n",
      "Setting `pad_token_id` to `eos_token_id`:128001 for open-end generation.\n"
     ]
    },
    {
     "name": "stdout",
     "output_type": "stream",
     "text": [
      "['CRITICAL TEMPERATURE: 6.7 K']\n",
      "['Re6Zr1', ' 6.7 K']\n",
      "1314 /home/louis/research/pdf_processor/processed_data/superconductivity_processed/physrevb.83.144525\n",
      "15000 characters = 3852 tokens\n"
     ]
    },
    {
     "name": "stderr",
     "output_type": "stream",
     "text": [
      "The attention mask and the pad token id were not set. As a consequence, you may observe unexpected behavior. Please pass your input's `attention_mask` to obtain reliable results.\n",
      "Setting `pad_token_id` to `eos_token_id`:128001 for open-end generation.\n"
     ]
    },
    {
     "name": "stdout",
     "output_type": "stream",
     "text": [
      "['CRITICAL TEMPERATURE: 8.75 K']\n",
      "['Nb0.18Re0.82', ' 8.75 K']\n",
      "1316 /home/louis/research/pdf_processor/processed_data/superconductivity_processed/physrevb.50.13890\n",
      "15000 characters = 3881 tokens\n"
     ]
    },
    {
     "name": "stderr",
     "output_type": "stream",
     "text": [
      "The attention mask and the pad token id were not set. As a consequence, you may observe unexpected behavior. Please pass your input's `attention_mask` to obtain reliable results.\n",
      "Setting `pad_token_id` to `eos_token_id`:128001 for open-end generation.\n"
     ]
    },
    {
     "name": "stdout",
     "output_type": "stream",
     "text": [
      "['CRITICAL TEMPERATURE: 7 K']\n",
      "['Ba6C60', ' 7 K']\n",
      "1318 /home/louis/research/pdf_processor/processed_data/superconductivity_processed/physrevb.80.094501\n",
      "15000 characters = 3700 tokens\n"
     ]
    },
    {
     "name": "stderr",
     "output_type": "stream",
     "text": [
      "The attention mask and the pad token id were not set. As a consequence, you may observe unexpected behavior. Please pass your input's `attention_mask` to obtain reliable results.\n",
      "Setting `pad_token_id` to `eos_token_id`:128001 for open-end generation.\n"
     ]
    },
    {
     "name": "stdout",
     "output_type": "stream",
     "text": [
      "['CRITICAL TEMPERATURE: 22.5 K']\n",
      "['Ba1Fe1.852Co0.148As2', ' 22.5 K']\n",
      "1322 /home/louis/research/pdf_processor/processed_data/superconductivity_processed/physrevb.95.035148\n",
      "15000 characters = 3589 tokens\n"
     ]
    },
    {
     "name": "stderr",
     "output_type": "stream",
     "text": [
      "The attention mask and the pad token id were not set. As a consequence, you may observe unexpected behavior. Please pass your input's `attention_mask` to obtain reliable results.\n",
      "Setting `pad_token_id` to `eos_token_id`:128001 for open-end generation.\n"
     ]
    },
    {
     "name": "stdout",
     "output_type": "stream",
     "text": [
      "['CRITICAL TEMPERATURE: 2.5 K']\n",
      "['Ir1Te2', ' 2.5 K']\n",
      "1324 /home/louis/research/pdf_processor/processed_data/superconductivity_processed/physrevb.65.134508\n",
      "14883 characters = 3683 tokens\n"
     ]
    },
    {
     "name": "stderr",
     "output_type": "stream",
     "text": [
      "The attention mask and the pad token id were not set. As a consequence, you may observe unexpected behavior. Please pass your input's `attention_mask` to obtain reliable results.\n",
      "Setting `pad_token_id` to `eos_token_id`:128001 for open-end generation.\n"
     ]
    },
    {
     "name": "stdout",
     "output_type": "stream",
     "text": [
      "['CRITICAL TEMPERATURE: 39 K']\n",
      "['B2Mg1', ' 39 K']\n",
      "1325 /home/louis/research/pdf_processor/processed_data/superconductivity_processed/physrevb.85.014520\n",
      "15000 characters = 3690 tokens\n"
     ]
    },
    {
     "name": "stderr",
     "output_type": "stream",
     "text": [
      "The attention mask and the pad token id were not set. As a consequence, you may observe unexpected behavior. Please pass your input's `attention_mask` to obtain reliable results.\n",
      "Setting `pad_token_id` to `eos_token_id`:128001 for open-end generation.\n"
     ]
    },
    {
     "name": "stdout",
     "output_type": "stream",
     "text": [
      "['CRITICAL TEMPERATURE: 2.7 K']\n",
      "['Sr1Pd2Ge2', ' 2.7 K']\n",
      "1331 /home/louis/research/pdf_processor/processed_data/superconductivity_processed/physrevb.89.205136\n",
      "15000 characters = 3627 tokens\n"
     ]
    },
    {
     "name": "stderr",
     "output_type": "stream",
     "text": [
      "The attention mask and the pad token id were not set. As a consequence, you may observe unexpected behavior. Please pass your input's `attention_mask` to obtain reliable results.\n",
      "Setting `pad_token_id` to `eos_token_id`:128001 for open-end generation.\n"
     ]
    },
    {
     "name": "stdout",
     "output_type": "stream",
     "text": [
      "['CRITICAL TEMPERATURE: 10 K']\n",
      "['Ca10Pt0.78Fe9.22As18', ' 10 K']\n",
      "1332 /home/louis/research/pdf_processor/processed_data/superconductivity_processed/physrevb.69.212508\n",
      "15000 characters = 3807 tokens\n"
     ]
    },
    {
     "name": "stderr",
     "output_type": "stream",
     "text": [
      "The attention mask and the pad token id were not set. As a consequence, you may observe unexpected behavior. Please pass your input's `attention_mask` to obtain reliable results.\n",
      "Setting `pad_token_id` to `eos_token_id`:128001 for open-end generation.\n"
     ]
    },
    {
     "name": "stdout",
     "output_type": "stream",
     "text": [
      "['CRITICAL TEMPERATURE: 6.06 K']\n",
      "['B12Zr1', ' 6.06 K']\n",
      "1337 /home/louis/research/pdf_processor/processed_data/superconductivity_processed/physrevb.82.174509\n",
      "15000 characters = 3783 tokens\n"
     ]
    },
    {
     "name": "stderr",
     "output_type": "stream",
     "text": [
      "The attention mask and the pad token id were not set. As a consequence, you may observe unexpected behavior. Please pass your input's `attention_mask` to obtain reliable results.\n",
      "Setting `pad_token_id` to `eos_token_id`:128001 for open-end generation.\n"
     ]
    },
    {
     "name": "stdout",
     "output_type": "stream",
     "text": [
      "['CRITICAL TEMPERATURE: 25 K']\n",
      "['Ba1Fe1.85Co0.15As2', ' 25 K']\n",
      "1349 /home/louis/research/pdf_processor/processed_data/superconductivity_processed/physrevb.77.174503\n",
      "15000 characters = 4064 tokens\n"
     ]
    },
    {
     "name": "stderr",
     "output_type": "stream",
     "text": [
      "The attention mask and the pad token id were not set. As a consequence, you may observe unexpected behavior. Please pass your input's `attention_mask` to obtain reliable results.\n",
      "Setting `pad_token_id` to `eos_token_id`:128001 for open-end generation.\n"
     ]
    },
    {
     "name": "stdout",
     "output_type": "stream",
     "text": [
      "['CRITICAL TEMPERATURE: 28.2 K']\n",
      "['La1Fe1As1F0.11O0.89', ' 28.2 K']\n",
      "1351 /home/louis/research/pdf_processor/processed_data/superconductivity_processed/physrevb.69.144514\n",
      "15000 characters = 3856 tokens\n"
     ]
    },
    {
     "name": "stderr",
     "output_type": "stream",
     "text": [
      "The attention mask and the pad token id were not set. As a consequence, you may observe unexpected behavior. Please pass your input's `attention_mask` to obtain reliable results.\n",
      "Setting `pad_token_id` to `eos_token_id`:128001 for open-end generation.\n"
     ]
    },
    {
     "name": "stdout",
     "output_type": "stream",
     "text": [
      "['CRITICAL TEMPERATURE: 39 K']\n",
      "['B2Mg1', ' 39 K']\n",
      "1352 /home/louis/research/pdf_processor/processed_data/superconductivity_processed/physrevb.38.225\n",
      "15000 characters = 4012 tokens\n"
     ]
    },
    {
     "name": "stderr",
     "output_type": "stream",
     "text": [
      "The attention mask and the pad token id were not set. As a consequence, you may observe unexpected behavior. Please pass your input's `attention_mask` to obtain reliable results.\n",
      "Setting `pad_token_id` to `eos_token_id`:128001 for open-end generation.\n"
     ]
    },
    {
     "name": "stdout",
     "output_type": "stream",
     "text": [
      "['CRITICAL TEMPERATURE: 90 K']\n",
      "['Tl2Ba2Cu1O6', ' 90 K']\n",
      "1354 /home/louis/research/pdf_processor/processed_data/superconductivity_processed/physrevb.91.104511\n",
      "15000 characters = 3737 tokens\n"
     ]
    },
    {
     "name": "stderr",
     "output_type": "stream",
     "text": [
      "The attention mask and the pad token id were not set. As a consequence, you may observe unexpected behavior. Please pass your input's `attention_mask` to obtain reliable results.\n",
      "Setting `pad_token_id` to `eos_token_id`:128001 for open-end generation.\n"
     ]
    },
    {
     "name": "stdout",
     "output_type": "stream",
     "text": [
      "['CRITICAL TEMPERATURE: 4.03 K']\n",
      "['Bi3S3O2', ' 4.03 K']\n",
      "1358 /home/louis/research/pdf_processor/processed_data/superconductivity_processed/physrevb.91.125107\n",
      "15000 characters = 3685 tokens\n"
     ]
    },
    {
     "name": "stderr",
     "output_type": "stream",
     "text": [
      "The attention mask and the pad token id were not set. As a consequence, you may observe unexpected behavior. Please pass your input's `attention_mask` to obtain reliable results.\n",
      "Setting `pad_token_id` to `eos_token_id`:128001 for open-end generation.\n"
     ]
    },
    {
     "name": "stdout",
     "output_type": "stream",
     "text": [
      "['CRITICAL TEMPERATURE: 34 K']\n",
      "['Li0.8Fe1.2H1Se1', ' 34 K']\n",
      "1362 /home/louis/research/pdf_processor/processed_data/superconductivity_processed/physrevb.63.220503\n",
      "10481 characters = 2607 tokens\n"
     ]
    },
    {
     "name": "stderr",
     "output_type": "stream",
     "text": [
      "The attention mask and the pad token id were not set. As a consequence, you may observe unexpected behavior. Please pass your input's `attention_mask` to obtain reliable results.\n",
      "Setting `pad_token_id` to `eos_token_id`:128001 for open-end generation.\n"
     ]
    },
    {
     "name": "stdout",
     "output_type": "stream",
     "text": [
      "['CRITICAL TEMPERATURE: 39.2 K']\n",
      "['B2Mg1', ' 39.2 K']\n",
      "1369 /home/louis/research/pdf_processor/processed_data/superconductivity_processed/physrevb.75.174502\n",
      "14279 characters = 4036 tokens\n"
     ]
    },
    {
     "name": "stderr",
     "output_type": "stream",
     "text": [
      "The attention mask and the pad token id were not set. As a consequence, you may observe unexpected behavior. Please pass your input's `attention_mask` to obtain reliable results.\n",
      "Setting `pad_token_id` to `eos_token_id`:128001 for open-end generation.\n"
     ]
    },
    {
     "name": "stdout",
     "output_type": "stream",
     "text": [
      "['CRITICAL TEMPERATURE: 7.0 K']\n",
      "['Pb1', ' 7.0 K']\n",
      "1370 /home/louis/research/pdf_processor/processed_data/superconductivity_processed/physrevb.65.064504\n",
      "15000 characters = 3548 tokens\n"
     ]
    },
    {
     "name": "stderr",
     "output_type": "stream",
     "text": [
      "The attention mask and the pad token id were not set. As a consequence, you may observe unexpected behavior. Please pass your input's `attention_mask` to obtain reliable results.\n",
      "Setting `pad_token_id` to `eos_token_id`:128001 for open-end generation.\n"
     ]
    },
    {
     "name": "stdout",
     "output_type": "stream",
     "text": [
      "['CRITICAL TEMPERATURE: 10 K']\n",
      "['S1', ' 10 K']\n",
      "1371 /home/louis/research/pdf_processor/processed_data/superconductivity_processed/physrevb.80.024518\n",
      "14269 characters = 4004 tokens\n"
     ]
    },
    {
     "name": "stderr",
     "output_type": "stream",
     "text": [
      "The attention mask and the pad token id were not set. As a consequence, you may observe unexpected behavior. Please pass your input's `attention_mask` to obtain reliable results.\n",
      "Setting `pad_token_id` to `eos_token_id`:128001 for open-end generation.\n"
     ]
    },
    {
     "name": "stdout",
     "output_type": "stream",
     "text": [
      "['CRITICAL TEMPERATURE: 8.8 K']\n",
      "['Fe1Se1', ' 8.8 K']\n",
      "1373 /home/louis/research/pdf_processor/processed_data/superconductivity_processed/physrevb.85.064504\n",
      "15000 characters = 3684 tokens\n"
     ]
    },
    {
     "name": "stderr",
     "output_type": "stream",
     "text": [
      "The attention mask and the pad token id were not set. As a consequence, you may observe unexpected behavior. Please pass your input's `attention_mask` to obtain reliable results.\n",
      "Setting `pad_token_id` to `eos_token_id`:128001 for open-end generation.\n"
     ]
    },
    {
     "name": "stdout",
     "output_type": "stream",
     "text": [
      "['CRITICAL TEMPERATURE: 14.5 K']\n",
      "['Fe1.08Te0.55Se0.45Ox', ' 14.5 K']\n",
      "1374 /home/louis/research/pdf_processor/processed_data/superconductivity_processed/physrevb.96.224433\n",
      "15000 characters = 3711 tokens\n"
     ]
    },
    {
     "name": "stderr",
     "output_type": "stream",
     "text": [
      "The attention mask and the pad token id were not set. As a consequence, you may observe unexpected behavior. Please pass your input's `attention_mask` to obtain reliable results.\n",
      "Setting `pad_token_id` to `eos_token_id`:128001 for open-end generation.\n"
     ]
    },
    {
     "name": "stdout",
     "output_type": "stream",
     "text": [
      "['CRITICAL TEMPERATURE: 2.7 K']\n",
      "['Sm0.04La0.96Ni1C2', ' 2.7 K']\n",
      "1376 /home/louis/research/pdf_processor/processed_data/superconductivity_processed/physrevb.90.220508\n",
      "15000 characters = 3700 tokens\n"
     ]
    },
    {
     "name": "stderr",
     "output_type": "stream",
     "text": [
      "The attention mask and the pad token id were not set. As a consequence, you may observe unexpected behavior. Please pass your input's `attention_mask` to obtain reliable results.\n",
      "Setting `pad_token_id` to `eos_token_id`:128001 for open-end generation.\n"
     ]
    },
    {
     "name": "stdout",
     "output_type": "stream",
     "text": [
      "['CRITICAL TEMPERATURE: 3 K']\n",
      "['La1Ni1C2', ' 3 K']\n",
      "1382 /home/louis/research/pdf_processor/processed_data/superconductivity_processed/physrevb.98.214505\n",
      "15000 characters = 3854 tokens\n"
     ]
    },
    {
     "name": "stderr",
     "output_type": "stream",
     "text": [
      "The attention mask and the pad token id were not set. As a consequence, you may observe unexpected behavior. Please pass your input's `attention_mask` to obtain reliable results.\n",
      "Setting `pad_token_id` to `eos_token_id`:128001 for open-end generation.\n"
     ]
    },
    {
     "name": "stdout",
     "output_type": "stream",
     "text": [
      "['CRITICAL TEMPERATURE: 3.05 K']\n",
      "['La1Pt1Ge1', ' 3.05 K']\n",
      "1386 /home/louis/research/pdf_processor/processed_data/superconductivity_processed/physrevb.83.100501\n",
      "15000 characters = 4199 tokens\n"
     ]
    },
    {
     "name": "stderr",
     "output_type": "stream",
     "text": [
      "The attention mask and the pad token id were not set. As a consequence, you may observe unexpected behavior. Please pass your input's `attention_mask` to obtain reliable results.\n",
      "Setting `pad_token_id` to `eos_token_id`:128001 for open-end generation.\n"
     ]
    },
    {
     "name": "stdout",
     "output_type": "stream",
     "text": [
      "['CRITICAL TEMPERATURE: 30 K']\n",
      "['Eu1Fe2As2', ' 30 K']\n",
      "1397 /home/louis/research/pdf_processor/processed_data/superconductivity_processed/physrevb.84.064525\n",
      "15000 characters = 3714 tokens\n"
     ]
    },
    {
     "name": "stderr",
     "output_type": "stream",
     "text": [
      "The attention mask and the pad token id were not set. As a consequence, you may observe unexpected behavior. Please pass your input's `attention_mask` to obtain reliable results.\n",
      "Setting `pad_token_id` to `eos_token_id`:128001 for open-end generation.\n"
     ]
    },
    {
     "name": "stdout",
     "output_type": "stream",
     "text": [
      "['CRITICAL TEMPERATURE: 29.4 K']\n",
      "['Ba0.65Na0.35Fe2As2', ' 29.4 K']\n",
      "1399 /home/louis/research/pdf_processor/processed_data/superconductivity_processed/physrevb.86.064504\n",
      "14585 characters = 3895 tokens\n"
     ]
    },
    {
     "name": "stderr",
     "output_type": "stream",
     "text": [
      "The attention mask and the pad token id were not set. As a consequence, you may observe unexpected behavior. Please pass your input's `attention_mask` to obtain reliable results.\n",
      "Setting `pad_token_id` to `eos_token_id`:128001 for open-end generation.\n"
     ]
    },
    {
     "name": "stdout",
     "output_type": "stream",
     "text": [
      "['CRITICAL TEMPERATURE: 7 K']\n",
      "['Ca3Ir4Sn13', ' 7 K']\n",
      "1401 /home/louis/research/pdf_processor/processed_data/superconductivity_processed/physrevb.61.11317\n",
      "14251 characters = 3925 tokens\n"
     ]
    },
    {
     "name": "stderr",
     "output_type": "stream",
     "text": [
      "The attention mask and the pad token id were not set. As a consequence, you may observe unexpected behavior. Please pass your input's `attention_mask` to obtain reliable results.\n",
      "Setting `pad_token_id` to `eos_token_id`:128001 for open-end generation.\n"
     ]
    },
    {
     "name": "stdout",
     "output_type": "stream",
     "text": [
      "['CRITICAL TEMPERATURE: 131 K']\n",
      "['Hg1Ba2Ca2Cu3O8+Z', ' 131 K']\n",
      "1407 /home/louis/research/pdf_processor/processed_data/superconductivity_processed/physrevb.72.024547\n",
      "15000 characters = 3839 tokens\n"
     ]
    },
    {
     "name": "stderr",
     "output_type": "stream",
     "text": [
      "The attention mask and the pad token id were not set. As a consequence, you may observe unexpected behavior. Please pass your input's `attention_mask` to obtain reliable results.\n",
      "Setting `pad_token_id` to `eos_token_id`:128001 for open-end generation.\n"
     ]
    },
    {
     "name": "stdout",
     "output_type": "stream",
     "text": [
      "['CRITICAL TEMPERATURE: 6 K']\n",
      "['B12Zr1', ' 6 K']\n",
      "1408 /home/louis/research/pdf_processor/processed_data/superconductivity_processed/physrevb.40.841\n",
      "9344 characters = 2277 tokens\n"
     ]
    },
    {
     "name": "stderr",
     "output_type": "stream",
     "text": [
      "The attention mask and the pad token id were not set. As a consequence, you may observe unexpected behavior. Please pass your input's `attention_mask` to obtain reliable results.\n",
      "Setting `pad_token_id` to `eos_token_id`:128001 for open-end generation.\n"
     ]
    },
    {
     "name": "stdout",
     "output_type": "stream",
     "text": [
      "['CRITICAL TEMPERATURE: 84 K']\n",
      "['Bi2Sr2Ca1Cu2O8', ' 84 K']\n",
      "1411 /home/louis/research/pdf_processor/processed_data/superconductivity_processed/physrevb.91.134508\n",
      "15000 characters = 3272 tokens\n"
     ]
    },
    {
     "name": "stderr",
     "output_type": "stream",
     "text": [
      "The attention mask and the pad token id were not set. As a consequence, you may observe unexpected behavior. Please pass your input's `attention_mask` to obtain reliable results.\n",
      "Setting `pad_token_id` to `eos_token_id`:128001 for open-end generation.\n"
     ]
    },
    {
     "name": "stdout",
     "output_type": "stream",
     "text": [
      "['CRITICAL TEMPERATURE: 8.8 K']\n",
      "['Nb0.18Re0.82', ' 8.8 K']\n",
      "1412 /home/louis/research/pdf_processor/processed_data/superconductivity_processed/physrevb.77.193106\n",
      "15000 characters = 3904 tokens\n"
     ]
    },
    {
     "name": "stderr",
     "output_type": "stream",
     "text": [
      "The attention mask and the pad token id were not set. As a consequence, you may observe unexpected behavior. Please pass your input's `attention_mask` to obtain reliable results.\n",
      "Setting `pad_token_id` to `eos_token_id`:128001 for open-end generation.\n"
     ]
    },
    {
     "name": "stdout",
     "output_type": "stream",
     "text": [
      "['CRITICAL TEMPERATURE: 1.92 K']\n",
      "['Li0.9Mo6O17', ' 1.92 K']\n",
      "1415 /home/louis/research/pdf_processor/processed_data/superconductivity_processed/physrevb.67.172508\n",
      "14519 characters = 4095 tokens\n"
     ]
    },
    {
     "name": "stderr",
     "output_type": "stream",
     "text": [
      "The attention mask and the pad token id were not set. As a consequence, you may observe unexpected behavior. Please pass your input's `attention_mask` to obtain reliable results.\n",
      "Setting `pad_token_id` to `eos_token_id`:128001 for open-end generation.\n"
     ]
    },
    {
     "name": "stdout",
     "output_type": "stream",
     "text": [
      "['CRITICAL TEMPERATURE: 4.4 K']\n",
      "['B0.67Mg0.33', ' 4.4 K']\n",
      "1416 /home/louis/research/pdf_processor/processed_data/superconductivity_processed/physrevb.30.444\n",
      "11330 characters = 3206 tokens\n"
     ]
    },
    {
     "name": "stderr",
     "output_type": "stream",
     "text": [
      "The attention mask and the pad token id were not set. As a consequence, you may observe unexpected behavior. Please pass your input's `attention_mask` to obtain reliable results.\n",
      "Setting `pad_token_id` to `eos_token_id`:128001 for open-end generation.\n"
     ]
    },
    {
     "name": "stdout",
     "output_type": "stream",
     "text": [
      "['CRITICAL TEMPERATURE: 1 K']\n",
      "['Ce1Ru3Si2', ' 1 K']\n",
      "1418 /home/louis/research/pdf_processor/processed_data/superconductivity_processed/physrevb.49.9218\n",
      "15000 characters = 3820 tokens\n"
     ]
    },
    {
     "name": "stderr",
     "output_type": "stream",
     "text": [
      "The attention mask and the pad token id were not set. As a consequence, you may observe unexpected behavior. Please pass your input's `attention_mask` to obtain reliable results.\n",
      "Setting `pad_token_id` to `eos_token_id`:128001 for open-end generation.\n"
     ]
    },
    {
     "name": "stdout",
     "output_type": "stream",
     "text": [
      "['CRITICAL TEMPERATURE: 90.7 K']\n",
      "['Bi2Sr2Ca1Cu2O8+d', ' 90.7 K']\n",
      "1419 /home/louis/research/pdf_processor/processed_data/superconductivity_processed/physrevb.63.172407\n",
      "10252 characters = 2659 tokens\n"
     ]
    },
    {
     "name": "stderr",
     "output_type": "stream",
     "text": [
      "The attention mask and the pad token id were not set. As a consequence, you may observe unexpected behavior. Please pass your input's `attention_mask` to obtain reliable results.\n",
      "Setting `pad_token_id` to `eos_token_id`:128001 for open-end generation.\n"
     ]
    },
    {
     "name": "stdout",
     "output_type": "stream",
     "text": [
      "['CRITICAL TEMPERATURE: 3 K']\n",
      "['Y2Pd1Ge3', ' 3 K']\n",
      "1420 /home/louis/research/pdf_processor/processed_data/superconductivity_processed/physrevb.59.7266\n",
      "15000 characters = 3800 tokens\n"
     ]
    },
    {
     "name": "stderr",
     "output_type": "stream",
     "text": [
      "The attention mask and the pad token id were not set. As a consequence, you may observe unexpected behavior. Please pass your input's `attention_mask` to obtain reliable results.\n",
      "Setting `pad_token_id` to `eos_token_id`:128001 for open-end generation.\n"
     ]
    },
    {
     "name": "stdout",
     "output_type": "stream",
     "text": [
      "['CRITICAL TEMPERATURE: 83 K']\n",
      "['Lu5Ir4Si10', ' 83 K']\n",
      "1422 /home/louis/research/pdf_processor/processed_data/superconductivity_processed/physrevb.10.4572\n",
      "4880 characters = 1325 tokens\n"
     ]
    },
    {
     "name": "stderr",
     "output_type": "stream",
     "text": [
      "The attention mask and the pad token id were not set. As a consequence, you may observe unexpected behavior. Please pass your input's `attention_mask` to obtain reliable results.\n",
      "Setting `pad_token_id` to `eos_token_id`:128001 for open-end generation.\n"
     ]
    },
    {
     "name": "stdout",
     "output_type": "stream",
     "text": [
      "['CRITICAL TEMPERATURE: 6.07 K']\n",
      "['Ga1', ' 6.07 K']\n",
      "1423 /home/louis/research/pdf_processor/processed_data/superconductivity_processed/physrevb.83.100514\n",
      "15000 characters = 4349 tokens\n"
     ]
    },
    {
     "name": "stderr",
     "output_type": "stream",
     "text": [
      "The attention mask and the pad token id were not set. As a consequence, you may observe unexpected behavior. Please pass your input's `attention_mask` to obtain reliable results.\n",
      "Setting `pad_token_id` to `eos_token_id`:128001 for open-end generation.\n"
     ]
    },
    {
     "name": "stdout",
     "output_type": "stream",
     "text": [
      "['CRITICAL TEMPERATURE: 32 K']\n",
      "['K0.8Fe1.76Se2', ' 32 K']\n",
      "1430 /home/louis/research/pdf_processor/processed_data/superconductivity_processed/physrevb.91.060510\n",
      "14586 characters = 4048 tokens\n"
     ]
    },
    {
     "name": "stderr",
     "output_type": "stream",
     "text": [
      "The attention mask and the pad token id were not set. As a consequence, you may observe unexpected behavior. Please pass your input's `attention_mask` to obtain reliable results.\n",
      "Setting `pad_token_id` to `eos_token_id`:128001 for open-end generation.\n"
     ]
    },
    {
     "name": "stdout",
     "output_type": "stream",
     "text": [
      "['CRITICAL TEMPERATURE: 5.2 K']\n",
      "['Sr1Pt2As2', ' 5.2 K']\n",
      "1433 /home/louis/research/pdf_processor/processed_data/superconductivity_processed/physrevb.64.172504\n",
      "13458 characters = 3292 tokens\n"
     ]
    },
    {
     "name": "stderr",
     "output_type": "stream",
     "text": [
      "The attention mask and the pad token id were not set. As a consequence, you may observe unexpected behavior. Please pass your input's `attention_mask` to obtain reliable results.\n",
      "Setting `pad_token_id` to `eos_token_id`:128001 for open-end generation.\n"
     ]
    },
    {
     "name": "stdout",
     "output_type": "stream",
     "text": [
      "['CRITICAL TEMPERATURE: 8 K']\n",
      "['Ba8Si46', ' 8 K']\n",
      "1435 /home/louis/research/pdf_processor/processed_data/superconductivity_processed/physrevb.67.094502\n",
      "15000 characters = 3989 tokens\n"
     ]
    },
    {
     "name": "stderr",
     "output_type": "stream",
     "text": [
      "The attention mask and the pad token id were not set. As a consequence, you may observe unexpected behavior. Please pass your input's `attention_mask` to obtain reliable results.\n",
      "Setting `pad_token_id` to `eos_token_id`:128001 for open-end generation.\n"
     ]
    },
    {
     "name": "stdout",
     "output_type": "stream",
     "text": [
      "['CRITICAL TEMPERATURE: 7.6 K']\n",
      "['Mg1C1Ni3', ' 7.6 K']\n",
      "1438 /home/louis/research/pdf_processor/processed_data/superconductivity_processed/physrevb.89.100501\n",
      "15000 characters = 3751 tokens\n"
     ]
    },
    {
     "name": "stderr",
     "output_type": "stream",
     "text": [
      "The attention mask and the pad token id were not set. As a consequence, you may observe unexpected behavior. Please pass your input's `attention_mask` to obtain reliable results.\n",
      "Setting `pad_token_id` to `eos_token_id`:128001 for open-end generation.\n"
     ]
    },
    {
     "name": "stdout",
     "output_type": "stream",
     "text": [
      "['CRITICAL TEMPERATURE: 3 K']\n",
      "['Ir0.95Pd0.05Te2', ' 3 K']\n",
      "1440 /home/louis/research/pdf_processor/processed_data/superconductivity_processed/physrevb.50.16125\n",
      "14470 characters = 3617 tokens\n"
     ]
    },
    {
     "name": "stderr",
     "output_type": "stream",
     "text": [
      "The attention mask and the pad token id were not set. As a consequence, you may observe unexpected behavior. Please pass your input's `attention_mask` to obtain reliable results.\n",
      "Setting `pad_token_id` to `eos_token_id`:128001 for open-end generation.\n"
     ]
    },
    {
     "name": "stdout",
     "output_type": "stream",
     "text": [
      "['CRITICAL TEMPERATURE: 91.5 K']\n",
      "['Y1Ba2Cu3Oy', ' 91.5 K']\n",
      "1441 /home/louis/research/pdf_processor/processed_data/superconductivity_processed/physrevb.54.r3772\n",
      "15000 characters = 3811 tokens\n"
     ]
    },
    {
     "name": "stderr",
     "output_type": "stream",
     "text": [
      "The attention mask and the pad token id were not set. As a consequence, you may observe unexpected behavior. Please pass your input's `attention_mask` to obtain reliable results.\n",
      "Setting `pad_token_id` to `eos_token_id`:128001 for open-end generation.\n"
     ]
    },
    {
     "name": "stdout",
     "output_type": "stream",
     "text": [
      "['CRITICAL TEMPERATURE: 16 K']\n",
      "['Lu1Ni2B2C1', ' 16 K']\n",
      "1442 /home/louis/research/pdf_processor/processed_data/superconductivity_processed/physrevb.91.094427\n",
      "15000 characters = 4206 tokens\n"
     ]
    },
    {
     "name": "stderr",
     "output_type": "stream",
     "text": [
      "The attention mask and the pad token id were not set. As a consequence, you may observe unexpected behavior. Please pass your input's `attention_mask` to obtain reliable results.\n",
      "Setting `pad_token_id` to `eos_token_id`:128001 for open-end generation.\n"
     ]
    },
    {
     "name": "stdout",
     "output_type": "stream",
     "text": [
      "['CRITICAL TEMPERATURE: 22.5 K']\n",
      "['Eu1Fe1.72Ir0.28As2', ' 22.5 K']\n",
      "1445 /home/louis/research/pdf_processor/processed_data/superconductivity_processed/physrevb.81.184522\n",
      "15000 characters = 4249 tokens\n"
     ]
    },
    {
     "name": "stderr",
     "output_type": "stream",
     "text": [
      "The attention mask and the pad token id were not set. As a consequence, you may observe unexpected behavior. Please pass your input's `attention_mask` to obtain reliable results.\n",
      "Setting `pad_token_id` to `eos_token_id`:128001 for open-end generation.\n"
     ]
    },
    {
     "name": "stdout",
     "output_type": "stream",
     "text": [
      "['CRITICAL TEMPERATURE: 28 K']\n",
      "['Fe1.14Te0.91S0.09', ' 28 K']\n",
      "1446 /home/louis/research/pdf_processor/processed_data/superconductivity_processed/physrevb.49.9097\n",
      "15000 characters = 3455 tokens\n"
     ]
    },
    {
     "name": "stderr",
     "output_type": "stream",
     "text": [
      "The attention mask and the pad token id were not set. As a consequence, you may observe unexpected behavior. Please pass your input's `attention_mask` to obtain reliable results.\n",
      "Setting `pad_token_id` to `eos_token_id`:128001 for open-end generation.\n"
     ]
    },
    {
     "name": "stdout",
     "output_type": "stream",
     "text": [
      "['CRITICAL TEMPERATURE: 23 K']\n",
      "['La1.925Sr0.075Cu1O4+d', ' 23 K']\n",
      "1450 /home/louis/research/pdf_processor/processed_data/superconductivity_processed/physrevb.71.020501\n",
      "15000 characters = 3859 tokens\n"
     ]
    },
    {
     "name": "stderr",
     "output_type": "stream",
     "text": [
      "The attention mask and the pad token id were not set. As a consequence, you may observe unexpected behavior. Please pass your input's `attention_mask` to obtain reliable results.\n",
      "Setting `pad_token_id` to `eos_token_id`:128001 for open-end generation.\n"
     ]
    },
    {
     "name": "stdout",
     "output_type": "stream",
     "text": [
      "['CRITICAL TEMPERATURE: 32.9 K']\n",
      "['Mg1B1.88C0.12', ' 32.9 K']\n",
      "1454 /home/louis/research/pdf_processor/processed_data/superconductivity_processed/physrevb.23.2219\n",
      "3769 characters = 956 tokens\n"
     ]
    },
    {
     "name": "stderr",
     "output_type": "stream",
     "text": [
      "The attention mask and the pad token id were not set. As a consequence, you may observe unexpected behavior. Please pass your input's `attention_mask` to obtain reliable results.\n",
      "Setting `pad_token_id` to `eos_token_id`:128001 for open-end generation.\n"
     ]
    },
    {
     "name": "stdout",
     "output_type": "stream",
     "text": [
      "['CRITICAL TEMPERATURE: 1.2 K']\n",
      "['K0.18W1O3', ' 1.2 K']\n",
      "1457 /home/louis/research/pdf_processor/processed_data/superconductivity_processed/physrevb.95.060505\n",
      "15000 characters = 3994 tokens\n"
     ]
    },
    {
     "name": "stderr",
     "output_type": "stream",
     "text": [
      "The attention mask and the pad token id were not set. As a consequence, you may observe unexpected behavior. Please pass your input's `attention_mask` to obtain reliable results.\n",
      "Setting `pad_token_id` to `eos_token_id`:128001 for open-end generation.\n"
     ]
    },
    {
     "name": "stdout",
     "output_type": "stream",
     "text": [
      "['CRITICAL TEMPERATURE: 3.25 K']\n",
      "['Ba1Fe1.915Ni0.085As2', ' 3.25 K']\n",
      "1458 /home/louis/research/pdf_processor/processed_data/superconductivity_processed/physrevb.79.144509\n",
      "15000 characters = 3463 tokens\n"
     ]
    },
    {
     "name": "stderr",
     "output_type": "stream",
     "text": [
      "The attention mask and the pad token id were not set. As a consequence, you may observe unexpected behavior. Please pass your input's `attention_mask` to obtain reliable results.\n",
      "Setting `pad_token_id` to `eos_token_id`:128001 for open-end generation.\n"
     ]
    },
    {
     "name": "stdout",
     "output_type": "stream",
     "text": [
      "['CRITICAL TEMPERATURE: 3.3 K']\n",
      "['B3Ru7', ' 3.3 K']\n",
      "1461 /home/louis/research/pdf_processor/processed_data/superconductivity_processed/physrevb.55.15300\n",
      "13337 characters = 3509 tokens\n"
     ]
    },
    {
     "name": "stderr",
     "output_type": "stream",
     "text": [
      "The attention mask and the pad token id were not set. As a consequence, you may observe unexpected behavior. Please pass your input's `attention_mask` to obtain reliable results.\n",
      "Setting `pad_token_id` to `eos_token_id`:128001 for open-end generation.\n"
     ]
    },
    {
     "name": "stdout",
     "output_type": "stream",
     "text": [
      "['CRITICAL TEMPERATURE: 90 K']\n",
      "['Y1Ba2Cu3O6.92', ' 90 K']\n",
      "1466 /home/louis/research/pdf_processor/processed_data/superconductivity_processed/physrevb.81.020509\n",
      "13037 characters = 3314 tokens\n"
     ]
    },
    {
     "name": "stderr",
     "output_type": "stream",
     "text": [
      "The attention mask and the pad token id were not set. As a consequence, you may observe unexpected behavior. Please pass your input's `attention_mask` to obtain reliable results.\n",
      "Setting `pad_token_id` to `eos_token_id`:128001 for open-end generation.\n"
     ]
    },
    {
     "name": "stdout",
     "output_type": "stream",
     "text": [
      "['CRITICAL TEMPERATURE: 14 K']\n",
      "['Fe1.11Te0.6Se0.4', ' 14 K']\n",
      "1467 /home/louis/research/pdf_processor/processed_data/superconductivity_processed/physrevb.65.100506\n",
      "15000 characters = 4122 tokens\n"
     ]
    },
    {
     "name": "stderr",
     "output_type": "stream",
     "text": [
      "The attention mask and the pad token id were not set. As a consequence, you may observe unexpected behavior. Please pass your input's `attention_mask` to obtain reliable results.\n",
      "Setting `pad_token_id` to `eos_token_id`:128001 for open-end generation.\n"
     ]
    },
    {
     "name": "stdout",
     "output_type": "stream",
     "text": [
      "['CRITICAL TEMPERATURE: 1.85 K']\n",
      "['Pr1Os4Sb12', ' 1.85 K']\n",
      "1469 /home/louis/research/pdf_processor/processed_data/superconductivity_processed/physrevb.96.064512\n",
      "15000 characters = 3876 tokens\n"
     ]
    },
    {
     "name": "stderr",
     "output_type": "stream",
     "text": [
      "The attention mask and the pad token id were not set. As a consequence, you may observe unexpected behavior. Please pass your input's `attention_mask` to obtain reliable results.\n",
      "Setting `pad_token_id` to `eos_token_id`:128001 for open-end generation.\n"
     ]
    },
    {
     "name": "stdout",
     "output_type": "stream",
     "text": [
      "['CRITICAL TEMPERATURE: 44.56 K']\n",
      "['Li0.36M1Fe2Se2', ' 44.56 K']\n",
      "1476 /home/louis/research/pdf_processor/processed_data/superconductivity_processed/physrevb.90.144508\n",
      "15000 characters = 3819 tokens\n"
     ]
    },
    {
     "name": "stderr",
     "output_type": "stream",
     "text": [
      "The attention mask and the pad token id were not set. As a consequence, you may observe unexpected behavior. Please pass your input's `attention_mask` to obtain reliable results.\n",
      "Setting `pad_token_id` to `eos_token_id`:128001 for open-end generation.\n"
     ]
    },
    {
     "name": "stdout",
     "output_type": "stream",
     "text": [
      "['CRITICAL TEMPERATURE: 21.5 K']\n",
      "['Ba2Ti2Fe2As4O1', ' 21.5 K']\n",
      "1478 /home/louis/research/pdf_processor/processed_data/superconductivity_processed/physrevb.79.224522\n",
      "12993 characters = 3719 tokens\n"
     ]
    },
    {
     "name": "stderr",
     "output_type": "stream",
     "text": [
      "The attention mask and the pad token id were not set. As a consequence, you may observe unexpected behavior. Please pass your input's `attention_mask` to obtain reliable results.\n",
      "Setting `pad_token_id` to `eos_token_id`:128001 for open-end generation.\n"
     ]
    },
    {
     "name": "stdout",
     "output_type": "stream",
     "text": [
      "['CRITICAL TEMPERATURE: 3.04 K']\n",
      "['Sr1Pd2Ge2', ' 3.04 K']\n",
      "1482 /home/louis/research/pdf_processor/processed_data/superconductivity_processed/physrevb.89.094520\n",
      "15000 characters = 3561 tokens\n"
     ]
    },
    {
     "name": "stderr",
     "output_type": "stream",
     "text": [
      "The attention mask and the pad token id were not set. As a consequence, you may observe unexpected behavior. Please pass your input's `attention_mask` to obtain reliable results.\n",
      "Setting `pad_token_id` to `eos_token_id`:128001 for open-end generation.\n"
     ]
    },
    {
     "name": "stdout",
     "output_type": "stream",
     "text": [
      "['CRITICAL TEMPERATURE: 5 K']\n",
      "['Sr3Ir4Sn13', ' 5 K']\n",
      "1489 /home/louis/research/pdf_processor/processed_data/superconductivity_processed/physrevb.87.174510\n",
      "15000 characters = 3841 tokens\n"
     ]
    },
    {
     "name": "stderr",
     "output_type": "stream",
     "text": [
      "The attention mask and the pad token id were not set. As a consequence, you may observe unexpected behavior. Please pass your input's `attention_mask` to obtain reliable results.\n",
      "Setting `pad_token_id` to `eos_token_id`:128001 for open-end generation.\n"
     ]
    },
    {
     "name": "stdout",
     "output_type": "stream",
     "text": [
      "['CRITICAL TEMPERATURE: 1.8 K']\n",
      "['Ir3Te8', ' 1.8 K']\n",
      "1495 /home/louis/research/pdf_processor/processed_data/superconductivity_processed/physrevb.87.060510\n",
      "15000 characters = 3946 tokens\n"
     ]
    },
    {
     "name": "stderr",
     "output_type": "stream",
     "text": [
      "The attention mask and the pad token id were not set. As a consequence, you may observe unexpected behavior. Please pass your input's `attention_mask` to obtain reliable results.\n",
      "Setting `pad_token_id` to `eos_token_id`:128001 for open-end generation.\n"
     ]
    },
    {
     "name": "stdout",
     "output_type": "stream",
     "text": [
      "['CRITICAL TEMPERATURE: 0.95 K']\n",
      "['Ba1Ti2Sb2O1', ' 0.95 K']\n",
      "1496 /home/louis/research/pdf_processor/processed_data/superconductivity_processed/physrevb.74.134513\n",
      "15000 characters = 3696 tokens\n"
     ]
    },
    {
     "name": "stderr",
     "output_type": "stream",
     "text": [
      "The attention mask and the pad token id were not set. As a consequence, you may observe unexpected behavior. Please pass your input's `attention_mask` to obtain reliable results.\n",
      "Setting `pad_token_id` to `eos_token_id`:128001 for open-end generation.\n"
     ]
    },
    {
     "name": "stdout",
     "output_type": "stream",
     "text": [
      "['CRITICAL TEMPERATURE: 6 K']\n",
      "['Pr1Pt2B2C1', ' 6 K']\n",
      "1498 /home/louis/research/pdf_processor/processed_data/superconductivity_processed/physrevb.39.11445\n",
      "12518 characters = 2842 tokens\n"
     ]
    },
    {
     "name": "stderr",
     "output_type": "stream",
     "text": [
      "The attention mask and the pad token id were not set. As a consequence, you may observe unexpected behavior. Please pass your input's `attention_mask` to obtain reliable results.\n",
      "Setting `pad_token_id` to `eos_token_id`:128001 for open-end generation.\n"
     ]
    },
    {
     "name": "stdout",
     "output_type": "stream",
     "text": [
      "['CRITICAL TEMPERATURE: 37 K']\n",
      "['La2Cu1O4+Z', ' 37 K']\n",
      "1499 /home/louis/research/pdf_processor/processed_data/superconductivity_processed/physrevb.82.144532\n",
      "15000 characters = 3984 tokens\n"
     ]
    },
    {
     "name": "stderr",
     "output_type": "stream",
     "text": [
      "The attention mask and the pad token id were not set. As a consequence, you may observe unexpected behavior. Please pass your input's `attention_mask` to obtain reliable results.\n",
      "Setting `pad_token_id` to `eos_token_id`:128001 for open-end generation.\n"
     ]
    },
    {
     "name": "stdout",
     "output_type": "stream",
     "text": [
      "['CRITICAL TEMPERATURE: 2.10 K']\n",
      "['B2Os1', ' 2.10 K']\n",
      "1500 /home/louis/research/pdf_processor/processed_data/superconductivity_processed/physrevb.65.224520\n",
      "15000 characters = 3629 tokens\n"
     ]
    },
    {
     "name": "stderr",
     "output_type": "stream",
     "text": [
      "The attention mask and the pad token id were not set. As a consequence, you may observe unexpected behavior. Please pass your input's `attention_mask` to obtain reliable results.\n",
      "Setting `pad_token_id` to `eos_token_id`:128001 for open-end generation.\n"
     ]
    },
    {
     "name": "stdout",
     "output_type": "stream",
     "text": [
      "['CRITICAL TEMPERATURE: 43 K']\n",
      "['Sr0.9La0.1Cu1O2', ' 43 K']\n",
      "1502 /home/louis/research/pdf_processor/processed_data/superconductivity_processed/physrevb.72.014534\n",
      "15000 characters = 3657 tokens\n"
     ]
    },
    {
     "name": "stderr",
     "output_type": "stream",
     "text": [
      "The attention mask and the pad token id were not set. As a consequence, you may observe unexpected behavior. Please pass your input's `attention_mask` to obtain reliable results.\n",
      "Setting `pad_token_id` to `eos_token_id`:128001 for open-end generation.\n"
     ]
    },
    {
     "name": "stdout",
     "output_type": "stream",
     "text": [
      "['CRITICAL TEMPERATURE: 4.4 K']\n",
      "['Na0.1Ta1S2', ' 4.4 K']\n",
      "1504 /home/louis/research/pdf_processor/processed_data/superconductivity_processed/physrevb.65.180504\n",
      "15000 characters = 3844 tokens\n"
     ]
    },
    {
     "name": "stderr",
     "output_type": "stream",
     "text": [
      "The attention mask and the pad token id were not set. As a consequence, you may observe unexpected behavior. Please pass your input's `attention_mask` to obtain reliable results.\n",
      "Setting `pad_token_id` to `eos_token_id`:128001 for open-end generation.\n"
     ]
    },
    {
     "name": "stdout",
     "output_type": "stream",
     "text": [
      "['CRITICAL TEMPERATURE: 2.3 K']\n",
      "['Ce1Co1In5', ' 2.3 K']\n",
      "1505 /home/louis/research/pdf_processor/processed_data/superconductivity_processed/physrevb.75.054513\n",
      "15000 characters = 3676 tokens\n"
     ]
    },
    {
     "name": "stderr",
     "output_type": "stream",
     "text": [
      "The attention mask and the pad token id were not set. As a consequence, you may observe unexpected behavior. Please pass your input's `attention_mask` to obtain reliable results.\n",
      "Setting `pad_token_id` to `eos_token_id`:128001 for open-end generation.\n"
     ]
    },
    {
     "name": "stdout",
     "output_type": "stream",
     "text": [
      "['CRITICAL TEMPERATURE: 3.3 K']\n",
      "['Ba8Si40Ga6', ' 3.3 K']\n",
      "1507 /home/louis/research/pdf_processor/processed_data/superconductivity_processed/physrevb.68.134503\n",
      "15000 characters = 3807 tokens\n"
     ]
    },
    {
     "name": "stderr",
     "output_type": "stream",
     "text": [
      "The attention mask and the pad token id were not set. As a consequence, you may observe unexpected behavior. Please pass your input's `attention_mask` to obtain reliable results.\n",
      "Setting `pad_token_id` to `eos_token_id`:128001 for open-end generation.\n"
     ]
    },
    {
     "name": "stdout",
     "output_type": "stream",
     "text": [
      "['CRITICAL TEMPERATURE: 6.0 K']\n",
      "['Ca1Al1Si1', ' 6.0 K']\n",
      "1511 /home/louis/research/pdf_processor/processed_data/superconductivity_processed/physrevb.79.094505\n",
      "15000 characters = 4322 tokens\n"
     ]
    },
    {
     "name": "stderr",
     "output_type": "stream",
     "text": [
      "The attention mask and the pad token id were not set. As a consequence, you may observe unexpected behavior. Please pass your input's `attention_mask` to obtain reliable results.\n",
      "Setting `pad_token_id` to `eos_token_id`:128001 for open-end generation.\n"
     ]
    },
    {
     "name": "stdout",
     "output_type": "stream",
     "text": [
      "['CRITICAL TEMPERATURE: 34.6 K']\n",
      "['Ba0.6K0.4Fe2As2', ' 34.6 K']\n",
      "1512 /home/louis/research/pdf_processor/processed_data/superconductivity_processed/physrevb.96.060509\n",
      "14324 characters = 3525 tokens\n"
     ]
    },
    {
     "name": "stderr",
     "output_type": "stream",
     "text": [
      "The attention mask and the pad token id were not set. As a consequence, you may observe unexpected behavior. Please pass your input's `attention_mask` to obtain reliable results.\n",
      "Setting `pad_token_id` to `eos_token_id`:128001 for open-end generation.\n"
     ]
    },
    {
     "name": "stdout",
     "output_type": "stream",
     "text": [
      "['CRITICAL TEMPERATURE: 13.1 K']\n",
      "['Pd1Se2', ' 13.1 K']\n",
      "1515 /home/louis/research/pdf_processor/processed_data/superconductivity_processed/physrevb.83.104508\n",
      "15000 characters = 3615 tokens\n"
     ]
    },
    {
     "name": "stderr",
     "output_type": "stream",
     "text": [
      "The attention mask and the pad token id were not set. As a consequence, you may observe unexpected behavior. Please pass your input's `attention_mask` to obtain reliable results.\n",
      "Setting `pad_token_id` to `eos_token_id`:128001 for open-end generation.\n"
     ]
    },
    {
     "name": "stdout",
     "output_type": "stream",
     "text": [
      "['CRITICAL TEMPERATURE: 33 K']\n",
      "['K0.8Fe2Se2', ' 33 K']\n",
      "1517 /home/louis/research/pdf_processor/processed_data/superconductivity_processed/physrevb.85.024526\n",
      "15000 characters = 3625 tokens\n"
     ]
    },
    {
     "name": "stderr",
     "output_type": "stream",
     "text": [
      "The attention mask and the pad token id were not set. As a consequence, you may observe unexpected behavior. Please pass your input's `attention_mask` to obtain reliable results.\n",
      "Setting `pad_token_id` to `eos_token_id`:128001 for open-end generation.\n"
     ]
    },
    {
     "name": "stdout",
     "output_type": "stream",
     "text": [
      "['CRITICAL TEMPERATURE: 2.8 K']\n",
      "['U1Co1Ge1', ' 2.8 K']\n",
      "1522 /home/louis/research/pdf_processor/processed_data/superconductivity_processed/physrevb.59.11563\n",
      "15000 characters = 3671 tokens\n"
     ]
    },
    {
     "name": "stderr",
     "output_type": "stream",
     "text": [
      "The attention mask and the pad token id were not set. As a consequence, you may observe unexpected behavior. Please pass your input's `attention_mask` to obtain reliable results.\n",
      "Setting `pad_token_id` to `eos_token_id`:128001 for open-end generation.\n"
     ]
    },
    {
     "name": "stdout",
     "output_type": "stream",
     "text": [
      "['CRITICAL TEMPERATURE: 95.65 K']\n",
      "['Nd1Ba2Cu3O7-Z', ' 95.65 K']\n",
      "1524 /home/louis/research/pdf_processor/processed_data/superconductivity_processed/physrevb.66.220504\n",
      "13047 characters = 3354 tokens\n"
     ]
    },
    {
     "name": "stderr",
     "output_type": "stream",
     "text": [
      "The attention mask and the pad token id were not set. As a consequence, you may observe unexpected behavior. Please pass your input's `attention_mask` to obtain reliable results.\n",
      "Setting `pad_token_id` to `eos_token_id`:128001 for open-end generation.\n"
     ]
    },
    {
     "name": "stdout",
     "output_type": "stream",
     "text": [
      "['CRITICAL TEMPERATURE: 3 K']\n",
      "['La1Os4Sb12', ' 3 K']\n",
      "1530 /home/louis/research/pdf_processor/processed_data/superconductivity_processed/physrevb.39.6571\n",
      "15000 characters = 3422 tokens\n"
     ]
    },
    {
     "name": "stderr",
     "output_type": "stream",
     "text": [
      "The attention mask and the pad token id were not set. As a consequence, you may observe unexpected behavior. Please pass your input's `attention_mask` to obtain reliable results.\n",
      "Setting `pad_token_id` to `eos_token_id`:128001 for open-end generation.\n"
     ]
    },
    {
     "name": "stdout",
     "output_type": "stream",
     "text": [
      "['CRITICAL TEMPERATURE: 92 K']\n",
      "['Y1Ba2Cu3O7', ' 92 K']\n",
      "1531 /home/louis/research/pdf_processor/processed_data/superconductivity_processed/physrevb.70.174503\n",
      "15000 characters = 3737 tokens\n"
     ]
    },
    {
     "name": "stderr",
     "output_type": "stream",
     "text": [
      "The attention mask and the pad token id were not set. As a consequence, you may observe unexpected behavior. Please pass your input's `attention_mask` to obtain reliable results.\n",
      "Setting `pad_token_id` to `eos_token_id`:128001 for open-end generation.\n"
     ]
    },
    {
     "name": "stdout",
     "output_type": "stream",
     "text": [
      "['CRITICAL TEMPERATURE: 8 K']\n",
      "['Mg1C1.6Ni3', ' 8 K']\n",
      "1535 /home/louis/research/pdf_processor/processed_data/superconductivity_processed/physrevb.52.1181\n",
      "15000 characters = 4043 tokens\n"
     ]
    },
    {
     "name": "stderr",
     "output_type": "stream",
     "text": [
      "The attention mask and the pad token id were not set. As a consequence, you may observe unexpected behavior. Please pass your input's `attention_mask` to obtain reliable results.\n",
      "Setting `pad_token_id` to `eos_token_id`:128001 for open-end generation.\n"
     ]
    },
    {
     "name": "stdout",
     "output_type": "stream",
     "text": [
      "['CRITICAL TEMPERATURE: 5.2 K']\n",
      "['Ho1Ni2B2C1', ' 5.2 K']\n",
      "1536 /home/louis/research/pdf_processor/processed_data/superconductivity_processed/physrevb.95.014502\n",
      "15000 characters = 4060 tokens\n"
     ]
    },
    {
     "name": "stderr",
     "output_type": "stream",
     "text": [
      "The attention mask and the pad token id were not set. As a consequence, you may observe unexpected behavior. Please pass your input's `attention_mask` to obtain reliable results.\n",
      "Setting `pad_token_id` to `eos_token_id`:128001 for open-end generation.\n"
     ]
    },
    {
     "name": "stdout",
     "output_type": "stream",
     "text": [
      "['CRITICAL TEMPERATURE: 6.2 K']\n",
      "['K2Cr3As3', ' 6.2 K']\n",
      "1539 /home/louis/research/pdf_processor/processed_data/superconductivity_processed/physrevb.93.054508\n",
      "15000 characters = 3748 tokens\n"
     ]
    },
    {
     "name": "stderr",
     "output_type": "stream",
     "text": [
      "The attention mask and the pad token id were not set. As a consequence, you may observe unexpected behavior. Please pass your input's `attention_mask` to obtain reliable results.\n",
      "Setting `pad_token_id` to `eos_token_id`:128001 for open-end generation.\n"
     ]
    },
    {
     "name": "stdout",
     "output_type": "stream",
     "text": [
      "['CRITICAL TEMPERATURE: 18 K']\n",
      "['Li1Fe1As1', ' 18 K']\n",
      "1541 /home/louis/research/pdf_processor/processed_data/superconductivity_processed/physrevb.67.180508\n",
      "13283 characters = 3646 tokens\n"
     ]
    },
    {
     "name": "stderr",
     "output_type": "stream",
     "text": [
      "The attention mask and the pad token id were not set. As a consequence, you may observe unexpected behavior. Please pass your input's `attention_mask` to obtain reliable results.\n",
      "Setting `pad_token_id` to `eos_token_id`:128001 for open-end generation.\n"
     ]
    },
    {
     "name": "stdout",
     "output_type": "stream",
     "text": [
      "['CRITICAL TEMPERATURE: 1.85 K']\n",
      "['Pr1Os4Sb12', ' 1.85 K']\n",
      "1546 /home/louis/research/pdf_processor/processed_data/superconductivity_processed/physrevb.70.054519\n",
      "15000 characters = 4141 tokens\n"
     ]
    },
    {
     "name": "stderr",
     "output_type": "stream",
     "text": [
      "The attention mask and the pad token id were not set. As a consequence, you may observe unexpected behavior. Please pass your input's `attention_mask` to obtain reliable results.\n",
      "Setting `pad_token_id` to `eos_token_id`:128001 for open-end generation.\n"
     ]
    },
    {
     "name": "stdout",
     "output_type": "stream",
     "text": [
      "['CRITICAL TEMPERATURE: 11.4 K']\n",
      "['Li1Ti2O4', ' 11.4 K']\n",
      "1548 /home/louis/research/pdf_processor/processed_data/superconductivity_processed/physrevb.79.172507\n",
      "15000 characters = 3971 tokens\n"
     ]
    },
    {
     "name": "stderr",
     "output_type": "stream",
     "text": [
      "The attention mask and the pad token id were not set. As a consequence, you may observe unexpected behavior. Please pass your input's `attention_mask` to obtain reliable results.\n",
      "Setting `pad_token_id` to `eos_token_id`:128001 for open-end generation.\n"
     ]
    },
    {
     "name": "stdout",
     "output_type": "stream",
     "text": [
      "['CRITICAL TEMPERATURE: 0.14 K']\n",
      "['Ce1Pt1Si2', ' 0.14 K']\n",
      "1553 /home/louis/research/pdf_processor/processed_data/superconductivity_processed/physrevb.92.161114\n",
      "15000 characters = 3855 tokens\n"
     ]
    },
    {
     "name": "stderr",
     "output_type": "stream",
     "text": [
      "The attention mask and the pad token id were not set. As a consequence, you may observe unexpected behavior. Please pass your input's `attention_mask` to obtain reliable results.\n",
      "Setting `pad_token_id` to `eos_token_id`:128001 for open-end generation.\n"
     ]
    },
    {
     "name": "stdout",
     "output_type": "stream",
     "text": [
      "['CRITICAL TEMPERATURE: 0.32 K']\n",
      "['Ce3Pt1In11', ' 0.32 K']\n",
      "1557 /home/louis/research/pdf_processor/processed_data/superconductivity_processed/physrevb.85.180505\n",
      "14308 characters = 3682 tokens\n"
     ]
    },
    {
     "name": "stderr",
     "output_type": "stream",
     "text": [
      "The attention mask and the pad token id were not set. As a consequence, you may observe unexpected behavior. Please pass your input's `attention_mask` to obtain reliable results.\n",
      "Setting `pad_token_id` to `eos_token_id`:128001 for open-end generation.\n"
     ]
    },
    {
     "name": "stdout",
     "output_type": "stream",
     "text": [
      "['CRITICAL TEMPERATURE: 15 K']\n",
      "['Li1Fe1As1', ' 15 K']\n",
      "1569 /home/louis/research/pdf_processor/processed_data/superconductivity_processed/physrevb.86.054502\n",
      "15000 characters = 4308 tokens\n"
     ]
    },
    {
     "name": "stderr",
     "output_type": "stream",
     "text": [
      "The attention mask and the pad token id were not set. As a consequence, you may observe unexpected behavior. Please pass your input's `attention_mask` to obtain reliable results.\n",
      "Setting `pad_token_id` to `eos_token_id`:128001 for open-end generation.\n"
     ]
    },
    {
     "name": "stdout",
     "output_type": "stream",
     "text": [
      "['CRITICAL TEMPERATURE: 2.94 K']\n",
      "['Rh3Bi14', ' 2.94 K']\n",
      "1573 /home/louis/research/pdf_processor/processed_data/superconductivity_processed/physrevb.83.144510\n",
      "15000 characters = 3367 tokens\n"
     ]
    },
    {
     "name": "stderr",
     "output_type": "stream",
     "text": [
      "The attention mask and the pad token id were not set. As a consequence, you may observe unexpected behavior. Please pass your input's `attention_mask` to obtain reliable results.\n",
      "Setting `pad_token_id` to `eos_token_id`:128001 for open-end generation.\n"
     ]
    },
    {
     "name": "stdout",
     "output_type": "stream",
     "text": [
      "['CRITICAL TEMPERATURE: 3 K']\n",
      "['Ce1Co1In5', ' 3 K']\n",
      "1578 /home/louis/research/pdf_processor/processed_data/superconductivity_processed/physrevb.78.172505\n",
      "15000 characters = 4037 tokens\n"
     ]
    },
    {
     "name": "stderr",
     "output_type": "stream",
     "text": [
      "The attention mask and the pad token id were not set. As a consequence, you may observe unexpected behavior. Please pass your input's `attention_mask` to obtain reliable results.\n",
      "Setting `pad_token_id` to `eos_token_id`:128001 for open-end generation.\n"
     ]
    },
    {
     "name": "stdout",
     "output_type": "stream",
     "text": [
      "['CRITICAL TEMPERATURE: 2 K']\n",
      "['Mo3Sb7', ' 2 K']\n",
      "1580 /home/louis/research/pdf_processor/processed_data/superconductivity_processed/physrevb.82.094517\n",
      "15000 characters = 4068 tokens\n"
     ]
    },
    {
     "name": "stderr",
     "output_type": "stream",
     "text": [
      "The attention mask and the pad token id were not set. As a consequence, you may observe unexpected behavior. Please pass your input's `attention_mask` to obtain reliable results.\n",
      "Setting `pad_token_id` to `eos_token_id`:128001 for open-end generation.\n"
     ]
    },
    {
     "name": "stdout",
     "output_type": "stream",
     "text": [
      "['CRITICAL TEMPERATURE: 7 K']\n",
      "['Sn3Y1', ' 7 K']\n",
      "1584 /home/louis/research/pdf_processor/processed_data/superconductivity_processed/physrevb.72.220505\n",
      "13490 characters = 3499 tokens\n"
     ]
    },
    {
     "name": "stderr",
     "output_type": "stream",
     "text": [
      "The attention mask and the pad token id were not set. As a consequence, you may observe unexpected behavior. Please pass your input's `attention_mask` to obtain reliable results.\n",
      "Setting `pad_token_id` to `eos_token_id`:128001 for open-end generation.\n"
     ]
    },
    {
     "name": "stdout",
     "output_type": "stream",
     "text": [
      "['CRITICAL TEMPERATURE: 38.7 K']\n",
      "['B2Mg1', ' 38.7 K']\n",
      "1589 /home/louis/research/pdf_processor/processed_data/superconductivity_processed/physrevb.52.3071\n",
      "11644 characters = 2880 tokens\n"
     ]
    },
    {
     "name": "stderr",
     "output_type": "stream",
     "text": [
      "The attention mask and the pad token id were not set. As a consequence, you may observe unexpected behavior. Please pass your input's `attention_mask` to obtain reliable results.\n",
      "Setting `pad_token_id` to `eos_token_id`:128001 for open-end generation.\n"
     ]
    },
    {
     "name": "stdout",
     "output_type": "stream",
     "text": [
      "['CRITICAL TEMPERATURE: 24 K']\n",
      "['Nd1.85Ce0.15Cu1O4-d', ' 24 K']\n",
      "1596 /home/louis/research/pdf_processor/processed_data/superconductivity_processed/physrevb.97.134508\n",
      "15000 characters = 3582 tokens\n"
     ]
    },
    {
     "name": "stderr",
     "output_type": "stream",
     "text": [
      "The attention mask and the pad token id were not set. As a consequence, you may observe unexpected behavior. Please pass your input's `attention_mask` to obtain reliable results.\n",
      "Setting `pad_token_id` to `eos_token_id`:128001 for open-end generation.\n"
     ]
    },
    {
     "name": "stdout",
     "output_type": "stream",
     "text": [
      "['CRITICAL TEMPERATURE: 3.85 K']\n",
      "['Ba1Pd2As2', ' 3.85 K']\n",
      "1600 /home/louis/research/pdf_processor/processed_data/superconductivity_processed/physrevb.49.8931\n",
      "15000 characters = 3391 tokens\n"
     ]
    },
    {
     "name": "stderr",
     "output_type": "stream",
     "text": [
      "The attention mask and the pad token id were not set. As a consequence, you may observe unexpected behavior. Please pass your input's `attention_mask` to obtain reliable results.\n",
      "Setting `pad_token_id` to `eos_token_id`:128001 for open-end generation.\n"
     ]
    },
    {
     "name": "stdout",
     "output_type": "stream",
     "text": [
      "['CRITICAL TEMPERATURE: 6.5 K']\n",
      "['Tl2Mo6Se6', ' 6.5 K']\n",
      "1601 /home/louis/research/pdf_processor/processed_data/superconductivity_processed/physrevb.97.054506\n",
      "15000 characters = 3951 tokens\n"
     ]
    },
    {
     "name": "stderr",
     "output_type": "stream",
     "text": [
      "The attention mask and the pad token id were not set. As a consequence, you may observe unexpected behavior. Please pass your input's `attention_mask` to obtain reliable results.\n",
      "Setting `pad_token_id` to `eos_token_id`:128001 for open-end generation.\n"
     ]
    },
    {
     "name": "stdout",
     "output_type": "stream",
     "text": [
      "['CRITICAL TEMPERATURE: 1.5 K']\n",
      "['B2Ru1', ' 1.5 K']\n",
      "1611 /home/louis/research/pdf_processor/processed_data/superconductivity_processed/physrevb.97.014514\n",
      "15000 characters = 3526 tokens\n"
     ]
    },
    {
     "name": "stderr",
     "output_type": "stream",
     "text": [
      "The attention mask and the pad token id were not set. As a consequence, you may observe unexpected behavior. Please pass your input's `attention_mask` to obtain reliable results.\n",
      "Setting `pad_token_id` to `eos_token_id`:128001 for open-end generation.\n"
     ]
    },
    {
     "name": "stdout",
     "output_type": "stream",
     "text": [
      "['CRITICAL TEMPERATURE: 3.05 K']\n",
      "['Tl1Ni2Se2', ' 3.05 K']\n",
      "1614 /home/louis/research/pdf_processor/processed_data/superconductivity_processed/physrevb.80.064506\n",
      "15000 characters = 3901 tokens\n"
     ]
    },
    {
     "name": "stderr",
     "output_type": "stream",
     "text": [
      "The attention mask and the pad token id were not set. As a consequence, you may observe unexpected behavior. Please pass your input's `attention_mask` to obtain reliable results.\n",
      "Setting `pad_token_id` to `eos_token_id`:128001 for open-end generation.\n"
     ]
    },
    {
     "name": "stdout",
     "output_type": "stream",
     "text": [
      "['CRITICAL TEMPERATURE: 8 K']\n",
      "['Fe1Se1', ' 8 K']\n",
      "1621 /home/louis/research/pdf_processor/processed_data/superconductivity_processed/physrevb.59.r11679\n",
      "15000 characters = 3819 tokens\n"
     ]
    },
    {
     "name": "stderr",
     "output_type": "stream",
     "text": [
      "The attention mask and the pad token id were not set. As a consequence, you may observe unexpected behavior. Please pass your input's `attention_mask` to obtain reliable results.\n",
      "Setting `pad_token_id` to `eos_token_id`:128001 for open-end generation.\n"
     ]
    },
    {
     "name": "stdout",
     "output_type": "stream",
     "text": [
      "['CRITICAL TEMPERATURE: 46 K']\n",
      "['Ru1Sr2Gd1Cu2O8', ' 46 K']\n",
      "1622 /home/louis/research/pdf_processor/processed_data/superconductivity_processed/physrevb.83.100503\n",
      "15000 characters = 3853 tokens\n"
     ]
    },
    {
     "name": "stderr",
     "output_type": "stream",
     "text": [
      "The attention mask and the pad token id were not set. As a consequence, you may observe unexpected behavior. Please pass your input's `attention_mask` to obtain reliable results.\n",
      "Setting `pad_token_id` to `eos_token_id`:128001 for open-end generation.\n"
     ]
    },
    {
     "name": "stdout",
     "output_type": "stream",
     "text": [
      "['CRITICAL TEMPERATURE: 28 K']\n",
      "['Eu1Fe1As1.64P0.36', ' 28 K']\n",
      "1623 /home/louis/research/pdf_processor/processed_data/superconductivity_processed/physrevb.79.024514\n",
      "13738 characters = 3334 tokens\n"
     ]
    },
    {
     "name": "stderr",
     "output_type": "stream",
     "text": [
      "The attention mask and the pad token id were not set. As a consequence, you may observe unexpected behavior. Please pass your input's `attention_mask` to obtain reliable results.\n",
      "Setting `pad_token_id` to `eos_token_id`:128001 for open-end generation.\n"
     ]
    },
    {
     "name": "stdout",
     "output_type": "stream",
     "text": [
      "['CRITICAL TEMPERATURE: 32 K']\n",
      "['Bi2Sr1.6La0.4Cu1O6+z', ' 32 K']\n",
      "1624 /home/louis/research/pdf_processor/processed_data/superconductivity_processed/physrevb.36.3906\n",
      "11069 characters = 2436 tokens\n"
     ]
    },
    {
     "name": "stderr",
     "output_type": "stream",
     "text": [
      "The attention mask and the pad token id were not set. As a consequence, you may observe unexpected behavior. Please pass your input's `attention_mask` to obtain reliable results.\n",
      "Setting `pad_token_id` to `eos_token_id`:128001 for open-end generation.\n"
     ]
    },
    {
     "name": "stdout",
     "output_type": "stream",
     "text": [
      "['CRITICAL TEMPERATURE: 39 K']\n",
      "['La1.8Sr0.2Cu1O4', ' 39 K']\n",
      "1627 /home/louis/research/pdf_processor/processed_data/superconductivity_processed/physrevb.95.094510\n",
      "15000 characters = 3838 tokens\n"
     ]
    },
    {
     "name": "stderr",
     "output_type": "stream",
     "text": [
      "The attention mask and the pad token id were not set. As a consequence, you may observe unexpected behavior. Please pass your input's `attention_mask` to obtain reliable results.\n",
      "Setting `pad_token_id` to `eos_token_id`:128001 for open-end generation.\n"
     ]
    },
    {
     "name": "stdout",
     "output_type": "stream",
     "text": [
      "['CRITICAL TEMPERATURE: 32.8 K']\n",
      "['Ca8.5La1.5Pt3Fe10As18', ' 32.8 K']\n",
      "1629 /home/louis/research/pdf_processor/processed_data/superconductivity_processed/physrevb.78.220505\n",
      "12920 characters = 3239 tokens\n"
     ]
    },
    {
     "name": "stderr",
     "output_type": "stream",
     "text": [
      "The attention mask and the pad token id were not set. As a consequence, you may observe unexpected behavior. Please pass your input's `attention_mask` to obtain reliable results.\n",
      "Setting `pad_token_id` to `eos_token_id`:128001 for open-end generation.\n"
     ]
    },
    {
     "name": "stdout",
     "output_type": "stream",
     "text": [
      "['CRITICAL TEMPERATURE: 32 K']\n",
      "['Ba0.55K0.45Fe2As2', ' 32 K']\n",
      "1631 /home/louis/research/pdf_processor/processed_data/superconductivity_processed/physrevb.91.220505\n",
      "15000 characters = 4111 tokens\n"
     ]
    },
    {
     "name": "stderr",
     "output_type": "stream",
     "text": [
      "The attention mask and the pad token id were not set. As a consequence, you may observe unexpected behavior. Please pass your input's `attention_mask` to obtain reliable results.\n",
      "Setting `pad_token_id` to `eos_token_id`:128001 for open-end generation.\n"
     ]
    },
    {
     "name": "stdout",
     "output_type": "stream",
     "text": [
      "['CRITICAL TEMPERATURE: 6.1 K']\n",
      "['K2Cr3As3', ' 6.1 K']\n",
      "1633 /home/louis/research/pdf_processor/processed_data/superconductivity_processed/physrevb.31.1654\n",
      "12536 characters = 3245 tokens\n",
      "['CRITICAL TEMPERATURE: 17.6 K']\n",
      "['Pt3U1', ' 17.6 K']\n"
     ]
    }
   ],
   "source": [
    "answers = {}\n",
    "answers['questions'] = [temp_question]\n",
    "paper_source_directory = '/home/louis/research/pdf_processor/processed_data/superconductivity_processed/'\n",
    "file_name = 'text.txt'\n",
    "\n",
    "for i, directory in enumerate(os.listdir(paper_source_directory)):\n",
    "    if directory not in database.keys(): continue\n",
    "    if len(database[directory][0]) != 1: continue\n",
    "    object_path = os.path.join(paper_source_directory, directory)\n",
    "    print(i, object_path)\n",
    "    if os.path.isdir(object_path) and not directory.startswith(\".\"):\n",
    "        \n",
    "        paper_textfile = os.path.join(paper_source_directory, directory, 'text.txt')\n",
    "        with open(paper_textfile) as f:\n",
    "            paper_text = f.read()\n",
    "            answers[directory] = []\n",
    "            materials = database[directory][0]\n",
    "            answers[directory].append('&'.join(materials))\n",
    "            q1list = []\n",
    "            for material in materials:\n",
    "                q1list.append(generate(format_prompt(temp_question.replace('{MATERIAL}', material), paper_text)))\n",
    "            print(q1list)\n",
    "            try:\n",
    "                answers[directory].append(\",\".join(q.split(\":\")[-1] for q in q1list))\n",
    "            except:\n",
    "                answers[directory].append(q1list)\n",
    "            print(answers[directory])"
   ]
  },
  {
   "cell_type": "code",
   "execution_count": 44,
   "id": "3986a374-638a-4717-bcb5-38bfddd52723",
   "metadata": {},
   "outputs": [],
   "source": [
    "with open('run{}chars.json'.format(NUM_CHARS), 'w', encoding='utf-8') as f:\n",
    "    json.dump(dict(sorted(answers.items())), f, ensure_ascii=False, indent=4)"
   ]
  },
  {
   "cell_type": "code",
   "execution_count": 45,
   "id": "b47d8aa9-d3ec-4640-871b-24c2bd3fe185",
   "metadata": {},
   "outputs": [],
   "source": []
  },
  {
   "cell_type": "code",
   "execution_count": null,
   "id": "1fbc9cef-f2db-469a-a023-c42d119b3e92",
   "metadata": {},
   "outputs": [],
   "source": []
  }
 ],
 "metadata": {
  "kernelspec": {
   "display_name": "Python 3 (ipykernel)",
   "language": "python",
   "name": "python3"
  },
  "language_info": {
   "codemirror_mode": {
    "name": "ipython",
    "version": 3
   },
   "file_extension": ".py",
   "mimetype": "text/x-python",
   "name": "python",
   "nbconvert_exporter": "python",
   "pygments_lexer": "ipython3",
   "version": "3.11.7"
  }
 },
 "nbformat": 4,
 "nbformat_minor": 5
}
